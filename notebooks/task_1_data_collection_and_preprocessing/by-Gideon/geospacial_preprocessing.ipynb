{
 "cells": [
  {
   "cell_type": "code",
   "execution_count": 7,
   "id": "0d04bb04-7ec7-42d0-973f-85a5f12920d1",
   "metadata": {},
   "outputs": [
    {
     "name": "stdout",
     "output_type": "stream",
     "text": [
      "Collecting tqdm\n",
      "  Downloading tqdm-4.67.1-py3-none-any.whl (78 kB)\n",
      "\u001b[2K     \u001b[38;2;114;156;31m━━━━━━━━━━━━━━━━━━━━━━━━━━━━━━━━━━━━━━━\u001b[0m \u001b[32m78.5/78.5 KB\u001b[0m \u001b[31m126.3 kB/s\u001b[0m eta \u001b[36m0:00:00\u001b[0m1m188.7 kB/s\u001b[0m eta \u001b[36m0:00:01\u001b[0m\n",
      "\u001b[?25hInstalling collected packages: tqdm\n",
      "Successfully installed tqdm-4.67.1\n"
     ]
    }
   ],
   "source": [
    "!pip install tqdm"
   ]
  },
  {
   "cell_type": "code",
   "execution_count": 8,
   "id": "712be723-36da-4c1d-9825-ecd4d471b0b8",
   "metadata": {},
   "outputs": [
    {
     "name": "stdout",
     "output_type": "stream",
     "text": [
      "Requirement already satisfied: geopy in /home/deyon/projects/IPAGE/.venv/lib/python3.10/site-packages (2.4.1)\n",
      "Requirement already satisfied: geographiclib<3,>=1.52 in /home/deyon/projects/IPAGE/.venv/lib/python3.10/site-packages (from geopy) (2.0)\n"
     ]
    }
   ],
   "source": [
    "!pip install geopy"
   ]
  },
  {
   "cell_type": "code",
   "execution_count": 9,
   "id": "72f74e65-c06c-4664-84ff-1cee1535e95b",
   "metadata": {},
   "outputs": [],
   "source": [
    "import pandas as pd\n",
    "from geopy.geocoders import Nominatim\n",
    "from geopy.exc import GeocoderServiceError\n",
    "from pathlib import Path\n",
    "from tqdm import tqdm"
   ]
  },
  {
   "cell_type": "code",
   "execution_count": 2,
   "id": "5a8a4a72-87b6-41b3-976b-575ff87ee374",
   "metadata": {},
   "outputs": [],
   "source": [
    "path = Path()\n",
    "data_path = path.cwd().parent.parent / \"task_3_model_development_and_training/by-Jamsheeda/Data/isda_final.csv\""
   ]
  },
  {
   "cell_type": "code",
   "execution_count": 3,
   "id": "34692160-9752-40bc-ab99-353f712af16d",
   "metadata": {},
   "outputs": [
    {
     "data": {
      "text/html": [
       "<div>\n",
       "<style scoped>\n",
       "    .dataframe tbody tr th:only-of-type {\n",
       "        vertical-align: middle;\n",
       "    }\n",
       "\n",
       "    .dataframe tbody tr th {\n",
       "        vertical-align: top;\n",
       "    }\n",
       "\n",
       "    .dataframe thead th {\n",
       "        text-align: right;\n",
       "    }\n",
       "</style>\n",
       "<table border=\"1\" class=\"dataframe\">\n",
       "  <thead>\n",
       "    <tr style=\"text-align: right;\">\n",
       "      <th></th>\n",
       "      <th>longitude</th>\n",
       "      <th>latitude</th>\n",
       "      <th>Boron</th>\n",
       "      <th>SOC</th>\n",
       "      <th>Nitrogen</th>\n",
       "      <th>pH</th>\n",
       "      <th>Phosphorus</th>\n",
       "      <th>Potassium</th>\n",
       "      <th>Sulfur</th>\n",
       "      <th>Zinc</th>\n",
       "      <th>Sand</th>\n",
       "      <th>Silt</th>\n",
       "      <th>Clay</th>\n",
       "      <th>Area</th>\n",
       "      <th>Soil group</th>\n",
       "      <th>Land class</th>\n",
       "      <th>Soil type</th>\n",
       "    </tr>\n",
       "  </thead>\n",
       "  <tbody>\n",
       "    <tr>\n",
       "      <th>531</th>\n",
       "      <td>9.01424</td>\n",
       "      <td>9.61259</td>\n",
       "      <td>0.237023</td>\n",
       "      <td>19.19360</td>\n",
       "      <td>1.451840</td>\n",
       "      <td>5.74359</td>\n",
       "      <td>9.99953</td>\n",
       "      <td>123.6710</td>\n",
       "      <td>11.96640</td>\n",
       "      <td>1.880550</td>\n",
       "      <td>56.0</td>\n",
       "      <td>18.0</td>\n",
       "      <td>24.0</td>\n",
       "      <td>isda</td>\n",
       "      <td>isda</td>\n",
       "      <td>isda</td>\n",
       "      <td>isda</td>\n",
       "    </tr>\n",
       "    <tr>\n",
       "      <th>1547</th>\n",
       "      <td>4.46881</td>\n",
       "      <td>9.87029</td>\n",
       "      <td>0.060170</td>\n",
       "      <td>6.58281</td>\n",
       "      <td>0.676342</td>\n",
       "      <td>5.91999</td>\n",
       "      <td>6.08083</td>\n",
       "      <td>100.2250</td>\n",
       "      <td>8.44133</td>\n",
       "      <td>1.300010</td>\n",
       "      <td>56.0</td>\n",
       "      <td>22.0</td>\n",
       "      <td>19.0</td>\n",
       "      <td>isda</td>\n",
       "      <td>isda</td>\n",
       "      <td>isda</td>\n",
       "      <td>isda</td>\n",
       "    </tr>\n",
       "    <tr>\n",
       "      <th>785</th>\n",
       "      <td>11.39515</td>\n",
       "      <td>9.15956</td>\n",
       "      <td>0.016663</td>\n",
       "      <td>4.20070</td>\n",
       "      <td>0.213469</td>\n",
       "      <td>5.86813</td>\n",
       "      <td>6.61270</td>\n",
       "      <td>53.0109</td>\n",
       "      <td>4.08352</td>\n",
       "      <td>0.815084</td>\n",
       "      <td>50.0</td>\n",
       "      <td>24.0</td>\n",
       "      <td>22.0</td>\n",
       "      <td>isda</td>\n",
       "      <td>isda</td>\n",
       "      <td>isda</td>\n",
       "      <td>isda</td>\n",
       "    </tr>\n",
       "    <tr>\n",
       "      <th>489</th>\n",
       "      <td>8.42095</td>\n",
       "      <td>8.97359</td>\n",
       "      <td>0.199381</td>\n",
       "      <td>15.92070</td>\n",
       "      <td>1.284260</td>\n",
       "      <td>6.42032</td>\n",
       "      <td>9.21987</td>\n",
       "      <td>137.0680</td>\n",
       "      <td>6.28109</td>\n",
       "      <td>1.969040</td>\n",
       "      <td>57.0</td>\n",
       "      <td>19.0</td>\n",
       "      <td>23.0</td>\n",
       "      <td>isda</td>\n",
       "      <td>isda</td>\n",
       "      <td>isda</td>\n",
       "      <td>isda</td>\n",
       "    </tr>\n",
       "    <tr>\n",
       "      <th>915</th>\n",
       "      <td>5.44494</td>\n",
       "      <td>9.97542</td>\n",
       "      <td>0.022784</td>\n",
       "      <td>8.20832</td>\n",
       "      <td>0.425003</td>\n",
       "      <td>5.80683</td>\n",
       "      <td>7.56400</td>\n",
       "      <td>81.8168</td>\n",
       "      <td>5.79863</td>\n",
       "      <td>0.889357</td>\n",
       "      <td>70.0</td>\n",
       "      <td>18.0</td>\n",
       "      <td>13.0</td>\n",
       "      <td>isda</td>\n",
       "      <td>isda</td>\n",
       "      <td>isda</td>\n",
       "      <td>isda</td>\n",
       "    </tr>\n",
       "  </tbody>\n",
       "</table>\n",
       "</div>"
      ],
      "text/plain": [
       "      longitude  latitude     Boron       SOC  Nitrogen       pH  Phosphorus  \\\n",
       "531     9.01424   9.61259  0.237023  19.19360  1.451840  5.74359     9.99953   \n",
       "1547    4.46881   9.87029  0.060170   6.58281  0.676342  5.91999     6.08083   \n",
       "785    11.39515   9.15956  0.016663   4.20070  0.213469  5.86813     6.61270   \n",
       "489     8.42095   8.97359  0.199381  15.92070  1.284260  6.42032     9.21987   \n",
       "915     5.44494   9.97542  0.022784   8.20832  0.425003  5.80683     7.56400   \n",
       "\n",
       "      Potassium    Sulfur      Zinc  Sand  Silt  Clay  Area Soil group  \\\n",
       "531    123.6710  11.96640  1.880550  56.0  18.0  24.0  isda       isda   \n",
       "1547   100.2250   8.44133  1.300010  56.0  22.0  19.0  isda       isda   \n",
       "785     53.0109   4.08352  0.815084  50.0  24.0  22.0  isda       isda   \n",
       "489    137.0680   6.28109  1.969040  57.0  19.0  23.0  isda       isda   \n",
       "915     81.8168   5.79863  0.889357  70.0  18.0  13.0  isda       isda   \n",
       "\n",
       "     Land class Soil type  \n",
       "531        isda      isda  \n",
       "1547       isda      isda  \n",
       "785        isda      isda  \n",
       "489        isda      isda  \n",
       "915        isda      isda  "
      ]
     },
     "execution_count": 3,
     "metadata": {},
     "output_type": "execute_result"
    }
   ],
   "source": [
    "df = pd.read_csv(data_path)\n",
    "df.sample(5)"
   ]
  },
  {
   "cell_type": "code",
   "execution_count": 12,
   "id": "8a4a08cd-1566-41e3-8033-1a83403a2a22",
   "metadata": {},
   "outputs": [
    {
     "data": {
      "text/plain": [
       "(2109, 17)"
      ]
     },
     "execution_count": 12,
     "metadata": {},
     "output_type": "execute_result"
    }
   ],
   "source": [
    "df.shape[0]"
   ]
  },
  {
   "cell_type": "code",
   "execution_count": 15,
   "id": "d9eb87dd-715a-4563-8998-4bbf0635e745",
   "metadata": {},
   "outputs": [],
   "source": [
    "def get_geospacial_details(df: pd.DataFrame) -> list[list[str|float]]:\n",
    "    location_details = []\n",
    "    for index, row in tqdm(df.iterrows(), total=df.shape[0], desc=\"Processing\"):\n",
    "        longitude = str(row.loc[\"longitude\"])\n",
    "        latitude = str(row.loc[\"latitude\"])\n",
    "        address = \",\".join([latitude, longitude])\n",
    "    \n",
    "        geolocator = Nominatim(user_agent=\"my_geopy_app\")\n",
    "        \n",
    "        try:\n",
    "            location = geolocator.reverse(address)\n",
    "            address = location.raw['address']\n",
    "        \n",
    "            # Traverse the data\n",
    "            city = address.get('city', float(\"nan\"))\n",
    "            state = address.get('state', float(\"nan\"))\n",
    "            country = address.get('country', float(\"nan\"))\n",
    "            location_details.append([city, state, country])\n",
    "        \n",
    "        except GeocoderServiceError as e:\n",
    "            location_details.append([float(\"nan\"), float(\"nan\"), float(\"nan\")])\n",
    "    return location_details"
   ]
  },
  {
   "cell_type": "code",
   "execution_count": 16,
   "id": "f04fd271-134f-4ac1-9992-6de1c95da538",
   "metadata": {},
   "outputs": [
    {
     "name": "stderr",
     "output_type": "stream",
     "text": [
      "Processing: 100%|███████████████████████████████████████████████████████████████████████████████████████████████████████████████████████████████████████████████████████████████████████████| 20/20 [00:21<00:00,  1.08s/it]\n"
     ]
    }
   ],
   "source": [
    "location_details = get_geospacial_details(df.head(20))"
   ]
  },
  {
   "cell_type": "code",
   "execution_count": 17,
   "id": "f67288b9-fdba-4484-a5a1-93430760cfa3",
   "metadata": {},
   "outputs": [
    {
     "data": {
      "text/plain": [
       "[['Bauchi', 'Bauchi', 'Nigeria'],\n",
       " [nan, 'Taraba', 'Nigeria'],\n",
       " [nan, 'Plateau', 'Nigeria'],\n",
       " [nan, 'Plateau', 'Nigeria'],\n",
       " ['Kagarko North', 'Kaduna', 'Nigeria'],\n",
       " [nan, 'Nasarawa', 'Nigeria'],\n",
       " [nan, 'Plateau', 'Nigeria'],\n",
       " [nan, 'Nasarawa', 'Nigeria'],\n",
       " [nan, 'Niger', 'Nigeria'],\n",
       " [nan, 'Niger', 'Nigeria'],\n",
       " ['Geshere', 'Kaduna', 'Nigeria'],\n",
       " [nan, 'Niger', 'Nigeria'],\n",
       " ['Aboro', 'Kaduna', 'Nigeria'],\n",
       " [nan, 'Taraba', 'Nigeria'],\n",
       " ['Kushe', 'Kaduna', 'Nigeria'],\n",
       " [nan, 'Plateau', 'Nigeria'],\n",
       " ['Bokana', 'Kaduna', 'Nigeria'],\n",
       " [nan, 'Plateau', 'Nigeria'],\n",
       " [nan, 'Niger', 'Nigeria'],\n",
       " ['Gora', 'Kaduna', 'Nigeria']]"
      ]
     },
     "execution_count": 17,
     "metadata": {},
     "output_type": "execute_result"
    }
   ],
   "source": [
    "location_details"
   ]
  },
  {
   "cell_type": "code",
   "execution_count": null,
   "id": "2b36ad82-7d5a-42f8-be62-4f1bdc84efb6",
   "metadata": {},
   "outputs": [],
   "source": []
  }
 ],
 "metadata": {
  "kernelspec": {
   "display_name": "Python 3 (ipykernel)",
   "language": "python",
   "name": "python3"
  },
  "language_info": {
   "codemirror_mode": {
    "name": "ipython",
    "version": 3
   },
   "file_extension": ".py",
   "mimetype": "text/x-python",
   "name": "python",
   "nbconvert_exporter": "python",
   "pygments_lexer": "ipython3",
   "version": "3.10.12"
  }
 },
 "nbformat": 4,
 "nbformat_minor": 5
}

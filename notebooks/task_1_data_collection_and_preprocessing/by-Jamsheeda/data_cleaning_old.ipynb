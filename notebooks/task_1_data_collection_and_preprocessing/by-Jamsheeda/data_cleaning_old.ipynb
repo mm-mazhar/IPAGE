{
 "cells": [
  {
   "cell_type": "code",
   "execution_count": 1,
   "metadata": {},
   "outputs": [],
   "source": [
    "import pandas as pd"
   ]
  },
  {
   "cell_type": "code",
   "execution_count": 26,
   "metadata": {},
   "outputs": [
    {
     "data": {
      "text/plain": [
       "Index(['Area', 'Data Collection Year', 'soil group', 'Land class',\n",
       "       'knit (surface)', 'pH', 'SOC (%)', 'Nitrogen N (%)',\n",
       "       'Potassium K (meq/100)', 'Phosphorus P (ug/g)', 'Sulfur S (ug/g)',\n",
       "       'Boron B (ug/g)', 'Zinc Zn (ug/g)'],\n",
       "      dtype='object')"
      ]
     },
     "execution_count": 26,
     "metadata": {},
     "output_type": "execute_result"
    }
   ],
   "source": [
    "df = pd.read_excel('./Data/2410_iPAGE_SoilData_withDate.xlsx')\n",
    "df.columns"
   ]
  },
  {
   "cell_type": "code",
   "execution_count": 27,
   "metadata": {},
   "outputs": [
    {
     "data": {
      "text/plain": [
       "(618, 13)"
      ]
     },
     "execution_count": 27,
     "metadata": {},
     "output_type": "execute_result"
    }
   ],
   "source": [
    "df.shape"
   ]
  },
  {
   "cell_type": "code",
   "execution_count": 28,
   "metadata": {},
   "outputs": [
    {
     "data": {
      "text/plain": [
       "Area                       0\n",
       "Data Collection Year       0\n",
       "soil group                 0\n",
       "Land class                 0\n",
       "knit (surface)           157\n",
       "pH                         0\n",
       "SOC (%)                    0\n",
       "Nitrogen N (%)             0\n",
       "Potassium K (meq/100)      0\n",
       "Phosphorus P (ug/g)        0\n",
       "Sulfur S (ug/g)            0\n",
       "Boron B (ug/g)             0\n",
       "Zinc Zn (ug/g)             0\n",
       "dtype: int64"
      ]
     },
     "execution_count": 28,
     "metadata": {},
     "output_type": "execute_result"
    }
   ],
   "source": [
    "df.isna().sum()\n",
    "# column Knit (surface has 157 NaN values)"
   ]
  },
  {
   "cell_type": "code",
   "execution_count": 29,
   "metadata": {},
   "outputs": [
    {
     "data": {
      "text/plain": [
       "Area                      object\n",
       "Data Collection Year       int64\n",
       "soil group                object\n",
       "Land class                object\n",
       "knit (surface)            object\n",
       "pH                        object\n",
       "SOC (%)                  float64\n",
       "Nitrogen N (%)            object\n",
       "Potassium K (meq/100)     object\n",
       "Phosphorus P (ug/g)       object\n",
       "Sulfur S (ug/g)           object\n",
       "Boron B (ug/g)            object\n",
       "Zinc Zn (ug/g)            object\n",
       "dtype: object"
      ]
     },
     "execution_count": 29,
     "metadata": {},
     "output_type": "execute_result"
    }
   ],
   "source": [
    "df.dtypes\n",
    "# here we can see that all the numerical columns other than SOC has some non numerical entries in it. "
   ]
  },
  {
   "cell_type": "code",
   "execution_count": 30,
   "metadata": {},
   "outputs": [
    {
     "name": "stdout",
     "output_type": "stream",
     "text": [
      "knit (surface) : 618\n",
      "pH : 2\n",
      "SOC (%) : 0\n",
      "Nitrogen N (%) : 8\n",
      "Potassium K (meq/100) : 2\n",
      "Phosphorus P (ug/g) : 2\n",
      "Sulfur S (ug/g) : 1\n",
      "Boron B (ug/g) : 27\n",
      "Zinc Zn (ug/g) : 1\n"
     ]
    }
   ],
   "source": [
    "#checking the number of non numerical entries in the numerical columns\n",
    "for i in range(4,len(df.columns)):\n",
    "    num_non_numeric = pd.to_numeric(df[df.columns[i]],errors='coerce').isnull().sum()\n",
    "    print(df.columns[i],\":\",num_non_numeric)\n"
   ]
  },
  {
   "cell_type": "code",
   "execution_count": 31,
   "metadata": {},
   "outputs": [
    {
     "name": "stdout",
     "output_type": "stream",
     "text": [
      "knit (surface)\n",
      "0      brick\n",
      "1      brick\n",
      "2      brick\n",
      "3      brick\n",
      "4      brick\n",
      "       ...  \n",
      "613      NaN\n",
      "614      NaN\n",
      "615      NaN\n",
      "616      NaN\n",
      "617      NaN\n",
      "Name: knit (surface), Length: 618, dtype: object\n",
      "-----------------------------------\n",
      "pH\n",
      "186    4..80\n",
      "533     5.`3\n",
      "Name: pH, dtype: object\n",
      "-----------------------------------\n",
      "SOC (%)\n",
      "Series([], Name: SOC (%), dtype: float64)\n",
      "-----------------------------------\n",
      "Nitrogen N (%)\n",
      "481    Very Low\n",
      "488    Very Low\n",
      "489    Very Low\n",
      "501    Very Low\n",
      "511    Very Low\n",
      "512    Very Low\n",
      "514    Very Low\n",
      "617    Very Low\n",
      "Name: Nitrogen N (%), dtype: object\n",
      "-----------------------------------\n",
      "Potassium K (meq/100)\n",
      "412     .0.15\n",
      "438    ..0.30\n",
      "Name: Potassium K (meq/100), dtype: object\n",
      "-----------------------------------\n",
      "Phosphorus P (ug/g)\n",
      "381    0.65.87\n",
      "413     ......\n",
      "Name: Phosphorus P (ug/g), dtype: object\n",
      "-----------------------------------\n",
      "Sulfur S (ug/g)\n",
      "75    13..8\n",
      "Name: Sulfur S (ug/g), dtype: object\n",
      "-----------------------------------\n",
      "Boron B (ug/g)\n",
      "2         0.`44\n",
      "463    Very Low\n",
      "467    Very Low\n",
      "468    Very Low\n",
      "469    Very Low\n",
      "471    Very Low\n",
      "473    Very Low\n",
      "475    Very Low\n",
      "477    Very Low\n",
      "479    Very Low\n",
      "480    Very Low\n",
      "481    Very Low\n",
      "486    Very Low\n",
      "488    Very Low\n",
      "489    Very Low\n",
      "491    Very Low\n",
      "494    Very Low\n",
      "495    Very Low\n",
      "496    Very Low\n",
      "501    Very Low\n",
      "503    Very Low\n",
      "506    Very Low\n",
      "507    Very Low\n",
      "509    Very Low\n",
      "511    Very Low\n",
      "514    Very Low\n",
      "515    Very Low\n",
      "Name: Boron B (ug/g), dtype: object\n",
      "-----------------------------------\n",
      "Zinc Zn (ug/g)\n",
      "564    0..36\n",
      "Name: Zinc Zn (ug/g), dtype: object\n",
      "-----------------------------------\n"
     ]
    }
   ],
   "source": [
    "# checking the non numerical values in each of these columns\n",
    "for i in range(4,len(df.columns)):\n",
    "    is_non_numeric = pd.to_numeric(df[df.columns[i]],errors='coerce').isnull()\n",
    "    print(df.columns[i])\n",
    "    print(df[is_non_numeric][df.columns[i]])\n",
    "    print('-----------------------------------')"
   ]
  },
  {
   "cell_type": "code",
   "execution_count": 32,
   "metadata": {},
   "outputs": [
    {
     "data": {
      "text/plain": [
       "array(['Khilgaon', 'The militants', 'Imadpur', 'belab', 'Noadda',\n",
       "       'the moon', 'the pen ', 'Kachna ', 'Kaunia', 'Teesta sandy soil',\n",
       "       'Gangachara', 'Alluvial soil of Teesta', 'Sahapur', 'Pirgacha',\n",
       "       'Palashbari', 'Berries', 'Imadpur ', 'Berries ', 'Chilmari',\n",
       "       'Saghata ', 'The militants ', 'Kachna', 'recession', 'Menanagar',\n",
       "       'Bhimpur', 'Indrail', 'chilmari'], dtype=object)"
      ]
     },
     "execution_count": 32,
     "metadata": {},
     "output_type": "execute_result"
    }
   ],
   "source": [
    "df['soil group'].unique()"
   ]
  },
  {
   "cell_type": "code",
   "execution_count": 33,
   "metadata": {},
   "outputs": [
    {
     "data": {
      "text/plain": [
       "Area\n",
       "Mithpukur         213\n",
       "Pirgacha          149\n",
       "Kaunia upazila     99\n",
       "Taraganj Thana     97\n",
       "Gangachara         60\n",
       "Name: count, dtype: int64"
      ]
     },
     "execution_count": 33,
     "metadata": {},
     "output_type": "execute_result"
    }
   ],
   "source": [
    "df['Area'].value_counts()"
   ]
  },
  {
   "cell_type": "code",
   "execution_count": 34,
   "metadata": {},
   "outputs": [
    {
     "data": {
      "text/plain": [
       "Land class\n",
       "Medium high land               319\n",
       "high ground                    268\n",
       "Medium low land                 25\n",
       "Deep medium high land            3\n",
       "Shallow to medium high land      3\n",
       "Name: count, dtype: int64"
      ]
     },
     "execution_count": 34,
     "metadata": {},
     "output_type": "execute_result"
    }
   ],
   "source": [
    "df['Land class'].value_counts()"
   ]
  },
  {
   "cell_type": "code",
   "execution_count": 25,
   "metadata": {},
   "outputs": [
    {
     "data": {
      "text/plain": [
       "knit (surface)\n",
       "loam           358\n",
       "Clay loam       76\n",
       "loam clay       15\n",
       "brick            9\n",
       "in the sand      3\n",
       "Name: count, dtype: int64"
      ]
     },
     "execution_count": 25,
     "metadata": {},
     "output_type": "execute_result"
    }
   ],
   "source": [
    "df['knit (surface)'].value_counts()"
   ]
  },
  {
   "cell_type": "code",
   "execution_count": null,
   "metadata": {},
   "outputs": [],
   "source": []
  },
  {
   "cell_type": "code",
   "execution_count": null,
   "metadata": {},
   "outputs": [],
   "source": []
  }
 ],
 "metadata": {
  "kernelspec": {
   "display_name": "base_env",
   "language": "python",
   "name": "python3"
  },
  "language_info": {
   "codemirror_mode": {
    "name": "ipython",
    "version": 3
   },
   "file_extension": ".py",
   "mimetype": "text/x-python",
   "name": "python",
   "nbconvert_exporter": "python",
   "pygments_lexer": "ipython3",
   "version": "3.10.15"
  },
  "orig_nbformat": 4
 },
 "nbformat": 4,
 "nbformat_minor": 2
}

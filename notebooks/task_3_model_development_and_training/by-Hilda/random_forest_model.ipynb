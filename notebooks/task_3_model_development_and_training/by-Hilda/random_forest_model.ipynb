{
  "nbformat": 4,
  "nbformat_minor": 0,
  "metadata": {
    "colab": {
      "provenance": []
    },
    "kernelspec": {
      "name": "python3",
      "display_name": "Python 3"
    },
    "language_info": {
      "name": "python"
    }
  },
  "cells": [
    {
      "cell_type": "code",
      "execution_count": 1,
      "metadata": {
        "colab": {
          "base_uri": "https://localhost:8080/"
        },
        "id": "pCPivupyieLz",
        "outputId": "2662aef9-0b84-4c58-b912-449f5a784067"
      },
      "outputs": [
        {
          "output_type": "stream",
          "name": "stdout",
          "text": [
            "Model Performance:\n",
            "Mean Squared Error: 0.09\n",
            "Mean Absolute Error: 0.19\n",
            "R-squared: 0.80\n",
            "Predicted SOC: 2.86\n",
            "Recommendations:\n",
            "- Maintain current practices; consider crop rotation.\n"
          ]
        }
      ],
      "source": [
        "import pandas as pd\n",
        "import numpy as np\n",
        "from sklearn.model_selection import train_test_split\n",
        "from sklearn.ensemble import RandomForestRegressor\n",
        "from sklearn.metrics import mean_squared_error, r2_score, mean_absolute_error\n",
        "from sklearn.preprocessing import StandardScaler, LabelEncoder\n",
        "import joblib\n",
        "\n",
        "# Load dataset\n",
        "file_path = 'data.csv'\n",
        "data = pd.read_csv(file_path)\n",
        "\n",
        "# Feature Selection\n",
        "features = ['Nitrogen', 'Phosphorus', 'Potassium', 'Sulfur', 'pH', 'Area', 'Land class', 'Soil type']\n",
        "target_soc = 'SOC'\n",
        "\n",
        "# Encode categorical variables: 'Area', 'Land class', 'Soil type'\n",
        "label_encoders = {}\n",
        "for col in ['Area', 'Land class', 'Soil type']:\n",
        "    le = LabelEncoder()\n",
        "    data[col] = le.fit_transform(data[col])\n",
        "    label_encoders[col] = le\n",
        "\n",
        "# Separate features and target\n",
        "X = data[features]\n",
        "y = data[target_soc]\n",
        "\n",
        "# Standardize numerical features\n",
        "scaler = StandardScaler()\n",
        "X_scaled = scaler.fit_transform(X)\n",
        "\n",
        "# Train-test split\n",
        "X_train, X_test, y_train, y_test = train_test_split(X_scaled, y, test_size=0.2, random_state=42)\n",
        "\n",
        "# Initialize and train the model\n",
        "model = RandomForestRegressor(random_state=42, n_estimators=100)\n",
        "model.fit(X_train, y_train)\n",
        "\n",
        "# Save the model and scaler\n",
        "joblib.dump(model, 'soc_model.pkl')\n",
        "joblib.dump(scaler, 'scaler.pkl')\n",
        "\n",
        "# Model Evaluation\n",
        "y_pred = model.predict(X_test)\n",
        "mse = mean_squared_error(y_test, y_pred)\n",
        "mae = mean_absolute_error(y_test, y_pred)  # MAE Calculation\n",
        "r2 = r2_score(y_test, y_pred)\n",
        "\n",
        "print(f\"Model Performance:\")\n",
        "print(f\"Mean Squared Error: {mse:.2f}\")\n",
        "print(f\"Mean Absolute Error: {mae:.2f}\")\n",
        "print(f\"R-squared: {r2:.2f}\")\n",
        "\n",
        "# Example Prediction\n",
        "# Replace these values with real inputs: Nitrogen, Phosphorus, Potassium, Sulfur, pH, Area, Land class, Soil type\n",
        "example_input = pd.DataFrame([[1.0, 10.5, 15.2, 5.3, 6.5, 0, 1, 2]],\n",
        "                             columns=['Nitrogen', 'Phosphorus', 'Potassium', 'Sulfur', 'pH',\n",
        "                                      'Area', 'Land class', 'Soil type'])\n",
        "\n",
        "# Scale the input using the trained scaler\n",
        "example_input_scaled = scaler.transform(example_input)\n",
        "\n",
        "# Predict SOC using the trained model\n",
        "predicted_soc = model.predict(example_input_scaled)\n",
        "print(f\"Predicted SOC: {predicted_soc[0]:.2f}\")\n",
        "\n",
        "# Generate Recommendations\n",
        "def generate_recommendations(soc):\n",
        "    recommendations = []\n",
        "    if soc < 2.0:\n",
        "        recommendations.append(\"Add organic matter (e.g., compost) to improve SOC levels.\")\n",
        "    elif soc < 3.5:\n",
        "        recommendations.append(\"Maintain current practices; consider crop rotation.\")\n",
        "    else:\n",
        "        recommendations.append(\"SOC levels are sufficient; monitor periodically.\")\n",
        "    return recommendations\n",
        "\n",
        "# Generate recommendations for the prediction\n",
        "recommendations = generate_recommendations(predicted_soc[0])\n",
        "print(\"Recommendations:\")\n",
        "for rec in recommendations:\n",
        "    print(f\"- {rec}\")"
      ]
    }
  ]
}

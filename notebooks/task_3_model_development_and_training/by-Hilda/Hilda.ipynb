{
 "cells": [
  {
   "cell_type": "markdown",
   "id": "e54286f2-a6d1-455b-8b54-8da253e77d19",
   "metadata": {},
   "source": [
    "For Hilda"
   ]
  },
  {
   "cell_type": "code",
   "execution_count": null,
   "id": "c57ca938-3cb8-4e37-b89e-ae8fc52f9443",
   "metadata": {},
   "outputs": [],
   "source": []
  }
 ],
 "metadata": {
  "kernelspec": {
   "display_name": "Python 3 (ipykernel)",
   "language": "python",
   "name": "python3"
  },
  "language_info": {
   "codemirror_mode": {
    "name": "ipython",
    "version": 3
   },
   "file_extension": ".py",
   "mimetype": "text/x-python",
   "name": "python",
   "nbconvert_exporter": "python",
   "pygments_lexer": "ipython3",
   "version": "3.11.7"
  }
 },
 "nbformat": 4,
 "nbformat_minor": 5
}

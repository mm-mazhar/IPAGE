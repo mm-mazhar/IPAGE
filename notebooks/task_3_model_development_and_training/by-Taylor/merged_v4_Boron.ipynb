{
 "cells": [
  {
   "cell_type": "code",
   "execution_count": 1,
   "id": "f27ccd28-f864-4bdb-8a3d-16b81d6851cc",
   "metadata": {},
   "outputs": [
    {
     "data": {
      "text/html": [
       "<pre style=\"white-space:pre;overflow-x:auto;line-height:normal;font-family:Menlo,'DejaVu Sans Mono',consolas,'Courier New',monospace\">Accessing as tsharkowill\n",
       "</pre>\n"
      ],
      "text/plain": [
       "Accessing as tsharkowill\n"
      ]
     },
     "metadata": {},
     "output_type": "display_data"
    },
    {
     "data": {
      "text/html": [
       "<pre style=\"white-space:pre;overflow-x:auto;line-height:normal;font-family:Menlo,'DejaVu Sans Mono',consolas,'Courier New',monospace\">Initialized MLflow to track repo <span style=\"color: #008000; text-decoration-color: #008000\">\"Omdena/IPage\"</span>\n",
       "</pre>\n"
      ],
      "text/plain": [
       "Initialized MLflow to track repo \u001b[32m\"Omdena/IPage\"\u001b[0m\n"
      ]
     },
     "metadata": {},
     "output_type": "display_data"
    },
    {
     "data": {
      "text/html": [
       "<pre style=\"white-space:pre;overflow-x:auto;line-height:normal;font-family:Menlo,'DejaVu Sans Mono',consolas,'Courier New',monospace\">Repository Omdena/IPage initialized!\n",
       "</pre>\n"
      ],
      "text/plain": [
       "Repository Omdena/IPage initialized!\n"
      ]
     },
     "metadata": {},
     "output_type": "display_data"
    }
   ],
   "source": [
    "import matplotlib.pyplot as plt\n",
    "import seaborn as sns\n",
    "import numpy as np\n",
    "import pandas as pd\n",
    "from sklearn.model_selection import train_test_split, KFold, cross_val_score\n",
    "from sklearn.preprocessing import OneHotEncoder, MinMaxScaler, StandardScaler\n",
    "from sklearn.compose import ColumnTransformer\n",
    "from sklearn.pipeline import Pipeline\n",
    "from sklearn.linear_model import LinearRegression\n",
    "from sklearn.ensemble import RandomForestRegressor\n",
    "from xgboost import XGBRegressor\n",
    "from sklearn.metrics import mean_squared_error, mean_absolute_error, r2_score, make_scorer\n",
    "from sklearn.inspection import permutation_importance\n",
    "from sklearn.model_selection import RandomizedSearchCV\n",
    "from sklearn.model_selection import GridSearchCV\n",
    "\n",
    "import dagshub\n",
    "dagshub.init(repo_owner='Omdena', repo_name='IPage', mlflow=True)\n",
    "\n",
    "import mlflow"
   ]
  },
  {
   "cell_type": "code",
   "execution_count": 5,
   "id": "8bbe5734-b0d7-4491-8163-4d1334fabba5",
   "metadata": {},
   "outputs": [],
   "source": [
    "data = pd.read_csv('merged_v4.csv')\n",
    "\n",
    "data.drop(columns=['longitude', 'latitude', 'Soil group', 'SOC', 'Zinc'], inplace=True)\n",
    "\n",
    "# Define columns\n",
    "numerical_cols = ['pH', 'Nitrogen', 'Potassium', 'Phosphorus',\n",
    "                  'Sulfur', 'Sand', 'Silt', 'Clay']\n",
    "\n",
    "one_hot_cols = ['Land class', 'Soil type']\n",
    "\n",
    "target_mean_col = 'Area'\n",
    "\n",
    "target_col = 'Boron'"
   ]
  },
  {
   "cell_type": "code",
   "execution_count": 6,
   "id": "a062d13e-c006-4216-805f-968081eef9d9",
   "metadata": {},
   "outputs": [],
   "source": [
    "from sklearn.base import BaseEstimator, TransformerMixin\n",
    "\n",
    "class TargetMeanEncoder(BaseEstimator, TransformerMixin):\n",
    "    def __init__(self):\n",
    "        self.target_means_ = {}\n",
    "    \n",
    "    def fit(self, X, y):\n",
    "        if isinstance(X, pd.Series):\n",
    "            X = X.to_frame()\n",
    "        elif isinstance(X, np.ndarray):\n",
    "            X = pd.DataFrame(X)\n",
    "        \n",
    "        self.target_means_ = {\n",
    "            col: X[col].map(y.groupby(X[col]).mean())\n",
    "            for col in X.columns\n",
    "        }\n",
    "        return self\n",
    "    \n",
    "    def transform(self, X):\n",
    "        if isinstance(X, pd.Series):\n",
    "            X = X.to_frame()\n",
    "        elif isinstance(X, np.ndarray):\n",
    "            X = pd.DataFrame(X)\n",
    "        \n",
    "        X_encoded = X.copy()\n",
    "        for col in X_encoded.columns:\n",
    "            X_encoded[col] = X_encoded[col].map(self.target_means_[col])\n",
    "        return X_encoded.fillna(0)  # Handle unseen categories with 0"
   ]
  },
  {
   "cell_type": "code",
   "execution_count": 7,
   "id": "7a046c46-0fee-4482-8e35-e7a0b6624809",
   "metadata": {},
   "outputs": [],
   "source": [
    "# Define hyperparameter distributions for both models\n",
    "param_dist_rf = {\n",
    "    'regressor__n_estimators': [100, 200, 300, 400],\n",
    "    'regressor__max_depth': [None, 10, 20, 30],\n",
    "    'regressor__min_samples_split': [2, 5, 10],\n",
    "    'regressor__min_samples_leaf': [1, 2, 4],\n",
    "    'regressor__max_features': [None, 'sqrt', 'log2'],\n",
    "    'regressor__bootstrap': [True, False]\n",
    "}\n",
    "\n",
    "param_dist_xgb = {\n",
    "    'regressor__n_estimators': [100, 200, 300, 400],\n",
    "    'regressor__learning_rate': [0.01, 0.05, 0.1, 0.2],\n",
    "    'regressor__max_depth': [3, 6, 9],\n",
    "    'regressor__min_child_weight': [1, 3, 5],\n",
    "    'regressor__subsample': [0.7, 0.8, 1.0],\n",
    "    'regressor__colsample_bytree': [0.7, 0.8, 1.0],\n",
    "    'regressor__gamma': [0, 0.1, 0.5],\n",
    "    'regressor__reg_alpha': [0, 1, 5],\n",
    "    'regressor__reg_lambda': [1, 5, 10]\n",
    "}\n",
    "\n",
    "# Set up the models\n",
    "models = {\n",
    "    'RandomForest': (RandomForestRegressor(random_state=0), param_dist_rf),\n",
    "    'XGB': (XGBRegressor(random_state=0), param_dist_xgb)\n",
    "}"
   ]
  },
  {
   "cell_type": "code",
   "execution_count": 8,
   "id": "68a4cb78-dc0d-4217-b4d9-d2b810b666e1",
   "metadata": {},
   "outputs": [
    {
     "name": "stdout",
     "output_type": "stream",
     "text": [
      "Best parameters for RandomForest: {'regressor__n_estimators': 200, 'regressor__min_samples_split': 10, 'regressor__min_samples_leaf': 4, 'regressor__max_features': None, 'regressor__max_depth': 20, 'regressor__bootstrap': True}\n",
      "Best score for RandomForest: 0.7174628393030688\n",
      "Best parameters for XGB: {'regressor__subsample': 0.7, 'regressor__reg_lambda': 5, 'regressor__reg_alpha': 0, 'regressor__n_estimators': 100, 'regressor__min_child_weight': 5, 'regressor__max_depth': 3, 'regressor__learning_rate': 0.1, 'regressor__gamma': 0, 'regressor__colsample_bytree': 0.7}\n",
      "Best score for XGB: 0.7132400983668158\n"
     ]
    }
   ],
   "source": [
    "# Split data into features (X) and targets (y)\n",
    "X = data.drop(columns=target_col)\n",
    "y = data[target_col]\n",
    "\n",
    "# Split into train/test sets\n",
    "X_train, X_test, y_train, y_test = train_test_split(X, y, test_size=0.2, random_state=0)\n",
    "\n",
    "# Preprocessing steps\n",
    "preprocessor = ColumnTransformer(\n",
    "    transformers=[\n",
    "        # One-hot encode categorical features\n",
    "        ('onehot', OneHotEncoder(handle_unknown='ignore', sparse_output=False), one_hot_cols),\n",
    "        # Target mean encode high cardinality feature\n",
    "        ('target_mean_enc', TargetMeanEncoder(), target_mean_col),\n",
    "        # Scale numerical features\n",
    "        ('scaler', MinMaxScaler(), numerical_cols)\n",
    "    ],\n",
    "    remainder='drop'  # Drop all other columns not specified (e.g., raw categorical columns)\n",
    ")\n",
    "\n",
    "# Perform RandomizedSearchCV\n",
    "best_params = {}\n",
    "results = {}\n",
    "# Perform RandomizedSearchCV\n",
    "for name, (regressor, param_dist) in models.items():\n",
    "    pipeline = Pipeline(steps=[\n",
    "        ('preprocessor', preprocessor),  # Preprocessing step\n",
    "        ('regressor', regressor)        # Regressor\n",
    "    ])\n",
    "    \n",
    "    random_search = RandomizedSearchCV(\n",
    "        estimator=pipeline,\n",
    "        param_distributions=param_dist,\n",
    "        n_iter=50,\n",
    "        scoring=make_scorer(r2_score),\n",
    "        cv=5,\n",
    "        n_jobs=-1,\n",
    "        random_state=0\n",
    "    )\n",
    "    \n",
    "    random_search.fit(X_train, y_train)\n",
    "    best_params[name] = random_search.best_params_\n",
    "    results[name] = random_search.cv_results_\n",
    "    \n",
    "    print(f\"Best parameters for {name}: {random_search.best_params_}\")\n",
    "    print(f\"Best score for {name}: {random_search.best_score_}\")"
   ]
  },
  {
   "cell_type": "code",
   "execution_count": 9,
   "id": "d82d31ec-4ad0-4ccb-91c5-a3b74f5848f6",
   "metadata": {},
   "outputs": [],
   "source": [
    "models = {\n",
    "    'RandomForest': RandomForestRegressor(random_state=0,\n",
    "                                            n_estimators=200,\n",
    "                                            min_samples_split=10,\n",
    "                                            min_samples_leaf=4,\n",
    "                                            max_features=None,\n",
    "                                            max_depth=20,\n",
    "                                            bootstrap=True\n",
    "                                          ),\n",
    "    'XGB': XGBRegressor(random_state=0,\n",
    "                        subsample=0.7,\n",
    "                        reg_lambda=5,\n",
    "                        reg_alpha=0,\n",
    "                        n_estimators=100,\n",
    "                        min_child_weight=5,\n",
    "                        max_depth=3,\n",
    "                        learning_rate=0.1,\n",
    "                        gamma=0,\n",
    "                        colsample_bytree=0.7\n",
    "                        )\n",
    "        }"
   ]
  },
  {
   "cell_type": "code",
   "execution_count": 10,
   "id": "38bf9e38-012f-4f42-8f65-aa41911e476b",
   "metadata": {},
   "outputs": [
    {
     "name": "stderr",
     "output_type": "stream",
     "text": [
      "2024/12/27 16:01:08 INFO mlflow.tracking.fluent: Experiment with name 'Taylor_v4_Boron_Tuned_20241227' does not exist. Creating a new experiment.\n",
      "2024/12/27 16:01:09 INFO mlflow.tracking.fluent: Autologging successfully enabled for sklearn.\n",
      "2024/12/27 16:01:09 INFO mlflow.tracking.fluent: Autologging successfully enabled for statsmodels.\n",
      "2024/12/27 16:01:09 INFO mlflow.tracking.fluent: Autologging successfully enabled for xgboost.\n"
     ]
    }
   ],
   "source": [
    "# Initialize MLflow\n",
    "mlflow.set_experiment('Taylor_v4_Boron_Tuned_20241227')\n",
    "mlflow.autolog()"
   ]
  },
  {
   "cell_type": "code",
   "execution_count": 11,
   "id": "c7a439fd-5432-4e7f-9d0a-452a0e4ec784",
   "metadata": {},
   "outputs": [
    {
     "name": "stderr",
     "output_type": "stream",
     "text": [
      "2024/12/27 16:01:10 INFO mlflow.utils.autologging_utils: Created MLflow autologging run with ID 'cd1fdbe1a5e34e1eab09db531b259dca', which will track hyperparameters, performance metrics, model artifacts, and lineage information for the current sklearn workflow\n"
     ]
    },
    {
     "name": "stdout",
     "output_type": "stream",
     "text": [
      "🏃 View run rebellious-bee-569 at: https://dagshub.com/Omdena/IPage.mlflow/#/experiments/12/runs/cd1fdbe1a5e34e1eab09db531b259dca\n",
      "🧪 View experiment at: https://dagshub.com/Omdena/IPage.mlflow/#/experiments/12\n"
     ]
    },
    {
     "name": "stderr",
     "output_type": "stream",
     "text": [
      "2024/12/27 16:01:18 INFO mlflow.utils.autologging_utils: Created MLflow autologging run with ID 'eebe84d82e6d45e79a1d74caad3cf572', which will track hyperparameters, performance metrics, model artifacts, and lineage information for the current sklearn workflow\n"
     ]
    },
    {
     "name": "stdout",
     "output_type": "stream",
     "text": [
      "🏃 View run abrasive-midge-497 at: https://dagshub.com/Omdena/IPage.mlflow/#/experiments/12/runs/eebe84d82e6d45e79a1d74caad3cf572\n",
      "🧪 View experiment at: https://dagshub.com/Omdena/IPage.mlflow/#/experiments/12\n"
     ]
    },
    {
     "name": "stderr",
     "output_type": "stream",
     "text": [
      "2024/12/27 16:01:30 INFO mlflow.utils.autologging_utils: Created MLflow autologging run with ID '8d20ca7f94ac49eba2925a8dac25c417', which will track hyperparameters, performance metrics, model artifacts, and lineage information for the current sklearn workflow\n"
     ]
    },
    {
     "name": "stdout",
     "output_type": "stream",
     "text": [
      "🏃 View run burly-bird-245 at: https://dagshub.com/Omdena/IPage.mlflow/#/experiments/12/runs/8d20ca7f94ac49eba2925a8dac25c417\n",
      "🧪 View experiment at: https://dagshub.com/Omdena/IPage.mlflow/#/experiments/12\n"
     ]
    },
    {
     "name": "stderr",
     "output_type": "stream",
     "text": [
      "2024/12/27 16:01:52 INFO mlflow.utils.autologging_utils: Created MLflow autologging run with ID '2f7182a9cf054855bdd87043d04b9192', which will track hyperparameters, performance metrics, model artifacts, and lineage information for the current sklearn workflow\n"
     ]
    },
    {
     "name": "stdout",
     "output_type": "stream",
     "text": [
      "🏃 View run youthful-boar-809 at: https://dagshub.com/Omdena/IPage.mlflow/#/experiments/12/runs/2f7182a9cf054855bdd87043d04b9192\n",
      "🧪 View experiment at: https://dagshub.com/Omdena/IPage.mlflow/#/experiments/12\n"
     ]
    },
    {
     "name": "stderr",
     "output_type": "stream",
     "text": [
      "2024/12/27 16:02:22 INFO mlflow.utils.autologging_utils: Created MLflow autologging run with ID 'fd2edd0888e04a43bec6453d06b9bf43', which will track hyperparameters, performance metrics, model artifacts, and lineage information for the current sklearn workflow\n"
     ]
    },
    {
     "name": "stdout",
     "output_type": "stream",
     "text": [
      "🏃 View run flawless-cow-27 at: https://dagshub.com/Omdena/IPage.mlflow/#/experiments/12/runs/fd2edd0888e04a43bec6453d06b9bf43\n",
      "🧪 View experiment at: https://dagshub.com/Omdena/IPage.mlflow/#/experiments/12\n",
      "Cross-validated R² scores: [0.73864585 0.74583163 0.69945988 0.7199129  0.68346394]\n",
      "Mean R²: 0.7174628393030688\n"
     ]
    },
    {
     "name": "stderr",
     "output_type": "stream",
     "text": [
      "2024/12/27 16:02:52 INFO mlflow.utils.autologging_utils: Created MLflow autologging run with ID 'ea5c007b372a4faeb4dda7e4e9db65ab', which will track hyperparameters, performance metrics, model artifacts, and lineage information for the current sklearn workflow\n"
     ]
    },
    {
     "name": "stdout",
     "output_type": "stream",
     "text": [
      "🏃 View run polite-squirrel-760 at: https://dagshub.com/Omdena/IPage.mlflow/#/experiments/12/runs/ea5c007b372a4faeb4dda7e4e9db65ab\n",
      "🧪 View experiment at: https://dagshub.com/Omdena/IPage.mlflow/#/experiments/12\n",
      "Test R²: 0.6971291661061492\n"
     ]
    },
    {
     "name": "stderr",
     "output_type": "stream",
     "text": [
      "2024/12/27 16:03:26 INFO mlflow.utils.autologging_utils: Created MLflow autologging run with ID '07ba1fdc27c947569c1542addfbb3301', which will track hyperparameters, performance metrics, model artifacts, and lineage information for the current sklearn workflow\n"
     ]
    },
    {
     "name": "stdout",
     "output_type": "stream",
     "text": [
      "🏃 View run angry-finch-183 at: https://dagshub.com/Omdena/IPage.mlflow/#/experiments/12/runs/07ba1fdc27c947569c1542addfbb3301\n",
      "🧪 View experiment at: https://dagshub.com/Omdena/IPage.mlflow/#/experiments/12\n"
     ]
    },
    {
     "name": "stderr",
     "output_type": "stream",
     "text": [
      "2024/12/27 16:03:56 INFO mlflow.utils.autologging_utils: Created MLflow autologging run with ID 'a70f1d6bc1e14f56a140bbc7e22aec06', which will track hyperparameters, performance metrics, model artifacts, and lineage information for the current sklearn workflow\n"
     ]
    },
    {
     "name": "stdout",
     "output_type": "stream",
     "text": [
      "🏃 View run blushing-koi-332 at: https://dagshub.com/Omdena/IPage.mlflow/#/experiments/12/runs/a70f1d6bc1e14f56a140bbc7e22aec06\n",
      "🧪 View experiment at: https://dagshub.com/Omdena/IPage.mlflow/#/experiments/12\n"
     ]
    },
    {
     "name": "stderr",
     "output_type": "stream",
     "text": [
      "2024/12/27 16:04:25 INFO mlflow.utils.autologging_utils: Created MLflow autologging run with ID '8aeda9d1581e4518ae4da07ebd363c0d', which will track hyperparameters, performance metrics, model artifacts, and lineage information for the current sklearn workflow\n"
     ]
    },
    {
     "name": "stdout",
     "output_type": "stream",
     "text": [
      "🏃 View run omniscient-elk-632 at: https://dagshub.com/Omdena/IPage.mlflow/#/experiments/12/runs/8aeda9d1581e4518ae4da07ebd363c0d\n",
      "🧪 View experiment at: https://dagshub.com/Omdena/IPage.mlflow/#/experiments/12\n"
     ]
    },
    {
     "name": "stderr",
     "output_type": "stream",
     "text": [
      "2024/12/27 16:04:55 INFO mlflow.utils.autologging_utils: Created MLflow autologging run with ID '08cc5f0bbb6e451087f56356a6cd49ec', which will track hyperparameters, performance metrics, model artifacts, and lineage information for the current sklearn workflow\n"
     ]
    },
    {
     "name": "stdout",
     "output_type": "stream",
     "text": [
      "🏃 View run thundering-deer-233 at: https://dagshub.com/Omdena/IPage.mlflow/#/experiments/12/runs/08cc5f0bbb6e451087f56356a6cd49ec\n",
      "🧪 View experiment at: https://dagshub.com/Omdena/IPage.mlflow/#/experiments/12\n"
     ]
    },
    {
     "name": "stderr",
     "output_type": "stream",
     "text": [
      "2024/12/27 16:05:24 INFO mlflow.utils.autologging_utils: Created MLflow autologging run with ID 'eca56cccae01422eb509c8fa45add0d9', which will track hyperparameters, performance metrics, model artifacts, and lineage information for the current sklearn workflow\n"
     ]
    },
    {
     "name": "stdout",
     "output_type": "stream",
     "text": [
      "🏃 View run defiant-duck-829 at: https://dagshub.com/Omdena/IPage.mlflow/#/experiments/12/runs/eca56cccae01422eb509c8fa45add0d9\n",
      "🧪 View experiment at: https://dagshub.com/Omdena/IPage.mlflow/#/experiments/12\n",
      "Cross-validated R² scores: [0.72787508 0.73771187 0.70404866 0.71692936 0.67963552]\n",
      "Mean R²: 0.7132400983668158\n"
     ]
    },
    {
     "name": "stderr",
     "output_type": "stream",
     "text": [
      "2024/12/27 16:05:55 INFO mlflow.utils.autologging_utils: Created MLflow autologging run with ID 'fb0c06d098424a8aa8b8c6761a457fc7', which will track hyperparameters, performance metrics, model artifacts, and lineage information for the current sklearn workflow\n"
     ]
    },
    {
     "name": "stdout",
     "output_type": "stream",
     "text": [
      "🏃 View run learned-kit-466 at: https://dagshub.com/Omdena/IPage.mlflow/#/experiments/12/runs/fb0c06d098424a8aa8b8c6761a457fc7\n",
      "🧪 View experiment at: https://dagshub.com/Omdena/IPage.mlflow/#/experiments/12\n",
      "Test R²: 0.7047904753270067\n"
     ]
    }
   ],
   "source": [
    "# Split data into features (X) and targets (y)\n",
    "X = data.drop(columns=target_col)\n",
    "y = data[target_col]\n",
    "\n",
    "# Split into train/test sets\n",
    "X_train, X_test, y_train, y_test = train_test_split(X, y, test_size=0.2, random_state=0)\n",
    "\n",
    "# Preprocessing steps\n",
    "preprocessor = ColumnTransformer(\n",
    "    transformers=[\n",
    "        # One-hot encode categorical features\n",
    "        ('onehot', OneHotEncoder(handle_unknown='ignore', sparse_output=False), one_hot_cols),\n",
    "        # Target mean encode high cardinality feature\n",
    "        ('target_mean_enc', TargetMeanEncoder(), target_mean_col),\n",
    "        # Scale numerical features\n",
    "        ('scaler', MinMaxScaler(), numerical_cols)\n",
    "    ],\n",
    "    remainder='drop'  # Drop all other columns not specified (e.g., raw categorical columns)\n",
    ")\n",
    "\n",
    "# Train and test multiple models\n",
    "for model_name, model in models.items():\n",
    "\n",
    "    # Create pipeline\n",
    "    pipeline = Pipeline([\n",
    "        ('preprocessing', preprocessor),\n",
    "        ('model', model)\n",
    "    ])\n",
    "        \n",
    "    # Cross-validation\n",
    "    scores = cross_val_score(pipeline, X_train, y_train, cv=5, scoring='r2')\n",
    "    print(f\"Cross-validated R² scores: {scores}\")\n",
    "    print(f\"Mean R²: {scores.mean()}\")\n",
    "    \n",
    "    # Fit and test the pipeline\n",
    "    pipeline.fit(X_train, y_train)\n",
    "    print(f\"Test R²: {pipeline.score(X_test, y_test)}\")"
   ]
  },
  {
   "cell_type": "code",
   "execution_count": null,
   "id": "e20b6052-271d-49a3-949a-1da68a0497c9",
   "metadata": {},
   "outputs": [],
   "source": []
  }
 ],
 "metadata": {
  "kernelspec": {
   "display_name": "Python 3 (ipykernel)",
   "language": "python",
   "name": "python3"
  },
  "language_info": {
   "codemirror_mode": {
    "name": "ipython",
    "version": 3
   },
   "file_extension": ".py",
   "mimetype": "text/x-python",
   "name": "python",
   "nbconvert_exporter": "python",
   "pygments_lexer": "ipython3",
   "version": "3.11.7"
  }
 },
 "nbformat": 4,
 "nbformat_minor": 5
}

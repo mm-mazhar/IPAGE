{
 "cells": [
  {
   "cell_type": "code",
   "execution_count": 3,
   "id": "6d713598-ea88-4d01-9b4b-3e4a9372e1e8",
   "metadata": {},
   "outputs": [
    {
     "data": {
      "text/html": [
       "<pre style=\"white-space:pre;overflow-x:auto;line-height:normal;font-family:Menlo,'DejaVu Sans Mono',consolas,'Courier New',monospace\">Initialized MLflow to track repo <span style=\"color: #008000; text-decoration-color: #008000\">\"Omdena/IPage\"</span>\n",
       "</pre>\n"
      ],
      "text/plain": [
       "Initialized MLflow to track repo \u001b[32m\"Omdena/IPage\"\u001b[0m\n"
      ]
     },
     "metadata": {},
     "output_type": "display_data"
    },
    {
     "data": {
      "text/html": [
       "<pre style=\"white-space:pre;overflow-x:auto;line-height:normal;font-family:Menlo,'DejaVu Sans Mono',consolas,'Courier New',monospace\">Repository Omdena/IPage initialized!\n",
       "</pre>\n"
      ],
      "text/plain": [
       "Repository Omdena/IPage initialized!\n"
      ]
     },
     "metadata": {},
     "output_type": "display_data"
    }
   ],
   "source": [
    "import matplotlib.pyplot as plt\n",
    "import seaborn as sns\n",
    "import numpy as np\n",
    "import pandas as pd\n",
    "from sklearn.model_selection import train_test_split, KFold, cross_val_score\n",
    "from sklearn.preprocessing import OneHotEncoder, MinMaxScaler, StandardScaler\n",
    "from sklearn.compose import ColumnTransformer\n",
    "from sklearn.pipeline import Pipeline\n",
    "from sklearn.linear_model import LinearRegression\n",
    "from sklearn.ensemble import RandomForestRegressor\n",
    "from xgboost import XGBRegressor\n",
    "from sklearn.metrics import mean_squared_error, mean_absolute_error, r2_score, make_scorer\n",
    "from sklearn.inspection import permutation_importance\n",
    "from sklearn.model_selection import RandomizedSearchCV\n",
    "from sklearn.model_selection import GridSearchCV\n",
    "\n",
    "import dagshub\n",
    "dagshub.init(repo_owner='Omdena', repo_name='IPage', mlflow=True)\n",
    "\n",
    "import mlflow"
   ]
  },
  {
   "cell_type": "code",
   "execution_count": 4,
   "id": "eec36127-eb23-4ce3-b08d-a6e63a0f8b22",
   "metadata": {},
   "outputs": [],
   "source": [
    "from sklearn.base import BaseEstimator, TransformerMixin\n",
    "\n",
    "class TargetMeanEncoder(BaseEstimator, TransformerMixin):\n",
    "    def __init__(self):\n",
    "        self.target_means_ = {}\n",
    "    \n",
    "    def fit(self, X, y):\n",
    "        if isinstance(X, pd.Series):\n",
    "            X = X.to_frame()\n",
    "        elif isinstance(X, np.ndarray):\n",
    "            X = pd.DataFrame(X)\n",
    "        \n",
    "        self.target_means_ = {\n",
    "            col: X[col].map(y.groupby(X[col]).mean())\n",
    "            for col in X.columns\n",
    "        }\n",
    "        return self\n",
    "    \n",
    "    def transform(self, X):\n",
    "        if isinstance(X, pd.Series):\n",
    "            X = X.to_frame()\n",
    "        elif isinstance(X, np.ndarray):\n",
    "            X = pd.DataFrame(X)\n",
    "        \n",
    "        X_encoded = X.copy()\n",
    "        for col in X_encoded.columns:\n",
    "            X_encoded[col] = X_encoded[col].map(self.target_means_[col])\n",
    "        return X_encoded.fillna(0)  # Handle unseen categories with 0"
   ]
  },
  {
   "cell_type": "code",
   "execution_count": 6,
   "id": "12b7d2c9-9a74-4edf-816b-b538b0c70bb5",
   "metadata": {},
   "outputs": [],
   "source": [
    "data = pd.read_csv('merged_v4.csv')\n",
    "\n",
    "data.drop(columns=['longitude', 'latitude', 'Soil group', 'Boron', 'Zinc'], inplace=True)\n",
    "\n",
    "# Define columns\n",
    "numerical_cols = ['pH', 'Nitrogen', 'Potassium', 'Phosphorus',\n",
    "                  'Sulfur', 'Sand', 'Silt', 'Clay']\n",
    "\n",
    "one_hot_cols = ['Land class', 'Soil type']\n",
    "\n",
    "target_mean_col = 'Area'\n",
    "\n",
    "target_col = 'SOC'"
   ]
  },
  {
   "cell_type": "code",
   "execution_count": 7,
   "id": "b9519709-bdf3-4b92-82c0-c103ac4dfa43",
   "metadata": {},
   "outputs": [],
   "source": [
    "# Define hyperparameter distributions for both models\n",
    "param_dist_rf = {\n",
    "    'regressor__n_estimators': [100, 200, 300, 400],\n",
    "    'regressor__max_depth': [None, 10, 20, 30],\n",
    "    'regressor__min_samples_split': [2, 5, 10],\n",
    "    'regressor__min_samples_leaf': [1, 2, 4],\n",
    "    'regressor__max_features': [None, 'sqrt', 'log2'],\n",
    "    'regressor__bootstrap': [True, False]\n",
    "}\n",
    "\n",
    "param_dist_xgb = {\n",
    "    'regressor__n_estimators': [100, 200, 300, 400],\n",
    "    'regressor__learning_rate': [0.01, 0.05, 0.1, 0.2],\n",
    "    'regressor__max_depth': [3, 6, 9],\n",
    "    'regressor__min_child_weight': [1, 3, 5],\n",
    "    'regressor__subsample': [0.7, 0.8, 1.0],\n",
    "    'regressor__colsample_bytree': [0.7, 0.8, 1.0],\n",
    "    'regressor__gamma': [0, 0.1, 0.5],\n",
    "    'regressor__reg_alpha': [0, 1, 5],\n",
    "    'regressor__reg_lambda': [1, 5, 10]\n",
    "}\n",
    "\n",
    "# Set up the models\n",
    "models = {\n",
    "    'RandomForest': (RandomForestRegressor(random_state=0), param_dist_rf),\n",
    "    'XGB': (XGBRegressor(random_state=0), param_dist_xgb)\n",
    "}"
   ]
  },
  {
   "cell_type": "code",
   "execution_count": 8,
   "id": "869571c7-30bd-4503-80d8-bc160db47796",
   "metadata": {},
   "outputs": [
    {
     "name": "stdout",
     "output_type": "stream",
     "text": [
      "Best parameters for RandomForest: {'regressor__n_estimators': 200, 'regressor__min_samples_split': 5, 'regressor__min_samples_leaf': 1, 'regressor__max_features': None, 'regressor__max_depth': 10, 'regressor__bootstrap': True}\n",
      "Best score for RandomForest: 0.8359795957853903\n",
      "Best parameters for XGB: {'regressor__subsample': 0.8, 'regressor__reg_lambda': 1, 'regressor__reg_alpha': 0, 'regressor__n_estimators': 100, 'regressor__min_child_weight': 1, 'regressor__max_depth': 6, 'regressor__learning_rate': 0.05, 'regressor__gamma': 0.5, 'regressor__colsample_bytree': 0.8}\n",
      "Best score for XGB: 0.8367698438829831\n"
     ]
    }
   ],
   "source": [
    "# Split data into features (X) and targets (y)\n",
    "X = data.drop(columns=target_col)\n",
    "y = data[target_col]\n",
    "\n",
    "# Split into train/test sets\n",
    "X_train, X_test, y_train, y_test = train_test_split(X, y, test_size=0.2, random_state=0)\n",
    "\n",
    "# Preprocessing steps\n",
    "preprocessor = ColumnTransformer(\n",
    "    transformers=[\n",
    "        # One-hot encode categorical features\n",
    "        ('onehot', OneHotEncoder(handle_unknown='ignore', sparse_output=False), one_hot_cols),\n",
    "        # Target mean encode high cardinality feature\n",
    "        ('target_mean_enc', TargetMeanEncoder(), target_mean_col),\n",
    "        # Scale numerical features\n",
    "        ('scaler', MinMaxScaler(), numerical_cols)\n",
    "    ],\n",
    "    remainder='drop'  # Drop all other columns not specified (e.g., raw categorical columns)\n",
    ")\n",
    "\n",
    "# Perform RandomizedSearchCV\n",
    "best_params = {}\n",
    "results = {}\n",
    "# Perform RandomizedSearchCV\n",
    "for name, (regressor, param_dist) in models.items():\n",
    "    pipeline = Pipeline(steps=[\n",
    "        ('preprocessor', preprocessor),  # Preprocessing step\n",
    "        ('regressor', regressor)        # Regressor\n",
    "    ])\n",
    "    \n",
    "    random_search = RandomizedSearchCV(\n",
    "        estimator=pipeline,\n",
    "        param_distributions=param_dist,\n",
    "        n_iter=50,\n",
    "        scoring=make_scorer(r2_score),\n",
    "        cv=5,\n",
    "        n_jobs=-1,\n",
    "        random_state=0\n",
    "    )\n",
    "    \n",
    "    random_search.fit(X_train, y_train)\n",
    "    best_params[name] = random_search.best_params_\n",
    "    results[name] = random_search.cv_results_\n",
    "    \n",
    "    print(f\"Best parameters for {name}: {random_search.best_params_}\")\n",
    "    print(f\"Best score for {name}: {random_search.best_score_}\")"
   ]
  },
  {
   "cell_type": "code",
   "execution_count": 9,
   "id": "eefe20c1-3b7b-4f56-a725-0cfce08a577c",
   "metadata": {},
   "outputs": [],
   "source": [
    "models = {\n",
    "    'RandomForest': RandomForestRegressor(random_state=0,\n",
    "                                            n_estimators=200,\n",
    "                                            min_samples_split=15,\n",
    "                                            min_samples_leaf=1,\n",
    "                                            max_features=None,\n",
    "                                            max_depth=10,\n",
    "                                            bootstrap=True\n",
    "                                          ),\n",
    "    'XGB': XGBRegressor(random_state=0,\n",
    "                        subsample=0.8,\n",
    "                        reg_lambda=1,\n",
    "                        reg_alpha=0,\n",
    "                        n_estimators=100,\n",
    "                        min_child_weight=1,\n",
    "                        max_depth=6,\n",
    "                        learning_rate=0.05,\n",
    "                        gamma=0.5,\n",
    "                        colsample_bytree=0.8\n",
    "                        )\n",
    "        }"
   ]
  },
  {
   "cell_type": "code",
   "execution_count": 10,
   "id": "c509a170-5146-4084-a67c-12eaa3c272e1",
   "metadata": {},
   "outputs": [
    {
     "name": "stderr",
     "output_type": "stream",
     "text": [
      "2024/12/27 15:56:22 INFO mlflow.tracking.fluent: Experiment with name 'Taylor_v4_SOC_Tuned_20241227' does not exist. Creating a new experiment.\n",
      "2024/12/27 15:56:23 INFO mlflow.tracking.fluent: Autologging successfully enabled for sklearn.\n",
      "2024/12/27 15:56:23 INFO mlflow.tracking.fluent: Autologging successfully enabled for statsmodels.\n",
      "2024/12/27 15:56:23 INFO mlflow.tracking.fluent: Autologging successfully enabled for xgboost.\n"
     ]
    }
   ],
   "source": [
    "# Initialize MLflow\n",
    "mlflow.set_experiment('Taylor_v4_SOC_Tuned_20241227')\n",
    "mlflow.autolog()"
   ]
  },
  {
   "cell_type": "code",
   "execution_count": 11,
   "id": "36bce163-776b-4b32-a8e2-16e80f1ae40b",
   "metadata": {},
   "outputs": [
    {
     "name": "stderr",
     "output_type": "stream",
     "text": [
      "2024/12/27 15:56:48 INFO mlflow.utils.autologging_utils: Created MLflow autologging run with ID '463a95a3539440d5ae2ade83d82034db', which will track hyperparameters, performance metrics, model artifacts, and lineage information for the current sklearn workflow\n"
     ]
    },
    {
     "name": "stdout",
     "output_type": "stream",
     "text": [
      "🏃 View run likeable-finch-587 at: https://dagshub.com/Omdena/IPage.mlflow/#/experiments/10/runs/463a95a3539440d5ae2ade83d82034db\n",
      "🧪 View experiment at: https://dagshub.com/Omdena/IPage.mlflow/#/experiments/10\n"
     ]
    },
    {
     "name": "stderr",
     "output_type": "stream",
     "text": [
      "2024/12/27 15:56:57 INFO mlflow.utils.autologging_utils: Created MLflow autologging run with ID '94953caf0ead4b3d92f611ab9ec17f21', which will track hyperparameters, performance metrics, model artifacts, and lineage information for the current sklearn workflow\n"
     ]
    },
    {
     "name": "stdout",
     "output_type": "stream",
     "text": [
      "🏃 View run ambitious-newt-764 at: https://dagshub.com/Omdena/IPage.mlflow/#/experiments/10/runs/94953caf0ead4b3d92f611ab9ec17f21\n",
      "🧪 View experiment at: https://dagshub.com/Omdena/IPage.mlflow/#/experiments/10\n"
     ]
    },
    {
     "name": "stderr",
     "output_type": "stream",
     "text": [
      "2024/12/27 15:57:08 INFO mlflow.utils.autologging_utils: Created MLflow autologging run with ID 'e05d0332666e4b439ef918fb244c73d5', which will track hyperparameters, performance metrics, model artifacts, and lineage information for the current sklearn workflow\n"
     ]
    },
    {
     "name": "stdout",
     "output_type": "stream",
     "text": [
      "🏃 View run placid-fly-194 at: https://dagshub.com/Omdena/IPage.mlflow/#/experiments/10/runs/e05d0332666e4b439ef918fb244c73d5\n",
      "🧪 View experiment at: https://dagshub.com/Omdena/IPage.mlflow/#/experiments/10\n"
     ]
    },
    {
     "name": "stderr",
     "output_type": "stream",
     "text": [
      "2024/12/27 15:57:23 INFO mlflow.utils.autologging_utils: Created MLflow autologging run with ID '0a08f1b531ae49d280d45119190e3fb7', which will track hyperparameters, performance metrics, model artifacts, and lineage information for the current sklearn workflow\n"
     ]
    },
    {
     "name": "stdout",
     "output_type": "stream",
     "text": [
      "🏃 View run clean-hen-636 at: https://dagshub.com/Omdena/IPage.mlflow/#/experiments/10/runs/0a08f1b531ae49d280d45119190e3fb7\n",
      "🧪 View experiment at: https://dagshub.com/Omdena/IPage.mlflow/#/experiments/10\n"
     ]
    },
    {
     "name": "stderr",
     "output_type": "stream",
     "text": [
      "2024/12/27 15:57:38 INFO mlflow.utils.autologging_utils: Created MLflow autologging run with ID '00d0df51ad0a412d94f2490f030970ff', which will track hyperparameters, performance metrics, model artifacts, and lineage information for the current sklearn workflow\n"
     ]
    },
    {
     "name": "stdout",
     "output_type": "stream",
     "text": [
      "🏃 View run marvelous-panda-816 at: https://dagshub.com/Omdena/IPage.mlflow/#/experiments/10/runs/00d0df51ad0a412d94f2490f030970ff\n",
      "🧪 View experiment at: https://dagshub.com/Omdena/IPage.mlflow/#/experiments/10\n",
      "Cross-validated R² scores: [0.86735483 0.83526252 0.83883711 0.84228873 0.77836465]\n",
      "Mean R²: 0.8324215691700523\n"
     ]
    },
    {
     "name": "stderr",
     "output_type": "stream",
     "text": [
      "2024/12/27 15:57:53 INFO mlflow.utils.autologging_utils: Created MLflow autologging run with ID '4415e175e38b458788750442049e0a8f', which will track hyperparameters, performance metrics, model artifacts, and lineage information for the current sklearn workflow\n"
     ]
    },
    {
     "name": "stdout",
     "output_type": "stream",
     "text": [
      "🏃 View run agreeable-conch-167 at: https://dagshub.com/Omdena/IPage.mlflow/#/experiments/10/runs/4415e175e38b458788750442049e0a8f\n",
      "🧪 View experiment at: https://dagshub.com/Omdena/IPage.mlflow/#/experiments/10\n",
      "Test R²: 0.8029266307163244\n"
     ]
    },
    {
     "name": "stderr",
     "output_type": "stream",
     "text": [
      "2024/12/27 15:58:09 INFO mlflow.utils.autologging_utils: Created MLflow autologging run with ID '12953f2d8afa40f6a32f599504e0568f', which will track hyperparameters, performance metrics, model artifacts, and lineage information for the current sklearn workflow\n"
     ]
    },
    {
     "name": "stdout",
     "output_type": "stream",
     "text": [
      "🏃 View run zealous-kite-178 at: https://dagshub.com/Omdena/IPage.mlflow/#/experiments/10/runs/12953f2d8afa40f6a32f599504e0568f\n",
      "🧪 View experiment at: https://dagshub.com/Omdena/IPage.mlflow/#/experiments/10\n"
     ]
    },
    {
     "name": "stderr",
     "output_type": "stream",
     "text": [
      "2024/12/27 15:58:24 INFO mlflow.utils.autologging_utils: Created MLflow autologging run with ID '54c39233b252434eb7f7e8782c978278', which will track hyperparameters, performance metrics, model artifacts, and lineage information for the current sklearn workflow\n"
     ]
    },
    {
     "name": "stdout",
     "output_type": "stream",
     "text": [
      "🏃 View run casual-toad-799 at: https://dagshub.com/Omdena/IPage.mlflow/#/experiments/10/runs/54c39233b252434eb7f7e8782c978278\n",
      "🧪 View experiment at: https://dagshub.com/Omdena/IPage.mlflow/#/experiments/10\n"
     ]
    },
    {
     "name": "stderr",
     "output_type": "stream",
     "text": [
      "2024/12/27 15:58:39 INFO mlflow.utils.autologging_utils: Created MLflow autologging run with ID '0b409d9d64fe4a9894447e65faf928a9', which will track hyperparameters, performance metrics, model artifacts, and lineage information for the current sklearn workflow\n"
     ]
    },
    {
     "name": "stdout",
     "output_type": "stream",
     "text": [
      "🏃 View run nervous-shark-847 at: https://dagshub.com/Omdena/IPage.mlflow/#/experiments/10/runs/0b409d9d64fe4a9894447e65faf928a9\n",
      "🧪 View experiment at: https://dagshub.com/Omdena/IPage.mlflow/#/experiments/10\n"
     ]
    },
    {
     "name": "stderr",
     "output_type": "stream",
     "text": [
      "2024/12/27 15:58:54 INFO mlflow.utils.autologging_utils: Created MLflow autologging run with ID '49a9b2238ac74f518c419987f2b6c06a', which will track hyperparameters, performance metrics, model artifacts, and lineage information for the current sklearn workflow\n"
     ]
    },
    {
     "name": "stdout",
     "output_type": "stream",
     "text": [
      "🏃 View run bold-croc-50 at: https://dagshub.com/Omdena/IPage.mlflow/#/experiments/10/runs/49a9b2238ac74f518c419987f2b6c06a\n",
      "🧪 View experiment at: https://dagshub.com/Omdena/IPage.mlflow/#/experiments/10\n"
     ]
    },
    {
     "name": "stderr",
     "output_type": "stream",
     "text": [
      "2024/12/27 15:59:09 INFO mlflow.utils.autologging_utils: Created MLflow autologging run with ID '140684e618bb4cf7a90d3a5f01f5d2e1', which will track hyperparameters, performance metrics, model artifacts, and lineage information for the current sklearn workflow\n"
     ]
    },
    {
     "name": "stdout",
     "output_type": "stream",
     "text": [
      "🏃 View run colorful-smelt-685 at: https://dagshub.com/Omdena/IPage.mlflow/#/experiments/10/runs/140684e618bb4cf7a90d3a5f01f5d2e1\n",
      "🧪 View experiment at: https://dagshub.com/Omdena/IPage.mlflow/#/experiments/10\n",
      "Cross-validated R² scores: [0.85643938 0.83726338 0.83902261 0.84625972 0.80486413]\n",
      "Mean R²: 0.8367698438829831\n"
     ]
    },
    {
     "name": "stderr",
     "output_type": "stream",
     "text": [
      "2024/12/27 15:59:24 INFO mlflow.utils.autologging_utils: Created MLflow autologging run with ID 'c0ffb73e46b042808a87a3f5f688b4e0', which will track hyperparameters, performance metrics, model artifacts, and lineage information for the current sklearn workflow\n"
     ]
    },
    {
     "name": "stdout",
     "output_type": "stream",
     "text": [
      "🏃 View run exultant-quail-158 at: https://dagshub.com/Omdena/IPage.mlflow/#/experiments/10/runs/c0ffb73e46b042808a87a3f5f688b4e0\n",
      "🧪 View experiment at: https://dagshub.com/Omdena/IPage.mlflow/#/experiments/10\n",
      "Test R²: 0.7952064277348081\n"
     ]
    }
   ],
   "source": [
    "# Split data into features (X) and targets (y)\n",
    "X = data.drop(columns=target_col)\n",
    "y = data[target_col]\n",
    "\n",
    "# Split into train/test sets\n",
    "X_train, X_test, y_train, y_test = train_test_split(X, y, test_size=0.2, random_state=0)\n",
    "\n",
    "# Preprocessing steps\n",
    "preprocessor = ColumnTransformer(\n",
    "    transformers=[\n",
    "        # One-hot encode categorical features\n",
    "        ('onehot', OneHotEncoder(handle_unknown='ignore', sparse_output=False), one_hot_cols),\n",
    "        # Target mean encode high cardinality feature\n",
    "        ('target_mean_enc', TargetMeanEncoder(), target_mean_col),\n",
    "        # Scale numerical features\n",
    "        ('scaler', MinMaxScaler(), numerical_cols)\n",
    "    ],\n",
    "    remainder='drop'  # Drop all other columns not specified (e.g., raw categorical columns)\n",
    ")\n",
    "\n",
    "# Train and test multiple models\n",
    "for model_name, model in models.items():\n",
    "\n",
    "    # Create pipeline\n",
    "    pipeline = Pipeline([\n",
    "        ('preprocessing', preprocessor),\n",
    "        ('model', model)\n",
    "    ])\n",
    "        \n",
    "    # Cross-validation\n",
    "    scores = cross_val_score(pipeline, X_train, y_train, cv=5, scoring='r2')\n",
    "    print(f\"Cross-validated R² scores: {scores}\")\n",
    "    print(f\"Mean R²: {scores.mean()}\")\n",
    "    \n",
    "    # Fit and test the pipeline\n",
    "    pipeline.fit(X_train, y_train)\n",
    "    print(f\"Test R²: {pipeline.score(X_test, y_test)}\")"
   ]
  },
  {
   "cell_type": "code",
   "execution_count": null,
   "id": "03ebd4c6-214e-4b04-b883-d46099e3f8bc",
   "metadata": {},
   "outputs": [],
   "source": []
  }
 ],
 "metadata": {
  "kernelspec": {
   "display_name": "Python 3 (ipykernel)",
   "language": "python",
   "name": "python3"
  },
  "language_info": {
   "codemirror_mode": {
    "name": "ipython",
    "version": 3
   },
   "file_extension": ".py",
   "mimetype": "text/x-python",
   "name": "python",
   "nbconvert_exporter": "python",
   "pygments_lexer": "ipython3",
   "version": "3.11.7"
  }
 },
 "nbformat": 4,
 "nbformat_minor": 5
}

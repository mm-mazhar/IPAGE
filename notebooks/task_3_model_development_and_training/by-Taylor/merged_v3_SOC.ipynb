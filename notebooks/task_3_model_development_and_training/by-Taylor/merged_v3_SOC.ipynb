{
 "cells": [
  {
   "cell_type": "code",
   "execution_count": 43,
   "id": "c4c9c96e-6846-435b-83a8-751d72423a5a",
   "metadata": {},
   "outputs": [
    {
     "data": {
      "text/html": [
       "<pre style=\"white-space:pre;overflow-x:auto;line-height:normal;font-family:Menlo,'DejaVu Sans Mono',consolas,'Courier New',monospace\">Initialized MLflow to track repo <span style=\"color: #008000; text-decoration-color: #008000\">\"Omdena/IPage\"</span>\n",
       "</pre>\n"
      ],
      "text/plain": [
       "Initialized MLflow to track repo \u001b[32m\"Omdena/IPage\"\u001b[0m\n"
      ]
     },
     "metadata": {},
     "output_type": "display_data"
    },
    {
     "data": {
      "text/html": [
       "<pre style=\"white-space:pre;overflow-x:auto;line-height:normal;font-family:Menlo,'DejaVu Sans Mono',consolas,'Courier New',monospace\">Repository Omdena/IPage initialized!\n",
       "</pre>\n"
      ],
      "text/plain": [
       "Repository Omdena/IPage initialized!\n"
      ]
     },
     "metadata": {},
     "output_type": "display_data"
    }
   ],
   "source": [
    "import matplotlib.pyplot as plt\n",
    "import seaborn as sns\n",
    "import numpy as np\n",
    "import pandas as pd\n",
    "from sklearn.model_selection import train_test_split, KFold, cross_val_score\n",
    "from sklearn.preprocessing import OneHotEncoder, MinMaxScaler\n",
    "from sklearn.compose import ColumnTransformer\n",
    "from sklearn.pipeline import Pipeline\n",
    "from sklearn.ensemble import RandomForestRegressor\n",
    "from xgboost import XGBRegressor\n",
    "from sklearn.metrics import mean_squared_error, mean_absolute_error, r2_score\n",
    "from sklearn.inspection import permutation_importance\n",
    "from sklearn.model_selection import GridSearchCV\n",
    "\n",
    "import dagshub\n",
    "dagshub.init(repo_owner='Omdena', repo_name='IPage', mlflow=True)\n",
    "\n",
    "import mlflow"
   ]
  },
  {
   "cell_type": "code",
   "execution_count": 44,
   "id": "175fa03a-3051-4745-bdf0-16b41f851e28",
   "metadata": {},
   "outputs": [
    {
     "name": "stderr",
     "output_type": "stream",
     "text": [
      "2024/12/25 11:20:32 INFO mlflow.tracking.fluent: Autologging successfully enabled for sklearn.\n",
      "2024/12/25 11:20:32 INFO mlflow.tracking.fluent: Autologging successfully enabled for statsmodels.\n",
      "2024/12/25 11:20:32 INFO mlflow.tracking.fluent: Autologging successfully enabled for xgboost.\n"
     ]
    }
   ],
   "source": [
    "# Initialize MLflow\n",
    "mlflow.set_experiment('Taylor_v3_SOC_Baseline_20241225')\n",
    "mlflow.autolog()"
   ]
  },
  {
   "cell_type": "code",
   "execution_count": 45,
   "id": "4284890c-e174-4560-a847-28da58569029",
   "metadata": {},
   "outputs": [
    {
     "name": "stdout",
     "output_type": "stream",
     "text": [
      "<class 'pandas.core.frame.DataFrame'>\n",
      "RangeIndex: 2584 entries, 0 to 2583\n",
      "Data columns (total 17 columns):\n",
      " #   Column      Non-Null Count  Dtype  \n",
      "---  ------      --------------  -----  \n",
      " 0   longitude   2584 non-null   float64\n",
      " 1   latitude    2584 non-null   float64\n",
      " 2   Area        2584 non-null   object \n",
      " 3   Soil group  2584 non-null   object \n",
      " 4   Land class  2584 non-null   object \n",
      " 5   Soil type   2584 non-null   object \n",
      " 6   pH          2584 non-null   float64\n",
      " 7   SOC         2584 non-null   float64\n",
      " 8   Nitrogen    2584 non-null   float64\n",
      " 9   Potassium   2584 non-null   float64\n",
      " 10  Phosphorus  2584 non-null   float64\n",
      " 11  Sulfur      2584 non-null   float64\n",
      " 12  Boron       2584 non-null   float64\n",
      " 13  Zinc        2584 non-null   float64\n",
      " 14  Sand        2584 non-null   float64\n",
      " 15  Silt        2584 non-null   float64\n",
      " 16  Clay        2584 non-null   float64\n",
      "dtypes: float64(13), object(4)\n",
      "memory usage: 343.3+ KB\n"
     ]
    },
    {
     "data": {
      "text/plain": [
       "array(['Mithpukur', 'Pirgacha ', 'Gangachara', 'Kaunia upazila',\n",
       "       'Taraganj Thana', 'Bauchi', 'Taraba', 'Plateau', 'Kaduna',\n",
       "       'Nasarawa', 'Niger', 'Kebbi', 'Kano', 'Kwara', 'Katsina',\n",
       "       'Adamawa'], dtype=object)"
      ]
     },
     "execution_count": 45,
     "metadata": {},
     "output_type": "execute_result"
    }
   ],
   "source": [
    "data = pd.read_csv('merged_v3.csv')\n",
    "\n",
    "data.info()\n",
    "data['Area'].unique()"
   ]
  },
  {
   "cell_type": "code",
   "execution_count": 46,
   "id": "411d7ef3-bb91-4caa-8d6b-17bb679434fc",
   "metadata": {},
   "outputs": [
    {
     "name": "stdout",
     "output_type": "stream",
     "text": [
      "<class 'pandas.core.frame.DataFrame'>\n",
      "RangeIndex: 2584 entries, 0 to 2583\n",
      "Data columns (total 12 columns):\n",
      " #   Column      Non-Null Count  Dtype  \n",
      "---  ------      --------------  -----  \n",
      " 0   Area        2584 non-null   object \n",
      " 1   Land class  2584 non-null   object \n",
      " 2   Soil type   2584 non-null   object \n",
      " 3   pH          2584 non-null   float64\n",
      " 4   SOC         2584 non-null   float64\n",
      " 5   Nitrogen    2584 non-null   float64\n",
      " 6   Potassium   2584 non-null   float64\n",
      " 7   Phosphorus  2584 non-null   float64\n",
      " 8   Sulfur      2584 non-null   float64\n",
      " 9   Sand        2584 non-null   float64\n",
      " 10  Silt        2584 non-null   float64\n",
      " 11  Clay        2584 non-null   float64\n",
      "dtypes: float64(9), object(3)\n",
      "memory usage: 242.4+ KB\n"
     ]
    }
   ],
   "source": [
    "data.drop(columns=['longitude', 'latitude', 'Soil group', 'Boron', 'Zinc'], inplace=True)\n",
    "data.info()"
   ]
  },
  {
   "cell_type": "code",
   "execution_count": 47,
   "id": "d5266c0e-39bf-49a2-b8c6-62a73d5780b2",
   "metadata": {},
   "outputs": [],
   "source": [
    "# Define columns\n",
    "numerical_cols = ['pH', 'Nitrogen', 'Potassium', 'Phosphorus',\n",
    "                  'Sulfur', 'Sand', 'Silt', 'Clay']\n",
    "\n",
    "categorical_cols = ['Area', 'Land class', 'Soil type']\n",
    "\n",
    "target_col = 'SOC'"
   ]
  },
  {
   "cell_type": "code",
   "execution_count": 48,
   "id": "1f0632a5-1daf-41d8-8a33-10cf97344e81",
   "metadata": {},
   "outputs": [],
   "source": [
    "models = {\n",
    "    'RandomForest': RandomForestRegressor(random_state=0),\n",
    "    'XGB': XGBRegressor(random_state=0)\n",
    "}"
   ]
  },
  {
   "cell_type": "code",
   "execution_count": 49,
   "id": "04272390-d8e1-4925-9239-adf799760ea9",
   "metadata": {},
   "outputs": [
    {
     "name": "stderr",
     "output_type": "stream",
     "text": [
      "2024/12/25 11:20:34 INFO mlflow.utils.autologging_utils: Created MLflow autologging run with ID '53910fd4a1564bb189526704c5b2e728', which will track hyperparameters, performance metrics, model artifacts, and lineage information for the current sklearn workflow\n"
     ]
    },
    {
     "name": "stdout",
     "output_type": "stream",
     "text": [
      "🏃 View run sedate-kite-138 at: https://dagshub.com/Omdena/IPage.mlflow/#/experiments/1/runs/53910fd4a1564bb189526704c5b2e728\n",
      "🧪 View experiment at: https://dagshub.com/Omdena/IPage.mlflow/#/experiments/1\n",
      "R² for RandomForest: 0.7986670251808461\n",
      "------------------------------\n"
     ]
    },
    {
     "name": "stderr",
     "output_type": "stream",
     "text": [
      "2024/12/25 11:20:43 INFO mlflow.utils.autologging_utils: Created MLflow autologging run with ID 'bf9c58f6233c4f908965e6e035d7d7b2', which will track hyperparameters, performance metrics, model artifacts, and lineage information for the current sklearn workflow\n"
     ]
    },
    {
     "name": "stdout",
     "output_type": "stream",
     "text": [
      "🏃 View run masked-snipe-932 at: https://dagshub.com/Omdena/IPage.mlflow/#/experiments/1/runs/bf9c58f6233c4f908965e6e035d7d7b2\n",
      "🧪 View experiment at: https://dagshub.com/Omdena/IPage.mlflow/#/experiments/1\n",
      "R² for XGB: 0.7707157252058728\n",
      "------------------------------\n"
     ]
    }
   ],
   "source": [
    "\n",
    "\n",
    "# Split data into features (X) and targets (y)\n",
    "X = data.drop(columns=target_col)\n",
    "y = data[target_col]\n",
    "\n",
    "# Perform train-test split\n",
    "X_train, X_test, y_train, y_test = train_test_split(X, y, test_size=0.2, random_state=0)\n",
    "\n",
    "# Preprocessing steps\n",
    "preprocessor = ColumnTransformer(\n",
    "    transformers=[\n",
    "        # One-hot encode categorical features\n",
    "        ('onehot', OneHotEncoder(handle_unknown='ignore', sparse_output=False), categorical_cols),\n",
    "        # Scale numerical features\n",
    "        ('scaler', MinMaxScaler(), numerical_cols)\n",
    "    ],\n",
    "    remainder='drop'  # Drop all other columns not specified (e.g., raw categorical columns)\n",
    ")\n",
    "\n",
    "# Train and test multiple models\n",
    "for model_name, model in models.items():\n",
    "\n",
    "    # Create pipeline\n",
    "    pipeline = Pipeline([\n",
    "        ('preprocessing', preprocessor),\n",
    "        ('model', model)\n",
    "    ])\n",
    "        \n",
    "    # Train the pipeline\n",
    "    pipeline.fit(X_train, y_train)\n",
    "        \n",
    "    # Predict on the test set\n",
    "    y_pred = pipeline.predict(X_test)\n",
    "\n",
    "    # Evaluate and display results\n",
    "    r2 = r2_score(y_test, y_pred)\n",
    "    print(f\"R² for {model_name}: {r2}\")\n",
    "    print(\"-\" * 30)\n",
    "\n",
    "        \n"
   ]
  },
  {
   "cell_type": "code",
   "execution_count": 52,
   "id": "db0be8ce-c6e2-4dab-9046-3d12cca5fbff",
   "metadata": {},
   "outputs": [
    {
     "data": {
      "text/html": [
       "<pre style=\"white-space:pre;overflow-x:auto;line-height:normal;font-family:Menlo,'DejaVu Sans Mono',consolas,'Courier New',monospace\">Uploading to a new branch main, splitting it off from the default branch main\n",
       "</pre>\n"
      ],
      "text/plain": [
       "Uploading to a new branch main, splitting it off from the default branch main\n"
      ]
     },
     "metadata": {},
     "output_type": "display_data"
    },
    {
     "data": {
      "text/html": [
       "<pre style=\"white-space:pre;overflow-x:auto;line-height:normal;font-family:Menlo,'DejaVu Sans Mono',consolas,'Courier New',monospace\">Uploading files <span style=\"font-weight: bold\">(</span><span style=\"color: #008080; text-decoration-color: #008080; font-weight: bold\">1</span><span style=\"font-weight: bold\">)</span> to <span style=\"color: #008000; text-decoration-color: #008000\">\"Omdena/IPage\"</span><span style=\"color: #808000; text-decoration-color: #808000\">...</span>\n",
       "</pre>\n"
      ],
      "text/plain": [
       "Uploading files \u001b[1m(\u001b[0m\u001b[1;36m1\u001b[0m\u001b[1m)\u001b[0m to \u001b[32m\"Omdena/IPage\"\u001b[0m\u001b[33m...\u001b[0m\n"
      ]
     },
     "metadata": {},
     "output_type": "display_data"
    },
    {
     "data": {
      "text/html": [
       "<pre style=\"white-space:pre;overflow-x:auto;line-height:normal;font-family:Menlo,'DejaVu Sans Mono',consolas,'Courier New',monospace\">Upload finished successfully!\n",
       "</pre>\n"
      ],
      "text/plain": [
       "Upload finished successfully!\n"
      ]
     },
     "metadata": {},
     "output_type": "display_data"
    }
   ],
   "source": [
    "# Upload using the DagsHub client, to a DVC tracked folder also called \"data\".\n",
    "# Follow the instructions that appear to authorize the request.\n",
    "from dagshub import upload_files\n",
    "upload_files('Omdena/IPage', 'merged_v3.csv')"
   ]
  },
  {
   "cell_type": "code",
   "execution_count": null,
   "id": "dfe893fa-78e4-4a80-8288-14ba7623f354",
   "metadata": {},
   "outputs": [],
   "source": []
  }
 ],
 "metadata": {
  "kernelspec": {
   "display_name": "Python 3 (ipykernel)",
   "language": "python",
   "name": "python3"
  },
  "language_info": {
   "codemirror_mode": {
    "name": "ipython",
    "version": 3
   },
   "file_extension": ".py",
   "mimetype": "text/x-python",
   "name": "python",
   "nbconvert_exporter": "python",
   "pygments_lexer": "ipython3",
   "version": "3.11.7"
  }
 },
 "nbformat": 4,
 "nbformat_minor": 5
}

{
 "cells": [
  {
   "cell_type": "code",
   "execution_count": 89,
   "id": "c4c9c96e-6846-435b-83a8-751d72423a5a",
   "metadata": {},
   "outputs": [
    {
     "data": {
      "text/html": [
       "<pre style=\"white-space:pre;overflow-x:auto;line-height:normal;font-family:Menlo,'DejaVu Sans Mono',consolas,'Courier New',monospace\">Initialized MLflow to track repo <span style=\"color: #008000; text-decoration-color: #008000\">\"Omdena/IPage\"</span>\n",
       "</pre>\n"
      ],
      "text/plain": [
       "Initialized MLflow to track repo \u001b[32m\"Omdena/IPage\"\u001b[0m\n"
      ]
     },
     "metadata": {},
     "output_type": "display_data"
    },
    {
     "data": {
      "text/html": [
       "<pre style=\"white-space:pre;overflow-x:auto;line-height:normal;font-family:Menlo,'DejaVu Sans Mono',consolas,'Courier New',monospace\">Repository Omdena/IPage initialized!\n",
       "</pre>\n"
      ],
      "text/plain": [
       "Repository Omdena/IPage initialized!\n"
      ]
     },
     "metadata": {},
     "output_type": "display_data"
    }
   ],
   "source": [
    "import matplotlib.pyplot as plt\n",
    "import seaborn as sns\n",
    "import numpy as np\n",
    "import pandas as pd\n",
    "from sklearn.model_selection import train_test_split, KFold, cross_val_score\n",
    "from sklearn.preprocessing import OneHotEncoder, MinMaxScaler\n",
    "from sklearn.compose import ColumnTransformer\n",
    "from sklearn.pipeline import Pipeline\n",
    "from sklearn.linear_model import LinearRegression\n",
    "from sklearn.ensemble import RandomForestRegressor\n",
    "from xgboost import XGBRegressor\n",
    "from sklearn.metrics import mean_squared_error, mean_absolute_error, r2_score, make_scorer\n",
    "from sklearn.inspection import permutation_importance\n",
    "from sklearn.model_selection import RandomizedSearchCV\n",
    "from sklearn.model_selection import GridSearchCV\n",
    "\n",
    "import dagshub\n",
    "dagshub.init(repo_owner='Omdena', repo_name='IPage', mlflow=True)\n",
    "\n",
    "import mlflow"
   ]
  },
  {
   "cell_type": "code",
   "execution_count": 90,
   "id": "175fa03a-3051-4745-bdf0-16b41f851e28",
   "metadata": {},
   "outputs": [
    {
     "name": "stderr",
     "output_type": "stream",
     "text": [
      "2024/12/27 15:31:15 INFO mlflow.tracking.fluent: Autologging successfully enabled for sklearn.\n",
      "2024/12/27 15:31:15 INFO mlflow.tracking.fluent: Autologging successfully enabled for statsmodels.\n",
      "2024/12/27 15:31:15 INFO mlflow.tracking.fluent: Autologging successfully enabled for xgboost.\n"
     ]
    }
   ],
   "source": [
    "# Initialize MLflow\n",
    "mlflow.set_experiment('Taylor_v3_SOC_Baseline_20241225')\n",
    "mlflow.autolog()"
   ]
  },
  {
   "cell_type": "code",
   "execution_count": 45,
   "id": "4284890c-e174-4560-a847-28da58569029",
   "metadata": {},
   "outputs": [
    {
     "name": "stdout",
     "output_type": "stream",
     "text": [
      "<class 'pandas.core.frame.DataFrame'>\n",
      "RangeIndex: 2584 entries, 0 to 2583\n",
      "Data columns (total 17 columns):\n",
      " #   Column      Non-Null Count  Dtype  \n",
      "---  ------      --------------  -----  \n",
      " 0   longitude   2584 non-null   float64\n",
      " 1   latitude    2584 non-null   float64\n",
      " 2   Area        2584 non-null   object \n",
      " 3   Soil group  2584 non-null   object \n",
      " 4   Land class  2584 non-null   object \n",
      " 5   Soil type   2584 non-null   object \n",
      " 6   pH          2584 non-null   float64\n",
      " 7   SOC         2584 non-null   float64\n",
      " 8   Nitrogen    2584 non-null   float64\n",
      " 9   Potassium   2584 non-null   float64\n",
      " 10  Phosphorus  2584 non-null   float64\n",
      " 11  Sulfur      2584 non-null   float64\n",
      " 12  Boron       2584 non-null   float64\n",
      " 13  Zinc        2584 non-null   float64\n",
      " 14  Sand        2584 non-null   float64\n",
      " 15  Silt        2584 non-null   float64\n",
      " 16  Clay        2584 non-null   float64\n",
      "dtypes: float64(13), object(4)\n",
      "memory usage: 343.3+ KB\n"
     ]
    },
    {
     "data": {
      "text/plain": [
       "array(['Mithpukur', 'Pirgacha ', 'Gangachara', 'Kaunia upazila',\n",
       "       'Taraganj Thana', 'Bauchi', 'Taraba', 'Plateau', 'Kaduna',\n",
       "       'Nasarawa', 'Niger', 'Kebbi', 'Kano', 'Kwara', 'Katsina',\n",
       "       'Adamawa'], dtype=object)"
      ]
     },
     "execution_count": 45,
     "metadata": {},
     "output_type": "execute_result"
    }
   ],
   "source": [
    "data = pd.read_csv('merged_v3.csv')\n",
    "\n",
    "data.info()\n",
    "data['Area'].unique()"
   ]
  },
  {
   "cell_type": "code",
   "execution_count": 46,
   "id": "411d7ef3-bb91-4caa-8d6b-17bb679434fc",
   "metadata": {},
   "outputs": [
    {
     "name": "stdout",
     "output_type": "stream",
     "text": [
      "<class 'pandas.core.frame.DataFrame'>\n",
      "RangeIndex: 2584 entries, 0 to 2583\n",
      "Data columns (total 12 columns):\n",
      " #   Column      Non-Null Count  Dtype  \n",
      "---  ------      --------------  -----  \n",
      " 0   Area        2584 non-null   object \n",
      " 1   Land class  2584 non-null   object \n",
      " 2   Soil type   2584 non-null   object \n",
      " 3   pH          2584 non-null   float64\n",
      " 4   SOC         2584 non-null   float64\n",
      " 5   Nitrogen    2584 non-null   float64\n",
      " 6   Potassium   2584 non-null   float64\n",
      " 7   Phosphorus  2584 non-null   float64\n",
      " 8   Sulfur      2584 non-null   float64\n",
      " 9   Sand        2584 non-null   float64\n",
      " 10  Silt        2584 non-null   float64\n",
      " 11  Clay        2584 non-null   float64\n",
      "dtypes: float64(9), object(3)\n",
      "memory usage: 242.4+ KB\n"
     ]
    }
   ],
   "source": [
    "data.drop(columns=['longitude', 'latitude', 'Soil group', 'Boron', 'Zinc'], inplace=True)\n",
    "data.info()"
   ]
  },
  {
   "cell_type": "code",
   "execution_count": 47,
   "id": "d5266c0e-39bf-49a2-b8c6-62a73d5780b2",
   "metadata": {},
   "outputs": [],
   "source": [
    "# Define columns\n",
    "numerical_cols = ['pH', 'Nitrogen', 'Potassium', 'Phosphorus',\n",
    "                  'Sulfur', 'Sand', 'Silt', 'Clay']\n",
    "\n",
    "categorical_cols = ['Area', 'Land class', 'Soil type']\n",
    "\n",
    "target_col = 'SOC'"
   ]
  },
  {
   "cell_type": "code",
   "execution_count": 48,
   "id": "1f0632a5-1daf-41d8-8a33-10cf97344e81",
   "metadata": {},
   "outputs": [],
   "source": [
    "models = {\n",
    "    'RandomForest': RandomForestRegressor(random_state=0),\n",
    "    'XGB': XGBRegressor(random_state=0)\n",
    "}"
   ]
  },
  {
   "cell_type": "code",
   "execution_count": 49,
   "id": "04272390-d8e1-4925-9239-adf799760ea9",
   "metadata": {},
   "outputs": [
    {
     "name": "stderr",
     "output_type": "stream",
     "text": [
      "2024/12/25 11:20:34 INFO mlflow.utils.autologging_utils: Created MLflow autologging run with ID '53910fd4a1564bb189526704c5b2e728', which will track hyperparameters, performance metrics, model artifacts, and lineage information for the current sklearn workflow\n"
     ]
    },
    {
     "name": "stdout",
     "output_type": "stream",
     "text": [
      "🏃 View run sedate-kite-138 at: https://dagshub.com/Omdena/IPage.mlflow/#/experiments/1/runs/53910fd4a1564bb189526704c5b2e728\n",
      "🧪 View experiment at: https://dagshub.com/Omdena/IPage.mlflow/#/experiments/1\n",
      "R² for RandomForest: 0.7986670251808461\n",
      "------------------------------\n"
     ]
    },
    {
     "name": "stderr",
     "output_type": "stream",
     "text": [
      "2024/12/25 11:20:43 INFO mlflow.utils.autologging_utils: Created MLflow autologging run with ID 'bf9c58f6233c4f908965e6e035d7d7b2', which will track hyperparameters, performance metrics, model artifacts, and lineage information for the current sklearn workflow\n"
     ]
    },
    {
     "name": "stdout",
     "output_type": "stream",
     "text": [
      "🏃 View run masked-snipe-932 at: https://dagshub.com/Omdena/IPage.mlflow/#/experiments/1/runs/bf9c58f6233c4f908965e6e035d7d7b2\n",
      "🧪 View experiment at: https://dagshub.com/Omdena/IPage.mlflow/#/experiments/1\n",
      "R² for XGB: 0.7707157252058728\n",
      "------------------------------\n"
     ]
    }
   ],
   "source": [
    "\n",
    "\n",
    "# Split data into features (X) and targets (y)\n",
    "X = data.drop(columns=target_col)\n",
    "y = data[target_col]\n",
    "\n",
    "# Perform train-test split\n",
    "X_train, X_test, y_train, y_test = train_test_split(X, y, test_size=0.2, random_state=0)\n",
    "\n",
    "# Preprocessing steps\n",
    "preprocessor = ColumnTransformer(\n",
    "    transformers=[\n",
    "        # One-hot encode categorical features\n",
    "        ('onehot', OneHotEncoder(handle_unknown='ignore', sparse_output=False), categorical_cols),\n",
    "        # Scale numerical features\n",
    "        ('scaler', MinMaxScaler(), numerical_cols)\n",
    "    ],\n",
    "    remainder='drop'  # Drop all other columns not specified (e.g., raw categorical columns)\n",
    ")\n",
    "\n",
    "# Train and test multiple models\n",
    "for model_name, model in models.items():\n",
    "\n",
    "    # Create pipeline\n",
    "    pipeline = Pipeline([\n",
    "        ('preprocessing', preprocessor),\n",
    "        ('model', model)\n",
    "    ])\n",
    "        \n",
    "    # Train the pipeline\n",
    "    pipeline.fit(X_train, y_train)\n",
    "        \n",
    "    # Predict on the test set\n",
    "    y_pred = pipeline.predict(X_test)\n",
    "\n",
    "    # Evaluate and display results\n",
    "    r2 = r2_score(y_test, y_pred)\n",
    "    print(f\"R² for {model_name}: {r2}\")\n",
    "    print(\"-\" * 30)\n",
    "\n",
    "        \n"
   ]
  },
  {
   "cell_type": "code",
   "execution_count": 52,
   "id": "db0be8ce-c6e2-4dab-9046-3d12cca5fbff",
   "metadata": {},
   "outputs": [
    {
     "data": {
      "text/html": [
       "<pre style=\"white-space:pre;overflow-x:auto;line-height:normal;font-family:Menlo,'DejaVu Sans Mono',consolas,'Courier New',monospace\">Uploading to a new branch main, splitting it off from the default branch main\n",
       "</pre>\n"
      ],
      "text/plain": [
       "Uploading to a new branch main, splitting it off from the default branch main\n"
      ]
     },
     "metadata": {},
     "output_type": "display_data"
    },
    {
     "data": {
      "text/html": [
       "<pre style=\"white-space:pre;overflow-x:auto;line-height:normal;font-family:Menlo,'DejaVu Sans Mono',consolas,'Courier New',monospace\">Uploading files <span style=\"font-weight: bold\">(</span><span style=\"color: #008080; text-decoration-color: #008080; font-weight: bold\">1</span><span style=\"font-weight: bold\">)</span> to <span style=\"color: #008000; text-decoration-color: #008000\">\"Omdena/IPage\"</span><span style=\"color: #808000; text-decoration-color: #808000\">...</span>\n",
       "</pre>\n"
      ],
      "text/plain": [
       "Uploading files \u001b[1m(\u001b[0m\u001b[1;36m1\u001b[0m\u001b[1m)\u001b[0m to \u001b[32m\"Omdena/IPage\"\u001b[0m\u001b[33m...\u001b[0m\n"
      ]
     },
     "metadata": {},
     "output_type": "display_data"
    },
    {
     "data": {
      "text/html": [
       "<pre style=\"white-space:pre;overflow-x:auto;line-height:normal;font-family:Menlo,'DejaVu Sans Mono',consolas,'Courier New',monospace\">Upload finished successfully!\n",
       "</pre>\n"
      ],
      "text/plain": [
       "Upload finished successfully!\n"
      ]
     },
     "metadata": {},
     "output_type": "display_data"
    }
   ],
   "source": [
    "# Upload using the DagsHub client, to a DVC tracked folder also called \"data\".\n",
    "# Follow the instructions that appear to authorize the request.\n",
    "from dagshub import upload_files\n",
    "upload_files('Omdena/IPage', 'merged_v3.csv')"
   ]
  },
  {
   "cell_type": "code",
   "execution_count": 62,
   "id": "40c2cb47-df09-4b23-ae80-e154fadb5469",
   "metadata": {},
   "outputs": [],
   "source": [
    "data = pd.read_csv('merged_v3.csv')\n",
    "data.drop(columns=['longitude', 'latitude', 'Soil group', 'Boron', 'Zinc'], inplace=True)\n",
    "\n",
    "# Define columns\n",
    "numerical_cols = ['pH', 'Nitrogen', 'Potassium', 'Phosphorus',\n",
    "                  'Sulfur', 'Sand', 'Silt', 'Clay']\n",
    "\n",
    "one_hot_cols = ['Land class', 'Soil type']\n",
    "\n",
    "target_mean_col = 'Area'\n",
    "\n",
    "target_col = 'SOC'"
   ]
  },
  {
   "cell_type": "code",
   "execution_count": 63,
   "id": "2f299251-d806-468b-8bfe-c069faf29a10",
   "metadata": {},
   "outputs": [],
   "source": [
    "models = {\n",
    "    'RandomForest': RandomForestRegressor(random_state=0),\n",
    "    'XGB': XGBRegressor(random_state=0)\n",
    "}"
   ]
  },
  {
   "cell_type": "code",
   "execution_count": 64,
   "id": "e3a1fbd0-22e4-4ab1-9980-db73752fb3b1",
   "metadata": {},
   "outputs": [],
   "source": [
    "from sklearn.base import BaseEstimator, TransformerMixin\n",
    "\n",
    "class TargetMeanEncoder(BaseEstimator, TransformerMixin):\n",
    "    def __init__(self):\n",
    "        self.target_means_ = {}\n",
    "    \n",
    "    def fit(self, X, y):\n",
    "        if isinstance(X, pd.Series):\n",
    "            X = X.to_frame()\n",
    "        elif isinstance(X, np.ndarray):\n",
    "            X = pd.DataFrame(X)\n",
    "        \n",
    "        self.target_means_ = {\n",
    "            col: X[col].map(y.groupby(X[col]).mean())\n",
    "            for col in X.columns\n",
    "        }\n",
    "        return self\n",
    "    \n",
    "    def transform(self, X):\n",
    "        if isinstance(X, pd.Series):\n",
    "            X = X.to_frame()\n",
    "        elif isinstance(X, np.ndarray):\n",
    "            X = pd.DataFrame(X)\n",
    "        \n",
    "        X_encoded = X.copy()\n",
    "        for col in X_encoded.columns:\n",
    "            X_encoded[col] = X_encoded[col].map(self.target_means_[col])\n",
    "        return X_encoded.fillna(0)  # Handle unseen categories with 0"
   ]
  },
  {
   "cell_type": "code",
   "execution_count": 65,
   "id": "4a85dcc5-7151-4ebe-8e3e-0da9ff208404",
   "metadata": {},
   "outputs": [
    {
     "name": "stdout",
     "output_type": "stream",
     "text": [
      "Cross-validated R² scores: [0.78668703 0.83122737 0.82826091 0.74987786 0.78477628]\n",
      "Mean R²: 0.7961658906150132\n"
     ]
    },
    {
     "name": "stderr",
     "output_type": "stream",
     "text": [
      "2024/12/27 13:00:50 INFO mlflow.utils.autologging_utils: Created MLflow autologging run with ID '4c85aad1c3184a7eb63f866bbdd6e031', which will track hyperparameters, performance metrics, model artifacts, and lineage information for the current sklearn workflow\n"
     ]
    },
    {
     "name": "stdout",
     "output_type": "stream",
     "text": [
      "🏃 View run shivering-hawk-593 at: https://dagshub.com/Omdena/IPage.mlflow/#/experiments/1/runs/4c85aad1c3184a7eb63f866bbdd6e031\n",
      "🧪 View experiment at: https://dagshub.com/Omdena/IPage.mlflow/#/experiments/1\n",
      "Test R²: 0.7943046387408215\n",
      "Cross-validated R² scores: [0.79033322 0.79552752 0.80648591 0.75073391 0.7899255 ]\n",
      "Mean R²: 0.78660121040299\n"
     ]
    },
    {
     "name": "stderr",
     "output_type": "stream",
     "text": [
      "2024/12/27 13:01:00 INFO mlflow.utils.autologging_utils: Created MLflow autologging run with ID '2a9a6815999349858e3b1164ba7fd2ca', which will track hyperparameters, performance metrics, model artifacts, and lineage information for the current sklearn workflow\n"
     ]
    },
    {
     "name": "stdout",
     "output_type": "stream",
     "text": [
      "🏃 View run rogue-shad-504 at: https://dagshub.com/Omdena/IPage.mlflow/#/experiments/1/runs/2a9a6815999349858e3b1164ba7fd2ca\n",
      "🧪 View experiment at: https://dagshub.com/Omdena/IPage.mlflow/#/experiments/1\n",
      "Test R²: 0.7754541029219147\n"
     ]
    }
   ],
   "source": [
    "# Split data into features (X) and targets (y)\n",
    "X = data.drop(columns=target_col)\n",
    "y = data[target_col]\n",
    "\n",
    "# Split into train/test sets\n",
    "X_train, X_test, y_train, y_test = train_test_split(X, y, test_size=0.2, random_state=0)\n",
    "\n",
    "# Preprocessing steps\n",
    "preprocessor = ColumnTransformer(\n",
    "    transformers=[\n",
    "        # One-hot encode categorical features\n",
    "        ('onehot', OneHotEncoder(handle_unknown='ignore', sparse_output=False), one_hot_cols),\n",
    "        # Target mean encode high cardinality feature\n",
    "        ('target_mean_enc', TargetMeanEncoder(), target_mean_col),\n",
    "        # Scale numerical features\n",
    "        ('scaler', MinMaxScaler(), numerical_cols)\n",
    "    ],\n",
    "    remainder='drop'  # Drop all other columns not specified (e.g., raw categorical columns)\n",
    ")\n",
    "\n",
    "# Train and test multiple models\n",
    "for model_name, model in models.items():\n",
    "\n",
    "    # Create pipeline\n",
    "    pipeline = Pipeline([\n",
    "        ('preprocessing', preprocessor),\n",
    "        ('model', model)\n",
    "    ])\n",
    "        \n",
    "    # Cross-validation\n",
    "    scores = cross_val_score(pipeline, X_train, y_train, cv=5, scoring='r2')\n",
    "    print(f\"Cross-validated R² scores: {scores}\")\n",
    "    print(f\"Mean R²: {scores.mean()}\")\n",
    "    \n",
    "    # Fit and test the pipeline\n",
    "    pipeline.fit(X_train, y_train)\n",
    "    print(f\"Test R²: {pipeline.score(X_test, y_test)}\")\n",
    "\n"
   ]
  },
  {
   "cell_type": "code",
   "execution_count": 58,
   "id": "64760582-aa6a-409c-9721-a59630cddf42",
   "metadata": {},
   "outputs": [],
   "source": [
    "data = pd.read_csv('merged_v3.csv')\n",
    "\n",
    "data.drop(columns=['longitude', 'latitude', 'Soil group', 'Boron', 'Zinc'], inplace=True)\n",
    "\n",
    "# Add engineered features to the DataFrame\n",
    "data['Nitrogen / Sand'] = data['Nitrogen'] / data['Sand']\n",
    "data['Nitrogen / pH'] = data['Nitrogen'] / data['pH']\n",
    "data['Clay * Nitrogen'] = data['Clay'] * data['Nitrogen']\n",
    "data['Nitrogen * Silt'] = data['Nitrogen'] * data['Silt']\n",
    "data['Nitrogen * Sulfur'] = data['Nitrogen'] * data['Sulfur']\n",
    "data['Nitrogen * pH'] = data['Nitrogen'] * data['pH']\n",
    "data['NATURAL_LOGARITHM(Nitrogen)'] = np.log(data['Nitrogen'])\n",
    "data['NATURAL_LOGARITHM(Sand)'] = np.log(data['Sand'])\n",
    "data['SQUARE_ROOT(Nitrogen)'] = np.sqrt(data['Nitrogen'])\n",
    "\n",
    "# Define columns\n",
    "numerical_cols = ['pH', 'Nitrogen', 'Potassium', 'Phosphorus',\n",
    "                  'Sulfur', 'Sand', 'Silt', 'Clay', 'Nitrogen / Sand',\n",
    "                 'Nitrogen / pH', 'Clay * Nitrogen', 'Nitrogen * Silt',\n",
    "                 'Nitrogen * Sulfur', 'Nitrogen * pH', 'NATURAL_LOGARITHM(Nitrogen)',\n",
    "                 'NATURAL_LOGARITHM(Sand)', 'SQUARE_ROOT(Nitrogen)']\n",
    "\n",
    "one_hot_cols = ['Land class', 'Soil type']\n",
    "\n",
    "target_mean_col = 'Area'\n",
    "\n",
    "target_col = 'SOC'"
   ]
  },
  {
   "cell_type": "code",
   "execution_count": 59,
   "id": "3defff4d-e5b7-4bab-a949-8255d210a683",
   "metadata": {},
   "outputs": [
    {
     "name": "stdout",
     "output_type": "stream",
     "text": [
      "Cross-validated R² scores: [0.7934679  0.82033217 0.83392184 0.77212799 0.78421204]\n",
      "Mean R²: 0.8008123893847892\n"
     ]
    },
    {
     "name": "stderr",
     "output_type": "stream",
     "text": [
      "2024/12/27 12:50:45 INFO mlflow.utils.autologging_utils: Created MLflow autologging run with ID 'eb3bd0b7d99240c6989f29e3b9b9bcc2', which will track hyperparameters, performance metrics, model artifacts, and lineage information for the current sklearn workflow\n"
     ]
    },
    {
     "name": "stdout",
     "output_type": "stream",
     "text": [
      "🏃 View run inquisitive-vole-672 at: https://dagshub.com/Omdena/IPage.mlflow/#/experiments/1/runs/eb3bd0b7d99240c6989f29e3b9b9bcc2\n",
      "🧪 View experiment at: https://dagshub.com/Omdena/IPage.mlflow/#/experiments/1\n",
      "Test R²: 0.78801734036029\n",
      "Cross-validated R² scores: [0.80340794 0.80903379 0.78719128 0.74579877 0.77064191]\n",
      "Mean R²: 0.7832147383425022\n"
     ]
    },
    {
     "name": "stderr",
     "output_type": "stream",
     "text": [
      "2024/12/27 12:50:56 INFO mlflow.utils.autologging_utils: Created MLflow autologging run with ID '8a903742c3594887a71bbd8668199d26', which will track hyperparameters, performance metrics, model artifacts, and lineage information for the current sklearn workflow\n"
     ]
    },
    {
     "name": "stdout",
     "output_type": "stream",
     "text": [
      "🏃 View run glamorous-shark-86 at: https://dagshub.com/Omdena/IPage.mlflow/#/experiments/1/runs/8a903742c3594887a71bbd8668199d26\n",
      "🧪 View experiment at: https://dagshub.com/Omdena/IPage.mlflow/#/experiments/1\n",
      "Test R²: 0.7632420340507827\n"
     ]
    }
   ],
   "source": [
    "# Split data into features (X) and targets (y)\n",
    "X = data.drop(columns=target_col)\n",
    "y = data[target_col]\n",
    "\n",
    "# Split into train/test sets\n",
    "X_train, X_test, y_train, y_test = train_test_split(X, y, test_size=0.2, random_state=0)\n",
    "\n",
    "# Preprocessing steps\n",
    "preprocessor = ColumnTransformer(\n",
    "    transformers=[\n",
    "        # One-hot encode categorical features\n",
    "        ('onehot', OneHotEncoder(handle_unknown='ignore', sparse_output=False), one_hot_cols),\n",
    "        # Target mean encode high cardinality feature\n",
    "        ('target_mean_enc', TargetMeanEncoder(), target_mean_col),\n",
    "        # Scale numerical features\n",
    "        ('scaler', MinMaxScaler(), numerical_cols)\n",
    "    ],\n",
    "    remainder='drop'  # Drop all other columns not specified (e.g., raw categorical columns)\n",
    ")\n",
    "\n",
    "# Train and test multiple models\n",
    "for model_name, model in models.items():\n",
    "\n",
    "    # Create pipeline\n",
    "    pipeline = Pipeline([\n",
    "        ('preprocessing', preprocessor),\n",
    "        ('model', model)\n",
    "    ])\n",
    "        \n",
    "    # Cross-validation\n",
    "    scores = cross_val_score(pipeline, X_train, y_train, cv=5, scoring='r2')\n",
    "    print(f\"Cross-validated R² scores: {scores}\")\n",
    "    print(f\"Mean R²: {scores.mean()}\")\n",
    "    \n",
    "    # Fit and test the pipeline\n",
    "    pipeline.fit(X_train, y_train)\n",
    "    print(f\"Test R²: {pipeline.score(X_test, y_test)}\")\n",
    "\n"
   ]
  },
  {
   "cell_type": "code",
   "execution_count": 68,
   "id": "113444b3-60ac-492a-b586-07595fe44f7d",
   "metadata": {},
   "outputs": [],
   "source": [
    "data = pd.read_csv('merged_v3.csv')\n",
    "\n",
    "data.drop(columns=['longitude', 'latitude', 'Soil group', 'Boron', 'Zinc'], inplace=True)\n",
    "\n",
    "# Define columns\n",
    "numerical_cols = ['pH', 'Nitrogen', 'Potassium', 'Phosphorus',\n",
    "                  'Sulfur', 'Sand', 'Silt', 'Clay']\n",
    "\n",
    "one_hot_cols = ['Land class', 'Soil type']\n",
    "\n",
    "target_mean_col = 'Area'\n",
    "\n",
    "target_col = 'SOC'"
   ]
  },
  {
   "cell_type": "code",
   "execution_count": 74,
   "id": "640afcce-fd5c-403d-b5b6-05fa1a475271",
   "metadata": {},
   "outputs": [],
   "source": [
    "# Define hyperparameter distributions for both models\n",
    "param_dist_rf = {\n",
    "    'regressor__n_estimators': [100, 200, 300, 400],\n",
    "    'regressor__max_depth': [None, 10, 20, 30],\n",
    "    'regressor__min_samples_split': [2, 5, 10],\n",
    "    'regressor__min_samples_leaf': [1, 2, 4],\n",
    "    'regressor__max_features': [None, 'sqrt', 'log2'],\n",
    "    'regressor__bootstrap': [True, False]\n",
    "}\n",
    "\n",
    "param_dist_xgb = {\n",
    "    'regressor__n_estimators': [100, 200, 300, 400],\n",
    "    'regressor__learning_rate': [0.01, 0.05, 0.1, 0.2],\n",
    "    'regressor__max_depth': [3, 6, 9],\n",
    "    'regressor__min_child_weight': [1, 3, 5],\n",
    "    'regressor__subsample': [0.7, 0.8, 1.0],\n",
    "    'regressor__colsample_bytree': [0.7, 0.8, 1.0],\n",
    "    'regressor__gamma': [0, 0.1, 0.5],\n",
    "    'regressor__reg_alpha': [0, 1, 5],\n",
    "    'regressor__reg_lambda': [1, 5, 10]\n",
    "}\n",
    "\n",
    "# Set up the models\n",
    "models = {\n",
    "    'RandomForest': (RandomForestRegressor(random_state=0), param_dist_rf),\n",
    "    'XGB': (XGBRegressor(random_state=0), param_dist_xgb)\n",
    "}"
   ]
  },
  {
   "cell_type": "code",
   "execution_count": 75,
   "id": "a0b3809a-4d37-4c3e-86f1-86deb15522c4",
   "metadata": {},
   "outputs": [
    {
     "name": "stderr",
     "output_type": "stream",
     "text": [
      "2024/12/27 13:18:13 INFO mlflow.utils.autologging_utils: Created MLflow autologging run with ID 'd81969aa63e046f6a350a582e6cb4cb0', which will track hyperparameters, performance metrics, model artifacts, and lineage information for the current sklearn workflow\n",
      "2024/12/27 13:19:01 INFO mlflow.sklearn.utils: Logging the 5 best runs, 45 runs will be omitted.\n"
     ]
    },
    {
     "name": "stdout",
     "output_type": "stream",
     "text": [
      "🏃 View run fortunate-ram-184 at: https://dagshub.com/Omdena/IPage.mlflow/#/experiments/1/runs/1f4788479c6f4576940f32fdf6999dc4\n",
      "🧪 View experiment at: https://dagshub.com/Omdena/IPage.mlflow/#/experiments/1\n",
      "🏃 View run sneaky-asp-645 at: https://dagshub.com/Omdena/IPage.mlflow/#/experiments/1/runs/f5f8296d84c64c9689c6d2ee639226b7\n",
      "🧪 View experiment at: https://dagshub.com/Omdena/IPage.mlflow/#/experiments/1\n",
      "🏃 View run charming-koi-508 at: https://dagshub.com/Omdena/IPage.mlflow/#/experiments/1/runs/249b14842a404473896066822993f4f4\n",
      "🧪 View experiment at: https://dagshub.com/Omdena/IPage.mlflow/#/experiments/1\n",
      "🏃 View run worried-auk-291 at: https://dagshub.com/Omdena/IPage.mlflow/#/experiments/1/runs/f6e9f32ad6db4f148764934dfab6a74e\n",
      "🧪 View experiment at: https://dagshub.com/Omdena/IPage.mlflow/#/experiments/1\n",
      "🏃 View run intrigued-snake-63 at: https://dagshub.com/Omdena/IPage.mlflow/#/experiments/1/runs/e157837a553d48d4858bb865c07f5f8f\n",
      "🧪 View experiment at: https://dagshub.com/Omdena/IPage.mlflow/#/experiments/1\n",
      "🏃 View run powerful-rat-401 at: https://dagshub.com/Omdena/IPage.mlflow/#/experiments/1/runs/d81969aa63e046f6a350a582e6cb4cb0\n",
      "🧪 View experiment at: https://dagshub.com/Omdena/IPage.mlflow/#/experiments/1\n",
      "Best parameters for RandomForest: {'regressor__n_estimators': 300, 'regressor__min_samples_split': 2, 'regressor__min_samples_leaf': 4, 'regressor__max_features': None, 'regressor__max_depth': 30, 'regressor__bootstrap': True}\n",
      "Best score for RandomForest: 0.8104099657866021\n"
     ]
    },
    {
     "name": "stderr",
     "output_type": "stream",
     "text": [
      "2024/12/27 13:19:19 INFO mlflow.utils.autologging_utils: Created MLflow autologging run with ID '5a4ecdf5f2ee48d08cab0073b48d6786', which will track hyperparameters, performance metrics, model artifacts, and lineage information for the current sklearn workflow\n",
      "2024/12/27 13:19:35 INFO mlflow.sklearn.utils: Logging the 5 best runs, 45 runs will be omitted.\n"
     ]
    },
    {
     "name": "stdout",
     "output_type": "stream",
     "text": [
      "🏃 View run tasteful-mouse-495 at: https://dagshub.com/Omdena/IPage.mlflow/#/experiments/1/runs/05f776070eee4c17a46e811857b1cacc\n",
      "🧪 View experiment at: https://dagshub.com/Omdena/IPage.mlflow/#/experiments/1\n",
      "🏃 View run popular-lark-931 at: https://dagshub.com/Omdena/IPage.mlflow/#/experiments/1/runs/39a7222df7d74691b824b54868b657ab\n",
      "🧪 View experiment at: https://dagshub.com/Omdena/IPage.mlflow/#/experiments/1\n",
      "🏃 View run auspicious-hound-546 at: https://dagshub.com/Omdena/IPage.mlflow/#/experiments/1/runs/f8044f3ad347463db31cf15e4ccc6033\n",
      "🧪 View experiment at: https://dagshub.com/Omdena/IPage.mlflow/#/experiments/1\n",
      "🏃 View run sedate-koi-144 at: https://dagshub.com/Omdena/IPage.mlflow/#/experiments/1/runs/76eb8927bd5e4fe58bbf817539d97693\n",
      "🧪 View experiment at: https://dagshub.com/Omdena/IPage.mlflow/#/experiments/1\n",
      "🏃 View run amazing-fawn-352 at: https://dagshub.com/Omdena/IPage.mlflow/#/experiments/1/runs/688bea12cf8149e29be46bcbcf3392fa\n",
      "🧪 View experiment at: https://dagshub.com/Omdena/IPage.mlflow/#/experiments/1\n",
      "🏃 View run learned-cow-63 at: https://dagshub.com/Omdena/IPage.mlflow/#/experiments/1/runs/5a4ecdf5f2ee48d08cab0073b48d6786\n",
      "🧪 View experiment at: https://dagshub.com/Omdena/IPage.mlflow/#/experiments/1\n",
      "Best parameters for XGB: {'regressor__subsample': 0.8, 'regressor__reg_lambda': 10, 'regressor__reg_alpha': 1, 'regressor__n_estimators': 200, 'regressor__min_child_weight': 3, 'regressor__max_depth': 6, 'regressor__learning_rate': 0.1, 'regressor__gamma': 0.5, 'regressor__colsample_bytree': 1.0}\n",
      "Best score for XGB: 0.8133173858753233\n"
     ]
    }
   ],
   "source": [
    "# Split data into features (X) and targets (y)\n",
    "X = data.drop(columns=target_col)\n",
    "y = data[target_col]\n",
    "\n",
    "# Split into train/test sets\n",
    "X_train, X_test, y_train, y_test = train_test_split(X, y, test_size=0.2, random_state=0)\n",
    "\n",
    "# Preprocessing steps\n",
    "preprocessor = ColumnTransformer(\n",
    "    transformers=[\n",
    "        # One-hot encode categorical features\n",
    "        ('onehot', OneHotEncoder(handle_unknown='ignore', sparse_output=False), one_hot_cols),\n",
    "        # Target mean encode high cardinality feature\n",
    "        ('target_mean_enc', TargetMeanEncoder(), target_mean_col),\n",
    "        # Scale numerical features\n",
    "        ('scaler', MinMaxScaler(), numerical_cols)\n",
    "    ],\n",
    "    remainder='drop'  # Drop all other columns not specified (e.g., raw categorical columns)\n",
    ")\n",
    "\n",
    "# Perform RandomizedSearchCV\n",
    "best_params = {}\n",
    "results = {}\n",
    "# Perform RandomizedSearchCV\n",
    "for name, (regressor, param_dist) in models.items():\n",
    "    pipeline = Pipeline(steps=[\n",
    "        ('preprocessor', preprocessor),  # Preprocessing step\n",
    "        ('regressor', regressor)        # Regressor\n",
    "    ])\n",
    "    \n",
    "    random_search = RandomizedSearchCV(\n",
    "        estimator=pipeline,\n",
    "        param_distributions=param_dist,\n",
    "        n_iter=50,\n",
    "        scoring=make_scorer(r2_score),\n",
    "        cv=5,\n",
    "        n_jobs=-1,\n",
    "        random_state=0\n",
    "    )\n",
    "    \n",
    "    random_search.fit(X_train, y_train)\n",
    "    best_params[name] = random_search.best_params_\n",
    "    results[name] = random_search.cv_results_\n",
    "    \n",
    "    print(f\"Best parameters for {name}: {random_search.best_params_}\")\n",
    "    print(f\"Best score for {name}: {random_search.best_score_}\")"
   ]
  },
  {
   "cell_type": "code",
   "execution_count": 85,
   "id": "bae2691c-0791-4065-b5f6-d608560eb2ae",
   "metadata": {},
   "outputs": [],
   "source": [
    "df = pd.read_csv('merged_v3.csv')\n",
    "\n",
    "data = df[\n",
    "    (df['Boron'] < 0.58) &\n",
    "    (df['Zinc'] < 2.8) &\n",
    "    (df['SOC'] < 3.0) &\n",
    "    (df['Sulfur'] < 30.0) &\n",
    "    (df['Nitrogen'] < 0.2) &\n",
    "    (df['Potassium'] < 0.8) &\n",
    "    (df['Phosphorus'] < 40.0)\n",
    "].copy()\n",
    "\n",
    "data.drop(columns=['longitude', 'latitude', 'Soil group', 'Boron', 'Zinc'], inplace=True)\n",
    "\n",
    "# Define columns\n",
    "numerical_cols = ['pH', 'Nitrogen', 'Potassium', 'Phosphorus',\n",
    "                  'Sulfur', 'Sand', 'Silt', 'Clay']\n",
    "\n",
    "one_hot_cols = ['Land class', 'Soil type']\n",
    "\n",
    "target_mean_col = 'Area'\n",
    "\n",
    "target_col = 'SOC'"
   ]
  },
  {
   "cell_type": "code",
   "execution_count": 86,
   "id": "f10737a7-8911-4eae-97e6-6700788e78c6",
   "metadata": {},
   "outputs": [],
   "source": [
    "# Define hyperparameter distributions for both models\n",
    "param_dist_rf = {\n",
    "    'regressor__n_estimators': [100, 200, 300, 400],\n",
    "    'regressor__max_depth': [None, 10, 20, 30],\n",
    "    'regressor__min_samples_split': [2, 5, 10],\n",
    "    'regressor__min_samples_leaf': [1, 2, 4],\n",
    "    'regressor__max_features': [None, 'sqrt', 'log2'],\n",
    "    'regressor__bootstrap': [True, False]\n",
    "}\n",
    "\n",
    "param_dist_xgb = {\n",
    "    'regressor__n_estimators': [100, 200, 300, 400],\n",
    "    'regressor__learning_rate': [0.01, 0.05, 0.1, 0.2],\n",
    "    'regressor__max_depth': [3, 6, 9],\n",
    "    'regressor__min_child_weight': [1, 3, 5],\n",
    "    'regressor__subsample': [0.7, 0.8, 1.0],\n",
    "    'regressor__colsample_bytree': [0.7, 0.8, 1.0],\n",
    "    'regressor__gamma': [0, 0.1, 0.5],\n",
    "    'regressor__reg_alpha': [0, 1, 5],\n",
    "    'regressor__reg_lambda': [1, 5, 10]\n",
    "}\n",
    "\n",
    "# Set up the models\n",
    "models = {\n",
    "    'RandomForest': (RandomForestRegressor(random_state=0), param_dist_rf),\n",
    "    'XGB': (XGBRegressor(random_state=0), param_dist_xgb)\n",
    "}"
   ]
  },
  {
   "cell_type": "code",
   "execution_count": 87,
   "id": "885ed9ef-2fb8-4d8c-a3d6-115f11bb773a",
   "metadata": {},
   "outputs": [
    {
     "name": "stderr",
     "output_type": "stream",
     "text": [
      "2024/12/27 14:25:39 INFO mlflow.utils.autologging_utils: Created MLflow autologging run with ID '55ae8f9657ee4ff39fc0ebf5c7d5e394', which will track hyperparameters, performance metrics, model artifacts, and lineage information for the current sklearn workflow\n",
      "2024/12/27 14:26:23 INFO mlflow.sklearn.utils: Logging the 5 best runs, 45 runs will be omitted.\n"
     ]
    },
    {
     "name": "stdout",
     "output_type": "stream",
     "text": [
      "🏃 View run delightful-stag-343 at: https://dagshub.com/Omdena/IPage.mlflow/#/experiments/1/runs/d9f565244f9b482d8eca755058b8c785\n",
      "🧪 View experiment at: https://dagshub.com/Omdena/IPage.mlflow/#/experiments/1\n",
      "🏃 View run sedate-crow-958 at: https://dagshub.com/Omdena/IPage.mlflow/#/experiments/1/runs/c47d244b8ef9423a8da66659e4fd510b\n",
      "🧪 View experiment at: https://dagshub.com/Omdena/IPage.mlflow/#/experiments/1\n",
      "🏃 View run rogue-goat-891 at: https://dagshub.com/Omdena/IPage.mlflow/#/experiments/1/runs/b3a65b44963b42a59f9f10f5c0215b73\n",
      "🧪 View experiment at: https://dagshub.com/Omdena/IPage.mlflow/#/experiments/1\n",
      "🏃 View run youthful-donkey-29 at: https://dagshub.com/Omdena/IPage.mlflow/#/experiments/1/runs/5aa2c66f9bea49be9121f87b06c61175\n",
      "🧪 View experiment at: https://dagshub.com/Omdena/IPage.mlflow/#/experiments/1\n",
      "🏃 View run abrasive-shad-731 at: https://dagshub.com/Omdena/IPage.mlflow/#/experiments/1/runs/564e2ed2dac845d1a157328858217fca\n",
      "🧪 View experiment at: https://dagshub.com/Omdena/IPage.mlflow/#/experiments/1\n",
      "🏃 View run monumental-bug-968 at: https://dagshub.com/Omdena/IPage.mlflow/#/experiments/1/runs/55ae8f9657ee4ff39fc0ebf5c7d5e394\n",
      "🧪 View experiment at: https://dagshub.com/Omdena/IPage.mlflow/#/experiments/1\n",
      "Best parameters for RandomForest: {'regressor__n_estimators': 200, 'regressor__min_samples_split': 5, 'regressor__min_samples_leaf': 1, 'regressor__max_features': None, 'regressor__max_depth': 10, 'regressor__bootstrap': True}\n",
      "Best score for RandomForest: 0.8359795957853903\n"
     ]
    },
    {
     "name": "stderr",
     "output_type": "stream",
     "text": [
      "2024/12/27 14:26:42 INFO mlflow.utils.autologging_utils: Created MLflow autologging run with ID '34d1d831c3a94d6bafa0e9ea97d6c29e', which will track hyperparameters, performance metrics, model artifacts, and lineage information for the current sklearn workflow\n",
      "2024/12/27 14:26:58 INFO mlflow.sklearn.utils: Logging the 5 best runs, 45 runs will be omitted.\n"
     ]
    },
    {
     "name": "stdout",
     "output_type": "stream",
     "text": [
      "🏃 View run learned-bass-971 at: https://dagshub.com/Omdena/IPage.mlflow/#/experiments/1/runs/02d70f0cbe3d4ff88cc023ae9425cb53\n",
      "🧪 View experiment at: https://dagshub.com/Omdena/IPage.mlflow/#/experiments/1\n",
      "🏃 View run stylish-mink-362 at: https://dagshub.com/Omdena/IPage.mlflow/#/experiments/1/runs/6b8cd5a08f294b3dbb720bdb78c78b5e\n",
      "🧪 View experiment at: https://dagshub.com/Omdena/IPage.mlflow/#/experiments/1\n",
      "🏃 View run selective-foal-216 at: https://dagshub.com/Omdena/IPage.mlflow/#/experiments/1/runs/2ab387de517246dd9956f3ea1c049092\n",
      "🧪 View experiment at: https://dagshub.com/Omdena/IPage.mlflow/#/experiments/1\n",
      "🏃 View run painted-gull-365 at: https://dagshub.com/Omdena/IPage.mlflow/#/experiments/1/runs/4f3b6d45a71c4e8c8f44f301dd8f355d\n",
      "🧪 View experiment at: https://dagshub.com/Omdena/IPage.mlflow/#/experiments/1\n",
      "🏃 View run invincible-bird-883 at: https://dagshub.com/Omdena/IPage.mlflow/#/experiments/1/runs/94fedc4ba7434f9d91d5eca192df0446\n",
      "🧪 View experiment at: https://dagshub.com/Omdena/IPage.mlflow/#/experiments/1\n",
      "🏃 View run sedate-kit-731 at: https://dagshub.com/Omdena/IPage.mlflow/#/experiments/1/runs/34d1d831c3a94d6bafa0e9ea97d6c29e\n",
      "🧪 View experiment at: https://dagshub.com/Omdena/IPage.mlflow/#/experiments/1\n",
      "Best parameters for XGB: {'regressor__subsample': 0.8, 'regressor__reg_lambda': 1, 'regressor__reg_alpha': 0, 'regressor__n_estimators': 100, 'regressor__min_child_weight': 1, 'regressor__max_depth': 6, 'regressor__learning_rate': 0.05, 'regressor__gamma': 0.5, 'regressor__colsample_bytree': 0.8}\n",
      "Best score for XGB: 0.8367698438829831\n"
     ]
    }
   ],
   "source": [
    "# Split data into features (X) and targets (y)\n",
    "X = data.drop(columns=target_col)\n",
    "y = data[target_col]\n",
    "\n",
    "# Split into train/test sets\n",
    "X_train, X_test, y_train, y_test = train_test_split(X, y, test_size=0.2, random_state=0)\n",
    "\n",
    "# Preprocessing steps\n",
    "preprocessor = ColumnTransformer(\n",
    "    transformers=[\n",
    "        # One-hot encode categorical features\n",
    "        ('onehot', OneHotEncoder(handle_unknown='ignore', sparse_output=False), one_hot_cols),\n",
    "        # Target mean encode high cardinality feature\n",
    "        ('target_mean_enc', TargetMeanEncoder(), target_mean_col),\n",
    "        # Scale numerical features\n",
    "        ('scaler', MinMaxScaler(), numerical_cols)\n",
    "    ],\n",
    "    remainder='drop'  # Drop all other columns not specified (e.g., raw categorical columns)\n",
    ")\n",
    "\n",
    "# Perform RandomizedSearchCV\n",
    "best_params = {}\n",
    "results = {}\n",
    "# Perform RandomizedSearchCV\n",
    "for name, (regressor, param_dist) in models.items():\n",
    "    pipeline = Pipeline(steps=[\n",
    "        ('preprocessor', preprocessor),  # Preprocessing step\n",
    "        ('regressor', regressor)        # Regressor\n",
    "    ])\n",
    "    \n",
    "    random_search = RandomizedSearchCV(\n",
    "        estimator=pipeline,\n",
    "        param_distributions=param_dist,\n",
    "        n_iter=50,\n",
    "        scoring=make_scorer(r2_score),\n",
    "        cv=5,\n",
    "        n_jobs=-1,\n",
    "        random_state=0\n",
    "    )\n",
    "    \n",
    "    random_search.fit(X_train, y_train)\n",
    "    best_params[name] = random_search.best_params_\n",
    "    results[name] = random_search.cv_results_\n",
    "    \n",
    "    print(f\"Best parameters for {name}: {random_search.best_params_}\")\n",
    "    print(f\"Best score for {name}: {random_search.best_score_}\")"
   ]
  },
  {
   "cell_type": "code",
   "execution_count": 94,
   "id": "93ad6953-9ee0-40ef-9548-4144325259db",
   "metadata": {},
   "outputs": [
    {
     "name": "stdout",
     "output_type": "stream",
     "text": [
      "<class 'pandas.core.frame.DataFrame'>\n",
      "Index: 2438 entries, 2 to 2583\n",
      "Data columns (total 17 columns):\n",
      " #   Column      Non-Null Count  Dtype  \n",
      "---  ------      --------------  -----  \n",
      " 0   longitude   2438 non-null   float64\n",
      " 1   latitude    2438 non-null   float64\n",
      " 2   Area        2438 non-null   object \n",
      " 3   Soil group  2438 non-null   object \n",
      " 4   Land class  2438 non-null   object \n",
      " 5   Soil type   2438 non-null   object \n",
      " 6   pH          2438 non-null   float64\n",
      " 7   SOC         2438 non-null   float64\n",
      " 8   Nitrogen    2438 non-null   float64\n",
      " 9   Potassium   2438 non-null   float64\n",
      " 10  Phosphorus  2438 non-null   float64\n",
      " 11  Sulfur      2438 non-null   float64\n",
      " 12  Boron       2438 non-null   float64\n",
      " 13  Zinc        2438 non-null   float64\n",
      " 14  Sand        2438 non-null   float64\n",
      " 15  Silt        2438 non-null   float64\n",
      " 16  Clay        2438 non-null   float64\n",
      "dtypes: float64(13), object(4)\n",
      "memory usage: 342.8+ KB\n"
     ]
    }
   ],
   "source": [
    "df = pd.read_csv('merged_v3.csv')\n",
    "\n",
    "data = df[\n",
    "    (df['Boron'] < 0.58) &\n",
    "    (df['Zinc'] < 2.8) &\n",
    "    (df['SOC'] < 3.0) &\n",
    "    (df['Sulfur'] < 30.0) &\n",
    "    (df['Nitrogen'] < 0.2) &\n",
    "    (df['Potassium'] < 0.8) &\n",
    "    (df['Phosphorus'] < 40.0)\n",
    "].copy()\n",
    "\n",
    "data.info()"
   ]
  },
  {
   "cell_type": "code",
   "execution_count": 95,
   "id": "4dd6f5b7-eb2e-4bf3-a999-a70e40cec242",
   "metadata": {},
   "outputs": [
    {
     "data": {
      "text/html": [
       "<pre style=\"white-space:pre;overflow-x:auto;line-height:normal;font-family:Menlo,'DejaVu Sans Mono',consolas,'Courier New',monospace\">Uploading files <span style=\"font-weight: bold\">(</span><span style=\"color: #008080; text-decoration-color: #008080; font-weight: bold\">1</span><span style=\"font-weight: bold\">)</span> to <span style=\"color: #008000; text-decoration-color: #008000\">\"Omdena/IPage\"</span><span style=\"color: #808000; text-decoration-color: #808000\">...</span>\n",
       "</pre>\n"
      ],
      "text/plain": [
       "Uploading files \u001b[1m(\u001b[0m\u001b[1;36m1\u001b[0m\u001b[1m)\u001b[0m to \u001b[32m\"Omdena/IPage\"\u001b[0m\u001b[33m...\u001b[0m\n"
      ]
     },
     "metadata": {},
     "output_type": "display_data"
    },
    {
     "data": {
      "text/html": [
       "<pre style=\"white-space:pre;overflow-x:auto;line-height:normal;font-family:Menlo,'DejaVu Sans Mono',consolas,'Courier New',monospace\">Upload finished successfully!\n",
       "</pre>\n"
      ],
      "text/plain": [
       "Upload finished successfully!\n"
      ]
     },
     "metadata": {},
     "output_type": "display_data"
    }
   ],
   "source": [
    "data.to_csv('merged_v4.csv', index=False)\n",
    "upload_files('Omdena/IPage', 'merged_v4.csv')"
   ]
  },
  {
   "cell_type": "code",
   "execution_count": null,
   "id": "8038fbec-6f35-4412-bffa-f9e5646d27b5",
   "metadata": {},
   "outputs": [],
   "source": []
  }
 ],
 "metadata": {
  "kernelspec": {
   "display_name": "Python 3 (ipykernel)",
   "language": "python",
   "name": "python3"
  },
  "language_info": {
   "codemirror_mode": {
    "name": "ipython",
    "version": 3
   },
   "file_extension": ".py",
   "mimetype": "text/x-python",
   "name": "python",
   "nbconvert_exporter": "python",
   "pygments_lexer": "ipython3",
   "version": "3.11.7"
  }
 },
 "nbformat": 4,
 "nbformat_minor": 5
}

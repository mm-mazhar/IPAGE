{
 "cells": [
  {
   "cell_type": "code",
   "execution_count": 49,
   "id": "58cfe66c-6d27-4a0f-9e7a-e74c409162f9",
   "metadata": {},
   "outputs": [
    {
     "data": {
      "text/html": [
       "<pre style=\"white-space:pre;overflow-x:auto;line-height:normal;font-family:Menlo,'DejaVu Sans Mono',consolas,'Courier New',monospace\">Accessing as tsharkowill\n",
       "</pre>\n"
      ],
      "text/plain": [
       "Accessing as tsharkowill\n"
      ]
     },
     "metadata": {},
     "output_type": "display_data"
    },
    {
     "data": {
      "text/html": [
       "<pre style=\"white-space:pre;overflow-x:auto;line-height:normal;font-family:Menlo,'DejaVu Sans Mono',consolas,'Courier New',monospace\">Initialized MLflow to track repo <span style=\"color: #008000; text-decoration-color: #008000\">\"Omdena/IPage\"</span>\n",
       "</pre>\n"
      ],
      "text/plain": [
       "Initialized MLflow to track repo \u001b[32m\"Omdena/IPage\"\u001b[0m\n"
      ]
     },
     "metadata": {},
     "output_type": "display_data"
    },
    {
     "data": {
      "text/html": [
       "<pre style=\"white-space:pre;overflow-x:auto;line-height:normal;font-family:Menlo,'DejaVu Sans Mono',consolas,'Courier New',monospace\">Repository Omdena/IPage initialized!\n",
       "</pre>\n"
      ],
      "text/plain": [
       "Repository Omdena/IPage initialized!\n"
      ]
     },
     "metadata": {},
     "output_type": "display_data"
    }
   ],
   "source": [
    "import matplotlib.pyplot as plt\n",
    "import seaborn as sns\n",
    "import numpy as np\n",
    "import pandas as pd\n",
    "from sklearn.model_selection import train_test_split, KFold, cross_val_score\n",
    "from sklearn.preprocessing import OneHotEncoder, MinMaxScaler, StandardScaler\n",
    "from sklearn.compose import ColumnTransformer\n",
    "from sklearn.pipeline import Pipeline\n",
    "from sklearn.linear_model import LinearRegression\n",
    "from sklearn.ensemble import RandomForestRegressor\n",
    "from xgboost import XGBRegressor\n",
    "from sklearn.metrics import mean_squared_error, mean_absolute_error, r2_score, make_scorer\n",
    "from sklearn.inspection import permutation_importance\n",
    "from sklearn.model_selection import RandomizedSearchCV\n",
    "from sklearn.model_selection import GridSearchCV\n",
    "\n",
    "import dagshub\n",
    "dagshub.init(repo_owner='Omdena', repo_name='IPage', mlflow=True)\n",
    "\n",
    "import mlflow"
   ]
  },
  {
   "cell_type": "code",
   "execution_count": 50,
   "id": "ab367be7-8647-460a-bd6e-10dfd7e692f4",
   "metadata": {},
   "outputs": [],
   "source": [
    "data = pd.read_csv('merged_v4.csv')\n",
    "\n",
    "data.drop(columns=['longitude', 'latitude', 'SOC', 'Boron'], inplace=True)\n",
    "\n",
    "# Define columns\n",
    "numerical_cols = ['pH', 'Nitrogen', 'Potassium', 'Phosphorus',\n",
    "                  'Sulfur', 'Sand', 'Silt', 'Clay']\n",
    "\n",
    "one_hot_cols = ['Land class', 'Soil type']\n",
    "\n",
    "target_mean_cols = ['Area', 'Soil group']\n",
    "\n",
    "target_col = 'Zinc'"
   ]
  },
  {
   "cell_type": "code",
   "execution_count": 51,
   "id": "d71833de-57d9-47ec-8eca-222418b247c7",
   "metadata": {},
   "outputs": [],
   "source": [
    "from sklearn.base import BaseEstimator, TransformerMixin\n",
    "\n",
    "class TargetMeanEncoder(BaseEstimator, TransformerMixin):\n",
    "    def __init__(self):\n",
    "        self.target_means_ = {}\n",
    "    \n",
    "    def fit(self, X, y):\n",
    "        if isinstance(X, pd.Series):\n",
    "            X = X.to_frame()\n",
    "        elif isinstance(X, np.ndarray):\n",
    "            X = pd.DataFrame(X)\n",
    "        \n",
    "        self.target_means_ = {\n",
    "            col: X[col].map(y.groupby(X[col]).mean())\n",
    "            for col in X.columns\n",
    "        }\n",
    "        return self\n",
    "    \n",
    "    def transform(self, X):\n",
    "        if isinstance(X, pd.Series):\n",
    "            X = X.to_frame()\n",
    "        elif isinstance(X, np.ndarray):\n",
    "            X = pd.DataFrame(X)\n",
    "        \n",
    "        X_encoded = X.copy()\n",
    "        for col in X_encoded.columns:\n",
    "            X_encoded[col] = X_encoded[col].map(self.target_means_[col])\n",
    "        return X_encoded.fillna(0)  # Handle unseen categories with 0"
   ]
  },
  {
   "cell_type": "code",
   "execution_count": 52,
   "id": "934d1e72-592b-4320-994b-97289ab79904",
   "metadata": {},
   "outputs": [],
   "source": [
    "# Define hyperparameter distributions for both models\n",
    "param_dist_rf = {\n",
    "    'regressor__n_estimators': [5, 10, 15],\n",
    "    'regressor__max_depth': [None, 10, 20, 30],\n",
    "    'regressor__min_samples_split': [2, 5, 10],\n",
    "    'regressor__min_samples_leaf': [1, 2, 4],\n",
    "    'regressor__max_features': [None, 'sqrt', 'log2'],\n",
    "    'regressor__bootstrap': [True, False]\n",
    "}\n",
    "\n",
    "param_dist_xgb = {\n",
    "    'regressor__n_estimators': [5, 10, 15],\n",
    "    'regressor__learning_rate': [0.01, 0.05, 0.1, 0.2],\n",
    "    'regressor__max_depth': [3, 6, 9],\n",
    "    'regressor__min_child_weight': [1, 3, 5],\n",
    "    'regressor__subsample': [0.7, 0.8, 1.0],\n",
    "    'regressor__colsample_bytree': [0.7, 0.8, 1.0],\n",
    "    'regressor__gamma': [0, 0.1, 0.5],\n",
    "    'regressor__reg_alpha': [0, 1, 5],\n",
    "    'regressor__reg_lambda': [1, 5, 10]\n",
    "}\n",
    "\n",
    "# Set up the models\n",
    "models = {\n",
    "    'RandomForest': (RandomForestRegressor(random_state=0), param_dist_rf),\n",
    "    'XGB': (XGBRegressor(random_state=0), param_dist_xgb)\n",
    "}"
   ]
  },
  {
   "cell_type": "code",
   "execution_count": 53,
   "id": "cdcbe2fc-a205-41da-93cb-f36f2d25de26",
   "metadata": {},
   "outputs": [
    {
     "name": "stdout",
     "output_type": "stream",
     "text": [
      "Best parameters for RandomForest: {'regressor__n_estimators': 15, 'regressor__min_samples_split': 2, 'regressor__min_samples_leaf': 4, 'regressor__max_features': 'sqrt', 'regressor__max_depth': 20, 'regressor__bootstrap': False}\n",
      "Best score for RandomForest: 0.43057319199960026\n",
      "Best parameters for XGB: {'regressor__subsample': 0.7, 'regressor__reg_lambda': 5, 'regressor__reg_alpha': 1, 'regressor__n_estimators': 15, 'regressor__min_child_weight': 1, 'regressor__max_depth': 6, 'regressor__learning_rate': 0.2, 'regressor__gamma': 0, 'regressor__colsample_bytree': 0.7}\n",
      "Best score for XGB: 0.43196073871162904\n"
     ]
    }
   ],
   "source": [
    "# Split data into features (X) and targets (y)\n",
    "X = data.drop(columns=target_col)\n",
    "y = data[target_col]\n",
    "\n",
    "# Split into train/test sets\n",
    "X_train, X_test, y_train, y_test = train_test_split(X, y, test_size=0.2, random_state=0)\n",
    "\n",
    "# Preprocessing steps\n",
    "preprocessor = ColumnTransformer(\n",
    "    transformers=[\n",
    "        # One-hot encode categorical features\n",
    "        ('onehot', OneHotEncoder(handle_unknown='ignore', sparse_output=False), one_hot_cols),\n",
    "        # Target mean encode high cardinality feature\n",
    "        ('target_mean_enc', TargetMeanEncoder(), target_mean_col),\n",
    "        # Scale numerical features\n",
    "        ('scaler', MinMaxScaler(), numerical_cols)\n",
    "    ],\n",
    "    remainder='drop'  # Drop all other columns not specified (e.g., raw categorical columns)\n",
    ")\n",
    "\n",
    "# Perform RandomizedSearchCV\n",
    "best_params = {}\n",
    "results = {}\n",
    "# Perform RandomizedSearchCV\n",
    "for name, (regressor, param_dist) in models.items():\n",
    "    pipeline = Pipeline(steps=[\n",
    "        ('preprocessor', preprocessor),  # Preprocessing step\n",
    "        ('regressor', regressor)        # Regressor\n",
    "    ])\n",
    "    \n",
    "    random_search = RandomizedSearchCV(\n",
    "        estimator=pipeline,\n",
    "        param_distributions=param_dist,\n",
    "        n_iter=50,\n",
    "        scoring=make_scorer(r2_score),\n",
    "        cv=5,\n",
    "        n_jobs=-1,\n",
    "        random_state=0\n",
    "    )\n",
    "    \n",
    "    random_search.fit(X_train, y_train)\n",
    "    best_params[name] = random_search.best_params_\n",
    "    results[name] = random_search.cv_results_\n",
    "    \n",
    "    print(f\"Best parameters for {name}: {random_search.best_params_}\")\n",
    "    print(f\"Best score for {name}: {random_search.best_score_}\")"
   ]
  },
  {
   "cell_type": "code",
   "execution_count": 54,
   "id": "fc32069d-66c6-4446-91e7-b210172e9f99",
   "metadata": {},
   "outputs": [],
   "source": [
    "models = {\n",
    "    'RandomForest': RandomForestRegressor(random_state=0,\n",
    "                                            n_estimators=15,\n",
    "                                            min_samples_split=2,\n",
    "                                            min_samples_leaf=4,\n",
    "                                            max_features='sqrt',\n",
    "                                            max_depth=20,\n",
    "                                            bootstrap=False\n",
    "                                          ),\n",
    "    'XGB': XGBRegressor(random_state=0,\n",
    "                        subsample=0.7,\n",
    "                        reg_lambda=5,\n",
    "                        reg_alpha=1,\n",
    "                        n_estimators=15,\n",
    "                        min_child_weight=1,\n",
    "                        max_depth=6,\n",
    "                        learning_rate=0.2,\n",
    "                        gamma=0,\n",
    "                        colsample_bytree=0.7\n",
    "                        )\n",
    "        }"
   ]
  },
  {
   "cell_type": "code",
   "execution_count": 55,
   "id": "97f80180-5c31-4717-9af0-ba0c55694f03",
   "metadata": {},
   "outputs": [
    {
     "name": "stderr",
     "output_type": "stream",
     "text": [
      "2024/12/27 16:00:50 INFO mlflow.tracking.fluent: Experiment with name 'Taylor_v4_Zinc_Tuned_20241227' does not exist. Creating a new experiment.\n",
      "2024/12/27 16:00:51 INFO mlflow.tracking.fluent: Autologging successfully enabled for sklearn.\n",
      "2024/12/27 16:00:51 INFO mlflow.tracking.fluent: Autologging successfully enabled for statsmodels.\n",
      "2024/12/27 16:00:51 INFO mlflow.tracking.fluent: Autologging successfully enabled for xgboost.\n"
     ]
    }
   ],
   "source": [
    "# Initialize MLflow\n",
    "mlflow.set_experiment('Taylor_v4_Zinc_Tuned_20241227')\n",
    "mlflow.autolog()"
   ]
  },
  {
   "cell_type": "code",
   "execution_count": 56,
   "id": "5db9eeec-c517-4a53-aca0-9d5d63823247",
   "metadata": {},
   "outputs": [
    {
     "name": "stderr",
     "output_type": "stream",
     "text": [
      "2024/12/27 16:01:39 INFO mlflow.utils.autologging_utils: Created MLflow autologging run with ID '5914dcf846fd430ba8a1a147f464c0f2', which will track hyperparameters, performance metrics, model artifacts, and lineage information for the current sklearn workflow\n"
     ]
    },
    {
     "name": "stdout",
     "output_type": "stream",
     "text": [
      "🏃 View run dapper-gnat-324 at: https://dagshub.com/Omdena/IPage.mlflow/#/experiments/11/runs/5914dcf846fd430ba8a1a147f464c0f2\n",
      "🧪 View experiment at: https://dagshub.com/Omdena/IPage.mlflow/#/experiments/11\n"
     ]
    },
    {
     "name": "stderr",
     "output_type": "stream",
     "text": [
      "2024/12/27 16:02:09 INFO mlflow.utils.autologging_utils: Created MLflow autologging run with ID '5ffc6ea1f716423e9af4e56e2e74f099', which will track hyperparameters, performance metrics, model artifacts, and lineage information for the current sklearn workflow\n"
     ]
    },
    {
     "name": "stdout",
     "output_type": "stream",
     "text": [
      "🏃 View run vaunted-wasp-406 at: https://dagshub.com/Omdena/IPage.mlflow/#/experiments/11/runs/5ffc6ea1f716423e9af4e56e2e74f099\n",
      "🧪 View experiment at: https://dagshub.com/Omdena/IPage.mlflow/#/experiments/11\n"
     ]
    },
    {
     "name": "stderr",
     "output_type": "stream",
     "text": [
      "2024/12/27 16:02:39 INFO mlflow.utils.autologging_utils: Created MLflow autologging run with ID '1e76fb20655e4e6e82555afaa0a8205a', which will track hyperparameters, performance metrics, model artifacts, and lineage information for the current sklearn workflow\n"
     ]
    },
    {
     "name": "stdout",
     "output_type": "stream",
     "text": [
      "🏃 View run resilient-jay-314 at: https://dagshub.com/Omdena/IPage.mlflow/#/experiments/11/runs/1e76fb20655e4e6e82555afaa0a8205a\n",
      "🧪 View experiment at: https://dagshub.com/Omdena/IPage.mlflow/#/experiments/11\n"
     ]
    },
    {
     "name": "stderr",
     "output_type": "stream",
     "text": [
      "2024/12/27 16:03:08 INFO mlflow.utils.autologging_utils: Created MLflow autologging run with ID 'cc3c57fbf0ba4c47bb6b68b9800bb9fd', which will track hyperparameters, performance metrics, model artifacts, and lineage information for the current sklearn workflow\n"
     ]
    },
    {
     "name": "stdout",
     "output_type": "stream",
     "text": [
      "🏃 View run honorable-bird-410 at: https://dagshub.com/Omdena/IPage.mlflow/#/experiments/11/runs/cc3c57fbf0ba4c47bb6b68b9800bb9fd\n",
      "🧪 View experiment at: https://dagshub.com/Omdena/IPage.mlflow/#/experiments/11\n"
     ]
    },
    {
     "name": "stderr",
     "output_type": "stream",
     "text": [
      "2024/12/27 16:03:38 INFO mlflow.utils.autologging_utils: Created MLflow autologging run with ID 'ca61eac822e141e084278c7d71fe5c9a', which will track hyperparameters, performance metrics, model artifacts, and lineage information for the current sklearn workflow\n"
     ]
    },
    {
     "name": "stdout",
     "output_type": "stream",
     "text": [
      "🏃 View run overjoyed-hound-220 at: https://dagshub.com/Omdena/IPage.mlflow/#/experiments/11/runs/ca61eac822e141e084278c7d71fe5c9a\n",
      "🧪 View experiment at: https://dagshub.com/Omdena/IPage.mlflow/#/experiments/11\n",
      "Cross-validated R² scores: [0.47376549 0.44649166 0.4428368  0.46961087 0.32016114]\n",
      "Mean R²: 0.43057319199960026\n"
     ]
    },
    {
     "name": "stderr",
     "output_type": "stream",
     "text": [
      "2024/12/27 16:04:08 INFO mlflow.utils.autologging_utils: Created MLflow autologging run with ID 'cff939a836ff4f0f9546832c80fba766', which will track hyperparameters, performance metrics, model artifacts, and lineage information for the current sklearn workflow\n"
     ]
    },
    {
     "name": "stdout",
     "output_type": "stream",
     "text": [
      "🏃 View run aged-bird-243 at: https://dagshub.com/Omdena/IPage.mlflow/#/experiments/11/runs/cff939a836ff4f0f9546832c80fba766\n",
      "🧪 View experiment at: https://dagshub.com/Omdena/IPage.mlflow/#/experiments/11\n",
      "Test R²: 0.44913896900555617\n"
     ]
    },
    {
     "name": "stderr",
     "output_type": "stream",
     "text": [
      "2024/12/27 16:04:41 INFO mlflow.utils.autologging_utils: Created MLflow autologging run with ID '446f03a8b98a4a22ac9757029446273b', which will track hyperparameters, performance metrics, model artifacts, and lineage information for the current sklearn workflow\n"
     ]
    },
    {
     "name": "stdout",
     "output_type": "stream",
     "text": [
      "🏃 View run nimble-hare-640 at: https://dagshub.com/Omdena/IPage.mlflow/#/experiments/11/runs/446f03a8b98a4a22ac9757029446273b\n",
      "🧪 View experiment at: https://dagshub.com/Omdena/IPage.mlflow/#/experiments/11\n"
     ]
    },
    {
     "name": "stderr",
     "output_type": "stream",
     "text": [
      "2024/12/27 16:05:11 INFO mlflow.utils.autologging_utils: Created MLflow autologging run with ID 'aaa172cef21f4655acd51f9691c12d86', which will track hyperparameters, performance metrics, model artifacts, and lineage information for the current sklearn workflow\n"
     ]
    },
    {
     "name": "stdout",
     "output_type": "stream",
     "text": [
      "🏃 View run unruly-panda-721 at: https://dagshub.com/Omdena/IPage.mlflow/#/experiments/11/runs/aaa172cef21f4655acd51f9691c12d86\n",
      "🧪 View experiment at: https://dagshub.com/Omdena/IPage.mlflow/#/experiments/11\n"
     ]
    },
    {
     "name": "stderr",
     "output_type": "stream",
     "text": [
      "2024/12/27 16:05:41 INFO mlflow.utils.autologging_utils: Created MLflow autologging run with ID '57c37799cc914c7ba90d6c32d9ba53e5', which will track hyperparameters, performance metrics, model artifacts, and lineage information for the current sklearn workflow\n"
     ]
    },
    {
     "name": "stdout",
     "output_type": "stream",
     "text": [
      "🏃 View run useful-sloth-712 at: https://dagshub.com/Omdena/IPage.mlflow/#/experiments/11/runs/57c37799cc914c7ba90d6c32d9ba53e5\n",
      "🧪 View experiment at: https://dagshub.com/Omdena/IPage.mlflow/#/experiments/11\n"
     ]
    },
    {
     "name": "stderr",
     "output_type": "stream",
     "text": [
      "2024/12/27 16:06:10 INFO mlflow.utils.autologging_utils: Created MLflow autologging run with ID 'b1d0996665b54b7581b09cee412ecee6', which will track hyperparameters, performance metrics, model artifacts, and lineage information for the current sklearn workflow\n"
     ]
    },
    {
     "name": "stdout",
     "output_type": "stream",
     "text": [
      "🏃 View run flawless-swan-843 at: https://dagshub.com/Omdena/IPage.mlflow/#/experiments/11/runs/b1d0996665b54b7581b09cee412ecee6\n",
      "🧪 View experiment at: https://dagshub.com/Omdena/IPage.mlflow/#/experiments/11\n"
     ]
    },
    {
     "name": "stderr",
     "output_type": "stream",
     "text": [
      "2024/12/27 16:06:33 INFO mlflow.utils.autologging_utils: Created MLflow autologging run with ID '02c3b6355bcf4d6abdeaccb8be9a8c35', which will track hyperparameters, performance metrics, model artifacts, and lineage information for the current sklearn workflow\n"
     ]
    },
    {
     "name": "stdout",
     "output_type": "stream",
     "text": [
      "🏃 View run abundant-crab-803 at: https://dagshub.com/Omdena/IPage.mlflow/#/experiments/11/runs/02c3b6355bcf4d6abdeaccb8be9a8c35\n",
      "🧪 View experiment at: https://dagshub.com/Omdena/IPage.mlflow/#/experiments/11\n",
      "Cross-validated R² scores: [0.50356703 0.4411069  0.42268074 0.44960535 0.34284367]\n",
      "Mean R²: 0.43196073871162904\n"
     ]
    },
    {
     "name": "stderr",
     "output_type": "stream",
     "text": [
      "2024/12/27 16:06:48 INFO mlflow.utils.autologging_utils: Created MLflow autologging run with ID '42d4539a208943b492118ba0bce8af60', which will track hyperparameters, performance metrics, model artifacts, and lineage information for the current sklearn workflow\n"
     ]
    },
    {
     "name": "stdout",
     "output_type": "stream",
     "text": [
      "🏃 View run legendary-gnat-665 at: https://dagshub.com/Omdena/IPage.mlflow/#/experiments/11/runs/42d4539a208943b492118ba0bce8af60\n",
      "🧪 View experiment at: https://dagshub.com/Omdena/IPage.mlflow/#/experiments/11\n",
      "Test R²: 0.4682369700197494\n"
     ]
    }
   ],
   "source": [
    "# Split data into features (X) and targets (y)\n",
    "X = data.drop(columns=target_col)\n",
    "y = data[target_col]\n",
    "\n",
    "# Split into train/test sets\n",
    "X_train, X_test, y_train, y_test = train_test_split(X, y, test_size=0.2, random_state=0)\n",
    "\n",
    "# Preprocessing steps\n",
    "preprocessor = ColumnTransformer(\n",
    "    transformers=[\n",
    "        # One-hot encode categorical features\n",
    "        ('onehot', OneHotEncoder(handle_unknown='ignore', sparse_output=False), one_hot_cols),\n",
    "        # Target mean encode high cardinality feature\n",
    "        ('target_mean_enc', TargetMeanEncoder(), target_mean_col),\n",
    "        # Scale numerical features\n",
    "        ('scaler', MinMaxScaler(), numerical_cols)\n",
    "    ],\n",
    "    remainder='drop'  # Drop all other columns not specified (e.g., raw categorical columns)\n",
    ")\n",
    "\n",
    "# Train and test multiple models\n",
    "for model_name, model in models.items():\n",
    "\n",
    "    # Create pipeline\n",
    "    pipeline = Pipeline([\n",
    "        ('preprocessing', preprocessor),\n",
    "        ('model', model)\n",
    "    ])\n",
    "        \n",
    "    # Cross-validation\n",
    "    scores = cross_val_score(pipeline, X_train, y_train, cv=5, scoring='r2')\n",
    "    print(f\"Cross-validated R² scores: {scores}\")\n",
    "    print(f\"Mean R²: {scores.mean()}\")\n",
    "    \n",
    "    # Fit and test the pipeline\n",
    "    pipeline.fit(X_train, y_train)\n",
    "    print(f\"Test R²: {pipeline.score(X_test, y_test)}\")"
   ]
  },
  {
   "cell_type": "code",
   "execution_count": null,
   "id": "e9941b97-aa79-4756-b933-ec14b7e0dd68",
   "metadata": {},
   "outputs": [],
   "source": []
  }
 ],
 "metadata": {
  "kernelspec": {
   "display_name": "Python 3 (ipykernel)",
   "language": "python",
   "name": "python3"
  },
  "language_info": {
   "codemirror_mode": {
    "name": "ipython",
    "version": 3
   },
   "file_extension": ".py",
   "mimetype": "text/x-python",
   "name": "python",
   "nbconvert_exporter": "python",
   "pygments_lexer": "ipython3",
   "version": "3.11.7"
  }
 },
 "nbformat": 4,
 "nbformat_minor": 5
}

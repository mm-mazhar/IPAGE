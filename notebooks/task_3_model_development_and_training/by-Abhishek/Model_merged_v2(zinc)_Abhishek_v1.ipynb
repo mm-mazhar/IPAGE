{
  "nbformat": 4,
  "nbformat_minor": 0,
  "metadata": {
    "colab": {
      "provenance": [],
      "toc_visible": true
    },
    "kernelspec": {
      "name": "python3",
      "display_name": "Python 3"
    },
    "language_info": {
      "name": "python"
    }
  },
  "cells": [
    {
      "cell_type": "markdown",
      "source": [
        "# EDA on 'merged_v2.csv' file.\n",
        "\n",
        "- In this notebook, we shall perform eda on the merged isda and ipage dataset."
      ],
      "metadata": {
        "id": "QCmUu8tJF_6h"
      }
    },
    {
      "cell_type": "code",
      "execution_count": 1,
      "metadata": {
        "id": "ji8b_MGnFfn6"
      },
      "outputs": [],
      "source": [
        "# importing the required libraries:\n",
        "import numpy as np\n",
        "import pandas as pd\n",
        "import matplotlib.pyplot as plt\n",
        "%matplotlib inline\n",
        "import seaborn as sns"
      ]
    },
    {
      "cell_type": "code",
      "source": [
        "# path to load the dataset\n",
        "\n",
        "merged_data_path =  \"/content/drive/MyDrive/ipage_ai_innovation/merged_v2.csv\"\n",
        "\n",
        "# loading the data\n",
        "\n",
        "merged_data = pd.read_csv(merged_data_path)"
      ],
      "metadata": {
        "id": "rJ_9LLNvGnE-"
      },
      "execution_count": 2,
      "outputs": []
    },
    {
      "cell_type": "code",
      "source": [
        "merged_data.columns"
      ],
      "metadata": {
        "colab": {
          "base_uri": "https://localhost:8080/"
        },
        "id": "PeFOJXXRvb4w",
        "outputId": "a6cfcee2-1009-4314-c9ec-e362a00370e3"
      },
      "execution_count": 3,
      "outputs": [
        {
          "output_type": "execute_result",
          "data": {
            "text/plain": [
              "Index(['longitude', 'latitude', 'Area', 'Soil group', 'Land class',\n",
              "       'Soil type', 'pH', 'SOC', 'Nitrogen', 'Potassium', 'Phosphorus',\n",
              "       'Sulfur', 'Boron', 'Zinc', 'Sand', 'Silt', 'Clay'],\n",
              "      dtype='object')"
            ]
          },
          "metadata": {},
          "execution_count": 3
        }
      ]
    },
    {
      "cell_type": "code",
      "source": [
        "# Renaming columns\n",
        "merged_data.rename(columns={'Soil group': 'Soil_group', 'Land class': 'Land_class', 'Soil type': 'Soil_type'}, inplace=True)"
      ],
      "metadata": {
        "id": "wHFC3yoZu0da"
      },
      "execution_count": 4,
      "outputs": []
    },
    {
      "cell_type": "code",
      "source": [
        "# dropping the SOC and Boron columns:\n",
        "\n",
        "merged_data = merged_data.drop(['SOC', 'Boron'], axis=1)"
      ],
      "metadata": {
        "id": "pjvR34dcjZ93"
      },
      "execution_count": 5,
      "outputs": []
    },
    {
      "cell_type": "code",
      "source": [
        "merged_data.columns"
      ],
      "metadata": {
        "colab": {
          "base_uri": "https://localhost:8080/"
        },
        "id": "aa9wQy2bj-V2",
        "outputId": "472c720a-20c5-412e-d4fb-1d7e45f028e2"
      },
      "execution_count": 6,
      "outputs": [
        {
          "output_type": "execute_result",
          "data": {
            "text/plain": [
              "Index(['longitude', 'latitude', 'Area', 'Soil_group', 'Land_class',\n",
              "       'Soil_type', 'pH', 'Nitrogen', 'Potassium', 'Phosphorus', 'Sulfur',\n",
              "       'Zinc', 'Sand', 'Silt', 'Clay'],\n",
              "      dtype='object')"
            ]
          },
          "metadata": {},
          "execution_count": 6
        }
      ]
    },
    {
      "cell_type": "code",
      "source": [
        "# What is the shape of the data?\n",
        "\n",
        "merged_data.shape"
      ],
      "metadata": {
        "colab": {
          "base_uri": "https://localhost:8080/"
        },
        "id": "GL_XuFW-GnB3",
        "outputId": "67730de3-6fca-499a-e574-df85d2a10f52"
      },
      "execution_count": 7,
      "outputs": [
        {
          "output_type": "execute_result",
          "data": {
            "text/plain": [
              "(2584, 15)"
            ]
          },
          "metadata": {},
          "execution_count": 7
        }
      ]
    },
    {
      "cell_type": "code",
      "source": [
        "# How do the first and the last few rows of the dataset look like?\n",
        "\n",
        "# first 15\n",
        "merged_data.head(15)"
      ],
      "metadata": {
        "colab": {
          "base_uri": "https://localhost:8080/",
          "height": 540
        },
        "id": "dfNN27zcGm-4",
        "outputId": "7c77420c-2462-4cf6-9efc-b8f3a8054bad"
      },
      "execution_count": 8,
      "outputs": [
        {
          "output_type": "execute_result",
          "data": {
            "text/plain": [
              "    longitude  latitude       Area Soil_group   Land_class   Soil_type   pH  \\\n",
              "0     89.2767   25.5678  Mithpukur      belab  high ground  Clay loam   5.0   \n",
              "1     89.2767   25.5678  Mithpukur      belab  high ground  Clay loam   4.9   \n",
              "2     89.2767   25.5678  Mithpukur      belab  high ground  Clay loam   4.6   \n",
              "3     89.2767   25.5678  Mithpukur      belab  high ground  Clay loam   5.2   \n",
              "4     89.2767   25.5678  Mithpukur      belab  high ground  Clay loam   5.3   \n",
              "5     89.2767   25.5678  Mithpukur      belab  high ground  Clay loam   4.9   \n",
              "6     89.2767   25.5678  Mithpukur      belab  high ground  Clay loam   4.8   \n",
              "7     89.2767   25.5678  Mithpukur      belab  high ground  Clay loam   5.2   \n",
              "8     89.2767   25.5678  Mithpukur     Noadda  high ground  Clay loam   5.3   \n",
              "9     89.2767   25.5678  Mithpukur     Noadda  high ground  Clay loam   5.0   \n",
              "10    89.2767   25.5678  Mithpukur     Noadda  high ground  Clay loam   5.0   \n",
              "11    89.2767   25.5678  Mithpukur      belab  high ground  Clay loam   5.5   \n",
              "12    89.2767   25.5678  Mithpukur      belab  high ground        loam  5.3   \n",
              "13    89.2767   25.5678  Mithpukur      belab  high ground  Clay loam   4.8   \n",
              "14    89.2767   25.5678  Mithpukur      belab  high ground  Clay loam   4.7   \n",
              "\n",
              "    Nitrogen  Potassium  Phosphorus  Sulfur  Zinc  Sand  Silt  Clay  \n",
              "0       0.08       0.15       19.60    37.7  0.86  33.0  33.0  33.0  \n",
              "1       0.09       0.25        4.10    32.0  0.75  33.0  33.0  33.0  \n",
              "2       0.05       0.09       13.30    13.5  0.95  33.0  33.0  33.0  \n",
              "3       0.06       0.30       20.20    30.0  1.00  33.0  33.0  33.0  \n",
              "4       0.11       0.17       20.50    27.8  1.04  33.0  33.0  33.0  \n",
              "5       0.08       0.35       21.70    27.8  1.16  33.0  33.0  33.0  \n",
              "6       0.06       0.29        7.70    39.7  0.88  33.0  33.0  33.0  \n",
              "7       0.08       0.50       18.50    25.6  1.05  33.0  33.0  33.0  \n",
              "8       0.08       0.17       12.00    26.4  0.74  33.0  33.0  33.0  \n",
              "9       0.06       0.18        0.06    10.7  0.91  33.0  33.0  33.0  \n",
              "10      0.09       0.17        9.60    39.1  0.91  33.0  33.0  33.0  \n",
              "11      0.12       0.45        9.90    33.6  0.78  33.0  33.0  33.0  \n",
              "12      0.06       0.10       32.00    23.3  1.15  40.0  40.0  20.0  \n",
              "13      0.08       0.19       11.20    22.9  0.98  33.0  33.0  33.0  \n",
              "14      0.08       0.14        7.10    22.4  1.02  33.0  33.0  33.0  "
            ],
            "text/html": [
              "\n",
              "  <div id=\"df-1e59a62a-a5fc-4b8b-88a0-dc4ae171808c\" class=\"colab-df-container\">\n",
              "    <div>\n",
              "<style scoped>\n",
              "    .dataframe tbody tr th:only-of-type {\n",
              "        vertical-align: middle;\n",
              "    }\n",
              "\n",
              "    .dataframe tbody tr th {\n",
              "        vertical-align: top;\n",
              "    }\n",
              "\n",
              "    .dataframe thead th {\n",
              "        text-align: right;\n",
              "    }\n",
              "</style>\n",
              "<table border=\"1\" class=\"dataframe\">\n",
              "  <thead>\n",
              "    <tr style=\"text-align: right;\">\n",
              "      <th></th>\n",
              "      <th>longitude</th>\n",
              "      <th>latitude</th>\n",
              "      <th>Area</th>\n",
              "      <th>Soil_group</th>\n",
              "      <th>Land_class</th>\n",
              "      <th>Soil_type</th>\n",
              "      <th>pH</th>\n",
              "      <th>Nitrogen</th>\n",
              "      <th>Potassium</th>\n",
              "      <th>Phosphorus</th>\n",
              "      <th>Sulfur</th>\n",
              "      <th>Zinc</th>\n",
              "      <th>Sand</th>\n",
              "      <th>Silt</th>\n",
              "      <th>Clay</th>\n",
              "    </tr>\n",
              "  </thead>\n",
              "  <tbody>\n",
              "    <tr>\n",
              "      <th>0</th>\n",
              "      <td>89.2767</td>\n",
              "      <td>25.5678</td>\n",
              "      <td>Mithpukur</td>\n",
              "      <td>belab</td>\n",
              "      <td>high ground</td>\n",
              "      <td>Clay loam</td>\n",
              "      <td>5.0</td>\n",
              "      <td>0.08</td>\n",
              "      <td>0.15</td>\n",
              "      <td>19.60</td>\n",
              "      <td>37.7</td>\n",
              "      <td>0.86</td>\n",
              "      <td>33.0</td>\n",
              "      <td>33.0</td>\n",
              "      <td>33.0</td>\n",
              "    </tr>\n",
              "    <tr>\n",
              "      <th>1</th>\n",
              "      <td>89.2767</td>\n",
              "      <td>25.5678</td>\n",
              "      <td>Mithpukur</td>\n",
              "      <td>belab</td>\n",
              "      <td>high ground</td>\n",
              "      <td>Clay loam</td>\n",
              "      <td>4.9</td>\n",
              "      <td>0.09</td>\n",
              "      <td>0.25</td>\n",
              "      <td>4.10</td>\n",
              "      <td>32.0</td>\n",
              "      <td>0.75</td>\n",
              "      <td>33.0</td>\n",
              "      <td>33.0</td>\n",
              "      <td>33.0</td>\n",
              "    </tr>\n",
              "    <tr>\n",
              "      <th>2</th>\n",
              "      <td>89.2767</td>\n",
              "      <td>25.5678</td>\n",
              "      <td>Mithpukur</td>\n",
              "      <td>belab</td>\n",
              "      <td>high ground</td>\n",
              "      <td>Clay loam</td>\n",
              "      <td>4.6</td>\n",
              "      <td>0.05</td>\n",
              "      <td>0.09</td>\n",
              "      <td>13.30</td>\n",
              "      <td>13.5</td>\n",
              "      <td>0.95</td>\n",
              "      <td>33.0</td>\n",
              "      <td>33.0</td>\n",
              "      <td>33.0</td>\n",
              "    </tr>\n",
              "    <tr>\n",
              "      <th>3</th>\n",
              "      <td>89.2767</td>\n",
              "      <td>25.5678</td>\n",
              "      <td>Mithpukur</td>\n",
              "      <td>belab</td>\n",
              "      <td>high ground</td>\n",
              "      <td>Clay loam</td>\n",
              "      <td>5.2</td>\n",
              "      <td>0.06</td>\n",
              "      <td>0.30</td>\n",
              "      <td>20.20</td>\n",
              "      <td>30.0</td>\n",
              "      <td>1.00</td>\n",
              "      <td>33.0</td>\n",
              "      <td>33.0</td>\n",
              "      <td>33.0</td>\n",
              "    </tr>\n",
              "    <tr>\n",
              "      <th>4</th>\n",
              "      <td>89.2767</td>\n",
              "      <td>25.5678</td>\n",
              "      <td>Mithpukur</td>\n",
              "      <td>belab</td>\n",
              "      <td>high ground</td>\n",
              "      <td>Clay loam</td>\n",
              "      <td>5.3</td>\n",
              "      <td>0.11</td>\n",
              "      <td>0.17</td>\n",
              "      <td>20.50</td>\n",
              "      <td>27.8</td>\n",
              "      <td>1.04</td>\n",
              "      <td>33.0</td>\n",
              "      <td>33.0</td>\n",
              "      <td>33.0</td>\n",
              "    </tr>\n",
              "    <tr>\n",
              "      <th>5</th>\n",
              "      <td>89.2767</td>\n",
              "      <td>25.5678</td>\n",
              "      <td>Mithpukur</td>\n",
              "      <td>belab</td>\n",
              "      <td>high ground</td>\n",
              "      <td>Clay loam</td>\n",
              "      <td>4.9</td>\n",
              "      <td>0.08</td>\n",
              "      <td>0.35</td>\n",
              "      <td>21.70</td>\n",
              "      <td>27.8</td>\n",
              "      <td>1.16</td>\n",
              "      <td>33.0</td>\n",
              "      <td>33.0</td>\n",
              "      <td>33.0</td>\n",
              "    </tr>\n",
              "    <tr>\n",
              "      <th>6</th>\n",
              "      <td>89.2767</td>\n",
              "      <td>25.5678</td>\n",
              "      <td>Mithpukur</td>\n",
              "      <td>belab</td>\n",
              "      <td>high ground</td>\n",
              "      <td>Clay loam</td>\n",
              "      <td>4.8</td>\n",
              "      <td>0.06</td>\n",
              "      <td>0.29</td>\n",
              "      <td>7.70</td>\n",
              "      <td>39.7</td>\n",
              "      <td>0.88</td>\n",
              "      <td>33.0</td>\n",
              "      <td>33.0</td>\n",
              "      <td>33.0</td>\n",
              "    </tr>\n",
              "    <tr>\n",
              "      <th>7</th>\n",
              "      <td>89.2767</td>\n",
              "      <td>25.5678</td>\n",
              "      <td>Mithpukur</td>\n",
              "      <td>belab</td>\n",
              "      <td>high ground</td>\n",
              "      <td>Clay loam</td>\n",
              "      <td>5.2</td>\n",
              "      <td>0.08</td>\n",
              "      <td>0.50</td>\n",
              "      <td>18.50</td>\n",
              "      <td>25.6</td>\n",
              "      <td>1.05</td>\n",
              "      <td>33.0</td>\n",
              "      <td>33.0</td>\n",
              "      <td>33.0</td>\n",
              "    </tr>\n",
              "    <tr>\n",
              "      <th>8</th>\n",
              "      <td>89.2767</td>\n",
              "      <td>25.5678</td>\n",
              "      <td>Mithpukur</td>\n",
              "      <td>Noadda</td>\n",
              "      <td>high ground</td>\n",
              "      <td>Clay loam</td>\n",
              "      <td>5.3</td>\n",
              "      <td>0.08</td>\n",
              "      <td>0.17</td>\n",
              "      <td>12.00</td>\n",
              "      <td>26.4</td>\n",
              "      <td>0.74</td>\n",
              "      <td>33.0</td>\n",
              "      <td>33.0</td>\n",
              "      <td>33.0</td>\n",
              "    </tr>\n",
              "    <tr>\n",
              "      <th>9</th>\n",
              "      <td>89.2767</td>\n",
              "      <td>25.5678</td>\n",
              "      <td>Mithpukur</td>\n",
              "      <td>Noadda</td>\n",
              "      <td>high ground</td>\n",
              "      <td>Clay loam</td>\n",
              "      <td>5.0</td>\n",
              "      <td>0.06</td>\n",
              "      <td>0.18</td>\n",
              "      <td>0.06</td>\n",
              "      <td>10.7</td>\n",
              "      <td>0.91</td>\n",
              "      <td>33.0</td>\n",
              "      <td>33.0</td>\n",
              "      <td>33.0</td>\n",
              "    </tr>\n",
              "    <tr>\n",
              "      <th>10</th>\n",
              "      <td>89.2767</td>\n",
              "      <td>25.5678</td>\n",
              "      <td>Mithpukur</td>\n",
              "      <td>Noadda</td>\n",
              "      <td>high ground</td>\n",
              "      <td>Clay loam</td>\n",
              "      <td>5.0</td>\n",
              "      <td>0.09</td>\n",
              "      <td>0.17</td>\n",
              "      <td>9.60</td>\n",
              "      <td>39.1</td>\n",
              "      <td>0.91</td>\n",
              "      <td>33.0</td>\n",
              "      <td>33.0</td>\n",
              "      <td>33.0</td>\n",
              "    </tr>\n",
              "    <tr>\n",
              "      <th>11</th>\n",
              "      <td>89.2767</td>\n",
              "      <td>25.5678</td>\n",
              "      <td>Mithpukur</td>\n",
              "      <td>belab</td>\n",
              "      <td>high ground</td>\n",
              "      <td>Clay loam</td>\n",
              "      <td>5.5</td>\n",
              "      <td>0.12</td>\n",
              "      <td>0.45</td>\n",
              "      <td>9.90</td>\n",
              "      <td>33.6</td>\n",
              "      <td>0.78</td>\n",
              "      <td>33.0</td>\n",
              "      <td>33.0</td>\n",
              "      <td>33.0</td>\n",
              "    </tr>\n",
              "    <tr>\n",
              "      <th>12</th>\n",
              "      <td>89.2767</td>\n",
              "      <td>25.5678</td>\n",
              "      <td>Mithpukur</td>\n",
              "      <td>belab</td>\n",
              "      <td>high ground</td>\n",
              "      <td>loam</td>\n",
              "      <td>5.3</td>\n",
              "      <td>0.06</td>\n",
              "      <td>0.10</td>\n",
              "      <td>32.00</td>\n",
              "      <td>23.3</td>\n",
              "      <td>1.15</td>\n",
              "      <td>40.0</td>\n",
              "      <td>40.0</td>\n",
              "      <td>20.0</td>\n",
              "    </tr>\n",
              "    <tr>\n",
              "      <th>13</th>\n",
              "      <td>89.2767</td>\n",
              "      <td>25.5678</td>\n",
              "      <td>Mithpukur</td>\n",
              "      <td>belab</td>\n",
              "      <td>high ground</td>\n",
              "      <td>Clay loam</td>\n",
              "      <td>4.8</td>\n",
              "      <td>0.08</td>\n",
              "      <td>0.19</td>\n",
              "      <td>11.20</td>\n",
              "      <td>22.9</td>\n",
              "      <td>0.98</td>\n",
              "      <td>33.0</td>\n",
              "      <td>33.0</td>\n",
              "      <td>33.0</td>\n",
              "    </tr>\n",
              "    <tr>\n",
              "      <th>14</th>\n",
              "      <td>89.2767</td>\n",
              "      <td>25.5678</td>\n",
              "      <td>Mithpukur</td>\n",
              "      <td>belab</td>\n",
              "      <td>high ground</td>\n",
              "      <td>Clay loam</td>\n",
              "      <td>4.7</td>\n",
              "      <td>0.08</td>\n",
              "      <td>0.14</td>\n",
              "      <td>7.10</td>\n",
              "      <td>22.4</td>\n",
              "      <td>1.02</td>\n",
              "      <td>33.0</td>\n",
              "      <td>33.0</td>\n",
              "      <td>33.0</td>\n",
              "    </tr>\n",
              "  </tbody>\n",
              "</table>\n",
              "</div>\n",
              "    <div class=\"colab-df-buttons\">\n",
              "\n",
              "  <div class=\"colab-df-container\">\n",
              "    <button class=\"colab-df-convert\" onclick=\"convertToInteractive('df-1e59a62a-a5fc-4b8b-88a0-dc4ae171808c')\"\n",
              "            title=\"Convert this dataframe to an interactive table.\"\n",
              "            style=\"display:none;\">\n",
              "\n",
              "  <svg xmlns=\"http://www.w3.org/2000/svg\" height=\"24px\" viewBox=\"0 -960 960 960\">\n",
              "    <path d=\"M120-120v-720h720v720H120Zm60-500h600v-160H180v160Zm220 220h160v-160H400v160Zm0 220h160v-160H400v160ZM180-400h160v-160H180v160Zm440 0h160v-160H620v160ZM180-180h160v-160H180v160Zm440 0h160v-160H620v160Z\"/>\n",
              "  </svg>\n",
              "    </button>\n",
              "\n",
              "  <style>\n",
              "    .colab-df-container {\n",
              "      display:flex;\n",
              "      gap: 12px;\n",
              "    }\n",
              "\n",
              "    .colab-df-convert {\n",
              "      background-color: #E8F0FE;\n",
              "      border: none;\n",
              "      border-radius: 50%;\n",
              "      cursor: pointer;\n",
              "      display: none;\n",
              "      fill: #1967D2;\n",
              "      height: 32px;\n",
              "      padding: 0 0 0 0;\n",
              "      width: 32px;\n",
              "    }\n",
              "\n",
              "    .colab-df-convert:hover {\n",
              "      background-color: #E2EBFA;\n",
              "      box-shadow: 0px 1px 2px rgba(60, 64, 67, 0.3), 0px 1px 3px 1px rgba(60, 64, 67, 0.15);\n",
              "      fill: #174EA6;\n",
              "    }\n",
              "\n",
              "    .colab-df-buttons div {\n",
              "      margin-bottom: 4px;\n",
              "    }\n",
              "\n",
              "    [theme=dark] .colab-df-convert {\n",
              "      background-color: #3B4455;\n",
              "      fill: #D2E3FC;\n",
              "    }\n",
              "\n",
              "    [theme=dark] .colab-df-convert:hover {\n",
              "      background-color: #434B5C;\n",
              "      box-shadow: 0px 1px 3px 1px rgba(0, 0, 0, 0.15);\n",
              "      filter: drop-shadow(0px 1px 2px rgba(0, 0, 0, 0.3));\n",
              "      fill: #FFFFFF;\n",
              "    }\n",
              "  </style>\n",
              "\n",
              "    <script>\n",
              "      const buttonEl =\n",
              "        document.querySelector('#df-1e59a62a-a5fc-4b8b-88a0-dc4ae171808c button.colab-df-convert');\n",
              "      buttonEl.style.display =\n",
              "        google.colab.kernel.accessAllowed ? 'block' : 'none';\n",
              "\n",
              "      async function convertToInteractive(key) {\n",
              "        const element = document.querySelector('#df-1e59a62a-a5fc-4b8b-88a0-dc4ae171808c');\n",
              "        const dataTable =\n",
              "          await google.colab.kernel.invokeFunction('convertToInteractive',\n",
              "                                                    [key], {});\n",
              "        if (!dataTable) return;\n",
              "\n",
              "        const docLinkHtml = 'Like what you see? Visit the ' +\n",
              "          '<a target=\"_blank\" href=https://colab.research.google.com/notebooks/data_table.ipynb>data table notebook</a>'\n",
              "          + ' to learn more about interactive tables.';\n",
              "        element.innerHTML = '';\n",
              "        dataTable['output_type'] = 'display_data';\n",
              "        await google.colab.output.renderOutput(dataTable, element);\n",
              "        const docLink = document.createElement('div');\n",
              "        docLink.innerHTML = docLinkHtml;\n",
              "        element.appendChild(docLink);\n",
              "      }\n",
              "    </script>\n",
              "  </div>\n",
              "\n",
              "\n",
              "<div id=\"df-10fa4b2a-a5a9-424c-b80c-a0fcce0d110a\">\n",
              "  <button class=\"colab-df-quickchart\" onclick=\"quickchart('df-10fa4b2a-a5a9-424c-b80c-a0fcce0d110a')\"\n",
              "            title=\"Suggest charts\"\n",
              "            style=\"display:none;\">\n",
              "\n",
              "<svg xmlns=\"http://www.w3.org/2000/svg\" height=\"24px\"viewBox=\"0 0 24 24\"\n",
              "     width=\"24px\">\n",
              "    <g>\n",
              "        <path d=\"M19 3H5c-1.1 0-2 .9-2 2v14c0 1.1.9 2 2 2h14c1.1 0 2-.9 2-2V5c0-1.1-.9-2-2-2zM9 17H7v-7h2v7zm4 0h-2V7h2v10zm4 0h-2v-4h2v4z\"/>\n",
              "    </g>\n",
              "</svg>\n",
              "  </button>\n",
              "\n",
              "<style>\n",
              "  .colab-df-quickchart {\n",
              "      --bg-color: #E8F0FE;\n",
              "      --fill-color: #1967D2;\n",
              "      --hover-bg-color: #E2EBFA;\n",
              "      --hover-fill-color: #174EA6;\n",
              "      --disabled-fill-color: #AAA;\n",
              "      --disabled-bg-color: #DDD;\n",
              "  }\n",
              "\n",
              "  [theme=dark] .colab-df-quickchart {\n",
              "      --bg-color: #3B4455;\n",
              "      --fill-color: #D2E3FC;\n",
              "      --hover-bg-color: #434B5C;\n",
              "      --hover-fill-color: #FFFFFF;\n",
              "      --disabled-bg-color: #3B4455;\n",
              "      --disabled-fill-color: #666;\n",
              "  }\n",
              "\n",
              "  .colab-df-quickchart {\n",
              "    background-color: var(--bg-color);\n",
              "    border: none;\n",
              "    border-radius: 50%;\n",
              "    cursor: pointer;\n",
              "    display: none;\n",
              "    fill: var(--fill-color);\n",
              "    height: 32px;\n",
              "    padding: 0;\n",
              "    width: 32px;\n",
              "  }\n",
              "\n",
              "  .colab-df-quickchart:hover {\n",
              "    background-color: var(--hover-bg-color);\n",
              "    box-shadow: 0 1px 2px rgba(60, 64, 67, 0.3), 0 1px 3px 1px rgba(60, 64, 67, 0.15);\n",
              "    fill: var(--button-hover-fill-color);\n",
              "  }\n",
              "\n",
              "  .colab-df-quickchart-complete:disabled,\n",
              "  .colab-df-quickchart-complete:disabled:hover {\n",
              "    background-color: var(--disabled-bg-color);\n",
              "    fill: var(--disabled-fill-color);\n",
              "    box-shadow: none;\n",
              "  }\n",
              "\n",
              "  .colab-df-spinner {\n",
              "    border: 2px solid var(--fill-color);\n",
              "    border-color: transparent;\n",
              "    border-bottom-color: var(--fill-color);\n",
              "    animation:\n",
              "      spin 1s steps(1) infinite;\n",
              "  }\n",
              "\n",
              "  @keyframes spin {\n",
              "    0% {\n",
              "      border-color: transparent;\n",
              "      border-bottom-color: var(--fill-color);\n",
              "      border-left-color: var(--fill-color);\n",
              "    }\n",
              "    20% {\n",
              "      border-color: transparent;\n",
              "      border-left-color: var(--fill-color);\n",
              "      border-top-color: var(--fill-color);\n",
              "    }\n",
              "    30% {\n",
              "      border-color: transparent;\n",
              "      border-left-color: var(--fill-color);\n",
              "      border-top-color: var(--fill-color);\n",
              "      border-right-color: var(--fill-color);\n",
              "    }\n",
              "    40% {\n",
              "      border-color: transparent;\n",
              "      border-right-color: var(--fill-color);\n",
              "      border-top-color: var(--fill-color);\n",
              "    }\n",
              "    60% {\n",
              "      border-color: transparent;\n",
              "      border-right-color: var(--fill-color);\n",
              "    }\n",
              "    80% {\n",
              "      border-color: transparent;\n",
              "      border-right-color: var(--fill-color);\n",
              "      border-bottom-color: var(--fill-color);\n",
              "    }\n",
              "    90% {\n",
              "      border-color: transparent;\n",
              "      border-bottom-color: var(--fill-color);\n",
              "    }\n",
              "  }\n",
              "</style>\n",
              "\n",
              "  <script>\n",
              "    async function quickchart(key) {\n",
              "      const quickchartButtonEl =\n",
              "        document.querySelector('#' + key + ' button');\n",
              "      quickchartButtonEl.disabled = true;  // To prevent multiple clicks.\n",
              "      quickchartButtonEl.classList.add('colab-df-spinner');\n",
              "      try {\n",
              "        const charts = await google.colab.kernel.invokeFunction(\n",
              "            'suggestCharts', [key], {});\n",
              "      } catch (error) {\n",
              "        console.error('Error during call to suggestCharts:', error);\n",
              "      }\n",
              "      quickchartButtonEl.classList.remove('colab-df-spinner');\n",
              "      quickchartButtonEl.classList.add('colab-df-quickchart-complete');\n",
              "    }\n",
              "    (() => {\n",
              "      let quickchartButtonEl =\n",
              "        document.querySelector('#df-10fa4b2a-a5a9-424c-b80c-a0fcce0d110a button');\n",
              "      quickchartButtonEl.style.display =\n",
              "        google.colab.kernel.accessAllowed ? 'block' : 'none';\n",
              "    })();\n",
              "  </script>\n",
              "</div>\n",
              "\n",
              "    </div>\n",
              "  </div>\n"
            ],
            "application/vnd.google.colaboratory.intrinsic+json": {
              "type": "dataframe",
              "variable_name": "merged_data",
              "summary": "{\n  \"name\": \"merged_data\",\n  \"rows\": 2584,\n  \"fields\": [\n    {\n      \"column\": \"longitude\",\n      \"properties\": {\n        \"dtype\": \"number\",\n        \"std\": 31.59727707573775,\n        \"min\": 4.4303,\n        \"max\": 89.4167,\n        \"num_unique_values\": 2106,\n        \"samples\": [\n          4.43363,\n          8.88029,\n          7.60667\n        ],\n        \"semantic_type\": \"\",\n        \"description\": \"\"\n      }\n    },\n    {\n      \"column\": \"latitude\",\n      \"properties\": {\n        \"dtype\": \"number\",\n        \"std\": 6.212016120990685,\n        \"min\": 8.03907,\n        \"max\": 25.85,\n        \"num_unique_values\": 2095,\n        \"samples\": [\n          9.37658,\n          9.64544,\n          9.93556\n        ],\n        \"semantic_type\": \"\",\n        \"description\": \"\"\n      }\n    },\n    {\n      \"column\": \"Area\",\n      \"properties\": {\n        \"dtype\": \"category\",\n        \"num_unique_values\": 6,\n        \"samples\": [\n          \"Mithpukur\",\n          \"Pirgacha \",\n          \"isda\"\n        ],\n        \"semantic_type\": \"\",\n        \"description\": \"\"\n      }\n    },\n    {\n      \"column\": \"Soil_group\",\n      \"properties\": {\n        \"dtype\": \"category\",\n        \"num_unique_values\": 23,\n        \"samples\": [\n          \"The militants\",\n          \"Gangachara\",\n          \"belab\"\n        ],\n        \"semantic_type\": \"\",\n        \"description\": \"\"\n      }\n    },\n    {\n      \"column\": \"Land_class\",\n      \"properties\": {\n        \"dtype\": \"category\",\n        \"num_unique_values\": 6,\n        \"samples\": [\n          \"high ground\",\n          \"Medium high land\",\n          \"isda\"\n        ],\n        \"semantic_type\": \"\",\n        \"description\": \"\"\n      }\n    },\n    {\n      \"column\": \"Soil_type\",\n      \"properties\": {\n        \"dtype\": \"category\",\n        \"num_unique_values\": 7,\n        \"samples\": [\n          \"Clay loam \",\n          \"loam\",\n          \"loam clay\"\n        ],\n        \"semantic_type\": \"\",\n        \"description\": \"\"\n      }\n    },\n    {\n      \"column\": \"pH\",\n      \"properties\": {\n        \"dtype\": \"number\",\n        \"std\": 0.518722491330242,\n        \"min\": 4.1,\n        \"max\": 7.9454,\n        \"num_unique_values\": 2117,\n        \"samples\": [\n          7.24758,\n          5.56168,\n          5.67556\n        ],\n        \"semantic_type\": \"\",\n        \"description\": \"\"\n      }\n    },\n    {\n      \"column\": \"Nitrogen\",\n      \"properties\": {\n        \"dtype\": \"number\",\n        \"std\": 0.03928239945302299,\n        \"min\": 0.0008,\n        \"max\": 0.257264,\n        \"num_unique_values\": 2142,\n        \"samples\": [\n          0.0438493,\n          0.0218958,\n          0.0401686\n        ],\n        \"semantic_type\": \"\",\n        \"description\": \"\"\n      }\n    },\n    {\n      \"column\": \"Potassium\",\n      \"properties\": {\n        \"dtype\": \"number\",\n        \"std\": 0.1404409815000695,\n        \"min\": 0.0,\n        \"max\": 0.99,\n        \"num_unique_values\": 1536,\n        \"samples\": [\n          0.3854769230769231,\n          0.3135846153846154,\n          0.2038461538461538\n        ],\n        \"semantic_type\": \"\",\n        \"description\": \"\"\n      }\n    },\n    {\n      \"column\": \"Phosphorus\",\n      \"properties\": {\n        \"dtype\": \"number\",\n        \"std\": 9.26640038822231,\n        \"min\": 0.06,\n        \"max\": 74.5,\n        \"num_unique_values\": 2391,\n        \"samples\": [\n          3.06762,\n          6.7,\n          7.28415\n        ],\n        \"semantic_type\": \"\",\n        \"description\": \"\"\n      }\n    },\n    {\n      \"column\": \"Sulfur\",\n      \"properties\": {\n        \"dtype\": \"number\",\n        \"std\": 5.267588816949085,\n        \"min\": 0.65,\n        \"max\": 39.7,\n        \"num_unique_values\": 2363,\n        \"samples\": [\n          7.14132,\n          7.1908,\n          7.29402\n        ],\n        \"semantic_type\": \"\",\n        \"description\": \"\"\n      }\n    },\n    {\n      \"column\": \"Zinc\",\n      \"properties\": {\n        \"dtype\": \"number\",\n        \"std\": 0.47058625928265435,\n        \"min\": 0.08,\n        \"max\": 4.0,\n        \"num_unique_values\": 2236,\n        \"samples\": [\n          1.37388,\n          1.1618,\n          1.05965\n        ],\n        \"semantic_type\": \"\",\n        \"description\": \"\"\n      }\n    },\n    {\n      \"column\": \"Sand\",\n      \"properties\": {\n        \"dtype\": \"number\",\n        \"std\": 10.998710724748229,\n        \"min\": 20.0,\n        \"max\": 80.0,\n        \"num_unique_values\": 41,\n        \"samples\": [\n          67.0,\n          58.0,\n          57.0\n        ],\n        \"semantic_type\": \"\",\n        \"description\": \"\"\n      }\n    },\n    {\n      \"column\": \"Silt\",\n      \"properties\": {\n        \"dtype\": \"number\",\n        \"std\": 7.472130728967684,\n        \"min\": 10.0,\n        \"max\": 40.0,\n        \"num_unique_values\": 23,\n        \"samples\": [\n          13.0,\n          15.0,\n          33.0\n        ],\n        \"semantic_type\": \"\",\n        \"description\": \"\"\n      }\n    },\n    {\n      \"column\": \"Clay\",\n      \"properties\": {\n        \"dtype\": \"number\",\n        \"std\": 5.535706946237966,\n        \"min\": 10.0,\n        \"max\": 60.0,\n        \"num_unique_values\": 27,\n        \"samples\": [\n          18.0,\n          23.0,\n          13.0\n        ],\n        \"semantic_type\": \"\",\n        \"description\": \"\"\n      }\n    }\n  ]\n}"
            }
          },
          "metadata": {},
          "execution_count": 8
        }
      ]
    },
    {
      "cell_type": "code",
      "source": [
        "# last 15\n",
        "\n",
        "merged_data.tail(15)"
      ],
      "metadata": {
        "colab": {
          "base_uri": "https://localhost:8080/",
          "height": 540
        },
        "id": "s6ONnyFuGm8I",
        "outputId": "cf3978ed-2e31-402b-a8bc-ea88fa64d067"
      },
      "execution_count": 9,
      "outputs": [
        {
          "output_type": "execute_result",
          "data": {
            "text/plain": [
              "      longitude  latitude  Area Soil_group Land_class Soil_type       pH  \\\n",
              "2569    6.94642  11.12360  isda       isda       isda      isda  5.86296   \n",
              "2570    5.08187  10.26989  isda       isda       isda      isda  6.13110   \n",
              "2571    5.36081  10.61764  isda       isda       isda      isda  6.11732   \n",
              "2572    8.46271   8.44637  isda       isda       isda      isda  6.51239   \n",
              "2573    8.65287   8.38496  isda       isda       isda      isda  6.44842   \n",
              "2574    5.32360   9.55153  isda       isda       isda      isda  6.34957   \n",
              "2575    6.07467   9.46883  isda       isda       isda      isda  6.29708   \n",
              "2576    7.65472  11.58962  isda       isda       isda      isda  5.72781   \n",
              "2577    5.02394  10.28686  isda       isda       isda      isda  6.19223   \n",
              "2578   11.35612   9.12813  isda       isda       isda      isda  5.76453   \n",
              "2579    5.40560   9.96670  isda       isda       isda      isda  6.10499   \n",
              "2580    6.06999   9.47827  isda       isda       isda      isda  6.31601   \n",
              "2581    8.65110   8.36451  isda       isda       isda      isda  5.86257   \n",
              "2582   11.39654   9.14604  isda       isda       isda      isda  5.97490   \n",
              "2583    8.63908   8.38572  isda       isda       isda      isda  6.22346   \n",
              "\n",
              "      Nitrogen  Potassium  Phosphorus   Sulfur      Zinc  Sand  Silt  Clay  \n",
              "2569  0.043368   0.165479     4.37794  7.74192  0.863370  63.0  19.0  16.0  \n",
              "2570  0.019946   0.051824     5.69199  3.49763  1.069300  73.0  16.0  12.0  \n",
              "2571  0.038009   0.191717     7.21047  9.28102  0.864146  75.0  15.0  12.0  \n",
              "2572  0.027794   0.105385     5.26273  5.58958  0.711621  73.0  18.0  11.0  \n",
              "2573  0.023189   0.165479     5.21956  5.34343  0.626419  70.0  19.0  15.0  \n",
              "2574  0.028294   0.107011     3.78928  7.06613  1.340680  69.0  19.0  14.0  \n",
              "2575  0.025033   0.141833     3.43501  4.43581  0.987121  70.0  17.0  13.0  \n",
              "2576  0.025954   0.183486     5.06168  5.41389  1.391090  58.0  23.0  20.0  \n",
              "2577  0.052833   0.204559    11.30770  5.50195  1.759930  73.0  17.0  11.0  \n",
              "2578  0.028507   0.171297     4.57492  4.93855  0.828437  54.0  22.0  25.0  \n",
              "2579  0.031200   0.162866     3.39155  6.63695  0.911567  66.0  19.0  14.0  \n",
              "2580  0.028539   0.143354     4.03134  5.75685  0.882494  66.0  17.0  13.0  \n",
              "2581  0.062451   0.233885     2.53468  8.79315  1.039760  70.0  20.0  15.0  \n",
              "2582  0.033715   0.124574     9.60043  5.34999  0.858591  62.0  22.0  19.0  \n",
              "2583  0.021387   0.109438     4.22926  4.92892  0.847897  70.0  18.0  14.0  "
            ],
            "text/html": [
              "\n",
              "  <div id=\"df-6eeef432-8cd0-4dfc-af5d-82482fb456f8\" class=\"colab-df-container\">\n",
              "    <div>\n",
              "<style scoped>\n",
              "    .dataframe tbody tr th:only-of-type {\n",
              "        vertical-align: middle;\n",
              "    }\n",
              "\n",
              "    .dataframe tbody tr th {\n",
              "        vertical-align: top;\n",
              "    }\n",
              "\n",
              "    .dataframe thead th {\n",
              "        text-align: right;\n",
              "    }\n",
              "</style>\n",
              "<table border=\"1\" class=\"dataframe\">\n",
              "  <thead>\n",
              "    <tr style=\"text-align: right;\">\n",
              "      <th></th>\n",
              "      <th>longitude</th>\n",
              "      <th>latitude</th>\n",
              "      <th>Area</th>\n",
              "      <th>Soil_group</th>\n",
              "      <th>Land_class</th>\n",
              "      <th>Soil_type</th>\n",
              "      <th>pH</th>\n",
              "      <th>Nitrogen</th>\n",
              "      <th>Potassium</th>\n",
              "      <th>Phosphorus</th>\n",
              "      <th>Sulfur</th>\n",
              "      <th>Zinc</th>\n",
              "      <th>Sand</th>\n",
              "      <th>Silt</th>\n",
              "      <th>Clay</th>\n",
              "    </tr>\n",
              "  </thead>\n",
              "  <tbody>\n",
              "    <tr>\n",
              "      <th>2569</th>\n",
              "      <td>6.94642</td>\n",
              "      <td>11.12360</td>\n",
              "      <td>isda</td>\n",
              "      <td>isda</td>\n",
              "      <td>isda</td>\n",
              "      <td>isda</td>\n",
              "      <td>5.86296</td>\n",
              "      <td>0.043368</td>\n",
              "      <td>0.165479</td>\n",
              "      <td>4.37794</td>\n",
              "      <td>7.74192</td>\n",
              "      <td>0.863370</td>\n",
              "      <td>63.0</td>\n",
              "      <td>19.0</td>\n",
              "      <td>16.0</td>\n",
              "    </tr>\n",
              "    <tr>\n",
              "      <th>2570</th>\n",
              "      <td>5.08187</td>\n",
              "      <td>10.26989</td>\n",
              "      <td>isda</td>\n",
              "      <td>isda</td>\n",
              "      <td>isda</td>\n",
              "      <td>isda</td>\n",
              "      <td>6.13110</td>\n",
              "      <td>0.019946</td>\n",
              "      <td>0.051824</td>\n",
              "      <td>5.69199</td>\n",
              "      <td>3.49763</td>\n",
              "      <td>1.069300</td>\n",
              "      <td>73.0</td>\n",
              "      <td>16.0</td>\n",
              "      <td>12.0</td>\n",
              "    </tr>\n",
              "    <tr>\n",
              "      <th>2571</th>\n",
              "      <td>5.36081</td>\n",
              "      <td>10.61764</td>\n",
              "      <td>isda</td>\n",
              "      <td>isda</td>\n",
              "      <td>isda</td>\n",
              "      <td>isda</td>\n",
              "      <td>6.11732</td>\n",
              "      <td>0.038009</td>\n",
              "      <td>0.191717</td>\n",
              "      <td>7.21047</td>\n",
              "      <td>9.28102</td>\n",
              "      <td>0.864146</td>\n",
              "      <td>75.0</td>\n",
              "      <td>15.0</td>\n",
              "      <td>12.0</td>\n",
              "    </tr>\n",
              "    <tr>\n",
              "      <th>2572</th>\n",
              "      <td>8.46271</td>\n",
              "      <td>8.44637</td>\n",
              "      <td>isda</td>\n",
              "      <td>isda</td>\n",
              "      <td>isda</td>\n",
              "      <td>isda</td>\n",
              "      <td>6.51239</td>\n",
              "      <td>0.027794</td>\n",
              "      <td>0.105385</td>\n",
              "      <td>5.26273</td>\n",
              "      <td>5.58958</td>\n",
              "      <td>0.711621</td>\n",
              "      <td>73.0</td>\n",
              "      <td>18.0</td>\n",
              "      <td>11.0</td>\n",
              "    </tr>\n",
              "    <tr>\n",
              "      <th>2573</th>\n",
              "      <td>8.65287</td>\n",
              "      <td>8.38496</td>\n",
              "      <td>isda</td>\n",
              "      <td>isda</td>\n",
              "      <td>isda</td>\n",
              "      <td>isda</td>\n",
              "      <td>6.44842</td>\n",
              "      <td>0.023189</td>\n",
              "      <td>0.165479</td>\n",
              "      <td>5.21956</td>\n",
              "      <td>5.34343</td>\n",
              "      <td>0.626419</td>\n",
              "      <td>70.0</td>\n",
              "      <td>19.0</td>\n",
              "      <td>15.0</td>\n",
              "    </tr>\n",
              "    <tr>\n",
              "      <th>2574</th>\n",
              "      <td>5.32360</td>\n",
              "      <td>9.55153</td>\n",
              "      <td>isda</td>\n",
              "      <td>isda</td>\n",
              "      <td>isda</td>\n",
              "      <td>isda</td>\n",
              "      <td>6.34957</td>\n",
              "      <td>0.028294</td>\n",
              "      <td>0.107011</td>\n",
              "      <td>3.78928</td>\n",
              "      <td>7.06613</td>\n",
              "      <td>1.340680</td>\n",
              "      <td>69.0</td>\n",
              "      <td>19.0</td>\n",
              "      <td>14.0</td>\n",
              "    </tr>\n",
              "    <tr>\n",
              "      <th>2575</th>\n",
              "      <td>6.07467</td>\n",
              "      <td>9.46883</td>\n",
              "      <td>isda</td>\n",
              "      <td>isda</td>\n",
              "      <td>isda</td>\n",
              "      <td>isda</td>\n",
              "      <td>6.29708</td>\n",
              "      <td>0.025033</td>\n",
              "      <td>0.141833</td>\n",
              "      <td>3.43501</td>\n",
              "      <td>4.43581</td>\n",
              "      <td>0.987121</td>\n",
              "      <td>70.0</td>\n",
              "      <td>17.0</td>\n",
              "      <td>13.0</td>\n",
              "    </tr>\n",
              "    <tr>\n",
              "      <th>2576</th>\n",
              "      <td>7.65472</td>\n",
              "      <td>11.58962</td>\n",
              "      <td>isda</td>\n",
              "      <td>isda</td>\n",
              "      <td>isda</td>\n",
              "      <td>isda</td>\n",
              "      <td>5.72781</td>\n",
              "      <td>0.025954</td>\n",
              "      <td>0.183486</td>\n",
              "      <td>5.06168</td>\n",
              "      <td>5.41389</td>\n",
              "      <td>1.391090</td>\n",
              "      <td>58.0</td>\n",
              "      <td>23.0</td>\n",
              "      <td>20.0</td>\n",
              "    </tr>\n",
              "    <tr>\n",
              "      <th>2577</th>\n",
              "      <td>5.02394</td>\n",
              "      <td>10.28686</td>\n",
              "      <td>isda</td>\n",
              "      <td>isda</td>\n",
              "      <td>isda</td>\n",
              "      <td>isda</td>\n",
              "      <td>6.19223</td>\n",
              "      <td>0.052833</td>\n",
              "      <td>0.204559</td>\n",
              "      <td>11.30770</td>\n",
              "      <td>5.50195</td>\n",
              "      <td>1.759930</td>\n",
              "      <td>73.0</td>\n",
              "      <td>17.0</td>\n",
              "      <td>11.0</td>\n",
              "    </tr>\n",
              "    <tr>\n",
              "      <th>2578</th>\n",
              "      <td>11.35612</td>\n",
              "      <td>9.12813</td>\n",
              "      <td>isda</td>\n",
              "      <td>isda</td>\n",
              "      <td>isda</td>\n",
              "      <td>isda</td>\n",
              "      <td>5.76453</td>\n",
              "      <td>0.028507</td>\n",
              "      <td>0.171297</td>\n",
              "      <td>4.57492</td>\n",
              "      <td>4.93855</td>\n",
              "      <td>0.828437</td>\n",
              "      <td>54.0</td>\n",
              "      <td>22.0</td>\n",
              "      <td>25.0</td>\n",
              "    </tr>\n",
              "    <tr>\n",
              "      <th>2579</th>\n",
              "      <td>5.40560</td>\n",
              "      <td>9.96670</td>\n",
              "      <td>isda</td>\n",
              "      <td>isda</td>\n",
              "      <td>isda</td>\n",
              "      <td>isda</td>\n",
              "      <td>6.10499</td>\n",
              "      <td>0.031200</td>\n",
              "      <td>0.162866</td>\n",
              "      <td>3.39155</td>\n",
              "      <td>6.63695</td>\n",
              "      <td>0.911567</td>\n",
              "      <td>66.0</td>\n",
              "      <td>19.0</td>\n",
              "      <td>14.0</td>\n",
              "    </tr>\n",
              "    <tr>\n",
              "      <th>2580</th>\n",
              "      <td>6.06999</td>\n",
              "      <td>9.47827</td>\n",
              "      <td>isda</td>\n",
              "      <td>isda</td>\n",
              "      <td>isda</td>\n",
              "      <td>isda</td>\n",
              "      <td>6.31601</td>\n",
              "      <td>0.028539</td>\n",
              "      <td>0.143354</td>\n",
              "      <td>4.03134</td>\n",
              "      <td>5.75685</td>\n",
              "      <td>0.882494</td>\n",
              "      <td>66.0</td>\n",
              "      <td>17.0</td>\n",
              "      <td>13.0</td>\n",
              "    </tr>\n",
              "    <tr>\n",
              "      <th>2581</th>\n",
              "      <td>8.65110</td>\n",
              "      <td>8.36451</td>\n",
              "      <td>isda</td>\n",
              "      <td>isda</td>\n",
              "      <td>isda</td>\n",
              "      <td>isda</td>\n",
              "      <td>5.86257</td>\n",
              "      <td>0.062451</td>\n",
              "      <td>0.233885</td>\n",
              "      <td>2.53468</td>\n",
              "      <td>8.79315</td>\n",
              "      <td>1.039760</td>\n",
              "      <td>70.0</td>\n",
              "      <td>20.0</td>\n",
              "      <td>15.0</td>\n",
              "    </tr>\n",
              "    <tr>\n",
              "      <th>2582</th>\n",
              "      <td>11.39654</td>\n",
              "      <td>9.14604</td>\n",
              "      <td>isda</td>\n",
              "      <td>isda</td>\n",
              "      <td>isda</td>\n",
              "      <td>isda</td>\n",
              "      <td>5.97490</td>\n",
              "      <td>0.033715</td>\n",
              "      <td>0.124574</td>\n",
              "      <td>9.60043</td>\n",
              "      <td>5.34999</td>\n",
              "      <td>0.858591</td>\n",
              "      <td>62.0</td>\n",
              "      <td>22.0</td>\n",
              "      <td>19.0</td>\n",
              "    </tr>\n",
              "    <tr>\n",
              "      <th>2583</th>\n",
              "      <td>8.63908</td>\n",
              "      <td>8.38572</td>\n",
              "      <td>isda</td>\n",
              "      <td>isda</td>\n",
              "      <td>isda</td>\n",
              "      <td>isda</td>\n",
              "      <td>6.22346</td>\n",
              "      <td>0.021387</td>\n",
              "      <td>0.109438</td>\n",
              "      <td>4.22926</td>\n",
              "      <td>4.92892</td>\n",
              "      <td>0.847897</td>\n",
              "      <td>70.0</td>\n",
              "      <td>18.0</td>\n",
              "      <td>14.0</td>\n",
              "    </tr>\n",
              "  </tbody>\n",
              "</table>\n",
              "</div>\n",
              "    <div class=\"colab-df-buttons\">\n",
              "\n",
              "  <div class=\"colab-df-container\">\n",
              "    <button class=\"colab-df-convert\" onclick=\"convertToInteractive('df-6eeef432-8cd0-4dfc-af5d-82482fb456f8')\"\n",
              "            title=\"Convert this dataframe to an interactive table.\"\n",
              "            style=\"display:none;\">\n",
              "\n",
              "  <svg xmlns=\"http://www.w3.org/2000/svg\" height=\"24px\" viewBox=\"0 -960 960 960\">\n",
              "    <path d=\"M120-120v-720h720v720H120Zm60-500h600v-160H180v160Zm220 220h160v-160H400v160Zm0 220h160v-160H400v160ZM180-400h160v-160H180v160Zm440 0h160v-160H620v160ZM180-180h160v-160H180v160Zm440 0h160v-160H620v160Z\"/>\n",
              "  </svg>\n",
              "    </button>\n",
              "\n",
              "  <style>\n",
              "    .colab-df-container {\n",
              "      display:flex;\n",
              "      gap: 12px;\n",
              "    }\n",
              "\n",
              "    .colab-df-convert {\n",
              "      background-color: #E8F0FE;\n",
              "      border: none;\n",
              "      border-radius: 50%;\n",
              "      cursor: pointer;\n",
              "      display: none;\n",
              "      fill: #1967D2;\n",
              "      height: 32px;\n",
              "      padding: 0 0 0 0;\n",
              "      width: 32px;\n",
              "    }\n",
              "\n",
              "    .colab-df-convert:hover {\n",
              "      background-color: #E2EBFA;\n",
              "      box-shadow: 0px 1px 2px rgba(60, 64, 67, 0.3), 0px 1px 3px 1px rgba(60, 64, 67, 0.15);\n",
              "      fill: #174EA6;\n",
              "    }\n",
              "\n",
              "    .colab-df-buttons div {\n",
              "      margin-bottom: 4px;\n",
              "    }\n",
              "\n",
              "    [theme=dark] .colab-df-convert {\n",
              "      background-color: #3B4455;\n",
              "      fill: #D2E3FC;\n",
              "    }\n",
              "\n",
              "    [theme=dark] .colab-df-convert:hover {\n",
              "      background-color: #434B5C;\n",
              "      box-shadow: 0px 1px 3px 1px rgba(0, 0, 0, 0.15);\n",
              "      filter: drop-shadow(0px 1px 2px rgba(0, 0, 0, 0.3));\n",
              "      fill: #FFFFFF;\n",
              "    }\n",
              "  </style>\n",
              "\n",
              "    <script>\n",
              "      const buttonEl =\n",
              "        document.querySelector('#df-6eeef432-8cd0-4dfc-af5d-82482fb456f8 button.colab-df-convert');\n",
              "      buttonEl.style.display =\n",
              "        google.colab.kernel.accessAllowed ? 'block' : 'none';\n",
              "\n",
              "      async function convertToInteractive(key) {\n",
              "        const element = document.querySelector('#df-6eeef432-8cd0-4dfc-af5d-82482fb456f8');\n",
              "        const dataTable =\n",
              "          await google.colab.kernel.invokeFunction('convertToInteractive',\n",
              "                                                    [key], {});\n",
              "        if (!dataTable) return;\n",
              "\n",
              "        const docLinkHtml = 'Like what you see? Visit the ' +\n",
              "          '<a target=\"_blank\" href=https://colab.research.google.com/notebooks/data_table.ipynb>data table notebook</a>'\n",
              "          + ' to learn more about interactive tables.';\n",
              "        element.innerHTML = '';\n",
              "        dataTable['output_type'] = 'display_data';\n",
              "        await google.colab.output.renderOutput(dataTable, element);\n",
              "        const docLink = document.createElement('div');\n",
              "        docLink.innerHTML = docLinkHtml;\n",
              "        element.appendChild(docLink);\n",
              "      }\n",
              "    </script>\n",
              "  </div>\n",
              "\n",
              "\n",
              "<div id=\"df-b10132ce-4900-4d3d-ad9c-6e82c8e5c87a\">\n",
              "  <button class=\"colab-df-quickchart\" onclick=\"quickchart('df-b10132ce-4900-4d3d-ad9c-6e82c8e5c87a')\"\n",
              "            title=\"Suggest charts\"\n",
              "            style=\"display:none;\">\n",
              "\n",
              "<svg xmlns=\"http://www.w3.org/2000/svg\" height=\"24px\"viewBox=\"0 0 24 24\"\n",
              "     width=\"24px\">\n",
              "    <g>\n",
              "        <path d=\"M19 3H5c-1.1 0-2 .9-2 2v14c0 1.1.9 2 2 2h14c1.1 0 2-.9 2-2V5c0-1.1-.9-2-2-2zM9 17H7v-7h2v7zm4 0h-2V7h2v10zm4 0h-2v-4h2v4z\"/>\n",
              "    </g>\n",
              "</svg>\n",
              "  </button>\n",
              "\n",
              "<style>\n",
              "  .colab-df-quickchart {\n",
              "      --bg-color: #E8F0FE;\n",
              "      --fill-color: #1967D2;\n",
              "      --hover-bg-color: #E2EBFA;\n",
              "      --hover-fill-color: #174EA6;\n",
              "      --disabled-fill-color: #AAA;\n",
              "      --disabled-bg-color: #DDD;\n",
              "  }\n",
              "\n",
              "  [theme=dark] .colab-df-quickchart {\n",
              "      --bg-color: #3B4455;\n",
              "      --fill-color: #D2E3FC;\n",
              "      --hover-bg-color: #434B5C;\n",
              "      --hover-fill-color: #FFFFFF;\n",
              "      --disabled-bg-color: #3B4455;\n",
              "      --disabled-fill-color: #666;\n",
              "  }\n",
              "\n",
              "  .colab-df-quickchart {\n",
              "    background-color: var(--bg-color);\n",
              "    border: none;\n",
              "    border-radius: 50%;\n",
              "    cursor: pointer;\n",
              "    display: none;\n",
              "    fill: var(--fill-color);\n",
              "    height: 32px;\n",
              "    padding: 0;\n",
              "    width: 32px;\n",
              "  }\n",
              "\n",
              "  .colab-df-quickchart:hover {\n",
              "    background-color: var(--hover-bg-color);\n",
              "    box-shadow: 0 1px 2px rgba(60, 64, 67, 0.3), 0 1px 3px 1px rgba(60, 64, 67, 0.15);\n",
              "    fill: var(--button-hover-fill-color);\n",
              "  }\n",
              "\n",
              "  .colab-df-quickchart-complete:disabled,\n",
              "  .colab-df-quickchart-complete:disabled:hover {\n",
              "    background-color: var(--disabled-bg-color);\n",
              "    fill: var(--disabled-fill-color);\n",
              "    box-shadow: none;\n",
              "  }\n",
              "\n",
              "  .colab-df-spinner {\n",
              "    border: 2px solid var(--fill-color);\n",
              "    border-color: transparent;\n",
              "    border-bottom-color: var(--fill-color);\n",
              "    animation:\n",
              "      spin 1s steps(1) infinite;\n",
              "  }\n",
              "\n",
              "  @keyframes spin {\n",
              "    0% {\n",
              "      border-color: transparent;\n",
              "      border-bottom-color: var(--fill-color);\n",
              "      border-left-color: var(--fill-color);\n",
              "    }\n",
              "    20% {\n",
              "      border-color: transparent;\n",
              "      border-left-color: var(--fill-color);\n",
              "      border-top-color: var(--fill-color);\n",
              "    }\n",
              "    30% {\n",
              "      border-color: transparent;\n",
              "      border-left-color: var(--fill-color);\n",
              "      border-top-color: var(--fill-color);\n",
              "      border-right-color: var(--fill-color);\n",
              "    }\n",
              "    40% {\n",
              "      border-color: transparent;\n",
              "      border-right-color: var(--fill-color);\n",
              "      border-top-color: var(--fill-color);\n",
              "    }\n",
              "    60% {\n",
              "      border-color: transparent;\n",
              "      border-right-color: var(--fill-color);\n",
              "    }\n",
              "    80% {\n",
              "      border-color: transparent;\n",
              "      border-right-color: var(--fill-color);\n",
              "      border-bottom-color: var(--fill-color);\n",
              "    }\n",
              "    90% {\n",
              "      border-color: transparent;\n",
              "      border-bottom-color: var(--fill-color);\n",
              "    }\n",
              "  }\n",
              "</style>\n",
              "\n",
              "  <script>\n",
              "    async function quickchart(key) {\n",
              "      const quickchartButtonEl =\n",
              "        document.querySelector('#' + key + ' button');\n",
              "      quickchartButtonEl.disabled = true;  // To prevent multiple clicks.\n",
              "      quickchartButtonEl.classList.add('colab-df-spinner');\n",
              "      try {\n",
              "        const charts = await google.colab.kernel.invokeFunction(\n",
              "            'suggestCharts', [key], {});\n",
              "      } catch (error) {\n",
              "        console.error('Error during call to suggestCharts:', error);\n",
              "      }\n",
              "      quickchartButtonEl.classList.remove('colab-df-spinner');\n",
              "      quickchartButtonEl.classList.add('colab-df-quickchart-complete');\n",
              "    }\n",
              "    (() => {\n",
              "      let quickchartButtonEl =\n",
              "        document.querySelector('#df-b10132ce-4900-4d3d-ad9c-6e82c8e5c87a button');\n",
              "      quickchartButtonEl.style.display =\n",
              "        google.colab.kernel.accessAllowed ? 'block' : 'none';\n",
              "    })();\n",
              "  </script>\n",
              "</div>\n",
              "\n",
              "    </div>\n",
              "  </div>\n"
            ],
            "application/vnd.google.colaboratory.intrinsic+json": {
              "type": "dataframe",
              "summary": "{\n  \"name\": \"merged_data\",\n  \"rows\": 15,\n  \"fields\": [\n    {\n      \"column\": \"longitude\",\n      \"properties\": {\n        \"dtype\": \"number\",\n        \"std\": 2.1486145663076766,\n        \"min\": 5.02394,\n        \"max\": 11.39654,\n        \"num_unique_values\": 15,\n        \"samples\": [\n          11.35612,\n          6.06999,\n          6.94642\n        ],\n        \"semantic_type\": \"\",\n        \"description\": \"\"\n      }\n    },\n    {\n      \"column\": \"latitude\",\n      \"properties\": {\n        \"dtype\": \"number\",\n        \"std\": 1.0225612477630213,\n        \"min\": 8.36451,\n        \"max\": 11.58962,\n        \"num_unique_values\": 15,\n        \"samples\": [\n          9.12813,\n          9.47827,\n          11.1236\n        ],\n        \"semantic_type\": \"\",\n        \"description\": \"\"\n      }\n    },\n    {\n      \"column\": \"Area\",\n      \"properties\": {\n        \"dtype\": \"category\",\n        \"num_unique_values\": 1,\n        \"samples\": [\n          \"isda\"\n        ],\n        \"semantic_type\": \"\",\n        \"description\": \"\"\n      }\n    },\n    {\n      \"column\": \"Soil_group\",\n      \"properties\": {\n        \"dtype\": \"category\",\n        \"num_unique_values\": 1,\n        \"samples\": [\n          \"isda\"\n        ],\n        \"semantic_type\": \"\",\n        \"description\": \"\"\n      }\n    },\n    {\n      \"column\": \"Land_class\",\n      \"properties\": {\n        \"dtype\": \"category\",\n        \"num_unique_values\": 1,\n        \"samples\": [\n          \"isda\"\n        ],\n        \"semantic_type\": \"\",\n        \"description\": \"\"\n      }\n    },\n    {\n      \"column\": \"Soil_type\",\n      \"properties\": {\n        \"dtype\": \"category\",\n        \"num_unique_values\": 1,\n        \"samples\": [\n          \"isda\"\n        ],\n        \"semantic_type\": \"\",\n        \"description\": \"\"\n      }\n    },\n    {\n      \"column\": \"pH\",\n      \"properties\": {\n        \"dtype\": \"number\",\n        \"std\": 0.24402374631131607,\n        \"min\": 5.72781,\n        \"max\": 6.51239,\n        \"num_unique_values\": 15,\n        \"samples\": [\n          5.76453\n        ],\n        \"semantic_type\": \"\",\n        \"description\": \"\"\n      }\n    },\n    {\n      \"column\": \"Nitrogen\",\n      \"properties\": {\n        \"dtype\": \"number\",\n        \"std\": 0.01195070479337038,\n        \"min\": 0.0199458,\n        \"max\": 0.0624507,\n        \"num_unique_values\": 15,\n        \"samples\": [\n          0.0285065\n        ],\n        \"semantic_type\": \"\",\n        \"description\": \"\"\n      }\n    },\n    {\n      \"column\": \"Potassium\",\n      \"properties\": {\n        \"dtype\": \"number\",\n        \"std\": 0.04616977458402956,\n        \"min\": 0.0518235897435897,\n        \"max\": 0.2338846153846153,\n        \"num_unique_values\": 14,\n        \"samples\": [\n          0.1628661538461538\n        ],\n        \"semantic_type\": \"\",\n        \"description\": \"\"\n      }\n    },\n    {\n      \"column\": \"Phosphorus\",\n      \"properties\": {\n        \"dtype\": \"number\",\n        \"std\": 2.384963882016026,\n        \"min\": 2.53468,\n        \"max\": 11.3077,\n        \"num_unique_values\": 15,\n        \"samples\": [\n          4.57492\n        ],\n        \"semantic_type\": \"\",\n        \"description\": \"\"\n      }\n    },\n    {\n      \"column\": \"Sulfur\",\n      \"properties\": {\n        \"dtype\": \"number\",\n        \"std\": 1.5989619362389316,\n        \"min\": 3.49763,\n        \"max\": 9.28102,\n        \"num_unique_values\": 15,\n        \"samples\": [\n          4.93855\n        ],\n        \"semantic_type\": \"\",\n        \"description\": \"\"\n      }\n    },\n    {\n      \"column\": \"Zinc\",\n      \"properties\": {\n        \"dtype\": \"number\",\n        \"std\": 0.2936323623068236,\n        \"min\": 0.626419,\n        \"max\": 1.75993,\n        \"num_unique_values\": 15,\n        \"samples\": [\n          0.828437\n        ],\n        \"semantic_type\": \"\",\n        \"description\": \"\"\n      }\n    },\n    {\n      \"column\": \"Sand\",\n      \"properties\": {\n        \"dtype\": \"number\",\n        \"std\": 5.986492732652001,\n        \"min\": 54.0,\n        \"max\": 75.0,\n        \"num_unique_values\": 9,\n        \"samples\": [\n          66.0\n        ],\n        \"semantic_type\": \"\",\n        \"description\": \"\"\n      }\n    },\n    {\n      \"column\": \"Silt\",\n      \"properties\": {\n        \"dtype\": \"number\",\n        \"std\": 2.2824381283013584,\n        \"min\": 15.0,\n        \"max\": 23.0,\n        \"num_unique_values\": 8,\n        \"samples\": [\n          16.0\n        ],\n        \"semantic_type\": \"\",\n        \"description\": \"\"\n      }\n    },\n    {\n      \"column\": \"Clay\",\n      \"properties\": {\n        \"dtype\": \"number\",\n        \"std\": 3.8072612328599273,\n        \"min\": 11.0,\n        \"max\": 25.0,\n        \"num_unique_values\": 9,\n        \"samples\": [\n          25.0\n        ],\n        \"semantic_type\": \"\",\n        \"description\": \"\"\n      }\n    }\n  ]\n}"
            }
          },
          "metadata": {},
          "execution_count": 9
        }
      ]
    },
    {
      "cell_type": "code",
      "source": [
        "# what are the data types of each of the features?\n",
        "\n",
        "merged_data.dtypes"
      ],
      "metadata": {
        "colab": {
          "base_uri": "https://localhost:8080/",
          "height": 554
        },
        "id": "wvMae487Gm2e",
        "outputId": "d2cacf0e-2bfc-4b2c-e8f3-c2b69b07ce34"
      },
      "execution_count": 10,
      "outputs": [
        {
          "output_type": "execute_result",
          "data": {
            "text/plain": [
              "longitude     float64\n",
              "latitude      float64\n",
              "Area           object\n",
              "Soil_group     object\n",
              "Land_class     object\n",
              "Soil_type      object\n",
              "pH            float64\n",
              "Nitrogen      float64\n",
              "Potassium     float64\n",
              "Phosphorus    float64\n",
              "Sulfur        float64\n",
              "Zinc          float64\n",
              "Sand          float64\n",
              "Silt          float64\n",
              "Clay          float64\n",
              "dtype: object"
            ],
            "text/html": [
              "<div>\n",
              "<style scoped>\n",
              "    .dataframe tbody tr th:only-of-type {\n",
              "        vertical-align: middle;\n",
              "    }\n",
              "\n",
              "    .dataframe tbody tr th {\n",
              "        vertical-align: top;\n",
              "    }\n",
              "\n",
              "    .dataframe thead th {\n",
              "        text-align: right;\n",
              "    }\n",
              "</style>\n",
              "<table border=\"1\" class=\"dataframe\">\n",
              "  <thead>\n",
              "    <tr style=\"text-align: right;\">\n",
              "      <th></th>\n",
              "      <th>0</th>\n",
              "    </tr>\n",
              "  </thead>\n",
              "  <tbody>\n",
              "    <tr>\n",
              "      <th>longitude</th>\n",
              "      <td>float64</td>\n",
              "    </tr>\n",
              "    <tr>\n",
              "      <th>latitude</th>\n",
              "      <td>float64</td>\n",
              "    </tr>\n",
              "    <tr>\n",
              "      <th>Area</th>\n",
              "      <td>object</td>\n",
              "    </tr>\n",
              "    <tr>\n",
              "      <th>Soil_group</th>\n",
              "      <td>object</td>\n",
              "    </tr>\n",
              "    <tr>\n",
              "      <th>Land_class</th>\n",
              "      <td>object</td>\n",
              "    </tr>\n",
              "    <tr>\n",
              "      <th>Soil_type</th>\n",
              "      <td>object</td>\n",
              "    </tr>\n",
              "    <tr>\n",
              "      <th>pH</th>\n",
              "      <td>float64</td>\n",
              "    </tr>\n",
              "    <tr>\n",
              "      <th>Nitrogen</th>\n",
              "      <td>float64</td>\n",
              "    </tr>\n",
              "    <tr>\n",
              "      <th>Potassium</th>\n",
              "      <td>float64</td>\n",
              "    </tr>\n",
              "    <tr>\n",
              "      <th>Phosphorus</th>\n",
              "      <td>float64</td>\n",
              "    </tr>\n",
              "    <tr>\n",
              "      <th>Sulfur</th>\n",
              "      <td>float64</td>\n",
              "    </tr>\n",
              "    <tr>\n",
              "      <th>Zinc</th>\n",
              "      <td>float64</td>\n",
              "    </tr>\n",
              "    <tr>\n",
              "      <th>Sand</th>\n",
              "      <td>float64</td>\n",
              "    </tr>\n",
              "    <tr>\n",
              "      <th>Silt</th>\n",
              "      <td>float64</td>\n",
              "    </tr>\n",
              "    <tr>\n",
              "      <th>Clay</th>\n",
              "      <td>float64</td>\n",
              "    </tr>\n",
              "  </tbody>\n",
              "</table>\n",
              "</div><br><label><b>dtype:</b> object</label>"
            ]
          },
          "metadata": {},
          "execution_count": 10
        }
      ]
    },
    {
      "cell_type": "code",
      "source": [
        "# what are the number of unique values for each feature?\n",
        "\n",
        "merged_data.nunique()"
      ],
      "metadata": {
        "colab": {
          "base_uri": "https://localhost:8080/",
          "height": 554
        },
        "id": "6GLNQaQhGmzf",
        "outputId": "e43c1e82-995a-435e-a0ec-13769c7f8a53"
      },
      "execution_count": 11,
      "outputs": [
        {
          "output_type": "execute_result",
          "data": {
            "text/plain": [
              "longitude     2106\n",
              "latitude      2095\n",
              "Area             6\n",
              "Soil_group      23\n",
              "Land_class       6\n",
              "Soil_type        7\n",
              "pH            2117\n",
              "Nitrogen      2142\n",
              "Potassium     1536\n",
              "Phosphorus    2391\n",
              "Sulfur        2363\n",
              "Zinc          2236\n",
              "Sand            41\n",
              "Silt            23\n",
              "Clay            27\n",
              "dtype: int64"
            ],
            "text/html": [
              "<div>\n",
              "<style scoped>\n",
              "    .dataframe tbody tr th:only-of-type {\n",
              "        vertical-align: middle;\n",
              "    }\n",
              "\n",
              "    .dataframe tbody tr th {\n",
              "        vertical-align: top;\n",
              "    }\n",
              "\n",
              "    .dataframe thead th {\n",
              "        text-align: right;\n",
              "    }\n",
              "</style>\n",
              "<table border=\"1\" class=\"dataframe\">\n",
              "  <thead>\n",
              "    <tr style=\"text-align: right;\">\n",
              "      <th></th>\n",
              "      <th>0</th>\n",
              "    </tr>\n",
              "  </thead>\n",
              "  <tbody>\n",
              "    <tr>\n",
              "      <th>longitude</th>\n",
              "      <td>2106</td>\n",
              "    </tr>\n",
              "    <tr>\n",
              "      <th>latitude</th>\n",
              "      <td>2095</td>\n",
              "    </tr>\n",
              "    <tr>\n",
              "      <th>Area</th>\n",
              "      <td>6</td>\n",
              "    </tr>\n",
              "    <tr>\n",
              "      <th>Soil_group</th>\n",
              "      <td>23</td>\n",
              "    </tr>\n",
              "    <tr>\n",
              "      <th>Land_class</th>\n",
              "      <td>6</td>\n",
              "    </tr>\n",
              "    <tr>\n",
              "      <th>Soil_type</th>\n",
              "      <td>7</td>\n",
              "    </tr>\n",
              "    <tr>\n",
              "      <th>pH</th>\n",
              "      <td>2117</td>\n",
              "    </tr>\n",
              "    <tr>\n",
              "      <th>Nitrogen</th>\n",
              "      <td>2142</td>\n",
              "    </tr>\n",
              "    <tr>\n",
              "      <th>Potassium</th>\n",
              "      <td>1536</td>\n",
              "    </tr>\n",
              "    <tr>\n",
              "      <th>Phosphorus</th>\n",
              "      <td>2391</td>\n",
              "    </tr>\n",
              "    <tr>\n",
              "      <th>Sulfur</th>\n",
              "      <td>2363</td>\n",
              "    </tr>\n",
              "    <tr>\n",
              "      <th>Zinc</th>\n",
              "      <td>2236</td>\n",
              "    </tr>\n",
              "    <tr>\n",
              "      <th>Sand</th>\n",
              "      <td>41</td>\n",
              "    </tr>\n",
              "    <tr>\n",
              "      <th>Silt</th>\n",
              "      <td>23</td>\n",
              "    </tr>\n",
              "    <tr>\n",
              "      <th>Clay</th>\n",
              "      <td>27</td>\n",
              "    </tr>\n",
              "  </tbody>\n",
              "</table>\n",
              "</div><br><label><b>dtype:</b> int64</label>"
            ]
          },
          "metadata": {},
          "execution_count": 11
        }
      ]
    },
    {
      "cell_type": "code",
      "source": [
        "# does the data have any missing values?\n",
        "\n",
        "merged_data.isnull().sum()"
      ],
      "metadata": {
        "colab": {
          "base_uri": "https://localhost:8080/",
          "height": 554
        },
        "id": "pbi9ElkYIU-U",
        "outputId": "6f14023a-0d64-40e8-b661-8385da3c6ef7"
      },
      "execution_count": 12,
      "outputs": [
        {
          "output_type": "execute_result",
          "data": {
            "text/plain": [
              "longitude     0\n",
              "latitude      0\n",
              "Area          0\n",
              "Soil_group    0\n",
              "Land_class    0\n",
              "Soil_type     0\n",
              "pH            0\n",
              "Nitrogen      0\n",
              "Potassium     0\n",
              "Phosphorus    0\n",
              "Sulfur        0\n",
              "Zinc          0\n",
              "Sand          0\n",
              "Silt          0\n",
              "Clay          0\n",
              "dtype: int64"
            ],
            "text/html": [
              "<div>\n",
              "<style scoped>\n",
              "    .dataframe tbody tr th:only-of-type {\n",
              "        vertical-align: middle;\n",
              "    }\n",
              "\n",
              "    .dataframe tbody tr th {\n",
              "        vertical-align: top;\n",
              "    }\n",
              "\n",
              "    .dataframe thead th {\n",
              "        text-align: right;\n",
              "    }\n",
              "</style>\n",
              "<table border=\"1\" class=\"dataframe\">\n",
              "  <thead>\n",
              "    <tr style=\"text-align: right;\">\n",
              "      <th></th>\n",
              "      <th>0</th>\n",
              "    </tr>\n",
              "  </thead>\n",
              "  <tbody>\n",
              "    <tr>\n",
              "      <th>longitude</th>\n",
              "      <td>0</td>\n",
              "    </tr>\n",
              "    <tr>\n",
              "      <th>latitude</th>\n",
              "      <td>0</td>\n",
              "    </tr>\n",
              "    <tr>\n",
              "      <th>Area</th>\n",
              "      <td>0</td>\n",
              "    </tr>\n",
              "    <tr>\n",
              "      <th>Soil_group</th>\n",
              "      <td>0</td>\n",
              "    </tr>\n",
              "    <tr>\n",
              "      <th>Land_class</th>\n",
              "      <td>0</td>\n",
              "    </tr>\n",
              "    <tr>\n",
              "      <th>Soil_type</th>\n",
              "      <td>0</td>\n",
              "    </tr>\n",
              "    <tr>\n",
              "      <th>pH</th>\n",
              "      <td>0</td>\n",
              "    </tr>\n",
              "    <tr>\n",
              "      <th>Nitrogen</th>\n",
              "      <td>0</td>\n",
              "    </tr>\n",
              "    <tr>\n",
              "      <th>Potassium</th>\n",
              "      <td>0</td>\n",
              "    </tr>\n",
              "    <tr>\n",
              "      <th>Phosphorus</th>\n",
              "      <td>0</td>\n",
              "    </tr>\n",
              "    <tr>\n",
              "      <th>Sulfur</th>\n",
              "      <td>0</td>\n",
              "    </tr>\n",
              "    <tr>\n",
              "      <th>Zinc</th>\n",
              "      <td>0</td>\n",
              "    </tr>\n",
              "    <tr>\n",
              "      <th>Sand</th>\n",
              "      <td>0</td>\n",
              "    </tr>\n",
              "    <tr>\n",
              "      <th>Silt</th>\n",
              "      <td>0</td>\n",
              "    </tr>\n",
              "    <tr>\n",
              "      <th>Clay</th>\n",
              "      <td>0</td>\n",
              "    </tr>\n",
              "  </tbody>\n",
              "</table>\n",
              "</div><br><label><b>dtype:</b> int64</label>"
            ]
          },
          "metadata": {},
          "execution_count": 12
        }
      ]
    },
    {
      "cell_type": "markdown",
      "source": [
        "### Initial Observations:\n",
        "\n",
        "- The dataset has 2584 rows and 17 columns.\n",
        "- No data available for isda data for the features ***area, soil group, land class, soil type***.\n",
        "- Data is a mix of float and categorical features.\n",
        "- There are no missing values in the dataset."
      ],
      "metadata": {
        "id": "E5zKd13AIhAX"
      }
    },
    {
      "cell_type": "code",
      "source": [],
      "metadata": {
        "id": "YZIJEYy4IU7K"
      },
      "execution_count": 12,
      "outputs": []
    },
    {
      "cell_type": "markdown",
      "source": [
        "### Univariate Analysis:"
      ],
      "metadata": {
        "id": "glwhyhBZOqbX"
      }
    },
    {
      "cell_type": "code",
      "source": [
        "# How are the continuous features distributed?\n",
        "\n",
        "merged_data.hist(bins=10, figsize=(15, 10), layout=(4, 4))\n",
        "plt.tight_layout()\n",
        "plt.show()"
      ],
      "metadata": {
        "colab": {
          "base_uri": "https://localhost:8080/",
          "height": 498
        },
        "id": "2iZbapqbIU4V",
        "outputId": "ab55684b-40b1-4d7e-d05b-e0718db389e1"
      },
      "execution_count": 13,
      "outputs": [
        {
          "output_type": "display_data",
          "data": {
            "text/plain": [
              "<Figure size 1500x1000 with 16 Axes>"
            ],
            "image/png": "[encoded data removed]"
          },
          "metadata": {}
        }
      ]
    },
    {
      "cell_type": "code",
      "source": [
        "# Are there any outliers in the continuous features?\n",
        "\n",
        "plt.figure(figsize=(15, 10))\n",
        "for i, column in enumerate(merged_data.select_dtypes(include=['float64', 'int64']).columns, 1):\n",
        "    plt.subplot(4, 4, i)\n",
        "    sns.boxplot(y=merged_data[column])\n",
        "    plt.title(column)\n",
        "plt.tight_layout()\n",
        "plt.show()"
      ],
      "metadata": {
        "colab": {
          "base_uri": "https://localhost:8080/",
          "height": 489
        },
        "id": "jugF-ltTIUzC",
        "outputId": "7c6ee9e1-0a89-4522-9793-a8c173cbdf53"
      },
      "execution_count": 14,
      "outputs": [
        {
          "output_type": "display_data",
          "data": {
            "text/plain": [
              "<Figure size 1500x1000 with 11 Axes>"
            ],
            "image/png": "[encoded data removed]"
          },
          "metadata": {}
        }
      ]
    },
    {
      "cell_type": "code",
      "source": [
        "# checking column names.\n",
        "\n",
        "merged_data.columns"
      ],
      "metadata": {
        "colab": {
          "base_uri": "https://localhost:8080/"
        },
        "id": "Yl2EX182W6-S",
        "outputId": "7deb22ea-0d54-421f-a80d-b06be12b113a"
      },
      "execution_count": 15,
      "outputs": [
        {
          "output_type": "execute_result",
          "data": {
            "text/plain": [
              "Index(['longitude', 'latitude', 'Area', 'Soil_group', 'Land_class',\n",
              "       'Soil_type', 'pH', 'Nitrogen', 'Potassium', 'Phosphorus', 'Sulfur',\n",
              "       'Zinc', 'Sand', 'Silt', 'Clay'],\n",
              "      dtype='object')"
            ]
          },
          "metadata": {},
          "execution_count": 15
        }
      ]
    },
    {
      "cell_type": "code",
      "source": [
        "# What is the relationship between the continuous features?\n",
        "\n",
        "# considering only the continous columns, dropping the categorical columns\n",
        "merged_numeric = merged_data.drop(['Area', 'Soil_group', 'Land_class','Soil_type'], axis=1)\n"
      ],
      "metadata": {
        "id": "p0ob1jmcIUu7"
      },
      "execution_count": 16,
      "outputs": []
    },
    {
      "cell_type": "code",
      "source": [
        "plt.figure(figsize=(12, 8))\n",
        "correlation_matrix = merged_numeric.corr()\n",
        "sns.heatmap(correlation_matrix, annot=True, cmap='coolwarm', linewidths=0.5)\n",
        "plt.title('Correlation Heatmap of Numerical Features')\n",
        "plt.show()"
      ],
      "metadata": {
        "colab": {
          "base_uri": "https://localhost:8080/",
          "height": 733
        },
        "id": "X6_k7g_zIUpP",
        "outputId": "60e5e3c9-5785-4e22-dc3f-8d5b289eac3d"
      },
      "execution_count": 17,
      "outputs": [
        {
          "output_type": "display_data",
          "data": {
            "text/plain": [
              "<Figure size 1200x800 with 2 Axes>"
            ],
            "image/png": "[encoded data removed]"
          },
          "metadata": {}
        }
      ]
    },
    {
      "cell_type": "code",
      "source": [],
      "metadata": {
        "id": "IWIZXMFkIUmV"
      },
      "execution_count": 17,
      "outputs": []
    },
    {
      "cell_type": "code",
      "source": [
        "# CATEGORICAL FEATURES: Area, Soil group, Land class, Soil Type\n",
        "\n",
        "\n",
        "# AREA:\n",
        "# How many unique values are there in the Area feature?\n",
        "\n",
        "merged_data['Area'].unique()\n"
      ],
      "metadata": {
        "colab": {
          "base_uri": "https://localhost:8080/"
        },
        "id": "QUqxN9BiIUja",
        "outputId": "2d85000e-5702-47dd-948f-b7be0ce929e8"
      },
      "execution_count": 18,
      "outputs": [
        {
          "output_type": "execute_result",
          "data": {
            "text/plain": [
              "array(['Mithpukur', 'Pirgacha ', 'Gangachara', 'Kaunia upazila',\n",
              "       'Taraganj Thana', 'isda'], dtype=object)"
            ]
          },
          "metadata": {},
          "execution_count": 18
        }
      ]
    },
    {
      "cell_type": "code",
      "source": [
        "# What are the value counts for each area?\n",
        "\n",
        "merged_data['Area'].value_counts()"
      ],
      "metadata": {
        "colab": {
          "base_uri": "https://localhost:8080/",
          "height": 304
        },
        "id": "ENtTArmbIUe3",
        "outputId": "4d6fc226-e684-4633-89c8-724e4efead53"
      },
      "execution_count": 19,
      "outputs": [
        {
          "output_type": "execute_result",
          "data": {
            "text/plain": [
              "Area\n",
              "isda              2107\n",
              "Mithpukur          186\n",
              "Pirgacha           125\n",
              "Taraganj Thana      79\n",
              "Kaunia upazila      65\n",
              "Gangachara          22\n",
              "Name: count, dtype: int64"
            ],
            "text/html": [
              "<div>\n",
              "<style scoped>\n",
              "    .dataframe tbody tr th:only-of-type {\n",
              "        vertical-align: middle;\n",
              "    }\n",
              "\n",
              "    .dataframe tbody tr th {\n",
              "        vertical-align: top;\n",
              "    }\n",
              "\n",
              "    .dataframe thead th {\n",
              "        text-align: right;\n",
              "    }\n",
              "</style>\n",
              "<table border=\"1\" class=\"dataframe\">\n",
              "  <thead>\n",
              "    <tr style=\"text-align: right;\">\n",
              "      <th></th>\n",
              "      <th>count</th>\n",
              "    </tr>\n",
              "    <tr>\n",
              "      <th>Area</th>\n",
              "      <th></th>\n",
              "    </tr>\n",
              "  </thead>\n",
              "  <tbody>\n",
              "    <tr>\n",
              "      <th>isda</th>\n",
              "      <td>2107</td>\n",
              "    </tr>\n",
              "    <tr>\n",
              "      <th>Mithpukur</th>\n",
              "      <td>186</td>\n",
              "    </tr>\n",
              "    <tr>\n",
              "      <th>Pirgacha</th>\n",
              "      <td>125</td>\n",
              "    </tr>\n",
              "    <tr>\n",
              "      <th>Taraganj Thana</th>\n",
              "      <td>79</td>\n",
              "    </tr>\n",
              "    <tr>\n",
              "      <th>Kaunia upazila</th>\n",
              "      <td>65</td>\n",
              "    </tr>\n",
              "    <tr>\n",
              "      <th>Gangachara</th>\n",
              "      <td>22</td>\n",
              "    </tr>\n",
              "  </tbody>\n",
              "</table>\n",
              "</div><br><label><b>dtype:</b> int64</label>"
            ]
          },
          "metadata": {},
          "execution_count": 19
        }
      ]
    },
    {
      "cell_type": "code",
      "source": [
        "# Plotting:\n",
        "\n",
        "plt.figure(figsize=(10, 5))\n",
        "sns.countplot(merged_data['Area'], palette='viridis')\n",
        "plt.title(f'Distribution of Area')\n",
        "plt.xticks(rotation=45)\n",
        "plt.show()\n"
      ],
      "metadata": {
        "colab": {
          "base_uri": "https://localhost:8080/",
          "height": 615
        },
        "id": "3DnHS-yaIUaT",
        "outputId": "f15e4db9-114c-4fd4-e2f8-70ddfd1846a4"
      },
      "execution_count": 20,
      "outputs": [
        {
          "output_type": "stream",
          "name": "stderr",
          "text": [
            "<ipython-input-20-26498c0d16cf>:4: FutureWarning: \n",
            "\n",
            "Passing `palette` without assigning `hue` is deprecated and will be removed in v0.14.0. Assign the `y` variable to `hue` and set `legend=False` for the same effect.\n",
            "\n",
            "  sns.countplot(merged_data['Area'], palette='viridis')\n"
          ]
        },
        {
          "output_type": "display_data",
          "data": {
            "text/plain": [
              "<Figure size 1000x500 with 1 Axes>"
            ],
            "image/png": "[encoded data removed]"
          },
          "metadata": {}
        }
      ]
    },
    {
      "cell_type": "code",
      "source": [],
      "metadata": {
        "id": "0Cli39t5IUUT"
      },
      "execution_count": 20,
      "outputs": []
    },
    {
      "cell_type": "code",
      "source": [
        "# SOIL GROUP:\n",
        "# How many unique values are there in the Soil group feature?\n",
        "\n",
        "merged_data['Soil_group'].unique()"
      ],
      "metadata": {
        "colab": {
          "base_uri": "https://localhost:8080/"
        },
        "id": "gDnqn_T2IUQ9",
        "outputId": "754a3cc3-6d27-46bb-b921-2ae51c774b49"
      },
      "execution_count": 21,
      "outputs": [
        {
          "output_type": "execute_result",
          "data": {
            "text/plain": [
              "array(['belab', 'Noadda', 'Sahapur', 'the moon', 'the pen', 'Khilgaon',\n",
              "       'Pirgacha', 'Palashbari', 'Berries', 'Gangachara', 'Kaunia',\n",
              "       'Imadpur', 'Alluvial soil of Teesta', 'Teesta sandy soil',\n",
              "       'Kachna', 'The militants', 'Chilmari', 'Saghata', 'recession',\n",
              "       'Menanagar', 'Bhimpur', 'Indrail', 'isda'], dtype=object)"
            ]
          },
          "metadata": {},
          "execution_count": 21
        }
      ]
    },
    {
      "cell_type": "code",
      "source": [
        "# What are the value counts for each soil group?\n",
        "\n",
        "merged_data['Soil_group'].value_counts()"
      ],
      "metadata": {
        "colab": {
          "base_uri": "https://localhost:8080/",
          "height": 837
        },
        "id": "J4qknd6VIUOS",
        "outputId": "a91207f6-5396-4e41-df9b-93ceb3afc06b"
      },
      "execution_count": 22,
      "outputs": [
        {
          "output_type": "execute_result",
          "data": {
            "text/plain": [
              "Soil_group\n",
              "isda                       2107\n",
              "Gangachara                  206\n",
              "Kaunia                       55\n",
              "Palashbari                   37\n",
              "Berries                      31\n",
              "Alluvial soil of Teesta      22\n",
              "the moon                     18\n",
              "belab                        17\n",
              "Sahapur                      16\n",
              "Noadda                       14\n",
              "Pirgacha                     13\n",
              "Imadpur                      11\n",
              "Teesta sandy soil             6\n",
              "Kachna                        5\n",
              "Saghata                       5\n",
              "recession                     5\n",
              "Bhimpur                       5\n",
              "Khilgaon                      4\n",
              "Chilmari                      2\n",
              "Menanagar                     2\n",
              "the pen                       1\n",
              "The militants                 1\n",
              "Indrail                       1\n",
              "Name: count, dtype: int64"
            ],
            "text/html": [
              "<div>\n",
              "<style scoped>\n",
              "    .dataframe tbody tr th:only-of-type {\n",
              "        vertical-align: middle;\n",
              "    }\n",
              "\n",
              "    .dataframe tbody tr th {\n",
              "        vertical-align: top;\n",
              "    }\n",
              "\n",
              "    .dataframe thead th {\n",
              "        text-align: right;\n",
              "    }\n",
              "</style>\n",
              "<table border=\"1\" class=\"dataframe\">\n",
              "  <thead>\n",
              "    <tr style=\"text-align: right;\">\n",
              "      <th></th>\n",
              "      <th>count</th>\n",
              "    </tr>\n",
              "    <tr>\n",
              "      <th>Soil_group</th>\n",
              "      <th></th>\n",
              "    </tr>\n",
              "  </thead>\n",
              "  <tbody>\n",
              "    <tr>\n",
              "      <th>isda</th>\n",
              "      <td>2107</td>\n",
              "    </tr>\n",
              "    <tr>\n",
              "      <th>Gangachara</th>\n",
              "      <td>206</td>\n",
              "    </tr>\n",
              "    <tr>\n",
              "      <th>Kaunia</th>\n",
              "      <td>55</td>\n",
              "    </tr>\n",
              "    <tr>\n",
              "      <th>Palashbari</th>\n",
              "      <td>37</td>\n",
              "    </tr>\n",
              "    <tr>\n",
              "      <th>Berries</th>\n",
              "      <td>31</td>\n",
              "    </tr>\n",
              "    <tr>\n",
              "      <th>Alluvial soil of Teesta</th>\n",
              "      <td>22</td>\n",
              "    </tr>\n",
              "    <tr>\n",
              "      <th>the moon</th>\n",
              "      <td>18</td>\n",
              "    </tr>\n",
              "    <tr>\n",
              "      <th>belab</th>\n",
              "      <td>17</td>\n",
              "    </tr>\n",
              "    <tr>\n",
              "      <th>Sahapur</th>\n",
              "      <td>16</td>\n",
              "    </tr>\n",
              "    <tr>\n",
              "      <th>Noadda</th>\n",
              "      <td>14</td>\n",
              "    </tr>\n",
              "    <tr>\n",
              "      <th>Pirgacha</th>\n",
              "      <td>13</td>\n",
              "    </tr>\n",
              "    <tr>\n",
              "      <th>Imadpur</th>\n",
              "      <td>11</td>\n",
              "    </tr>\n",
              "    <tr>\n",
              "      <th>Teesta sandy soil</th>\n",
              "      <td>6</td>\n",
              "    </tr>\n",
              "    <tr>\n",
              "      <th>Kachna</th>\n",
              "      <td>5</td>\n",
              "    </tr>\n",
              "    <tr>\n",
              "      <th>Saghata</th>\n",
              "      <td>5</td>\n",
              "    </tr>\n",
              "    <tr>\n",
              "      <th>recession</th>\n",
              "      <td>5</td>\n",
              "    </tr>\n",
              "    <tr>\n",
              "      <th>Bhimpur</th>\n",
              "      <td>5</td>\n",
              "    </tr>\n",
              "    <tr>\n",
              "      <th>Khilgaon</th>\n",
              "      <td>4</td>\n",
              "    </tr>\n",
              "    <tr>\n",
              "      <th>Chilmari</th>\n",
              "      <td>2</td>\n",
              "    </tr>\n",
              "    <tr>\n",
              "      <th>Menanagar</th>\n",
              "      <td>2</td>\n",
              "    </tr>\n",
              "    <tr>\n",
              "      <th>the pen</th>\n",
              "      <td>1</td>\n",
              "    </tr>\n",
              "    <tr>\n",
              "      <th>The militants</th>\n",
              "      <td>1</td>\n",
              "    </tr>\n",
              "    <tr>\n",
              "      <th>Indrail</th>\n",
              "      <td>1</td>\n",
              "    </tr>\n",
              "  </tbody>\n",
              "</table>\n",
              "</div><br><label><b>dtype:</b> int64</label>"
            ]
          },
          "metadata": {},
          "execution_count": 22
        }
      ]
    },
    {
      "cell_type": "code",
      "source": [
        "# Plotting:\n",
        "\n",
        "plt.figure(figsize=(10, 5))\n",
        "sns.countplot(merged_data['Soil_group'], palette='viridis')\n",
        "plt.title(f'Distribution of Soil group')\n",
        "plt.xticks(rotation=45)\n",
        "plt.show()"
      ],
      "metadata": {
        "colab": {
          "base_uri": "https://localhost:8080/",
          "height": 601
        },
        "id": "Pu7Pz8w5IUJH",
        "outputId": "605faf63-d8f0-4f7d-ec28-aa2043f42a9c"
      },
      "execution_count": 23,
      "outputs": [
        {
          "output_type": "stream",
          "name": "stderr",
          "text": [
            "<ipython-input-23-0ee874faef26>:4: FutureWarning: \n",
            "\n",
            "Passing `palette` without assigning `hue` is deprecated and will be removed in v0.14.0. Assign the `y` variable to `hue` and set `legend=False` for the same effect.\n",
            "\n",
            "  sns.countplot(merged_data['Soil_group'], palette='viridis')\n"
          ]
        },
        {
          "output_type": "display_data",
          "data": {
            "text/plain": [
              "<Figure size 1000x500 with 1 Axes>"
            ],
            "image/png": "[encoded data removed]"
          },
          "metadata": {}
        }
      ]
    },
    {
      "cell_type": "code",
      "source": [],
      "metadata": {
        "id": "COaE6EumIUDP"
      },
      "execution_count": 23,
      "outputs": []
    },
    {
      "cell_type": "code",
      "source": [
        "# LAND CLASS:\n",
        "# How many unique values are there in the Land class feature?\n",
        "\n",
        "merged_data['Land_class'].unique()"
      ],
      "metadata": {
        "colab": {
          "base_uri": "https://localhost:8080/"
        },
        "id": "o8ZkE40Mctwt",
        "outputId": "c5d86f15-18aa-431e-e27f-38d7b559acb8"
      },
      "execution_count": 24,
      "outputs": [
        {
          "output_type": "execute_result",
          "data": {
            "text/plain": [
              "array(['high ground', 'Medium high land', 'Medium low land',\n",
              "       'Deep medium high land', 'Shallow to medium high land', 'isda'],\n",
              "      dtype=object)"
            ]
          },
          "metadata": {},
          "execution_count": 24
        }
      ]
    },
    {
      "cell_type": "code",
      "source": [
        "# What are the value counts for each land class?\n",
        "\n",
        "merged_data['Land_class'].value_counts()"
      ],
      "metadata": {
        "colab": {
          "base_uri": "https://localhost:8080/",
          "height": 304
        },
        "id": "Dv-VbeVQc2qW",
        "outputId": "b8cbe361-0ba4-44fc-bc40-cb7c70a5b8cb"
      },
      "execution_count": 25,
      "outputs": [
        {
          "output_type": "execute_result",
          "data": {
            "text/plain": [
              "Land_class\n",
              "isda                           2107\n",
              "Medium high land                262\n",
              "high ground                     188\n",
              "Medium low land                  22\n",
              "Shallow to medium high land       3\n",
              "Deep medium high land             2\n",
              "Name: count, dtype: int64"
            ],
            "text/html": [
              "<div>\n",
              "<style scoped>\n",
              "    .dataframe tbody tr th:only-of-type {\n",
              "        vertical-align: middle;\n",
              "    }\n",
              "\n",
              "    .dataframe tbody tr th {\n",
              "        vertical-align: top;\n",
              "    }\n",
              "\n",
              "    .dataframe thead th {\n",
              "        text-align: right;\n",
              "    }\n",
              "</style>\n",
              "<table border=\"1\" class=\"dataframe\">\n",
              "  <thead>\n",
              "    <tr style=\"text-align: right;\">\n",
              "      <th></th>\n",
              "      <th>count</th>\n",
              "    </tr>\n",
              "    <tr>\n",
              "      <th>Land_class</th>\n",
              "      <th></th>\n",
              "    </tr>\n",
              "  </thead>\n",
              "  <tbody>\n",
              "    <tr>\n",
              "      <th>isda</th>\n",
              "      <td>2107</td>\n",
              "    </tr>\n",
              "    <tr>\n",
              "      <th>Medium high land</th>\n",
              "      <td>262</td>\n",
              "    </tr>\n",
              "    <tr>\n",
              "      <th>high ground</th>\n",
              "      <td>188</td>\n",
              "    </tr>\n",
              "    <tr>\n",
              "      <th>Medium low land</th>\n",
              "      <td>22</td>\n",
              "    </tr>\n",
              "    <tr>\n",
              "      <th>Shallow to medium high land</th>\n",
              "      <td>3</td>\n",
              "    </tr>\n",
              "    <tr>\n",
              "      <th>Deep medium high land</th>\n",
              "      <td>2</td>\n",
              "    </tr>\n",
              "  </tbody>\n",
              "</table>\n",
              "</div><br><label><b>dtype:</b> int64</label>"
            ]
          },
          "metadata": {},
          "execution_count": 25
        }
      ]
    },
    {
      "cell_type": "code",
      "source": [
        "# Plotting:\n",
        "\n",
        "plt.figure(figsize=(10, 5))\n",
        "sns.countplot(merged_data['Land_class'], palette='viridis')\n",
        "plt.title(f'Distribution of Land class')\n",
        "plt.xticks(rotation=45)\n",
        "plt.show()"
      ],
      "metadata": {
        "colab": {
          "base_uri": "https://localhost:8080/",
          "height": 574
        },
        "id": "DXtbby4kc2j3",
        "outputId": "ba909733-a1d6-45eb-8984-2ae140aa675b"
      },
      "execution_count": 26,
      "outputs": [
        {
          "output_type": "stream",
          "name": "stderr",
          "text": [
            "<ipython-input-26-976bfcd08f28>:4: FutureWarning: \n",
            "\n",
            "Passing `palette` without assigning `hue` is deprecated and will be removed in v0.14.0. Assign the `y` variable to `hue` and set `legend=False` for the same effect.\n",
            "\n",
            "  sns.countplot(merged_data['Land_class'], palette='viridis')\n"
          ]
        },
        {
          "output_type": "display_data",
          "data": {
            "text/plain": [
              "<Figure size 1000x500 with 1 Axes>"
            ],
            "image/png": "[encoded data removed]"
          },
          "metadata": {}
        }
      ]
    },
    {
      "cell_type": "code",
      "source": [],
      "metadata": {
        "id": "Flj7-3EydKWW"
      },
      "execution_count": 26,
      "outputs": []
    },
    {
      "cell_type": "code",
      "source": [
        "# SOIL TYPE:\n",
        "# How many unique values are there in the Soil type feature?\n",
        "\n",
        "merged_data['Soil_type'].unique()"
      ],
      "metadata": {
        "colab": {
          "base_uri": "https://localhost:8080/"
        },
        "id": "n8ApA4YydML_",
        "outputId": "70c55530-8071-4362-a19f-5140385bf71c"
      },
      "execution_count": 27,
      "outputs": [
        {
          "output_type": "execute_result",
          "data": {
            "text/plain": [
              "array(['Clay loam ', 'loam', 'brick', 'in the sand', 'unknown',\n",
              "       'loam clay', 'isda'], dtype=object)"
            ]
          },
          "metadata": {},
          "execution_count": 27
        }
      ]
    },
    {
      "cell_type": "code",
      "source": [
        "# What are the value counts for each land class?\n",
        "\n",
        "merged_data['Soil_type'].value_counts()"
      ],
      "metadata": {
        "colab": {
          "base_uri": "https://localhost:8080/",
          "height": 335
        },
        "id": "ZbPQwTpldMD-",
        "outputId": "38de6a05-ca70-4e45-f94f-0339e83e406e"
      },
      "execution_count": 28,
      "outputs": [
        {
          "output_type": "execute_result",
          "data": {
            "text/plain": [
              "Soil_type\n",
              "isda           2107\n",
              "loam            286\n",
              "unknown         101\n",
              "Clay loam        70\n",
              "loam clay        11\n",
              "brick             6\n",
              "in the sand       3\n",
              "Name: count, dtype: int64"
            ],
            "text/html": [
              "<div>\n",
              "<style scoped>\n",
              "    .dataframe tbody tr th:only-of-type {\n",
              "        vertical-align: middle;\n",
              "    }\n",
              "\n",
              "    .dataframe tbody tr th {\n",
              "        vertical-align: top;\n",
              "    }\n",
              "\n",
              "    .dataframe thead th {\n",
              "        text-align: right;\n",
              "    }\n",
              "</style>\n",
              "<table border=\"1\" class=\"dataframe\">\n",
              "  <thead>\n",
              "    <tr style=\"text-align: right;\">\n",
              "      <th></th>\n",
              "      <th>count</th>\n",
              "    </tr>\n",
              "    <tr>\n",
              "      <th>Soil_type</th>\n",
              "      <th></th>\n",
              "    </tr>\n",
              "  </thead>\n",
              "  <tbody>\n",
              "    <tr>\n",
              "      <th>isda</th>\n",
              "      <td>2107</td>\n",
              "    </tr>\n",
              "    <tr>\n",
              "      <th>loam</th>\n",
              "      <td>286</td>\n",
              "    </tr>\n",
              "    <tr>\n",
              "      <th>unknown</th>\n",
              "      <td>101</td>\n",
              "    </tr>\n",
              "    <tr>\n",
              "      <th>Clay loam</th>\n",
              "      <td>70</td>\n",
              "    </tr>\n",
              "    <tr>\n",
              "      <th>loam clay</th>\n",
              "      <td>11</td>\n",
              "    </tr>\n",
              "    <tr>\n",
              "      <th>brick</th>\n",
              "      <td>6</td>\n",
              "    </tr>\n",
              "    <tr>\n",
              "      <th>in the sand</th>\n",
              "      <td>3</td>\n",
              "    </tr>\n",
              "  </tbody>\n",
              "</table>\n",
              "</div><br><label><b>dtype:</b> int64</label>"
            ]
          },
          "metadata": {},
          "execution_count": 28
        }
      ]
    },
    {
      "cell_type": "code",
      "source": [
        "# Plotting:\n",
        "\n",
        "plt.figure(figsize=(10, 5))\n",
        "sns.countplot(merged_data['Soil_type'], palette='viridis')\n",
        "plt.title(f'Distribution of Soil type')\n",
        "plt.xticks(rotation=45)\n",
        "plt.show()"
      ],
      "metadata": {
        "colab": {
          "base_uri": "https://localhost:8080/",
          "height": 615
        },
        "id": "6AEj3pPLdL-e",
        "outputId": "c6bd9daa-689e-4424-a56b-c2fbf1681369"
      },
      "execution_count": 29,
      "outputs": [
        {
          "output_type": "stream",
          "name": "stderr",
          "text": [
            "<ipython-input-29-b0528c11b352>:4: FutureWarning: \n",
            "\n",
            "Passing `palette` without assigning `hue` is deprecated and will be removed in v0.14.0. Assign the `y` variable to `hue` and set `legend=False` for the same effect.\n",
            "\n",
            "  sns.countplot(merged_data['Soil_type'], palette='viridis')\n"
          ]
        },
        {
          "output_type": "display_data",
          "data": {
            "text/plain": [
              "<Figure size 1000x500 with 1 Axes>"
            ],
            "image/png": "[encoded data removed]"
          },
          "metadata": {}
        }
      ]
    },
    {
      "cell_type": "markdown",
      "source": [
        "### Univariate Analysis Observations:\n",
        "\n",
        "- Most of the features are right skewed.\n",
        "- There are outliers in the continuous features.\n",
        "- There's hardly any strong correlation between the features, either positive or negative.\n",
        "- For the categorical features, isda category outweighs all the other categories in all of the categorical features.\n",
        "- Zinc is positively correlated to potassium and mildly positively correlated to pH value.\n",
        "\n",
        "### Question:\n",
        "- What is to be done with the 'isda' values?\n",
        "- In the categorical features there are categories having one, two or five values. Should we team them up to create an 'other' feature?\n",
        "- Should we consider latitude and longitude representative of the Area, Land class, Soil type and Soil group features? It would help in eliminating the how to treat the isda category in the categorical features."
      ],
      "metadata": {
        "id": "WDZoG-YwdwBN"
      }
    },
    {
      "cell_type": "code",
      "source": [],
      "metadata": {
        "id": "iUEumKdfdqfF"
      },
      "execution_count": 29,
      "outputs": []
    },
    {
      "cell_type": "markdown",
      "source": [
        "### Bi-variate Analysis(with respect to ***zinc***):"
      ],
      "metadata": {
        "id": "B7lW92RxgDBt"
      }
    },
    {
      "cell_type": "code",
      "source": [
        "# plotting realtionship between zinc and Area features\n",
        "\n",
        "sns.boxplot(data=merged_data, x='Zinc', y='Area')\n",
        "plt.title(\"Relationship between Zinc and Area features\")"
      ],
      "metadata": {
        "id": "BH-HbspfgKEP",
        "colab": {
          "base_uri": "https://localhost:8080/",
          "height": 489
        },
        "outputId": "9cac0e04-af37-435f-cebc-8abef553b792"
      },
      "execution_count": 30,
      "outputs": [
        {
          "output_type": "execute_result",
          "data": {
            "text/plain": [
              "Text(0.5, 1.0, 'Relationship between Zinc and Area features')"
            ]
          },
          "metadata": {},
          "execution_count": 30
        },
        {
          "output_type": "display_data",
          "data": {
            "text/plain": [
              "<Figure size 640x480 with 1 Axes>"
            ],
            "image/png": "[encoded data removed]"
          },
          "metadata": {}
        }
      ]
    },
    {
      "cell_type": "code",
      "source": [
        "# plotting realtionship between zinc and Soil group features\n",
        "\n",
        "sns.boxplot(data=merged_data, x='Zinc', y='Soil_group')\n",
        "plt.title(\"Relationship between Zinc and Soil group features\")"
      ],
      "metadata": {
        "id": "YzG59AXTgKeM",
        "colab": {
          "base_uri": "https://localhost:8080/",
          "height": 489
        },
        "outputId": "49bd4549-e974-4f8b-971d-16c743c78264"
      },
      "execution_count": 31,
      "outputs": [
        {
          "output_type": "execute_result",
          "data": {
            "text/plain": [
              "Text(0.5, 1.0, 'Relationship between Zinc and Soil group features')"
            ]
          },
          "metadata": {},
          "execution_count": 31
        },
        {
          "output_type": "display_data",
          "data": {
            "text/plain": [
              "<Figure size 640x480 with 1 Axes>"
            ],
            "image/png": "[encoded data removed]"
          },
          "metadata": {}
        }
      ]
    },
    {
      "cell_type": "code",
      "source": [
        "# plotting realtionship between zinc and Land class features\n",
        "\n",
        "sns.boxplot(data=merged_data, x='Zinc', y='Land_class')\n",
        "plt.title(\"Relationship between Zinc and Land class features\")"
      ],
      "metadata": {
        "id": "yowRfY3agKUV",
        "colab": {
          "base_uri": "https://localhost:8080/",
          "height": 489
        },
        "outputId": "d867350f-5e75-4f45-8078-71cb388cf460"
      },
      "execution_count": 32,
      "outputs": [
        {
          "output_type": "execute_result",
          "data": {
            "text/plain": [
              "Text(0.5, 1.0, 'Relationship between Zinc and Land class features')"
            ]
          },
          "metadata": {},
          "execution_count": 32
        },
        {
          "output_type": "display_data",
          "data": {
            "text/plain": [
              "<Figure size 640x480 with 1 Axes>"
            ],
            "image/png": "[encoded data removed]"
          },
          "metadata": {}
        }
      ]
    },
    {
      "cell_type": "code",
      "source": [
        "# plotting realtionship between zinc and Soil type features\n",
        "\n",
        "sns.boxplot(data=merged_data, x='Zinc', y='Soil_type')\n",
        "plt.title(\"Relationship between Zinc and Soil type features\")"
      ],
      "metadata": {
        "colab": {
          "base_uri": "https://localhost:8080/",
          "height": 489
        },
        "id": "hiVWkWztaVQu",
        "outputId": "dd6d9235-730c-4144-db19-8928e1a7d46d"
      },
      "execution_count": 33,
      "outputs": [
        {
          "output_type": "execute_result",
          "data": {
            "text/plain": [
              "Text(0.5, 1.0, 'Relationship between Zinc and Soil type features')"
            ]
          },
          "metadata": {},
          "execution_count": 33
        },
        {
          "output_type": "display_data",
          "data": {
            "text/plain": [
              "<Figure size 640x480 with 1 Axes>"
            ],
            "image/png": "[encoded data removed]"
          },
          "metadata": {}
        }
      ]
    },
    {
      "cell_type": "markdown",
      "source": [
        "### Bivariate Analysis Observations:\n",
        "\n",
        "- The average **Zinc** values somewhat **differ** for different **Areas**.\n",
        "- The average **Zinc** values somewhat **differ** for different **Soil group**.\n",
        "- **Not much difference** between the average **zinc** values accross **Land class** and **Soil type** features."
      ],
      "metadata": {
        "id": "d3LeDNTwdDrW"
      }
    },
    {
      "cell_type": "markdown",
      "source": [
        "### Hypothesis Testing(One way ANOVA):\n",
        "\n",
        "- Ho: Means across the categories are same\n",
        "- Ha: Means across the categories are different"
      ],
      "metadata": {
        "id": "5fc-n8Wvpn4f"
      }
    },
    {
      "cell_type": "code",
      "source": [
        "import statsmodels.api as sm\n",
        "from statsmodels.formula.api import ols\n",
        "\n",
        "# Anova for Zinc and Area features\n",
        "\n",
        "model = ols('Zinc ~ Area',                 # Model formula\n",
        "            data = merged_data).fit()\n",
        "\n",
        "anova_result = sm.stats.anova_lm(model, typ=2)\n",
        "print (anova_result)\n",
        "\n",
        "# We reject the Ho, the mean Zinc values across different Area differ."
      ],
      "metadata": {
        "colab": {
          "base_uri": "https://localhost:8080/"
        },
        "id": "OAqYNvjmaVBH",
        "outputId": "471befc7-0f64-4f34-e7d8-b7df77a2b3ee"
      },
      "execution_count": 34,
      "outputs": [
        {
          "output_type": "stream",
          "name": "stdout",
          "text": [
            "              sum_sq      df           F         PR(>F)\n",
            "Area      145.251088     5.0  175.489317  4.599538e-161\n",
            "Residual  426.757949  2578.0         NaN            NaN\n"
          ]
        }
      ]
    },
    {
      "cell_type": "code",
      "source": [
        "# Anova for Zinc and Soil group features\n",
        "\n",
        "model = ols('Zinc ~ Soil_group',                 # Model formula\n",
        "            data = merged_data).fit()\n",
        "\n",
        "anova_result = sm.stats.anova_lm(model, typ=2)\n",
        "print (anova_result)\n",
        "\n",
        "# We reject the Ho, the mean Zinc values across different Soil_group differ."
      ],
      "metadata": {
        "colab": {
          "base_uri": "https://localhost:8080/"
        },
        "id": "3m19JIuerOdB",
        "outputId": "d9ca1f58-cc74-4d92-b388-539a7e6bb3f8"
      },
      "execution_count": 35,
      "outputs": [
        {
          "output_type": "stream",
          "name": "stdout",
          "text": [
            "                sum_sq      df          F        PR(>F)\n",
            "Soil_group   62.667643    22.0  14.322581  2.678479e-50\n",
            "Residual    509.341394  2561.0        NaN           NaN\n"
          ]
        }
      ]
    },
    {
      "cell_type": "code",
      "source": [
        "# Anova for Zinc and Land class features\n",
        "\n",
        "model = ols('Zinc ~ Land_class',                 # Model formula\n",
        "            data = merged_data).fit()\n",
        "\n",
        "anova_result = sm.stats.anova_lm(model, typ=2)\n",
        "print (anova_result)\n",
        "\n",
        "# We reject the Ho, the mean Zinc values across different Land_class differ."
      ],
      "metadata": {
        "colab": {
          "base_uri": "https://localhost:8080/"
        },
        "id": "QTh6Xz27rOOv",
        "outputId": "9a8e7b4e-2c73-451e-9655-2e09857802aa"
      },
      "execution_count": 36,
      "outputs": [
        {
          "output_type": "stream",
          "name": "stdout",
          "text": [
            "                sum_sq      df          F        PR(>F)\n",
            "Land_class   54.884666     5.0  54.722878  3.563143e-54\n",
            "Residual    517.124371  2578.0        NaN           NaN\n"
          ]
        }
      ]
    },
    {
      "cell_type": "code",
      "source": [
        "# Anova for Zinc and Soil type features\n",
        "\n",
        "model = ols('Zinc ~ Soil_type',                 # Model formula\n",
        "            data = merged_data).fit()\n",
        "\n",
        "anova_result = sm.stats.anova_lm(model, typ=2)\n",
        "print (anova_result)\n",
        "\n",
        "# We reject the Ho, the mean Zinc values across different Soil_type differ."
      ],
      "metadata": {
        "colab": {
          "base_uri": "https://localhost:8080/"
        },
        "id": "WuILV2IxaU8n",
        "outputId": "dcdcc277-6ce4-4326-969d-20baf88e01db"
      },
      "execution_count": 37,
      "outputs": [
        {
          "output_type": "stream",
          "name": "stdout",
          "text": [
            "               sum_sq      df          F        PR(>F)\n",
            "Soil_type   55.937736     6.0  46.554144  2.088348e-54\n",
            "Residual   516.071301  2577.0        NaN           NaN\n"
          ]
        }
      ]
    },
    {
      "cell_type": "code",
      "source": [],
      "metadata": {
        "id": "c-r0QLV7enUZ"
      },
      "execution_count": 37,
      "outputs": []
    },
    {
      "cell_type": "markdown",
      "source": [
        "# Feature Engineering"
      ],
      "metadata": {
        "id": "sRJHPJhUYYyN"
      }
    },
    {
      "cell_type": "code",
      "source": [
        "# We have seen in the visualizations that the continuous features might be skewed\n",
        "# checking the skewness of the same.\n",
        "\n",
        "merged_numeric.skew(axis = 0)\n",
        "\n",
        "# We can see that some columns are positively skewed and 'pH' and 'Sand' are negatively skewed.\n",
        "# We will need to treat those to get the desired results."
      ],
      "metadata": {
        "colab": {
          "base_uri": "https://localhost:8080/",
          "height": 429
        },
        "id": "hY0NNNwAd1kW",
        "outputId": "ae2b5abb-21f8-452f-86aa-4300c3456cab"
      },
      "execution_count": 38,
      "outputs": [
        {
          "output_type": "execute_result",
          "data": {
            "text/plain": [
              "longitude     1.616018\n",
              "latitude      1.561540\n",
              "pH           -0.247267\n",
              "Nitrogen      1.009825\n",
              "Potassium     0.985205\n",
              "Phosphorus    3.351142\n",
              "Sulfur        2.310504\n",
              "Zinc          1.099748\n",
              "Sand         -0.699432\n",
              "Silt          1.301490\n",
              "Clay          1.521748\n",
              "dtype: float64"
            ],
            "text/html": [
              "<div>\n",
              "<style scoped>\n",
              "    .dataframe tbody tr th:only-of-type {\n",
              "        vertical-align: middle;\n",
              "    }\n",
              "\n",
              "    .dataframe tbody tr th {\n",
              "        vertical-align: top;\n",
              "    }\n",
              "\n",
              "    .dataframe thead th {\n",
              "        text-align: right;\n",
              "    }\n",
              "</style>\n",
              "<table border=\"1\" class=\"dataframe\">\n",
              "  <thead>\n",
              "    <tr style=\"text-align: right;\">\n",
              "      <th></th>\n",
              "      <th>0</th>\n",
              "    </tr>\n",
              "  </thead>\n",
              "  <tbody>\n",
              "    <tr>\n",
              "      <th>longitude</th>\n",
              "      <td>1.616018</td>\n",
              "    </tr>\n",
              "    <tr>\n",
              "      <th>latitude</th>\n",
              "      <td>1.561540</td>\n",
              "    </tr>\n",
              "    <tr>\n",
              "      <th>pH</th>\n",
              "      <td>-0.247267</td>\n",
              "    </tr>\n",
              "    <tr>\n",
              "      <th>Nitrogen</th>\n",
              "      <td>1.009825</td>\n",
              "    </tr>\n",
              "    <tr>\n",
              "      <th>Potassium</th>\n",
              "      <td>0.985205</td>\n",
              "    </tr>\n",
              "    <tr>\n",
              "      <th>Phosphorus</th>\n",
              "      <td>3.351142</td>\n",
              "    </tr>\n",
              "    <tr>\n",
              "      <th>Sulfur</th>\n",
              "      <td>2.310504</td>\n",
              "    </tr>\n",
              "    <tr>\n",
              "      <th>Zinc</th>\n",
              "      <td>1.099748</td>\n",
              "    </tr>\n",
              "    <tr>\n",
              "      <th>Sand</th>\n",
              "      <td>-0.699432</td>\n",
              "    </tr>\n",
              "    <tr>\n",
              "      <th>Silt</th>\n",
              "      <td>1.301490</td>\n",
              "    </tr>\n",
              "    <tr>\n",
              "      <th>Clay</th>\n",
              "      <td>1.521748</td>\n",
              "    </tr>\n",
              "  </tbody>\n",
              "</table>\n",
              "</div><br><label><b>dtype:</b> float64</label>"
            ]
          },
          "metadata": {},
          "execution_count": 38
        }
      ]
    },
    {
      "cell_type": "code",
      "source": [
        "# creating a copy of our dataframe\n",
        "\n",
        "merged_data_fe = merged_data.copy()"
      ],
      "metadata": {
        "id": "EfjPavA9YfaH"
      },
      "execution_count": 39,
      "outputs": []
    },
    {
      "cell_type": "code",
      "source": [
        "# checking the columns for the merged_data_fe:\n",
        "merged_data_fe.columns"
      ],
      "metadata": {
        "id": "dJlcaIPnYfVG",
        "colab": {
          "base_uri": "https://localhost:8080/"
        },
        "outputId": "10483efe-3c44-437d-c464-815fbbd6de2d"
      },
      "execution_count": 40,
      "outputs": [
        {
          "output_type": "execute_result",
          "data": {
            "text/plain": [
              "Index(['longitude', 'latitude', 'Area', 'Soil_group', 'Land_class',\n",
              "       'Soil_type', 'pH', 'Nitrogen', 'Potassium', 'Phosphorus', 'Sulfur',\n",
              "       'Zinc', 'Sand', 'Silt', 'Clay'],\n",
              "      dtype='object')"
            ]
          },
          "metadata": {},
          "execution_count": 40
        }
      ]
    },
    {
      "cell_type": "code",
      "source": [
        "# Checking if zero is present in any columns before taking log transform:\n",
        "\n",
        "# Check if zero is present in column 'A'\n",
        "if 0 in merged_data_fe['longitude'].values:\n",
        "    print(\"Zero is present.\")\n",
        "else:\n",
        "    print(\"Zero is not present.\")"
      ],
      "metadata": {
        "colab": {
          "base_uri": "https://localhost:8080/"
        },
        "id": "YFqUpgP705GU",
        "outputId": "dca275cd-92e8-48f0-f9f3-e0f0b50d0a28"
      },
      "execution_count": 41,
      "outputs": [
        {
          "output_type": "stream",
          "name": "stdout",
          "text": [
            "Zero is not present.\n"
          ]
        }
      ]
    },
    {
      "cell_type": "code",
      "source": [
        "if 0 in merged_data_fe['latitude'].values:\n",
        "    print(\"Zero is present.\")\n",
        "else:\n",
        "    print(\"Zero is not present.\")"
      ],
      "metadata": {
        "colab": {
          "base_uri": "https://localhost:8080/"
        },
        "id": "43eWddhr1ImS",
        "outputId": "7312d1ee-44cb-4243-aece-4a6f4e0a585d"
      },
      "execution_count": 42,
      "outputs": [
        {
          "output_type": "stream",
          "name": "stdout",
          "text": [
            "Zero is not present.\n"
          ]
        }
      ]
    },
    {
      "cell_type": "code",
      "source": [
        "if 0 in merged_data_fe['Nitrogen'].values:\n",
        "    print(\"Zero is present.\")\n",
        "else:\n",
        "    print(\"Zero is not present.\")"
      ],
      "metadata": {
        "colab": {
          "base_uri": "https://localhost:8080/"
        },
        "id": "bV6l-Rsa1Ic5",
        "outputId": "ce5ca4e4-c925-407d-b8b6-a01d5ffcf948"
      },
      "execution_count": 43,
      "outputs": [
        {
          "output_type": "stream",
          "name": "stdout",
          "text": [
            "Zero is not present.\n"
          ]
        }
      ]
    },
    {
      "cell_type": "code",
      "source": [
        "if 0 in merged_data_fe['Potassium'].values:\n",
        "    print(\"Zero is present.\")\n",
        "else:\n",
        "    print(\"Zero is not present.\")"
      ],
      "metadata": {
        "colab": {
          "base_uri": "https://localhost:8080/"
        },
        "id": "60RTzcmi1IUG",
        "outputId": "36f4e47a-3721-4974-8e24-c691637dd158"
      },
      "execution_count": 44,
      "outputs": [
        {
          "output_type": "stream",
          "name": "stdout",
          "text": [
            "Zero is present.\n"
          ]
        }
      ]
    },
    {
      "cell_type": "code",
      "source": [
        "if 0 in merged_data_fe['Phosphorus'].values:\n",
        "    print(\"Zero is present.\")\n",
        "else:\n",
        "    print(\"Zero is not present.\")"
      ],
      "metadata": {
        "colab": {
          "base_uri": "https://localhost:8080/"
        },
        "id": "2obDbHCW1IPN",
        "outputId": "ca8623c0-372f-43bb-e224-90e68c53da29"
      },
      "execution_count": 45,
      "outputs": [
        {
          "output_type": "stream",
          "name": "stdout",
          "text": [
            "Zero is not present.\n"
          ]
        }
      ]
    },
    {
      "cell_type": "code",
      "source": [
        "if 0 in merged_data_fe['Sulfur'].values:\n",
        "    print(\"Zero is present.\")\n",
        "else:\n",
        "    print(\"Zero is not present.\")"
      ],
      "metadata": {
        "colab": {
          "base_uri": "https://localhost:8080/"
        },
        "id": "-6DwGxnb1IFO",
        "outputId": "088aeea1-e15e-4bd3-9c21-9c2b1fe7cfc5"
      },
      "execution_count": 46,
      "outputs": [
        {
          "output_type": "stream",
          "name": "stdout",
          "text": [
            "Zero is not present.\n"
          ]
        }
      ]
    },
    {
      "cell_type": "code",
      "source": [
        "if 0 in merged_data_fe['Silt'].values:\n",
        "    print(\"Zero is present.\")\n",
        "else:\n",
        "    print(\"Zero is not present.\")"
      ],
      "metadata": {
        "colab": {
          "base_uri": "https://localhost:8080/"
        },
        "id": "F3zgXLE71H88",
        "outputId": "23bfc483-d14a-4818-fab2-2debe4788f84"
      },
      "execution_count": 47,
      "outputs": [
        {
          "output_type": "stream",
          "name": "stdout",
          "text": [
            "Zero is not present.\n"
          ]
        }
      ]
    },
    {
      "cell_type": "code",
      "source": [
        "if 0 in merged_data_fe['Clay'].values:\n",
        "    print(\"Zero is present.\")\n",
        "else:\n",
        "    print(\"Zero is not present.\")"
      ],
      "metadata": {
        "colab": {
          "base_uri": "https://localhost:8080/"
        },
        "id": "XJMTS8kI1H0T",
        "outputId": "c1c853d6-cb8d-4bd4-9c4c-9ee84b3f78d4"
      },
      "execution_count": 48,
      "outputs": [
        {
          "output_type": "stream",
          "name": "stdout",
          "text": [
            "Zero is not present.\n"
          ]
        }
      ]
    },
    {
      "cell_type": "code",
      "source": [
        "# We can see that 0 is present in the 'Potassium' column, we shall remove those rows as log transform will lead to infinite\n",
        "# value\n",
        "\n",
        "merged_data_fe = merged_data_fe.loc[merged_data_fe['Potassium'] != 0]\n",
        "\n"
      ],
      "metadata": {
        "id": "YcUG4D2U1Jpt"
      },
      "execution_count": 49,
      "outputs": []
    },
    {
      "cell_type": "code",
      "source": [
        "# cross checking if there are any zero values:\n",
        "\n",
        "if 0 in merged_data_fe['Potassium'].values:\n",
        "    print(\"Zero is present.\")\n",
        "else:\n",
        "    print(\"Zero is not present.\")\n",
        "\n",
        "# zero has been removed.\n",
        "# now we can move to the log transforms."
      ],
      "metadata": {
        "colab": {
          "base_uri": "https://localhost:8080/"
        },
        "id": "2Q2raBYy2oXF",
        "outputId": "c61b3b81-ed47-4986-f035-11e1217af633"
      },
      "execution_count": 50,
      "outputs": [
        {
          "output_type": "stream",
          "name": "stdout",
          "text": [
            "Zero is not present.\n"
          ]
        }
      ]
    },
    {
      "cell_type": "code",
      "source": [],
      "metadata": {
        "id": "wRTijNnQ3AOm"
      },
      "execution_count": null,
      "outputs": []
    },
    {
      "cell_type": "code",
      "source": [
        "# As we can see that the data has skewness we shall treat the features accordingly:\n",
        "\n",
        "# Taking the natural log for the right skewed columns:\n",
        "merged_data_fe['longitude_log'] = np.log(merged_data_fe['longitude'])\n",
        "merged_data_fe['latitude_log'] = np.log(merged_data_fe['latitude'])\n",
        "merged_data_fe['Nitrogen_log'] = np.log(merged_data_fe['Nitrogen'])\n",
        "merged_data_fe['Potassium_log'] = np.log(merged_data_fe['Potassium'])\n",
        "merged_data_fe['Phosphorus_log'] = np.log(merged_data_fe['Phosphorus'])\n",
        "merged_data_fe['Sulfur_log'] = np.log(merged_data_fe['Sulfur'])\n",
        "merged_data_fe['Silt_log'] = np.log(merged_data_fe['Silt'])\n",
        "merged_data_fe['Clay_log'] = np.log(merged_data_fe['Clay'])\n",
        "\n"
      ],
      "metadata": {
        "id": "6HmcHbYqYfSM"
      },
      "execution_count": 51,
      "outputs": []
    },
    {
      "cell_type": "code",
      "source": [
        "# Taking the square of the left skewed data:\n",
        "\n",
        "merged_data_fe['pH_square'] = np.square(merged_data_fe['pH'])\n",
        "merged_data_fe['Sand_square'] = np.square(merged_data_fe['Sand'])"
      ],
      "metadata": {
        "id": "1mlDkdD5YfEc"
      },
      "execution_count": 52,
      "outputs": []
    },
    {
      "cell_type": "code",
      "source": [
        "# checking the columns\n",
        "\n",
        "merged_data_fe.columns"
      ],
      "metadata": {
        "colab": {
          "base_uri": "https://localhost:8080/"
        },
        "id": "dJuL27FvoTIF",
        "outputId": "1e8f5961-3d73-4a2b-f1b5-4d3e654427d2"
      },
      "execution_count": 53,
      "outputs": [
        {
          "output_type": "execute_result",
          "data": {
            "text/plain": [
              "Index(['longitude', 'latitude', 'Area', 'Soil_group', 'Land_class',\n",
              "       'Soil_type', 'pH', 'Nitrogen', 'Potassium', 'Phosphorus', 'Sulfur',\n",
              "       'Zinc', 'Sand', 'Silt', 'Clay', 'longitude_log', 'latitude_log',\n",
              "       'Nitrogen_log', 'Potassium_log', 'Phosphorus_log', 'Sulfur_log',\n",
              "       'Silt_log', 'Clay_log', 'pH_square', 'Sand_square'],\n",
              "      dtype='object')"
            ]
          },
          "metadata": {},
          "execution_count": 53
        }
      ]
    },
    {
      "cell_type": "code",
      "source": [],
      "metadata": {
        "id": "XSboyADNyurF"
      },
      "execution_count": null,
      "outputs": []
    },
    {
      "cell_type": "code",
      "source": [
        "# Now that we have dealt with the continuous columns, lets transform the categorical columns:\n",
        "\n",
        "merged_data_fe = pd.get_dummies(merged_data_fe, columns=['Area', 'Soil_group', 'Land_class', 'Soil_type'], drop_first=True, dtype='int')\n"
      ],
      "metadata": {
        "id": "ibZuAb7ZoTt1"
      },
      "execution_count": 54,
      "outputs": []
    },
    {
      "cell_type": "code",
      "source": [
        "# checking out the columns:\n",
        "\n",
        "merged_data_fe.columns"
      ],
      "metadata": {
        "colab": {
          "base_uri": "https://localhost:8080/"
        },
        "id": "Df5gEIplqpLt",
        "outputId": "bc0e719f-3326-4134-fdb5-1b0cd4cd3b3b"
      },
      "execution_count": 55,
      "outputs": [
        {
          "output_type": "execute_result",
          "data": {
            "text/plain": [
              "Index(['longitude', 'latitude', 'pH', 'Nitrogen', 'Potassium', 'Phosphorus',\n",
              "       'Sulfur', 'Zinc', 'Sand', 'Silt', 'Clay', 'longitude_log',\n",
              "       'latitude_log', 'Nitrogen_log', 'Potassium_log', 'Phosphorus_log',\n",
              "       'Sulfur_log', 'Silt_log', 'Clay_log', 'pH_square', 'Sand_square',\n",
              "       'Area_Kaunia upazila', 'Area_Mithpukur', 'Area_Pirgacha ',\n",
              "       'Area_Taraganj Thana', 'Area_isda', 'Soil_group_Berries',\n",
              "       'Soil_group_Bhimpur', 'Soil_group_Chilmari', 'Soil_group_Gangachara',\n",
              "       'Soil_group_Imadpur', 'Soil_group_Indrail', 'Soil_group_Kachna',\n",
              "       'Soil_group_Kaunia', 'Soil_group_Khilgaon', 'Soil_group_Menanagar',\n",
              "       'Soil_group_Noadda', 'Soil_group_Palashbari', 'Soil_group_Pirgacha',\n",
              "       'Soil_group_Saghata', 'Soil_group_Sahapur',\n",
              "       'Soil_group_Teesta sandy soil', 'Soil_group_The militants',\n",
              "       'Soil_group_belab', 'Soil_group_isda', 'Soil_group_recession',\n",
              "       'Soil_group_the moon', 'Soil_group_the pen',\n",
              "       'Land_class_Medium high land', 'Land_class_Medium low land',\n",
              "       'Land_class_Shallow to medium high land', 'Land_class_high ground',\n",
              "       'Land_class_isda', 'Soil_type_brick', 'Soil_type_in the sand',\n",
              "       'Soil_type_isda', 'Soil_type_loam', 'Soil_type_loam clay',\n",
              "       'Soil_type_unknown'],\n",
              "      dtype='object')"
            ]
          },
          "metadata": {},
          "execution_count": 55
        }
      ]
    },
    {
      "cell_type": "code",
      "source": [
        "# now we will drop the original columns to create a final dataframe:\n",
        "\n",
        "merged_data_final = merged_data_fe.drop(['longitude', 'latitude', 'pH', 'Nitrogen', 'Potassium', 'Phosphorus',\n",
        "                                         'Sulfur', 'Sand', 'Silt', 'Clay'], axis=1)\n",
        "\n",
        "merged_data_final.columns"
      ],
      "metadata": {
        "colab": {
          "base_uri": "https://localhost:8080/"
        },
        "id": "uoslablmqxTU",
        "outputId": "7550fda6-af63-44b6-9244-b428897f1b14"
      },
      "execution_count": 56,
      "outputs": [
        {
          "output_type": "execute_result",
          "data": {
            "text/plain": [
              "Index(['Zinc', 'longitude_log', 'latitude_log', 'Nitrogen_log',\n",
              "       'Potassium_log', 'Phosphorus_log', 'Sulfur_log', 'Silt_log', 'Clay_log',\n",
              "       'pH_square', 'Sand_square', 'Area_Kaunia upazila', 'Area_Mithpukur',\n",
              "       'Area_Pirgacha ', 'Area_Taraganj Thana', 'Area_isda',\n",
              "       'Soil_group_Berries', 'Soil_group_Bhimpur', 'Soil_group_Chilmari',\n",
              "       'Soil_group_Gangachara', 'Soil_group_Imadpur', 'Soil_group_Indrail',\n",
              "       'Soil_group_Kachna', 'Soil_group_Kaunia', 'Soil_group_Khilgaon',\n",
              "       'Soil_group_Menanagar', 'Soil_group_Noadda', 'Soil_group_Palashbari',\n",
              "       'Soil_group_Pirgacha', 'Soil_group_Saghata', 'Soil_group_Sahapur',\n",
              "       'Soil_group_Teesta sandy soil', 'Soil_group_The militants',\n",
              "       'Soil_group_belab', 'Soil_group_isda', 'Soil_group_recession',\n",
              "       'Soil_group_the moon', 'Soil_group_the pen',\n",
              "       'Land_class_Medium high land', 'Land_class_Medium low land',\n",
              "       'Land_class_Shallow to medium high land', 'Land_class_high ground',\n",
              "       'Land_class_isda', 'Soil_type_brick', 'Soil_type_in the sand',\n",
              "       'Soil_type_isda', 'Soil_type_loam', 'Soil_type_loam clay',\n",
              "       'Soil_type_unknown'],\n",
              "      dtype='object')"
            ]
          },
          "metadata": {},
          "execution_count": 56
        }
      ]
    },
    {
      "cell_type": "code",
      "source": [
        "merged_data_final.head(5)"
      ],
      "metadata": {
        "colab": {
          "base_uri": "https://localhost:8080/",
          "height": 290
        },
        "id": "JFIuFqgXqxQQ",
        "outputId": "e55dae34-d794-4282-9174-08ee336347f4"
      },
      "execution_count": 57,
      "outputs": [
        {
          "output_type": "execute_result",
          "data": {
            "text/plain": [
              "   Zinc  longitude_log  latitude_log  Nitrogen_log  Potassium_log  \\\n",
              "0  0.86       4.491741      3.241334     -2.525729      -1.897120   \n",
              "1  0.75       4.491741      3.241334     -2.407946      -1.386294   \n",
              "2  0.95       4.491741      3.241334     -2.995732      -2.407946   \n",
              "3  1.00       4.491741      3.241334     -2.813411      -1.203973   \n",
              "4  1.04       4.491741      3.241334     -2.207275      -1.771957   \n",
              "\n",
              "   Phosphorus_log  Sulfur_log  Silt_log  Clay_log  pH_square  ...  \\\n",
              "0        2.975530    3.629660  3.496508  3.496508      25.00  ...   \n",
              "1        1.410987    3.465736  3.496508  3.496508      24.01  ...   \n",
              "2        2.587764    2.602690  3.496508  3.496508      21.16  ...   \n",
              "3        3.005683    3.401197  3.496508  3.496508      27.04  ...   \n",
              "4        3.020425    3.325036  3.496508  3.496508      28.09  ...   \n",
              "\n",
              "   Land_class_Medium low land  Land_class_Shallow to medium high land  \\\n",
              "0                           0                                       0   \n",
              "1                           0                                       0   \n",
              "2                           0                                       0   \n",
              "3                           0                                       0   \n",
              "4                           0                                       0   \n",
              "\n",
              "   Land_class_high ground  Land_class_isda  Soil_type_brick  \\\n",
              "0                       1                0                0   \n",
              "1                       1                0                0   \n",
              "2                       1                0                0   \n",
              "3                       1                0                0   \n",
              "4                       1                0                0   \n",
              "\n",
              "   Soil_type_in the sand  Soil_type_isda  Soil_type_loam  Soil_type_loam clay  \\\n",
              "0                      0               0               0                    0   \n",
              "1                      0               0               0                    0   \n",
              "2                      0               0               0                    0   \n",
              "3                      0               0               0                    0   \n",
              "4                      0               0               0                    0   \n",
              "\n",
              "   Soil_type_unknown  \n",
              "0                  0  \n",
              "1                  0  \n",
              "2                  0  \n",
              "3                  0  \n",
              "4                  0  \n",
              "\n",
              "[5 rows x 49 columns]"
            ],
            "text/html": [
              "\n",
              "  <div id=\"df-ed9d3956-e63b-4a14-a3d4-0cb3d4a7b68e\" class=\"colab-df-container\">\n",
              "    <div>\n",
              "<style scoped>\n",
              "    .dataframe tbody tr th:only-of-type {\n",
              "        vertical-align: middle;\n",
              "    }\n",
              "\n",
              "    .dataframe tbody tr th {\n",
              "        vertical-align: top;\n",
              "    }\n",
              "\n",
              "    .dataframe thead th {\n",
              "        text-align: right;\n",
              "    }\n",
              "</style>\n",
              "<table border=\"1\" class=\"dataframe\">\n",
              "  <thead>\n",
              "    <tr style=\"text-align: right;\">\n",
              "      <th></th>\n",
              "      <th>Zinc</th>\n",
              "      <th>longitude_log</th>\n",
              "      <th>latitude_log</th>\n",
              "      <th>Nitrogen_log</th>\n",
              "      <th>Potassium_log</th>\n",
              "      <th>Phosphorus_log</th>\n",
              "      <th>Sulfur_log</th>\n",
              "      <th>Silt_log</th>\n",
              "      <th>Clay_log</th>\n",
              "      <th>pH_square</th>\n",
              "      <th>...</th>\n",
              "      <th>Land_class_Medium low land</th>\n",
              "      <th>Land_class_Shallow to medium high land</th>\n",
              "      <th>Land_class_high ground</th>\n",
              "      <th>Land_class_isda</th>\n",
              "      <th>Soil_type_brick</th>\n",
              "      <th>Soil_type_in the sand</th>\n",
              "      <th>Soil_type_isda</th>\n",
              "      <th>Soil_type_loam</th>\n",
              "      <th>Soil_type_loam clay</th>\n",
              "      <th>Soil_type_unknown</th>\n",
              "    </tr>\n",
              "  </thead>\n",
              "  <tbody>\n",
              "    <tr>\n",
              "      <th>0</th>\n",
              "      <td>0.86</td>\n",
              "      <td>4.491741</td>\n",
              "      <td>3.241334</td>\n",
              "      <td>-2.525729</td>\n",
              "      <td>-1.897120</td>\n",
              "      <td>2.975530</td>\n",
              "      <td>3.629660</td>\n",
              "      <td>3.496508</td>\n",
              "      <td>3.496508</td>\n",
              "      <td>25.00</td>\n",
              "      <td>...</td>\n",
              "      <td>0</td>\n",
              "      <td>0</td>\n",
              "      <td>1</td>\n",
              "      <td>0</td>\n",
              "      <td>0</td>\n",
              "      <td>0</td>\n",
              "      <td>0</td>\n",
              "      <td>0</td>\n",
              "      <td>0</td>\n",
              "      <td>0</td>\n",
              "    </tr>\n",
              "    <tr>\n",
              "      <th>1</th>\n",
              "      <td>0.75</td>\n",
              "      <td>4.491741</td>\n",
              "      <td>3.241334</td>\n",
              "      <td>-2.407946</td>\n",
              "      <td>-1.386294</td>\n",
              "      <td>1.410987</td>\n",
              "      <td>3.465736</td>\n",
              "      <td>3.496508</td>\n",
              "      <td>3.496508</td>\n",
              "      <td>24.01</td>\n",
              "      <td>...</td>\n",
              "      <td>0</td>\n",
              "      <td>0</td>\n",
              "      <td>1</td>\n",
              "      <td>0</td>\n",
              "      <td>0</td>\n",
              "      <td>0</td>\n",
              "      <td>0</td>\n",
              "      <td>0</td>\n",
              "      <td>0</td>\n",
              "      <td>0</td>\n",
              "    </tr>\n",
              "    <tr>\n",
              "      <th>2</th>\n",
              "      <td>0.95</td>\n",
              "      <td>4.491741</td>\n",
              "      <td>3.241334</td>\n",
              "      <td>-2.995732</td>\n",
              "      <td>-2.407946</td>\n",
              "      <td>2.587764</td>\n",
              "      <td>2.602690</td>\n",
              "      <td>3.496508</td>\n",
              "      <td>3.496508</td>\n",
              "      <td>21.16</td>\n",
              "      <td>...</td>\n",
              "      <td>0</td>\n",
              "      <td>0</td>\n",
              "      <td>1</td>\n",
              "      <td>0</td>\n",
              "      <td>0</td>\n",
              "      <td>0</td>\n",
              "      <td>0</td>\n",
              "      <td>0</td>\n",
              "      <td>0</td>\n",
              "      <td>0</td>\n",
              "    </tr>\n",
              "    <tr>\n",
              "      <th>3</th>\n",
              "      <td>1.00</td>\n",
              "      <td>4.491741</td>\n",
              "      <td>3.241334</td>\n",
              "      <td>-2.813411</td>\n",
              "      <td>-1.203973</td>\n",
              "      <td>3.005683</td>\n",
              "      <td>3.401197</td>\n",
              "      <td>3.496508</td>\n",
              "      <td>3.496508</td>\n",
              "      <td>27.04</td>\n",
              "      <td>...</td>\n",
              "      <td>0</td>\n",
              "      <td>0</td>\n",
              "      <td>1</td>\n",
              "      <td>0</td>\n",
              "      <td>0</td>\n",
              "      <td>0</td>\n",
              "      <td>0</td>\n",
              "      <td>0</td>\n",
              "      <td>0</td>\n",
              "      <td>0</td>\n",
              "    </tr>\n",
              "    <tr>\n",
              "      <th>4</th>\n",
              "      <td>1.04</td>\n",
              "      <td>4.491741</td>\n",
              "      <td>3.241334</td>\n",
              "      <td>-2.207275</td>\n",
              "      <td>-1.771957</td>\n",
              "      <td>3.020425</td>\n",
              "      <td>3.325036</td>\n",
              "      <td>3.496508</td>\n",
              "      <td>3.496508</td>\n",
              "      <td>28.09</td>\n",
              "      <td>...</td>\n",
              "      <td>0</td>\n",
              "      <td>0</td>\n",
              "      <td>1</td>\n",
              "      <td>0</td>\n",
              "      <td>0</td>\n",
              "      <td>0</td>\n",
              "      <td>0</td>\n",
              "      <td>0</td>\n",
              "      <td>0</td>\n",
              "      <td>0</td>\n",
              "    </tr>\n",
              "  </tbody>\n",
              "</table>\n",
              "<p>5 rows × 49 columns</p>\n",
              "</div>\n",
              "    <div class=\"colab-df-buttons\">\n",
              "\n",
              "  <div class=\"colab-df-container\">\n",
              "    <button class=\"colab-df-convert\" onclick=\"convertToInteractive('df-ed9d3956-e63b-4a14-a3d4-0cb3d4a7b68e')\"\n",
              "            title=\"Convert this dataframe to an interactive table.\"\n",
              "            style=\"display:none;\">\n",
              "\n",
              "  <svg xmlns=\"http://www.w3.org/2000/svg\" height=\"24px\" viewBox=\"0 -960 960 960\">\n",
              "    <path d=\"M120-120v-720h720v720H120Zm60-500h600v-160H180v160Zm220 220h160v-160H400v160Zm0 220h160v-160H400v160ZM180-400h160v-160H180v160Zm440 0h160v-160H620v160ZM180-180h160v-160H180v160Zm440 0h160v-160H620v160Z\"/>\n",
              "  </svg>\n",
              "    </button>\n",
              "\n",
              "  <style>\n",
              "    .colab-df-container {\n",
              "      display:flex;\n",
              "      gap: 12px;\n",
              "    }\n",
              "\n",
              "    .colab-df-convert {\n",
              "      background-color: #E8F0FE;\n",
              "      border: none;\n",
              "      border-radius: 50%;\n",
              "      cursor: pointer;\n",
              "      display: none;\n",
              "      fill: #1967D2;\n",
              "      height: 32px;\n",
              "      padding: 0 0 0 0;\n",
              "      width: 32px;\n",
              "    }\n",
              "\n",
              "    .colab-df-convert:hover {\n",
              "      background-color: #E2EBFA;\n",
              "      box-shadow: 0px 1px 2px rgba(60, 64, 67, 0.3), 0px 1px 3px 1px rgba(60, 64, 67, 0.15);\n",
              "      fill: #174EA6;\n",
              "    }\n",
              "\n",
              "    .colab-df-buttons div {\n",
              "      margin-bottom: 4px;\n",
              "    }\n",
              "\n",
              "    [theme=dark] .colab-df-convert {\n",
              "      background-color: #3B4455;\n",
              "      fill: #D2E3FC;\n",
              "    }\n",
              "\n",
              "    [theme=dark] .colab-df-convert:hover {\n",
              "      background-color: #434B5C;\n",
              "      box-shadow: 0px 1px 3px 1px rgba(0, 0, 0, 0.15);\n",
              "      filter: drop-shadow(0px 1px 2px rgba(0, 0, 0, 0.3));\n",
              "      fill: #FFFFFF;\n",
              "    }\n",
              "  </style>\n",
              "\n",
              "    <script>\n",
              "      const buttonEl =\n",
              "        document.querySelector('#df-ed9d3956-e63b-4a14-a3d4-0cb3d4a7b68e button.colab-df-convert');\n",
              "      buttonEl.style.display =\n",
              "        google.colab.kernel.accessAllowed ? 'block' : 'none';\n",
              "\n",
              "      async function convertToInteractive(key) {\n",
              "        const element = document.querySelector('#df-ed9d3956-e63b-4a14-a3d4-0cb3d4a7b68e');\n",
              "        const dataTable =\n",
              "          await google.colab.kernel.invokeFunction('convertToInteractive',\n",
              "                                                    [key], {});\n",
              "        if (!dataTable) return;\n",
              "\n",
              "        const docLinkHtml = 'Like what you see? Visit the ' +\n",
              "          '<a target=\"_blank\" href=https://colab.research.google.com/notebooks/data_table.ipynb>data table notebook</a>'\n",
              "          + ' to learn more about interactive tables.';\n",
              "        element.innerHTML = '';\n",
              "        dataTable['output_type'] = 'display_data';\n",
              "        await google.colab.output.renderOutput(dataTable, element);\n",
              "        const docLink = document.createElement('div');\n",
              "        docLink.innerHTML = docLinkHtml;\n",
              "        element.appendChild(docLink);\n",
              "      }\n",
              "    </script>\n",
              "  </div>\n",
              "\n",
              "\n",
              "<div id=\"df-10a5452a-3559-4017-bdfd-234733f32ef6\">\n",
              "  <button class=\"colab-df-quickchart\" onclick=\"quickchart('df-10a5452a-3559-4017-bdfd-234733f32ef6')\"\n",
              "            title=\"Suggest charts\"\n",
              "            style=\"display:none;\">\n",
              "\n",
              "<svg xmlns=\"http://www.w3.org/2000/svg\" height=\"24px\"viewBox=\"0 0 24 24\"\n",
              "     width=\"24px\">\n",
              "    <g>\n",
              "        <path d=\"M19 3H5c-1.1 0-2 .9-2 2v14c0 1.1.9 2 2 2h14c1.1 0 2-.9 2-2V5c0-1.1-.9-2-2-2zM9 17H7v-7h2v7zm4 0h-2V7h2v10zm4 0h-2v-4h2v4z\"/>\n",
              "    </g>\n",
              "</svg>\n",
              "  </button>\n",
              "\n",
              "<style>\n",
              "  .colab-df-quickchart {\n",
              "      --bg-color: #E8F0FE;\n",
              "      --fill-color: #1967D2;\n",
              "      --hover-bg-color: #E2EBFA;\n",
              "      --hover-fill-color: #174EA6;\n",
              "      --disabled-fill-color: #AAA;\n",
              "      --disabled-bg-color: #DDD;\n",
              "  }\n",
              "\n",
              "  [theme=dark] .colab-df-quickchart {\n",
              "      --bg-color: #3B4455;\n",
              "      --fill-color: #D2E3FC;\n",
              "      --hover-bg-color: #434B5C;\n",
              "      --hover-fill-color: #FFFFFF;\n",
              "      --disabled-bg-color: #3B4455;\n",
              "      --disabled-fill-color: #666;\n",
              "  }\n",
              "\n",
              "  .colab-df-quickchart {\n",
              "    background-color: var(--bg-color);\n",
              "    border: none;\n",
              "    border-radius: 50%;\n",
              "    cursor: pointer;\n",
              "    display: none;\n",
              "    fill: var(--fill-color);\n",
              "    height: 32px;\n",
              "    padding: 0;\n",
              "    width: 32px;\n",
              "  }\n",
              "\n",
              "  .colab-df-quickchart:hover {\n",
              "    background-color: var(--hover-bg-color);\n",
              "    box-shadow: 0 1px 2px rgba(60, 64, 67, 0.3), 0 1px 3px 1px rgba(60, 64, 67, 0.15);\n",
              "    fill: var(--button-hover-fill-color);\n",
              "  }\n",
              "\n",
              "  .colab-df-quickchart-complete:disabled,\n",
              "  .colab-df-quickchart-complete:disabled:hover {\n",
              "    background-color: var(--disabled-bg-color);\n",
              "    fill: var(--disabled-fill-color);\n",
              "    box-shadow: none;\n",
              "  }\n",
              "\n",
              "  .colab-df-spinner {\n",
              "    border: 2px solid var(--fill-color);\n",
              "    border-color: transparent;\n",
              "    border-bottom-color: var(--fill-color);\n",
              "    animation:\n",
              "      spin 1s steps(1) infinite;\n",
              "  }\n",
              "\n",
              "  @keyframes spin {\n",
              "    0% {\n",
              "      border-color: transparent;\n",
              "      border-bottom-color: var(--fill-color);\n",
              "      border-left-color: var(--fill-color);\n",
              "    }\n",
              "    20% {\n",
              "      border-color: transparent;\n",
              "      border-left-color: var(--fill-color);\n",
              "      border-top-color: var(--fill-color);\n",
              "    }\n",
              "    30% {\n",
              "      border-color: transparent;\n",
              "      border-left-color: var(--fill-color);\n",
              "      border-top-color: var(--fill-color);\n",
              "      border-right-color: var(--fill-color);\n",
              "    }\n",
              "    40% {\n",
              "      border-color: transparent;\n",
              "      border-right-color: var(--fill-color);\n",
              "      border-top-color: var(--fill-color);\n",
              "    }\n",
              "    60% {\n",
              "      border-color: transparent;\n",
              "      border-right-color: var(--fill-color);\n",
              "    }\n",
              "    80% {\n",
              "      border-color: transparent;\n",
              "      border-right-color: var(--fill-color);\n",
              "      border-bottom-color: var(--fill-color);\n",
              "    }\n",
              "    90% {\n",
              "      border-color: transparent;\n",
              "      border-bottom-color: var(--fill-color);\n",
              "    }\n",
              "  }\n",
              "</style>\n",
              "\n",
              "  <script>\n",
              "    async function quickchart(key) {\n",
              "      const quickchartButtonEl =\n",
              "        document.querySelector('#' + key + ' button');\n",
              "      quickchartButtonEl.disabled = true;  // To prevent multiple clicks.\n",
              "      quickchartButtonEl.classList.add('colab-df-spinner');\n",
              "      try {\n",
              "        const charts = await google.colab.kernel.invokeFunction(\n",
              "            'suggestCharts', [key], {});\n",
              "      } catch (error) {\n",
              "        console.error('Error during call to suggestCharts:', error);\n",
              "      }\n",
              "      quickchartButtonEl.classList.remove('colab-df-spinner');\n",
              "      quickchartButtonEl.classList.add('colab-df-quickchart-complete');\n",
              "    }\n",
              "    (() => {\n",
              "      let quickchartButtonEl =\n",
              "        document.querySelector('#df-10a5452a-3559-4017-bdfd-234733f32ef6 button');\n",
              "      quickchartButtonEl.style.display =\n",
              "        google.colab.kernel.accessAllowed ? 'block' : 'none';\n",
              "    })();\n",
              "  </script>\n",
              "</div>\n",
              "\n",
              "    </div>\n",
              "  </div>\n"
            ],
            "application/vnd.google.colaboratory.intrinsic+json": {
              "type": "dataframe",
              "variable_name": "merged_data_final"
            }
          },
          "metadata": {},
          "execution_count": 57
        }
      ]
    },
    {
      "cell_type": "code",
      "source": [
        "merged_data_final.tail(5)"
      ],
      "metadata": {
        "colab": {
          "base_uri": "https://localhost:8080/",
          "height": 290
        },
        "id": "codDAcQhqxM7",
        "outputId": "9340d792-98a0-4f08-855f-80fc02461428"
      },
      "execution_count": 58,
      "outputs": [
        {
          "output_type": "execute_result",
          "data": {
            "text/plain": [
              "          Zinc  longitude_log  latitude_log  Nitrogen_log  Potassium_log  \\\n",
              "2579  0.911567       1.687435      2.299250     -3.467350      -1.814827   \n",
              "2580  0.882494       1.803357      2.249002     -3.556466      -1.942436   \n",
              "2581  1.039760       2.157686      2.123998     -2.773378      -1.452927   \n",
              "2582  0.858591       2.433310      2.213321     -3.389815      -2.082857   \n",
              "2583  0.847897       2.156296      2.126530     -3.844967      -2.212393   \n",
              "\n",
              "      Phosphorus_log  Sulfur_log  Silt_log  Clay_log  pH_square  ...  \\\n",
              "2579        1.221287    1.892653  2.944439  2.639057  37.270903  ...   \n",
              "2580        1.394099    1.750390  2.833213  2.564949  39.891982  ...   \n",
              "2581        0.930067    2.173973  2.995732  2.708050  34.369727  ...   \n",
              "2582        2.261808    1.677095  3.091042  2.944439  35.699430  ...   \n",
              "2583        1.442027    1.595120  2.890372  2.639057  38.731454  ...   \n",
              "\n",
              "      Land_class_Medium low land  Land_class_Shallow to medium high land  \\\n",
              "2579                           0                                       0   \n",
              "2580                           0                                       0   \n",
              "2581                           0                                       0   \n",
              "2582                           0                                       0   \n",
              "2583                           0                                       0   \n",
              "\n",
              "      Land_class_high ground  Land_class_isda  Soil_type_brick  \\\n",
              "2579                       0                1                0   \n",
              "2580                       0                1                0   \n",
              "2581                       0                1                0   \n",
              "2582                       0                1                0   \n",
              "2583                       0                1                0   \n",
              "\n",
              "      Soil_type_in the sand  Soil_type_isda  Soil_type_loam  \\\n",
              "2579                      0               1               0   \n",
              "2580                      0               1               0   \n",
              "2581                      0               1               0   \n",
              "2582                      0               1               0   \n",
              "2583                      0               1               0   \n",
              "\n",
              "      Soil_type_loam clay  Soil_type_unknown  \n",
              "2579                    0                  0  \n",
              "2580                    0                  0  \n",
              "2581                    0                  0  \n",
              "2582                    0                  0  \n",
              "2583                    0                  0  \n",
              "\n",
              "[5 rows x 49 columns]"
            ],
            "text/html": [
              "\n",
              "  <div id=\"df-4227d490-1579-41dc-9884-5f0b30b7a5ee\" class=\"colab-df-container\">\n",
              "    <div>\n",
              "<style scoped>\n",
              "    .dataframe tbody tr th:only-of-type {\n",
              "        vertical-align: middle;\n",
              "    }\n",
              "\n",
              "    .dataframe tbody tr th {\n",
              "        vertical-align: top;\n",
              "    }\n",
              "\n",
              "    .dataframe thead th {\n",
              "        text-align: right;\n",
              "    }\n",
              "</style>\n",
              "<table border=\"1\" class=\"dataframe\">\n",
              "  <thead>\n",
              "    <tr style=\"text-align: right;\">\n",
              "      <th></th>\n",
              "      <th>Zinc</th>\n",
              "      <th>longitude_log</th>\n",
              "      <th>latitude_log</th>\n",
              "      <th>Nitrogen_log</th>\n",
              "      <th>Potassium_log</th>\n",
              "      <th>Phosphorus_log</th>\n",
              "      <th>Sulfur_log</th>\n",
              "      <th>Silt_log</th>\n",
              "      <th>Clay_log</th>\n",
              "      <th>pH_square</th>\n",
              "      <th>...</th>\n",
              "      <th>Land_class_Medium low land</th>\n",
              "      <th>Land_class_Shallow to medium high land</th>\n",
              "      <th>Land_class_high ground</th>\n",
              "      <th>Land_class_isda</th>\n",
              "      <th>Soil_type_brick</th>\n",
              "      <th>Soil_type_in the sand</th>\n",
              "      <th>Soil_type_isda</th>\n",
              "      <th>Soil_type_loam</th>\n",
              "      <th>Soil_type_loam clay</th>\n",
              "      <th>Soil_type_unknown</th>\n",
              "    </tr>\n",
              "  </thead>\n",
              "  <tbody>\n",
              "    <tr>\n",
              "      <th>2579</th>\n",
              "      <td>0.911567</td>\n",
              "      <td>1.687435</td>\n",
              "      <td>2.299250</td>\n",
              "      <td>-3.467350</td>\n",
              "      <td>-1.814827</td>\n",
              "      <td>1.221287</td>\n",
              "      <td>1.892653</td>\n",
              "      <td>2.944439</td>\n",
              "      <td>2.639057</td>\n",
              "      <td>37.270903</td>\n",
              "      <td>...</td>\n",
              "      <td>0</td>\n",
              "      <td>0</td>\n",
              "      <td>0</td>\n",
              "      <td>1</td>\n",
              "      <td>0</td>\n",
              "      <td>0</td>\n",
              "      <td>1</td>\n",
              "      <td>0</td>\n",
              "      <td>0</td>\n",
              "      <td>0</td>\n",
              "    </tr>\n",
              "    <tr>\n",
              "      <th>2580</th>\n",
              "      <td>0.882494</td>\n",
              "      <td>1.803357</td>\n",
              "      <td>2.249002</td>\n",
              "      <td>-3.556466</td>\n",
              "      <td>-1.942436</td>\n",
              "      <td>1.394099</td>\n",
              "      <td>1.750390</td>\n",
              "      <td>2.833213</td>\n",
              "      <td>2.564949</td>\n",
              "      <td>39.891982</td>\n",
              "      <td>...</td>\n",
              "      <td>0</td>\n",
              "      <td>0</td>\n",
              "      <td>0</td>\n",
              "      <td>1</td>\n",
              "      <td>0</td>\n",
              "      <td>0</td>\n",
              "      <td>1</td>\n",
              "      <td>0</td>\n",
              "      <td>0</td>\n",
              "      <td>0</td>\n",
              "    </tr>\n",
              "    <tr>\n",
              "      <th>2581</th>\n",
              "      <td>1.039760</td>\n",
              "      <td>2.157686</td>\n",
              "      <td>2.123998</td>\n",
              "      <td>-2.773378</td>\n",
              "      <td>-1.452927</td>\n",
              "      <td>0.930067</td>\n",
              "      <td>2.173973</td>\n",
              "      <td>2.995732</td>\n",
              "      <td>2.708050</td>\n",
              "      <td>34.369727</td>\n",
              "      <td>...</td>\n",
              "      <td>0</td>\n",
              "      <td>0</td>\n",
              "      <td>0</td>\n",
              "      <td>1</td>\n",
              "      <td>0</td>\n",
              "      <td>0</td>\n",
              "      <td>1</td>\n",
              "      <td>0</td>\n",
              "      <td>0</td>\n",
              "      <td>0</td>\n",
              "    </tr>\n",
              "    <tr>\n",
              "      <th>2582</th>\n",
              "      <td>0.858591</td>\n",
              "      <td>2.433310</td>\n",
              "      <td>2.213321</td>\n",
              "      <td>-3.389815</td>\n",
              "      <td>-2.082857</td>\n",
              "      <td>2.261808</td>\n",
              "      <td>1.677095</td>\n",
              "      <td>3.091042</td>\n",
              "      <td>2.944439</td>\n",
              "      <td>35.699430</td>\n",
              "      <td>...</td>\n",
              "      <td>0</td>\n",
              "      <td>0</td>\n",
              "      <td>0</td>\n",
              "      <td>1</td>\n",
              "      <td>0</td>\n",
              "      <td>0</td>\n",
              "      <td>1</td>\n",
              "      <td>0</td>\n",
              "      <td>0</td>\n",
              "      <td>0</td>\n",
              "    </tr>\n",
              "    <tr>\n",
              "      <th>2583</th>\n",
              "      <td>0.847897</td>\n",
              "      <td>2.156296</td>\n",
              "      <td>2.126530</td>\n",
              "      <td>-3.844967</td>\n",
              "      <td>-2.212393</td>\n",
              "      <td>1.442027</td>\n",
              "      <td>1.595120</td>\n",
              "      <td>2.890372</td>\n",
              "      <td>2.639057</td>\n",
              "      <td>38.731454</td>\n",
              "      <td>...</td>\n",
              "      <td>0</td>\n",
              "      <td>0</td>\n",
              "      <td>0</td>\n",
              "      <td>1</td>\n",
              "      <td>0</td>\n",
              "      <td>0</td>\n",
              "      <td>1</td>\n",
              "      <td>0</td>\n",
              "      <td>0</td>\n",
              "      <td>0</td>\n",
              "    </tr>\n",
              "  </tbody>\n",
              "</table>\n",
              "<p>5 rows × 49 columns</p>\n",
              "</div>\n",
              "    <div class=\"colab-df-buttons\">\n",
              "\n",
              "  <div class=\"colab-df-container\">\n",
              "    <button class=\"colab-df-convert\" onclick=\"convertToInteractive('df-4227d490-1579-41dc-9884-5f0b30b7a5ee')\"\n",
              "            title=\"Convert this dataframe to an interactive table.\"\n",
              "            style=\"display:none;\">\n",
              "\n",
              "  <svg xmlns=\"http://www.w3.org/2000/svg\" height=\"24px\" viewBox=\"0 -960 960 960\">\n",
              "    <path d=\"M120-120v-720h720v720H120Zm60-500h600v-160H180v160Zm220 220h160v-160H400v160Zm0 220h160v-160H400v160ZM180-400h160v-160H180v160Zm440 0h160v-160H620v160ZM180-180h160v-160H180v160Zm440 0h160v-160H620v160Z\"/>\n",
              "  </svg>\n",
              "    </button>\n",
              "\n",
              "  <style>\n",
              "    .colab-df-container {\n",
              "      display:flex;\n",
              "      gap: 12px;\n",
              "    }\n",
              "\n",
              "    .colab-df-convert {\n",
              "      background-color: #E8F0FE;\n",
              "      border: none;\n",
              "      border-radius: 50%;\n",
              "      cursor: pointer;\n",
              "      display: none;\n",
              "      fill: #1967D2;\n",
              "      height: 32px;\n",
              "      padding: 0 0 0 0;\n",
              "      width: 32px;\n",
              "    }\n",
              "\n",
              "    .colab-df-convert:hover {\n",
              "      background-color: #E2EBFA;\n",
              "      box-shadow: 0px 1px 2px rgba(60, 64, 67, 0.3), 0px 1px 3px 1px rgba(60, 64, 67, 0.15);\n",
              "      fill: #174EA6;\n",
              "    }\n",
              "\n",
              "    .colab-df-buttons div {\n",
              "      margin-bottom: 4px;\n",
              "    }\n",
              "\n",
              "    [theme=dark] .colab-df-convert {\n",
              "      background-color: #3B4455;\n",
              "      fill: #D2E3FC;\n",
              "    }\n",
              "\n",
              "    [theme=dark] .colab-df-convert:hover {\n",
              "      background-color: #434B5C;\n",
              "      box-shadow: 0px 1px 3px 1px rgba(0, 0, 0, 0.15);\n",
              "      filter: drop-shadow(0px 1px 2px rgba(0, 0, 0, 0.3));\n",
              "      fill: #FFFFFF;\n",
              "    }\n",
              "  </style>\n",
              "\n",
              "    <script>\n",
              "      const buttonEl =\n",
              "        document.querySelector('#df-4227d490-1579-41dc-9884-5f0b30b7a5ee button.colab-df-convert');\n",
              "      buttonEl.style.display =\n",
              "        google.colab.kernel.accessAllowed ? 'block' : 'none';\n",
              "\n",
              "      async function convertToInteractive(key) {\n",
              "        const element = document.querySelector('#df-4227d490-1579-41dc-9884-5f0b30b7a5ee');\n",
              "        const dataTable =\n",
              "          await google.colab.kernel.invokeFunction('convertToInteractive',\n",
              "                                                    [key], {});\n",
              "        if (!dataTable) return;\n",
              "\n",
              "        const docLinkHtml = 'Like what you see? Visit the ' +\n",
              "          '<a target=\"_blank\" href=https://colab.research.google.com/notebooks/data_table.ipynb>data table notebook</a>'\n",
              "          + ' to learn more about interactive tables.';\n",
              "        element.innerHTML = '';\n",
              "        dataTable['output_type'] = 'display_data';\n",
              "        await google.colab.output.renderOutput(dataTable, element);\n",
              "        const docLink = document.createElement('div');\n",
              "        docLink.innerHTML = docLinkHtml;\n",
              "        element.appendChild(docLink);\n",
              "      }\n",
              "    </script>\n",
              "  </div>\n",
              "\n",
              "\n",
              "<div id=\"df-4c59f071-649a-465a-9a98-adc456f54b50\">\n",
              "  <button class=\"colab-df-quickchart\" onclick=\"quickchart('df-4c59f071-649a-465a-9a98-adc456f54b50')\"\n",
              "            title=\"Suggest charts\"\n",
              "            style=\"display:none;\">\n",
              "\n",
              "<svg xmlns=\"http://www.w3.org/2000/svg\" height=\"24px\"viewBox=\"0 0 24 24\"\n",
              "     width=\"24px\">\n",
              "    <g>\n",
              "        <path d=\"M19 3H5c-1.1 0-2 .9-2 2v14c0 1.1.9 2 2 2h14c1.1 0 2-.9 2-2V5c0-1.1-.9-2-2-2zM9 17H7v-7h2v7zm4 0h-2V7h2v10zm4 0h-2v-4h2v4z\"/>\n",
              "    </g>\n",
              "</svg>\n",
              "  </button>\n",
              "\n",
              "<style>\n",
              "  .colab-df-quickchart {\n",
              "      --bg-color: #E8F0FE;\n",
              "      --fill-color: #1967D2;\n",
              "      --hover-bg-color: #E2EBFA;\n",
              "      --hover-fill-color: #174EA6;\n",
              "      --disabled-fill-color: #AAA;\n",
              "      --disabled-bg-color: #DDD;\n",
              "  }\n",
              "\n",
              "  [theme=dark] .colab-df-quickchart {\n",
              "      --bg-color: #3B4455;\n",
              "      --fill-color: #D2E3FC;\n",
              "      --hover-bg-color: #434B5C;\n",
              "      --hover-fill-color: #FFFFFF;\n",
              "      --disabled-bg-color: #3B4455;\n",
              "      --disabled-fill-color: #666;\n",
              "  }\n",
              "\n",
              "  .colab-df-quickchart {\n",
              "    background-color: var(--bg-color);\n",
              "    border: none;\n",
              "    border-radius: 50%;\n",
              "    cursor: pointer;\n",
              "    display: none;\n",
              "    fill: var(--fill-color);\n",
              "    height: 32px;\n",
              "    padding: 0;\n",
              "    width: 32px;\n",
              "  }\n",
              "\n",
              "  .colab-df-quickchart:hover {\n",
              "    background-color: var(--hover-bg-color);\n",
              "    box-shadow: 0 1px 2px rgba(60, 64, 67, 0.3), 0 1px 3px 1px rgba(60, 64, 67, 0.15);\n",
              "    fill: var(--button-hover-fill-color);\n",
              "  }\n",
              "\n",
              "  .colab-df-quickchart-complete:disabled,\n",
              "  .colab-df-quickchart-complete:disabled:hover {\n",
              "    background-color: var(--disabled-bg-color);\n",
              "    fill: var(--disabled-fill-color);\n",
              "    box-shadow: none;\n",
              "  }\n",
              "\n",
              "  .colab-df-spinner {\n",
              "    border: 2px solid var(--fill-color);\n",
              "    border-color: transparent;\n",
              "    border-bottom-color: var(--fill-color);\n",
              "    animation:\n",
              "      spin 1s steps(1) infinite;\n",
              "  }\n",
              "\n",
              "  @keyframes spin {\n",
              "    0% {\n",
              "      border-color: transparent;\n",
              "      border-bottom-color: var(--fill-color);\n",
              "      border-left-color: var(--fill-color);\n",
              "    }\n",
              "    20% {\n",
              "      border-color: transparent;\n",
              "      border-left-color: var(--fill-color);\n",
              "      border-top-color: var(--fill-color);\n",
              "    }\n",
              "    30% {\n",
              "      border-color: transparent;\n",
              "      border-left-color: var(--fill-color);\n",
              "      border-top-color: var(--fill-color);\n",
              "      border-right-color: var(--fill-color);\n",
              "    }\n",
              "    40% {\n",
              "      border-color: transparent;\n",
              "      border-right-color: var(--fill-color);\n",
              "      border-top-color: var(--fill-color);\n",
              "    }\n",
              "    60% {\n",
              "      border-color: transparent;\n",
              "      border-right-color: var(--fill-color);\n",
              "    }\n",
              "    80% {\n",
              "      border-color: transparent;\n",
              "      border-right-color: var(--fill-color);\n",
              "      border-bottom-color: var(--fill-color);\n",
              "    }\n",
              "    90% {\n",
              "      border-color: transparent;\n",
              "      border-bottom-color: var(--fill-color);\n",
              "    }\n",
              "  }\n",
              "</style>\n",
              "\n",
              "  <script>\n",
              "    async function quickchart(key) {\n",
              "      const quickchartButtonEl =\n",
              "        document.querySelector('#' + key + ' button');\n",
              "      quickchartButtonEl.disabled = true;  // To prevent multiple clicks.\n",
              "      quickchartButtonEl.classList.add('colab-df-spinner');\n",
              "      try {\n",
              "        const charts = await google.colab.kernel.invokeFunction(\n",
              "            'suggestCharts', [key], {});\n",
              "      } catch (error) {\n",
              "        console.error('Error during call to suggestCharts:', error);\n",
              "      }\n",
              "      quickchartButtonEl.classList.remove('colab-df-spinner');\n",
              "      quickchartButtonEl.classList.add('colab-df-quickchart-complete');\n",
              "    }\n",
              "    (() => {\n",
              "      let quickchartButtonEl =\n",
              "        document.querySelector('#df-4c59f071-649a-465a-9a98-adc456f54b50 button');\n",
              "      quickchartButtonEl.style.display =\n",
              "        google.colab.kernel.accessAllowed ? 'block' : 'none';\n",
              "    })();\n",
              "  </script>\n",
              "</div>\n",
              "\n",
              "    </div>\n",
              "  </div>\n"
            ],
            "application/vnd.google.colaboratory.intrinsic+json": {
              "type": "dataframe"
            }
          },
          "metadata": {},
          "execution_count": 58
        }
      ]
    },
    {
      "cell_type": "markdown",
      "source": [
        "# Modelling"
      ],
      "metadata": {
        "id": "HOQcLxN8uBa5"
      }
    },
    {
      "cell_type": "code",
      "source": [
        "# importing the required libraries:\n",
        "\n",
        "from sklearn.model_selection import train_test_split\n",
        "from sklearn.linear_model import LinearRegression\n",
        "from sklearn.tree import DecisionTreeRegressor\n",
        "from sklearn.ensemble import RandomForestRegressor\n",
        "from sklearn.metrics import mean_squared_error, mean_absolute_error, r2_score"
      ],
      "metadata": {
        "id": "k-9TmLGUqxIP"
      },
      "execution_count": 59,
      "outputs": []
    },
    {
      "cell_type": "code",
      "source": [
        "# Define X variables and our target(Zinc)\n",
        "\n",
        "X = merged_data_final.drop([\"Zinc\"],axis=1).values\n",
        "y = merged_data_final[\"Zinc\"].values\n",
        "print(\"X : \",X.shape,\" y : \",y.shape)"
      ],
      "metadata": {
        "colab": {
          "base_uri": "https://localhost:8080/"
        },
        "id": "LoZa_fseqxEY",
        "outputId": "13a859bd-03f9-4b26-85a5-9d54e8cb5f4b"
      },
      "execution_count": 60,
      "outputs": [
        {
          "output_type": "stream",
          "name": "stdout",
          "text": [
            "X :  (2583, 48)  y :  (2583,)\n"
          ]
        }
      ]
    },
    {
      "cell_type": "code",
      "source": [
        "# splitting the dataset as train and test:\n",
        "\n",
        "\n",
        "X_train, X_test, y_train, y_test = train_test_split(X,y, test_size= 0.20, random_state=42)"
      ],
      "metadata": {
        "id": "Xxj1e5KHqw94"
      },
      "execution_count": 61,
      "outputs": []
    },
    {
      "cell_type": "code",
      "source": [
        "# Model metrics:\n",
        "\n",
        "# Function to evaluate the model\n",
        "def evaluate_model(model, X_train, y_train, X_test, y_test, model_name):\n",
        "    # Train the model\n",
        "    model.fit(X_train, y_train)\n",
        "\n",
        "    # Make predictions on the test set\n",
        "    y_pred = model.predict(X_test)\n",
        "\n",
        "    # Evaluate the model\n",
        "    mse = mean_squared_error(y_test, y_pred)\n",
        "    mae = mean_absolute_error(y_test, y_pred)\n",
        "    r2 = r2_score(y_test, y_pred)\n",
        "\n",
        "    # Output the results\n",
        "    print(f\"{model_name}\")\n",
        "    print(f\"Mean Squared Error (MSE): {mse}\")\n",
        "    print(f\"Mean Absolute Error (MAE): {mae}\")\n",
        "    print(f\"R-squared (R²): {r2}\")\n",
        "    print(\"\\n\")\n"
      ],
      "metadata": {
        "id": "N3bgZTuqqw6j"
      },
      "execution_count": 62,
      "outputs": []
    },
    {
      "cell_type": "code",
      "source": [
        "# Models:\n",
        "\n",
        "tree_model = DecisionTreeRegressor(random_state=42)\n",
        "rf_model = RandomForestRegressor(random_state=42)\n"
      ],
      "metadata": {
        "id": "hILFLfw-qw3z"
      },
      "execution_count": 63,
      "outputs": []
    },
    {
      "cell_type": "code",
      "source": [
        "# Call the function for each model\n",
        "\n",
        "evaluate_model(tree_model, X_train, y_train, X_test, y_test, \"Decision Tree\")\n"
      ],
      "metadata": {
        "colab": {
          "base_uri": "https://localhost:8080/"
        },
        "id": "AEnfmkpMqwy1",
        "outputId": "ba43e45a-15e0-4dcd-835c-1cd24f388480"
      },
      "execution_count": 64,
      "outputs": [
        {
          "output_type": "stream",
          "name": "stdout",
          "text": [
            "Decision Tree\n",
            "Mean Squared Error (MSE): 0.21894484485046803\n",
            "Mean Absolute Error (MAE): 0.3373664100580271\n",
            "R-squared (R²): 0.06172609131914819\n",
            "\n",
            "\n"
          ]
        }
      ]
    },
    {
      "cell_type": "code",
      "source": [
        "evaluate_model(rf_model, X_train, y_train, X_test, y_test, \"Random Forest\")"
      ],
      "metadata": {
        "colab": {
          "base_uri": "https://localhost:8080/"
        },
        "id": "3PPtElfWqwuF",
        "outputId": "4269c218-e7b0-4bbf-e861-1d6e6559f399"
      },
      "execution_count": 65,
      "outputs": [
        {
          "output_type": "stream",
          "name": "stdout",
          "text": [
            "Random Forest\n",
            "Mean Squared Error (MSE): 0.12333604288457331\n",
            "Mean Absolute Error (MAE): 0.25935656141199226\n",
            "R-squared (R²): 0.4714514008421954\n",
            "\n",
            "\n"
          ]
        }
      ]
    },
    {
      "cell_type": "code",
      "source": [],
      "metadata": {
        "id": "wwZJnHqm3ejQ"
      },
      "execution_count": null,
      "outputs": []
    }
  ]
}
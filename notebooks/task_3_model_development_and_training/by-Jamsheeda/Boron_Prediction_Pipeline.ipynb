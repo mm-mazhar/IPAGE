{
 "cells": [
  {
   "cell_type": "code",
   "execution_count": 52,
   "metadata": {},
   "outputs": [],
   "source": [
    "import numpy as np\n",
    "import pandas as pd\n",
    "\n",
    "from sklearn.metrics import mean_absolute_error,mean_absolute_percentage_error,r2_score\n",
    "from sklearn.model_selection import train_test_split, KFold,GridSearchCV\n",
    "from sklearn.ensemble import RandomForestRegressor\n",
    "from sklearn.linear_model import LinearRegression,Ridge,Lasso\n",
    "from sklearn.preprocessing import MinMaxScaler\n",
    "from sklearn.feature_selection import SelectKBest,f_regression,mutual_info_regression\n",
    "from sklearn.pipeline import Pipeline\n",
    "import featuretools as ft\n",
    "import matplotlib.pyplot as plt\n",
    "from xgboost import XGBRegressor\n",
    "import warnings\n",
    "\n",
    "warnings.filterwarnings(\"ignore\")"
   ]
  },
  {
   "cell_type": "code",
   "execution_count": 38,
   "metadata": {},
   "outputs": [
    {
     "data": {
      "text/html": [
       "<div>\n",
       "<style scoped>\n",
       "    .dataframe tbody tr th:only-of-type {\n",
       "        vertical-align: middle;\n",
       "    }\n",
       "\n",
       "    .dataframe tbody tr th {\n",
       "        vertical-align: top;\n",
       "    }\n",
       "\n",
       "    .dataframe thead th {\n",
       "        text-align: right;\n",
       "    }\n",
       "</style>\n",
       "<table border=\"1\" class=\"dataframe\">\n",
       "  <thead>\n",
       "    <tr style=\"text-align: right;\">\n",
       "      <th></th>\n",
       "      <th>longitude</th>\n",
       "      <th>latitude</th>\n",
       "      <th>Area</th>\n",
       "      <th>Soil group</th>\n",
       "      <th>Land class</th>\n",
       "      <th>Soil type</th>\n",
       "      <th>pH</th>\n",
       "      <th>SOC</th>\n",
       "      <th>Nitrogen</th>\n",
       "      <th>Potassium</th>\n",
       "      <th>Phosphorus</th>\n",
       "      <th>Sulfur</th>\n",
       "      <th>Boron</th>\n",
       "      <th>Zinc</th>\n",
       "      <th>Sand</th>\n",
       "      <th>Silt</th>\n",
       "      <th>Clay</th>\n",
       "    </tr>\n",
       "  </thead>\n",
       "  <tbody>\n",
       "    <tr>\n",
       "      <th>0</th>\n",
       "      <td>89.2767</td>\n",
       "      <td>25.5678</td>\n",
       "      <td>Mithpukur</td>\n",
       "      <td>belab</td>\n",
       "      <td>high ground</td>\n",
       "      <td>Clay loam</td>\n",
       "      <td>5.0</td>\n",
       "      <td>1.27</td>\n",
       "      <td>0.08</td>\n",
       "      <td>0.15</td>\n",
       "      <td>19.6</td>\n",
       "      <td>37.7</td>\n",
       "      <td>0.26</td>\n",
       "      <td>0.86</td>\n",
       "      <td>33.0</td>\n",
       "      <td>33.0</td>\n",
       "      <td>33.0</td>\n",
       "    </tr>\n",
       "    <tr>\n",
       "      <th>1</th>\n",
       "      <td>89.2767</td>\n",
       "      <td>25.5678</td>\n",
       "      <td>Mithpukur</td>\n",
       "      <td>belab</td>\n",
       "      <td>high ground</td>\n",
       "      <td>Clay loam</td>\n",
       "      <td>4.9</td>\n",
       "      <td>1.47</td>\n",
       "      <td>0.09</td>\n",
       "      <td>0.25</td>\n",
       "      <td>4.1</td>\n",
       "      <td>32.0</td>\n",
       "      <td>0.25</td>\n",
       "      <td>0.75</td>\n",
       "      <td>33.0</td>\n",
       "      <td>33.0</td>\n",
       "      <td>33.0</td>\n",
       "    </tr>\n",
       "    <tr>\n",
       "      <th>2</th>\n",
       "      <td>89.2767</td>\n",
       "      <td>25.5678</td>\n",
       "      <td>Mithpukur</td>\n",
       "      <td>belab</td>\n",
       "      <td>high ground</td>\n",
       "      <td>Clay loam</td>\n",
       "      <td>4.6</td>\n",
       "      <td>1.07</td>\n",
       "      <td>0.05</td>\n",
       "      <td>0.09</td>\n",
       "      <td>13.3</td>\n",
       "      <td>13.5</td>\n",
       "      <td>0.27</td>\n",
       "      <td>0.95</td>\n",
       "      <td>33.0</td>\n",
       "      <td>33.0</td>\n",
       "      <td>33.0</td>\n",
       "    </tr>\n",
       "    <tr>\n",
       "      <th>3</th>\n",
       "      <td>89.2767</td>\n",
       "      <td>25.5678</td>\n",
       "      <td>Mithpukur</td>\n",
       "      <td>belab</td>\n",
       "      <td>high ground</td>\n",
       "      <td>Clay loam</td>\n",
       "      <td>5.2</td>\n",
       "      <td>1.51</td>\n",
       "      <td>0.06</td>\n",
       "      <td>0.30</td>\n",
       "      <td>20.2</td>\n",
       "      <td>30.0</td>\n",
       "      <td>0.28</td>\n",
       "      <td>1.00</td>\n",
       "      <td>33.0</td>\n",
       "      <td>33.0</td>\n",
       "      <td>33.0</td>\n",
       "    </tr>\n",
       "    <tr>\n",
       "      <th>4</th>\n",
       "      <td>89.2767</td>\n",
       "      <td>25.5678</td>\n",
       "      <td>Mithpukur</td>\n",
       "      <td>belab</td>\n",
       "      <td>high ground</td>\n",
       "      <td>Clay loam</td>\n",
       "      <td>5.3</td>\n",
       "      <td>1.08</td>\n",
       "      <td>0.11</td>\n",
       "      <td>0.17</td>\n",
       "      <td>20.5</td>\n",
       "      <td>27.8</td>\n",
       "      <td>0.30</td>\n",
       "      <td>1.04</td>\n",
       "      <td>33.0</td>\n",
       "      <td>33.0</td>\n",
       "      <td>33.0</td>\n",
       "    </tr>\n",
       "  </tbody>\n",
       "</table>\n",
       "</div>"
      ],
      "text/plain": [
       "   longitude  latitude       Area Soil group   Land class   Soil type   pH  \\\n",
       "0    89.2767   25.5678  Mithpukur      belab  high ground  Clay loam   5.0   \n",
       "1    89.2767   25.5678  Mithpukur      belab  high ground  Clay loam   4.9   \n",
       "2    89.2767   25.5678  Mithpukur      belab  high ground  Clay loam   4.6   \n",
       "3    89.2767   25.5678  Mithpukur      belab  high ground  Clay loam   5.2   \n",
       "4    89.2767   25.5678  Mithpukur      belab  high ground  Clay loam   5.3   \n",
       "\n",
       "    SOC  Nitrogen  Potassium  Phosphorus  Sulfur  Boron  Zinc  Sand  Silt  \\\n",
       "0  1.27      0.08       0.15        19.6    37.7   0.26  0.86  33.0  33.0   \n",
       "1  1.47      0.09       0.25         4.1    32.0   0.25  0.75  33.0  33.0   \n",
       "2  1.07      0.05       0.09        13.3    13.5   0.27  0.95  33.0  33.0   \n",
       "3  1.51      0.06       0.30        20.2    30.0   0.28  1.00  33.0  33.0   \n",
       "4  1.08      0.11       0.17        20.5    27.8   0.30  1.04  33.0  33.0   \n",
       "\n",
       "   Clay  \n",
       "0  33.0  \n",
       "1  33.0  \n",
       "2  33.0  \n",
       "3  33.0  \n",
       "4  33.0  "
      ]
     },
     "execution_count": 38,
     "metadata": {},
     "output_type": "execute_result"
    }
   ],
   "source": [
    "df = pd.read_csv('./Data/merged_v2.csv')\n",
    "df.head()"
   ]
  },
  {
   "cell_type": "code",
   "execution_count": 39,
   "metadata": {},
   "outputs": [],
   "source": [
    "numerical_features = ['pH', 'Nitrogen', 'Potassium', 'Phosphorus',\n",
    "       'Sulfur', 'Sand', 'Silt', 'Clay']"
   ]
  },
  {
   "cell_type": "code",
   "execution_count": 40,
   "metadata": {},
   "outputs": [
    {
     "name": "stdout",
     "output_type": "stream",
     "text": [
      "shape of feature matrix before transformation: (2584, 8)\n"
     ]
    }
   ],
   "source": [
    "X = df[numerical_features]\n",
    "y = df[['Boron']]\n",
    "print('shape of feature matrix before transformation:',X.shape)"
   ]
  },
  {
   "cell_type": "code",
   "execution_count": 41,
   "metadata": {},
   "outputs": [
    {
     "name": "stdout",
     "output_type": "stream",
     "text": [
      "shape of feature matrix of train with transformations: (2584, 116)\n"
     ]
    }
   ],
   "source": [
    "X['id'] = [i for i in range(X.shape[0])]\n",
    "y.reset_index(inplace=True,drop=True)\n",
    "\n",
    "\n",
    "\n",
    "dataframes = {\n",
    "    \"soil_numerical\": (X, \"id\"),\n",
    "}\n",
    "\n",
    "trans_primitives = ['divide_by_feature','square_root','divide_numeric','natural_logarithm','multiply_numeric']\n",
    "feature_matrix,feature_dfs =ft.dfs(dataframes,\n",
    "                                   target_dataframe_name='soil_numerical', \n",
    "                                    trans_primitives=trans_primitives)\n",
    "print('shape of feature matrix of train with transformations:',feature_matrix.shape)"
   ]
  },
  {
   "cell_type": "code",
   "execution_count": 42,
   "metadata": {},
   "outputs": [
    {
     "name": "stdout",
     "output_type": "stream",
     "text": [
      "(2583, 116) (2583, 1)\n"
     ]
    }
   ],
   "source": [
    "#rows where there are NaNs or Infs present\n",
    "\n",
    "# for training dataset\n",
    "indices_to_remove=feature_matrix[feature_matrix.isin([np.nan, np.inf, -np.inf]).any(axis=1)].index\n",
    "feature_matrix=feature_matrix.drop(axis=1,index=indices_to_remove)\n",
    "y=y.drop(axis=1,index=indices_to_remove)\n",
    "#y_train.reset_index(inplace=True,drop=True)\n",
    "print(feature_matrix.shape,y.shape)"
   ]
  },
  {
   "cell_type": "code",
   "execution_count": 43,
   "metadata": {},
   "outputs": [],
   "source": [
    "X = feature_matrix.reset_index(drop=True)\n",
    "y = y.reset_index(drop = True)"
   ]
  },
  {
   "cell_type": "code",
   "execution_count": null,
   "metadata": {},
   "outputs": [],
   "source": [
    "print(X.shape,y.shape)"
   ]
  },
  {
   "cell_type": "code",
   "execution_count": 53,
   "metadata": {},
   "outputs": [
    {
     "name": "stdout",
     "output_type": "stream",
     "text": [
      "xgb\n",
      "Fold : 0\n",
      "r2 on test data=0.659403383731842, mae on test_data =0.043991178463342995, best r2 on cv inner=0.5890480478604635, configuration={'n_estimators': 10}\n",
      "Fold : 1\n",
      "r2 on test data=0.6772900819778442, mae on test_data =0.043283827162653825, best r2 on cv inner=0.5785822073618571, configuration={'n_estimators': 10}\n",
      "Fold : 2\n",
      "r2 on test data=0.6366040706634521, mae on test_data =0.04712929454858411, best r2 on cv inner=0.6032796104749044, configuration={'n_estimators': 10}\n",
      "Fold : 3\n",
      "r2 on test data=0.5377679467201233, mae on test_data =0.05098685810856163, best r2 on cv inner=0.6086292068163554, configuration={'n_estimators': 10}\n",
      "Fold : 4\n",
      "r2 on test data=0.5890771150588989, mae on test_data =0.04920220408504895, best r2 on cv inner=0.6182563702265421, configuration={'n_estimators': 10}\n",
      "R2 mean:0.6200285196304322, R2 std:0.05065334468325321\n",
      "lasso\n",
      "Fold : 0\n",
      "r2 on test data=0.6740887326366434, mae on test_data =0.04714070640767706, best r2 on cv inner=0.5876409806607846, configuration={'alpha': np.float64(0.01)}\n",
      "Fold : 1\n",
      "r2 on test data=0.6770604676657427, mae on test_data =0.04761292666616698, best r2 on cv inner=0.5924170548959256, configuration={'alpha': np.float64(0.04)}\n",
      "Fold : 2\n",
      "r2 on test data=0.6373998420958891, mae on test_data =0.051002569273282686, best r2 on cv inner=0.5965576143846797, configuration={'alpha': np.float64(0.01)}\n",
      "Fold : 3\n",
      "r2 on test data=-0.05878376429122145, mae on test_data =0.05385785645227546, best r2 on cv inner=0.6488216074908029, configuration={'alpha': np.float64(0.0)}\n",
      "Fold : 4\n",
      "r2 on test data=0.5227375140518473, mae on test_data =0.054540560412219496, best r2 on cv inner=0.6213844505011403, configuration={'alpha': np.float64(0.01)}\n",
      "R2 mean:0.5552645390311062, R2 std:0.2115688171607304\n",
      "rf\n",
      "Fold : 0\n",
      "r2 on test data=0.6650495244390838, mae on test_data =0.043549342969267144, best r2 on cv inner=0.6287607007223365, configuration={'n_estimators': 45}\n",
      "Fold : 1\n",
      "r2 on test data=0.6988828933070977, mae on test_data =0.04242720922372663, best r2 on cv inner=0.610383901333023, configuration={'n_estimators': 30}\n",
      "Fold : 2\n",
      "r2 on test data=0.6472946930804737, mae on test_data =0.04768847810589943, best r2 on cv inner=0.6291821925092386, configuration={'n_estimators': 40}\n",
      "Fold : 3\n",
      "r2 on test data=0.5664685588392593, mae on test_data =0.04956993706976745, best r2 on cv inner=0.6551523220034746, configuration={'n_estimators': 20}\n",
      "Fold : 4\n",
      "r2 on test data=0.6056767588077949, mae on test_data =0.049127894889534875, best r2 on cv inner=0.6388803828383054, configuration={'n_estimators': 20}\n",
      "R2 mean:0.5824011879189847, R2 std:0.1789568149355117\n"
     ]
    }
   ],
   "source": [
    "# nested cross validation - outer loop for finding out the best model \n",
    "# and inner loop for finding out the best hyperparameters for each model\n",
    "\n",
    "# configure the cross-validation procedure\n",
    "cv_outer = KFold(n_splits=5, shuffle=True, random_state=1)\n",
    "# enumerate splits\n",
    "outer_results = list()\n",
    "models_list = {'xgb':XGBRegressor(),'lasso':Lasso(),'rf':RandomForestRegressor()}\n",
    "params = {'xgb':{'n_estimators':list(range(5,30,5))},\n",
    "\t\t  'rf':{'n_estimators':list(range(15,50,5))},\n",
    "\t\t  'lasso':{'alpha': np.arange(0.00, 0.15, 0.01)}}\n",
    "for model_name,model in models_list.items():\n",
    "\tprint(model_name)\n",
    "\tfor i,(train_ix, test_ix) in enumerate(cv_outer.split(X)):\n",
    "\t\t# split data\n",
    "\t\t#print(train_ix,test_ix)\n",
    "\t\tprint('Fold :',i)\n",
    "\t\tX_train, X_test = X.loc[train_ix, :], X.loc[test_ix, :]\n",
    "\t\ty_train, y_test = y.loc[train_ix], y.loc[test_ix]\n",
    "\t\t# configure the inner cross-validation procedure\n",
    "\t\tcv_inner = KFold(n_splits=3, shuffle=True, random_state=1)\n",
    "\t\tsearch_space = params[model_name]\n",
    "\t\t# define search\n",
    "\t\tgrid_search = GridSearchCV(model, search_space, scoring='r2', cv=cv_inner, refit=True)\n",
    "\t\t# execute search\n",
    "\t\tresult = grid_search.fit(X_train, y_train)\n",
    "\t\t# get the best performing model fit on the whole training set\n",
    "\t\tbest_model = result.best_estimator_\n",
    "\t\t# evaluate model on the hold out dataset\n",
    "\t\ty_pred = best_model.predict(X_test)\n",
    "\t\t# evaluate the model\n",
    "\t\tr2 = r2_score(y_test, y_pred)\n",
    "\t\tmae = mean_absolute_error(y_test,y_pred)\n",
    "\t\tmape = mean_absolute_percentage_error(y_test,y_pred)\n",
    "\t\t# store the result\n",
    "\t\touter_results.append(r2)\n",
    "\t\t# report progress\n",
    "\t\tprint(f'r2 on test data={r2}, mae on test_data ={mae}, best r2 on cv inner={result.best_score_}, configuration={result.best_params_}')\n",
    "\tprint(f'R2 mean:{np.mean(outer_results)}, R2 std:{np.std(outer_results)}')"
   ]
  },
  {
   "cell_type": "code",
   "execution_count": 54,
   "metadata": {},
   "outputs": [
    {
     "data": {
      "text/plain": [
       "\"\\n# can also use cross_val_score as below  instead of creating an outer loop separately.\\n\\nfrom sklearn.model_selection import cross_val_score,KFold,GridSearchCV\\nfrom sklearn.ensemble import RandomForestRegressor\\ncv_inner = KFold(n_splits=3,shuffle=True)\\ncv_outer = KFold(n_splits=10,shuffle=True)\\nsearch_space = {'n_estimators':[25,30,35,40,45,50,55]}\\nmodel = RandomForestRegressor()\\ngrid_search = GridSearchCV(estimator=model,param_grid=search_space,scoring='r2',refit='r2')\\ngrid_search.fit(X,y)\\nscores = cross_val_score(estimator=grid_search,scoring='r2',cv=cv_outer,X=X,y=y)\\nprint(np.mean(scores),np.std(scores))\\n\""
      ]
     },
     "execution_count": 54,
     "metadata": {},
     "output_type": "execute_result"
    }
   ],
   "source": [
    "'''\n",
    "# can also use cross_val_score as below  instead of creating an outer loop separately.\n",
    "\n",
    "from sklearn.model_selection import cross_val_score,KFold,GridSearchCV\n",
    "from sklearn.ensemble import RandomForestRegressor\n",
    "cv_inner = KFold(n_splits=3,shuffle=True)\n",
    "cv_outer = KFold(n_splits=10,shuffle=True)\n",
    "search_space = {'n_estimators':[25,30,35,40,45,50,55]}\n",
    "model = RandomForestRegressor()\n",
    "grid_search = GridSearchCV(estimator=model,param_grid=search_space,scoring='r2',refit='r2')\n",
    "grid_search.fit(X,y)\n",
    "scores = cross_val_score(estimator=grid_search,scoring='r2',cv=cv_outer,X=X,y=y)\n",
    "print(np.mean(scores),np.std(scores))\n",
    "'''"
   ]
  },
  {
   "cell_type": "code",
   "execution_count": 55,
   "metadata": {},
   "outputs": [
    {
     "data": {
      "image/png": "[encoded data removed]",
      "text/plain": [
       "<Figure size 600x300 with 1 Axes>"
      ]
     },
     "metadata": {},
     "output_type": "display_data"
    }
   ],
   "source": [
    "# Visualising kfold split\n",
    "from matplotlib.patches import Patch\n",
    "\n",
    "def plot_kfold(cv, X, y, ax, n_splits, xlim_max):\n",
    "    \"\"\"\n",
    "    Plots the indices for a cross-validation object.\n",
    "\n",
    "    Parameters:\n",
    "    cv: Cross-validation object\n",
    "    X: Feature set\n",
    "    y: Target variable\n",
    "    ax: Matplotlib axis object\n",
    "    n_splits: Number of folds in the cross-validation\n",
    "    xlim_max: Maximum limit for the x-axis\n",
    "    \"\"\"\n",
    "    \n",
    "    # Set color map for the plot\n",
    "    cmap_cv = plt.cm.coolwarm\n",
    "    cv_split = cv.split(X=X, y=y)\n",
    "    \n",
    "    for i_split, (train_idx, test_idx) in enumerate(cv_split):\n",
    "        # Create an array of NaNs and fill in training/testing indices\n",
    "        indices = np.full(len(X), np.nan)\n",
    "        indices[test_idx], indices[train_idx] = 1, 0\n",
    "        \n",
    "        # Plot the training and testing indices\n",
    "        ax_x = range(len(indices))\n",
    "        ax_y = [i_split + 0.5] * len(indices)\n",
    "        ax.scatter(ax_x, ax_y, c=indices, marker=\"_\", \n",
    "                   lw=10, cmap=cmap_cv, vmin=-0.2, vmax=1.2)\n",
    "\n",
    "    # Set y-ticks and labels\n",
    "    y_ticks = np.arange(n_splits) + 0.5\n",
    "    ax.set(yticks=y_ticks, yticklabels=range(n_splits),\n",
    "           xlabel=\"X index\", ylabel=\"Fold\",\n",
    "           ylim=[n_splits, -0.2], xlim=[0, xlim_max])\n",
    "\n",
    "    # Set plot title and create legend\n",
    "    ax.set_title(\"KFold\", fontsize=14)\n",
    "    legend_patches = [Patch(color=cmap_cv(0.8), label=\"Testing set\"),\n",
    "                      Patch(color=cmap_cv(0.02), label=\"Training set\")]\n",
    "    ax.legend(handles=legend_patches, loc=(1.03, 0.8))\n",
    "\n",
    "# Create figure and axis\n",
    "fig, ax = plt.subplots(figsize=(6, 3))\n",
    "plot_kfold(cv_outer, X, y, ax, 10,xlim_max=2600)\n",
    "plt.tight_layout()\n",
    "fig.subplots_adjust(right=0.6)"
   ]
  },
  {
   "cell_type": "markdown",
   "metadata": {},
   "source": [
    "### to do\n",
    "1. read about nested cross validation (https://machinelearningmastery.com/nested-cross-validation-for-machine-learning-with-python/)\n",
    "2. https://machinelearningmastery.com/train-final-machine-learning-model/\n",
    "3. Include lat long info\n",
    "4. include feature selection"
   ]
  },
  {
   "cell_type": "markdown",
   "metadata": {},
   "source": []
  }
 ],
 "metadata": {
  "kernelspec": {
   "display_name": "base_env",
   "language": "python",
   "name": "python3"
  },
  "language_info": {
   "codemirror_mode": {
    "name": "ipython",
    "version": 3
   },
   "file_extension": ".py",
   "mimetype": "text/x-python",
   "name": "python",
   "nbconvert_exporter": "python",
   "pygments_lexer": "ipython3",
   "version": "3.10.15"
  }
 },
 "nbformat": 4,
 "nbformat_minor": 2
}

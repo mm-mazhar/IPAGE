{
 "cells": [
  {
   "cell_type": "code",
   "execution_count": 2,
   "metadata": {},
   "outputs": [],
   "source": [
    "import numpy as np\n",
    "import pandas as pd\n",
    "from sklearn.metrics import mean_absolute_error,mean_absolute_percentage_error,r2_score\n",
    "from sklearn.model_selection import train_test_split\n",
    "from sklearn.ensemble import RandomForestRegressor\n",
    "from sklearn.linear_model import LinearRegression,Ridge\n",
    "from sklearn.preprocessing import MinMaxScaler\n",
    "from sklearn.feature_selection import SelectKBest,f_regression,mutual_info_regression\n",
    "from sklearn.pipeline import Pipeline\n",
    "import featuretools as ft\n",
    "import warnings\n",
    "\n",
    "warnings.filterwarnings(\"ignore\")"
   ]
  },
  {
   "cell_type": "markdown",
   "metadata": {},
   "source": [
    "#### Loading data"
   ]
  },
  {
   "cell_type": "code",
   "execution_count": 3,
   "metadata": {},
   "outputs": [
    {
     "data": {
      "text/html": [
       "<div>\n",
       "<style scoped>\n",
       "    .dataframe tbody tr th:only-of-type {\n",
       "        vertical-align: middle;\n",
       "    }\n",
       "\n",
       "    .dataframe tbody tr th {\n",
       "        vertical-align: top;\n",
       "    }\n",
       "\n",
       "    .dataframe thead th {\n",
       "        text-align: right;\n",
       "    }\n",
       "</style>\n",
       "<table border=\"1\" class=\"dataframe\">\n",
       "  <thead>\n",
       "    <tr style=\"text-align: right;\">\n",
       "      <th></th>\n",
       "      <th>longitude</th>\n",
       "      <th>latitude</th>\n",
       "      <th>Area</th>\n",
       "      <th>Soil group</th>\n",
       "      <th>Land class</th>\n",
       "      <th>Soil type</th>\n",
       "      <th>pH</th>\n",
       "      <th>SOC</th>\n",
       "      <th>Nitrogen</th>\n",
       "      <th>Potassium</th>\n",
       "      <th>Phosphorus</th>\n",
       "      <th>Sulfur</th>\n",
       "      <th>Boron</th>\n",
       "      <th>Zinc</th>\n",
       "      <th>Sand</th>\n",
       "      <th>Silt</th>\n",
       "      <th>Clay</th>\n",
       "    </tr>\n",
       "  </thead>\n",
       "  <tbody>\n",
       "    <tr>\n",
       "      <th>0</th>\n",
       "      <td>89.2767</td>\n",
       "      <td>25.5678</td>\n",
       "      <td>Mithpukur</td>\n",
       "      <td>belab</td>\n",
       "      <td>high ground</td>\n",
       "      <td>Clay loam</td>\n",
       "      <td>5.0</td>\n",
       "      <td>1.27</td>\n",
       "      <td>0.08</td>\n",
       "      <td>0.15</td>\n",
       "      <td>19.6</td>\n",
       "      <td>37.7</td>\n",
       "      <td>0.26</td>\n",
       "      <td>0.86</td>\n",
       "      <td>33.0</td>\n",
       "      <td>33.0</td>\n",
       "      <td>33.0</td>\n",
       "    </tr>\n",
       "    <tr>\n",
       "      <th>1</th>\n",
       "      <td>89.2767</td>\n",
       "      <td>25.5678</td>\n",
       "      <td>Mithpukur</td>\n",
       "      <td>belab</td>\n",
       "      <td>high ground</td>\n",
       "      <td>Clay loam</td>\n",
       "      <td>4.9</td>\n",
       "      <td>1.47</td>\n",
       "      <td>0.09</td>\n",
       "      <td>0.25</td>\n",
       "      <td>4.1</td>\n",
       "      <td>32.0</td>\n",
       "      <td>0.25</td>\n",
       "      <td>0.75</td>\n",
       "      <td>33.0</td>\n",
       "      <td>33.0</td>\n",
       "      <td>33.0</td>\n",
       "    </tr>\n",
       "    <tr>\n",
       "      <th>2</th>\n",
       "      <td>89.2767</td>\n",
       "      <td>25.5678</td>\n",
       "      <td>Mithpukur</td>\n",
       "      <td>belab</td>\n",
       "      <td>high ground</td>\n",
       "      <td>Clay loam</td>\n",
       "      <td>4.6</td>\n",
       "      <td>1.07</td>\n",
       "      <td>0.05</td>\n",
       "      <td>0.09</td>\n",
       "      <td>13.3</td>\n",
       "      <td>13.5</td>\n",
       "      <td>0.27</td>\n",
       "      <td>0.95</td>\n",
       "      <td>33.0</td>\n",
       "      <td>33.0</td>\n",
       "      <td>33.0</td>\n",
       "    </tr>\n",
       "    <tr>\n",
       "      <th>3</th>\n",
       "      <td>89.2767</td>\n",
       "      <td>25.5678</td>\n",
       "      <td>Mithpukur</td>\n",
       "      <td>belab</td>\n",
       "      <td>high ground</td>\n",
       "      <td>Clay loam</td>\n",
       "      <td>5.2</td>\n",
       "      <td>1.51</td>\n",
       "      <td>0.06</td>\n",
       "      <td>0.30</td>\n",
       "      <td>20.2</td>\n",
       "      <td>30.0</td>\n",
       "      <td>0.28</td>\n",
       "      <td>1.00</td>\n",
       "      <td>33.0</td>\n",
       "      <td>33.0</td>\n",
       "      <td>33.0</td>\n",
       "    </tr>\n",
       "    <tr>\n",
       "      <th>4</th>\n",
       "      <td>89.2767</td>\n",
       "      <td>25.5678</td>\n",
       "      <td>Mithpukur</td>\n",
       "      <td>belab</td>\n",
       "      <td>high ground</td>\n",
       "      <td>Clay loam</td>\n",
       "      <td>5.3</td>\n",
       "      <td>1.08</td>\n",
       "      <td>0.11</td>\n",
       "      <td>0.17</td>\n",
       "      <td>20.5</td>\n",
       "      <td>27.8</td>\n",
       "      <td>0.30</td>\n",
       "      <td>1.04</td>\n",
       "      <td>33.0</td>\n",
       "      <td>33.0</td>\n",
       "      <td>33.0</td>\n",
       "    </tr>\n",
       "  </tbody>\n",
       "</table>\n",
       "</div>"
      ],
      "text/plain": [
       "   longitude  latitude       Area Soil group   Land class   Soil type   pH  \\\n",
       "0    89.2767   25.5678  Mithpukur      belab  high ground  Clay loam   5.0   \n",
       "1    89.2767   25.5678  Mithpukur      belab  high ground  Clay loam   4.9   \n",
       "2    89.2767   25.5678  Mithpukur      belab  high ground  Clay loam   4.6   \n",
       "3    89.2767   25.5678  Mithpukur      belab  high ground  Clay loam   5.2   \n",
       "4    89.2767   25.5678  Mithpukur      belab  high ground  Clay loam   5.3   \n",
       "\n",
       "    SOC  Nitrogen  Potassium  Phosphorus  Sulfur  Boron  Zinc  Sand  Silt  \\\n",
       "0  1.27      0.08       0.15        19.6    37.7   0.26  0.86  33.0  33.0   \n",
       "1  1.47      0.09       0.25         4.1    32.0   0.25  0.75  33.0  33.0   \n",
       "2  1.07      0.05       0.09        13.3    13.5   0.27  0.95  33.0  33.0   \n",
       "3  1.51      0.06       0.30        20.2    30.0   0.28  1.00  33.0  33.0   \n",
       "4  1.08      0.11       0.17        20.5    27.8   0.30  1.04  33.0  33.0   \n",
       "\n",
       "   Clay  \n",
       "0  33.0  \n",
       "1  33.0  \n",
       "2  33.0  \n",
       "3  33.0  \n",
       "4  33.0  "
      ]
     },
     "execution_count": 3,
     "metadata": {},
     "output_type": "execute_result"
    }
   ],
   "source": [
    "df = pd.read_csv('./Data/merged_v2.csv')\n",
    "df.head()"
   ]
  },
  {
   "cell_type": "code",
   "execution_count": 4,
   "metadata": {},
   "outputs": [
    {
     "name": "stdout",
     "output_type": "stream",
     "text": [
      "(2584, 17)\n",
      "Index(['longitude', 'latitude', 'Area', 'Soil group', 'Land class',\n",
      "       'Soil type', 'pH', 'SOC', 'Nitrogen', 'Potassium', 'Phosphorus',\n",
      "       'Sulfur', 'Boron', 'Zinc', 'Sand', 'Silt', 'Clay'],\n",
      "      dtype='object')\n"
     ]
    }
   ],
   "source": [
    "print(df.shape)\n",
    "print(df.columns)"
   ]
  },
  {
   "cell_type": "markdown",
   "metadata": {},
   "source": [
    "#### Preprocessing"
   ]
  },
  {
   "cell_type": "code",
   "execution_count": 5,
   "metadata": {},
   "outputs": [],
   "source": [
    "numerical_features = ['pH', 'Nitrogen', 'Potassium', 'Phosphorus',\n",
    "       'Sulfur', 'Zinc', 'Sand', 'Silt', 'Clay']"
   ]
  },
  {
   "cell_type": "markdown",
   "metadata": {},
   "source": [
    "#### Train test split"
   ]
  },
  {
   "cell_type": "code",
   "execution_count": 6,
   "metadata": {},
   "outputs": [
    {
     "name": "stdout",
     "output_type": "stream",
     "text": [
      "shape of feature matrix before transformation: (2584, 9)\n"
     ]
    }
   ],
   "source": [
    "\n",
    "X = df[numerical_features]\n",
    "y = df[['Boron']]\n",
    "print('shape of feature matrix before transformation:',X.shape)"
   ]
  },
  {
   "cell_type": "code",
   "execution_count": 7,
   "metadata": {},
   "outputs": [
    {
     "data": {
      "text/html": [
       "<div>\n",
       "<style scoped>\n",
       "    .dataframe tbody tr th:only-of-type {\n",
       "        vertical-align: middle;\n",
       "    }\n",
       "\n",
       "    .dataframe tbody tr th {\n",
       "        vertical-align: top;\n",
       "    }\n",
       "\n",
       "    .dataframe thead th {\n",
       "        text-align: right;\n",
       "    }\n",
       "</style>\n",
       "<table border=\"1\" class=\"dataframe\">\n",
       "  <thead>\n",
       "    <tr style=\"text-align: right;\">\n",
       "      <th></th>\n",
       "      <th>pH</th>\n",
       "      <th>Nitrogen</th>\n",
       "      <th>Potassium</th>\n",
       "      <th>Phosphorus</th>\n",
       "      <th>Sulfur</th>\n",
       "      <th>Zinc</th>\n",
       "      <th>Sand</th>\n",
       "      <th>Silt</th>\n",
       "      <th>Clay</th>\n",
       "    </tr>\n",
       "  </thead>\n",
       "  <tbody>\n",
       "    <tr>\n",
       "      <th>0</th>\n",
       "      <td>5.0</td>\n",
       "      <td>0.08</td>\n",
       "      <td>0.15</td>\n",
       "      <td>19.6</td>\n",
       "      <td>37.7</td>\n",
       "      <td>0.86</td>\n",
       "      <td>33.0</td>\n",
       "      <td>33.0</td>\n",
       "      <td>33.0</td>\n",
       "    </tr>\n",
       "    <tr>\n",
       "      <th>1</th>\n",
       "      <td>4.9</td>\n",
       "      <td>0.09</td>\n",
       "      <td>0.25</td>\n",
       "      <td>4.1</td>\n",
       "      <td>32.0</td>\n",
       "      <td>0.75</td>\n",
       "      <td>33.0</td>\n",
       "      <td>33.0</td>\n",
       "      <td>33.0</td>\n",
       "    </tr>\n",
       "    <tr>\n",
       "      <th>2</th>\n",
       "      <td>4.6</td>\n",
       "      <td>0.05</td>\n",
       "      <td>0.09</td>\n",
       "      <td>13.3</td>\n",
       "      <td>13.5</td>\n",
       "      <td>0.95</td>\n",
       "      <td>33.0</td>\n",
       "      <td>33.0</td>\n",
       "      <td>33.0</td>\n",
       "    </tr>\n",
       "    <tr>\n",
       "      <th>3</th>\n",
       "      <td>5.2</td>\n",
       "      <td>0.06</td>\n",
       "      <td>0.30</td>\n",
       "      <td>20.2</td>\n",
       "      <td>30.0</td>\n",
       "      <td>1.00</td>\n",
       "      <td>33.0</td>\n",
       "      <td>33.0</td>\n",
       "      <td>33.0</td>\n",
       "    </tr>\n",
       "    <tr>\n",
       "      <th>4</th>\n",
       "      <td>5.3</td>\n",
       "      <td>0.11</td>\n",
       "      <td>0.17</td>\n",
       "      <td>20.5</td>\n",
       "      <td>27.8</td>\n",
       "      <td>1.04</td>\n",
       "      <td>33.0</td>\n",
       "      <td>33.0</td>\n",
       "      <td>33.0</td>\n",
       "    </tr>\n",
       "  </tbody>\n",
       "</table>\n",
       "</div>"
      ],
      "text/plain": [
       "    pH  Nitrogen  Potassium  Phosphorus  Sulfur  Zinc  Sand  Silt  Clay\n",
       "0  5.0      0.08       0.15        19.6    37.7  0.86  33.0  33.0  33.0\n",
       "1  4.9      0.09       0.25         4.1    32.0  0.75  33.0  33.0  33.0\n",
       "2  4.6      0.05       0.09        13.3    13.5  0.95  33.0  33.0  33.0\n",
       "3  5.2      0.06       0.30        20.2    30.0  1.00  33.0  33.0  33.0\n",
       "4  5.3      0.11       0.17        20.5    27.8  1.04  33.0  33.0  33.0"
      ]
     },
     "execution_count": 7,
     "metadata": {},
     "output_type": "execute_result"
    }
   ],
   "source": [
    "X.head()"
   ]
  },
  {
   "cell_type": "code",
   "execution_count": 8,
   "metadata": {},
   "outputs": [
    {
     "name": "stdout",
     "output_type": "stream",
     "text": [
      "(2067, 9) (2067, 1)\n",
      "(517, 9) (517, 1)\n"
     ]
    }
   ],
   "source": [
    "# train test split\n",
    "X_train, X_test, y_train, y_test = train_test_split(\n",
    "    X, y, test_size=0.2, random_state=42)\n",
    "#X_train =X_train.astype('float32')\n",
    "\n",
    "print(X_train.shape,y_train.shape)\n",
    "print(X_test.shape,y_test.shape)"
   ]
  },
  {
   "cell_type": "markdown",
   "metadata": {},
   "source": [
    "#### Encoding categorical variables\n"
   ]
  },
  {
   "cell_type": "markdown",
   "metadata": {},
   "source": [
    "#### Feature engineering using the featuretools library"
   ]
  },
  {
   "cell_type": "code",
   "execution_count": 9,
   "metadata": {},
   "outputs": [
    {
     "name": "stdout",
     "output_type": "stream",
     "text": [
      "shape of feature matrix of train with transformations: (2067, 144)\n",
      "shape of feature matrix of test with transformations: (517, 144)\n"
     ]
    }
   ],
   "source": [
    "#Adding columns derived from these numerical columns, ie after transformation using featuretools\n",
    "# need to have an id column\n",
    "X_train['id'] = [i for i in range(X_train.shape[0])]\n",
    "X_test['id'] = [i for i in range(X_test.shape[0])]\n",
    "y_train.reset_index(inplace=True,drop=True)\n",
    "y_test.reset_index(inplace=True,drop=True)\n",
    "\n",
    "\n",
    "dataframes_train = {\n",
    "    \"soil_numerical_train\": (X_train, \"id\"),\n",
    "}\n",
    "dataframes_test = {\n",
    "    \"soil_numerical_test\": (X_test, \"id\"),\n",
    "}\n",
    "feature_primitives = ft.list_primitives()\n",
    "#transform_numeric =feature_primitives[(feature_primitives['type']=='transform')&(feature_primitives['valid_inputs']==\"<ColumnSchema (Semantic Tags = ['numeric'])>\")]\n",
    "trans_primitives = ['divide_by_feature','square_root','divide_numeric','natural_logarithm','multiply_numeric']\n",
    "feature_matrix_train,feature_dfs_train =ft.dfs(dataframes_train,\n",
    "                                   target_dataframe_name='soil_numerical_train', \n",
    "                                    trans_primitives=trans_primitives)\n",
    "print('shape of feature matrix of train with transformations:',feature_matrix_train.shape)\n",
    "feature_matrix_test,feature_dfs_test =ft.dfs(dataframes_test,\n",
    "                                   target_dataframe_name='soil_numerical_test', \n",
    "                                    trans_primitives=trans_primitives)\n",
    "\n",
    "print('shape of feature matrix of test with transformations:',feature_matrix_test.shape)"
   ]
  },
  {
   "cell_type": "code",
   "execution_count": 10,
   "metadata": {},
   "outputs": [
    {
     "data": {
      "text/html": [
       "<div>\n",
       "<style scoped>\n",
       "    .dataframe tbody tr th:only-of-type {\n",
       "        vertical-align: middle;\n",
       "    }\n",
       "\n",
       "    .dataframe tbody tr th {\n",
       "        vertical-align: top;\n",
       "    }\n",
       "\n",
       "    .dataframe thead th {\n",
       "        text-align: right;\n",
       "    }\n",
       "</style>\n",
       "<table border=\"1\" class=\"dataframe\">\n",
       "  <thead>\n",
       "    <tr style=\"text-align: right;\">\n",
       "      <th></th>\n",
       "      <th>Boron</th>\n",
       "    </tr>\n",
       "  </thead>\n",
       "  <tbody>\n",
       "    <tr>\n",
       "      <th>2062</th>\n",
       "      <td>0.034797</td>\n",
       "    </tr>\n",
       "    <tr>\n",
       "      <th>2063</th>\n",
       "      <td>0.010466</td>\n",
       "    </tr>\n",
       "    <tr>\n",
       "      <th>2064</th>\n",
       "      <td>0.011669</td>\n",
       "    </tr>\n",
       "    <tr>\n",
       "      <th>2065</th>\n",
       "      <td>0.018369</td>\n",
       "    </tr>\n",
       "    <tr>\n",
       "      <th>2066</th>\n",
       "      <td>0.146921</td>\n",
       "    </tr>\n",
       "  </tbody>\n",
       "</table>\n",
       "</div>"
      ],
      "text/plain": [
       "         Boron\n",
       "2062  0.034797\n",
       "2063  0.010466\n",
       "2064  0.011669\n",
       "2065  0.018369\n",
       "2066  0.146921"
      ]
     },
     "execution_count": 10,
     "metadata": {},
     "output_type": "execute_result"
    }
   ],
   "source": [
    "y_train.tail()"
   ]
  },
  {
   "cell_type": "code",
   "execution_count": 11,
   "metadata": {},
   "outputs": [
    {
     "name": "stdout",
     "output_type": "stream",
     "text": [
      "(2066, 144) (2066, 1)\n",
      "(517, 144) (517, 1)\n"
     ]
    }
   ],
   "source": [
    "#rows where there are NaNs or Infs present\n",
    "\n",
    "# for training dataset\n",
    "indices_to_remove=feature_matrix_train[feature_matrix_train.isin([np.nan, np.inf, -np.inf]).any(axis=1)].index\n",
    "feature_matrix_train=feature_matrix_train.drop(axis=1,index=indices_to_remove)\n",
    "y_train=y_train.drop(axis=1,index=indices_to_remove)\n",
    "#y_train.reset_index(inplace=True,drop=True)\n",
    "print(feature_matrix_train.shape,y_train.shape)\n",
    "\n",
    "# for testing dataset\n",
    "indices_to_remove=feature_matrix_test[feature_matrix_test.isin([np.nan, np.inf, -np.inf]).any(axis=1)].index\n",
    "feature_matrix_test=feature_matrix_test.drop(axis=1,index=indices_to_remove)\n",
    "y_test=y_test.drop(axis=1,index=indices_to_remove)\n",
    "#y_test.reset_index(inplace=True,drop=True)\n",
    "print(feature_matrix_test.shape,y_test.shape)"
   ]
  },
  {
   "cell_type": "markdown",
   "metadata": {},
   "source": [
    "### Feature selection"
   ]
  },
  {
   "cell_type": "code",
   "execution_count": 12,
   "metadata": {},
   "outputs": [
    {
     "name": "stdout",
     "output_type": "stream",
     "text": [
      "Index(['Boron'], dtype='object')\n",
      "['Sand' 'Silt' '1 / Sand' 'Silt / Sand' 'Silt / pH' 'Clay * Silt'\n",
      " 'Nitrogen * Silt' 'NATURAL_LOGARITHM(Sand)' 'SQUARE_ROOT(Sand)'\n",
      " 'SQUARE_ROOT(Silt)']\n"
     ]
    }
   ],
   "source": [
    "# Using SelectKBest feature selection method\n",
    "\n",
    "num_features_selected = 10\n",
    "\n",
    "print(y_train.columns)\n",
    "best_features_ = SelectKBest(score_func=f_regression,k=num_features_selected)\n",
    "select = best_features_.fit(feature_matrix_train,y_train)\n",
    "features_train_selected = select.transform(feature_matrix_train)\n",
    "best_features=best_features_.get_feature_names_out()\n",
    "print(best_features)"
   ]
  },
  {
   "cell_type": "markdown",
   "metadata": {},
   "source": [
    "### Model fitting"
   ]
  },
  {
   "cell_type": "code",
   "execution_count": 13,
   "metadata": {},
   "outputs": [
    {
     "name": "stdout",
     "output_type": "stream",
     "text": [
      "Index(['Boron'], dtype='object')\n",
      "RandomForestRegressor()\n",
      "r2 :  0.5842428632897173\n",
      "MAPE:  0.8427987321997565\n",
      "MAE :  0.052317596375750106\n",
      "LinearRegression()\n",
      "r2 :  0.6313090336732199\n",
      "MAPE:  1.117532481386081\n",
      "MAE :  0.050430271865713326\n",
      "Ridge()\n",
      "r2 :  0.6243321297556836\n",
      "MAPE:  1.1241796246830782\n",
      "MAE :  0.05086427531687368\n"
     ]
    }
   ],
   "source": [
    "# Random forest regressor on SOC with only numerical columns\n",
    "ml_models = [RandomForestRegressor(),LinearRegression(),Ridge()]\n",
    "print(y_train.columns)\n",
    "for model in ml_models:\n",
    "    print(model)\n",
    "    model_fit = model.fit(X=feature_matrix_train[best_features],y=y_train)\n",
    "    y_predict = model_fit.predict(feature_matrix_test[best_features])\n",
    "    r2 = r2_score(y_test,y_predict)\n",
    "    mape = mean_absolute_percentage_error(y_pred=y_predict,y_true=y_test)\n",
    "    mae = mean_absolute_error(y_test,y_predict)\n",
    "    print('r2 : ',r2)\n",
    "    print('MAPE: ',mape)\n",
    "    print('MAE : ',mae)"
   ]
  },
  {
   "cell_type": "markdown",
   "metadata": {},
   "source": [
    "#### To do\n",
    "1. vary the no.of features selected for each target and plot a performance chart\n",
    "2. Hyperparameter optimisation\n",
    "3. create a pipeline to include the transformations and add the custom fn for feature engg using featuretools"
   ]
  },
  {
   "cell_type": "code",
   "execution_count": null,
   "metadata": {},
   "outputs": [],
   "source": []
  }
 ],
 "metadata": {
  "kernelspec": {
   "display_name": "base_env",
   "language": "python",
   "name": "python3"
  },
  "language_info": {
   "codemirror_mode": {
    "name": "ipython",
    "version": 3
   },
   "file_extension": ".py",
   "mimetype": "text/x-python",
   "name": "python",
   "nbconvert_exporter": "python",
   "pygments_lexer": "ipython3",
   "version": "3.10.15"
  }
 },
 "nbformat": 4,
 "nbformat_minor": 2
}

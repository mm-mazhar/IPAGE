{
 "cells": [
  {
   "cell_type": "code",
   "execution_count": 313,
   "metadata": {},
   "outputs": [],
   "source": [
    "import numpy as np\n",
    "import pandas as pd\n",
    "from sklearn.metrics import mean_absolute_error,mean_absolute_percentage_error,r2_score\n",
    "from sklearn.model_selection import train_test_split\n",
    "from sklearn.ensemble import RandomForestRegressor\n",
    "from sklearn.linear_model import LinearRegression,Ridge\n",
    "from sklearn.preprocessing import LabelEncoder\n",
    "from sklearn.feature_selection import SelectKBest,f_regression,mutual_info_regression\n",
    "import featuretools as ft\n",
    "import warnings\n",
    "\n",
    "warnings.filterwarnings(\"ignore\")"
   ]
  },
  {
   "cell_type": "markdown",
   "metadata": {},
   "source": [
    "#### Loading data"
   ]
  },
  {
   "cell_type": "code",
   "execution_count": 314,
   "metadata": {},
   "outputs": [
    {
     "name": "stdout",
     "output_type": "stream",
     "text": [
      "shape of feature matrix before transformation: (573, 7)\n"
     ]
    }
   ],
   "source": [
    "df = pd.read_excel('./Data/2410_iPAGE_SoilData_original.xlsx')\n",
    "# converting all the 'non numerical' values in the numerical columns to NaN\n",
    "for i in range(4,len(df.columns)):\n",
    "    df[df.columns[i]] = pd.to_numeric(df[df.columns[i]],errors='coerce')\n",
    "\n",
    "# Now we drop the rows with NaN, but we also have text columns with NaN values, which we are avoiding here\n",
    "df = df.dropna(subset=df.columns[4:])\n",
    "df = df[(df['Nitrogen N (%)']<2)&(df['Potassium K (meq/100)']<10)&(df['SOC (%)']<5)&(df['Boron B (ug/g)']<5)]\n",
    "\n",
    "## Train test split\n",
    "\n",
    "#X = df[['Area', 'soil group', 'Land class', 'knit (surface)', 'pH',\n",
    "#       'Nitrogen N (%)', 'Potassium K (meq/100)', 'Phosphorus P (ug/g)',\n",
    "#       'Sulfur S (ug/g)']]\n",
    "X = df[[ 'Area','knit (surface)','pH',\n",
    "       'Nitrogen N (%)', 'Potassium K (meq/100)', 'Phosphorus P (ug/g)',\n",
    "       'Sulfur S (ug/g)']]\n",
    "y = df[['SOC (%)']]\n",
    "print('shape of feature matrix before transformation:',X.shape)"
   ]
  },
  {
   "cell_type": "code",
   "execution_count": 315,
   "metadata": {},
   "outputs": [
    {
     "name": "stdout",
     "output_type": "stream",
     "text": [
      "        Area knit (surface)   pH  Nitrogen N (%)  Potassium K (meq/100)  \\\n",
      "0  Mithpukur     Clay loam   5.0            0.08                   0.15   \n",
      "1  Mithpukur     Clay loam   4.9            0.09                   0.25   \n",
      "2  Mithpukur     Clay loam   4.6            0.05                   0.09   \n",
      "3  Mithpukur     Clay loam   5.2            0.06                   0.30   \n",
      "4  Mithpukur     Clay loam   5.3            0.11                   0.17   \n",
      "\n",
      "   Phosphorus P (ug/g)  Sulfur S (ug/g)  \n",
      "0                 19.6             37.7  \n",
      "1                  4.1             32.0  \n",
      "2                 13.3             13.5  \n",
      "3                 20.2             30.0  \n",
      "4                 20.5             27.8  \n"
     ]
    }
   ],
   "source": [
    "print(X.head())"
   ]
  },
  {
   "cell_type": "markdown",
   "metadata": {},
   "source": [
    "#### Train test split"
   ]
  },
  {
   "cell_type": "code",
   "execution_count": 316,
   "metadata": {},
   "outputs": [
    {
     "name": "stdout",
     "output_type": "stream",
     "text": [
      "(458, 7) (458, 1)\n",
      "(115, 7) (115, 1)\n"
     ]
    }
   ],
   "source": [
    "# train test split\n",
    "X_train, X_test, y_train, y_test = train_test_split(\n",
    "    X, y, test_size=0.2, random_state=42)\n",
    "#X_train =X_train.astype('float32')\n",
    "\n",
    "print(X_train.shape,y_train.shape)\n",
    "print(X_test.shape,y_test.shape)"
   ]
  },
  {
   "cell_type": "markdown",
   "metadata": {},
   "source": [
    "#### Encoding categorical variables\n"
   ]
  },
  {
   "cell_type": "code",
   "execution_count": 317,
   "metadata": {},
   "outputs": [],
   "source": [
    "# label encoding for \n",
    "categorical_cols = [col for col in X.columns if df[col].dtype==object]\n",
    "for col in categorical_cols:\n",
    "    encoder = LabelEncoder()\n",
    "    X_train[col] = encoder.fit_transform(X_train[col])\n",
    "    X_test[col] = encoder.transform(X_test[col])"
   ]
  },
  {
   "cell_type": "code",
   "execution_count": 318,
   "metadata": {},
   "outputs": [
    {
     "data": {
      "text/html": [
       "<div>\n",
       "<style scoped>\n",
       "    .dataframe tbody tr th:only-of-type {\n",
       "        vertical-align: middle;\n",
       "    }\n",
       "\n",
       "    .dataframe tbody tr th {\n",
       "        vertical-align: top;\n",
       "    }\n",
       "\n",
       "    .dataframe thead th {\n",
       "        text-align: right;\n",
       "    }\n",
       "</style>\n",
       "<table border=\"1\" class=\"dataframe\">\n",
       "  <thead>\n",
       "    <tr style=\"text-align: right;\">\n",
       "      <th></th>\n",
       "      <th>SOC (%)</th>\n",
       "    </tr>\n",
       "  </thead>\n",
       "  <tbody>\n",
       "    <tr>\n",
       "      <th>186</th>\n",
       "      <td>2.73</td>\n",
       "    </tr>\n",
       "    <tr>\n",
       "      <th>63</th>\n",
       "      <td>1.80</td>\n",
       "    </tr>\n",
       "    <tr>\n",
       "      <th>162</th>\n",
       "      <td>1.69</td>\n",
       "    </tr>\n",
       "    <tr>\n",
       "      <th>60</th>\n",
       "      <td>1.88</td>\n",
       "    </tr>\n",
       "    <tr>\n",
       "      <th>15</th>\n",
       "      <td>1.51</td>\n",
       "    </tr>\n",
       "  </tbody>\n",
       "</table>\n",
       "</div>"
      ],
      "text/plain": [
       "     SOC (%)\n",
       "186     2.73\n",
       "63      1.80\n",
       "162     1.69\n",
       "60      1.88\n",
       "15      1.51"
      ]
     },
     "execution_count": 318,
     "metadata": {},
     "output_type": "execute_result"
    }
   ],
   "source": [
    "y_train.head()"
   ]
  },
  {
   "cell_type": "markdown",
   "metadata": {},
   "source": [
    "#### Feature engineering using the featuretools library"
   ]
  },
  {
   "cell_type": "code",
   "execution_count": 319,
   "metadata": {},
   "outputs": [
    {
     "name": "stdout",
     "output_type": "stream",
     "text": [
      "shape of feature matrix of train with transformations: (458, 91)\n",
      "shape of feature matrix of test with transformations: (115, 91)\n"
     ]
    }
   ],
   "source": [
    "#Adding columns derived from these numerical columns, ie after transformation using featuretools\n",
    "# need to have an id column\n",
    "X_train['id'] = [i for i in range(X_train.shape[0])]\n",
    "X_test['id'] = [i for i in range(X_test.shape[0])]\n",
    "y_train.reset_index(inplace=True,drop=True)\n",
    "y_test.reset_index(inplace=True,drop=True)\n",
    "\n",
    "\n",
    "dataframes_train = {\n",
    "    \"soil_numerical_train\": (X_train, \"id\"),\n",
    "}\n",
    "dataframes_test = {\n",
    "    \"soil_numerical_test\": (X_test, \"id\"),\n",
    "}\n",
    "feature_primitives = ft.list_primitives()\n",
    "#transform_numeric =feature_primitives[(feature_primitives['type']=='transform')&(feature_primitives['valid_inputs']==\"<ColumnSchema (Semantic Tags = ['numeric'])>\")]\n",
    "trans_primitives = ['divide_by_feature','square_root','divide_numeric','natural_logarithm','multiply_numeric']\n",
    "feature_matrix_train,feature_dfs_train =ft.dfs(dataframes_train,\n",
    "                                   target_dataframe_name='soil_numerical_train', \n",
    "                                    trans_primitives=trans_primitives)\n",
    "print('shape of feature matrix of train with transformations:',feature_matrix_train.shape)\n",
    "feature_matrix_test,feature_dfs_test =ft.dfs(dataframes_test,\n",
    "                                   target_dataframe_name='soil_numerical_test', \n",
    "                                    trans_primitives=trans_primitives)\n",
    "\n",
    "print('shape of feature matrix of test with transformations:',feature_matrix_test.shape)"
   ]
  },
  {
   "cell_type": "code",
   "execution_count": 320,
   "metadata": {},
   "outputs": [
    {
     "data": {
      "text/html": [
       "<div>\n",
       "<style scoped>\n",
       "    .dataframe tbody tr th:only-of-type {\n",
       "        vertical-align: middle;\n",
       "    }\n",
       "\n",
       "    .dataframe tbody tr th {\n",
       "        vertical-align: top;\n",
       "    }\n",
       "\n",
       "    .dataframe thead th {\n",
       "        text-align: right;\n",
       "    }\n",
       "</style>\n",
       "<table border=\"1\" class=\"dataframe\">\n",
       "  <thead>\n",
       "    <tr style=\"text-align: right;\">\n",
       "      <th></th>\n",
       "      <th>SOC (%)</th>\n",
       "    </tr>\n",
       "  </thead>\n",
       "  <tbody>\n",
       "    <tr>\n",
       "      <th>453</th>\n",
       "      <td>1.28</td>\n",
       "    </tr>\n",
       "    <tr>\n",
       "      <th>454</th>\n",
       "      <td>1.53</td>\n",
       "    </tr>\n",
       "    <tr>\n",
       "      <th>455</th>\n",
       "      <td>1.46</td>\n",
       "    </tr>\n",
       "    <tr>\n",
       "      <th>456</th>\n",
       "      <td>2.75</td>\n",
       "    </tr>\n",
       "    <tr>\n",
       "      <th>457</th>\n",
       "      <td>1.68</td>\n",
       "    </tr>\n",
       "  </tbody>\n",
       "</table>\n",
       "</div>"
      ],
      "text/plain": [
       "     SOC (%)\n",
       "453     1.28\n",
       "454     1.53\n",
       "455     1.46\n",
       "456     2.75\n",
       "457     1.68"
      ]
     },
     "execution_count": 320,
     "metadata": {},
     "output_type": "execute_result"
    }
   ],
   "source": [
    "y_train.tail()"
   ]
  },
  {
   "cell_type": "code",
   "execution_count": 321,
   "metadata": {},
   "outputs": [
    {
     "name": "stdout",
     "output_type": "stream",
     "text": [
      "(370, 91) (370, 1)\n",
      "(96, 91) (96, 1)\n"
     ]
    }
   ],
   "source": [
    "#rows where there are NaNs or Infs present\n",
    "\n",
    "# for training dataset\n",
    "indices_to_remove=feature_matrix_train[feature_matrix_train.isin([np.nan, np.inf, -np.inf]).any(axis=1)].index\n",
    "feature_matrix_train=feature_matrix_train.drop(axis=1,index=indices_to_remove)\n",
    "y_train=y_train.drop(axis=1,index=indices_to_remove)\n",
    "#y_train.reset_index(inplace=True,drop=True)\n",
    "print(feature_matrix_train.shape,y_train.shape)\n",
    "\n",
    "# for testing dataset\n",
    "indices_to_remove=feature_matrix_test[feature_matrix_test.isin([np.nan, np.inf, -np.inf]).any(axis=1)].index\n",
    "feature_matrix_test=feature_matrix_test.drop(axis=1,index=indices_to_remove)\n",
    "y_test=y_test.drop(axis=1,index=indices_to_remove)\n",
    "#y_test.reset_index(inplace=True,drop=True)\n",
    "print(feature_matrix_test.shape,y_test.shape)"
   ]
  },
  {
   "cell_type": "markdown",
   "metadata": {},
   "source": [
    "### Feature selection"
   ]
  },
  {
   "cell_type": "code",
   "execution_count": 322,
   "metadata": {},
   "outputs": [
    {
     "name": "stdout",
     "output_type": "stream",
     "text": [
      "Index(['SOC (%)'], dtype='object')\n",
      "['1 / Nitrogen N (%)' 'Area / Nitrogen N (%)' 'Nitrogen N (%) / Area'\n",
      " 'Nitrogen N (%) / knit (surface)' 'Phosphorus P (ug/g) / Nitrogen N (%)'\n",
      " 'Potassium K (meq/100) / Nitrogen N (%)'\n",
      " 'knit (surface) / Nitrogen N (%)' 'pH / Nitrogen N (%)'\n",
      " 'NATURAL_LOGARITHM(Nitrogen N (%))' 'SQUARE_ROOT(Nitrogen N (%))']\n"
     ]
    }
   ],
   "source": [
    "# Using SelectKBest feature selection method\n",
    "\n",
    "num_features_selected = 10\n",
    "\n",
    "print(y_train.columns)\n",
    "best_features_ = SelectKBest(score_func=f_regression,k=num_features_selected)\n",
    "select = best_features_.fit(feature_matrix_train,y_train)\n",
    "features_train_selected = select.transform(feature_matrix_train)\n",
    "best_features=best_features_.get_feature_names_out()\n",
    "print(best_features)"
   ]
  },
  {
   "cell_type": "markdown",
   "metadata": {},
   "source": [
    "### Model fitting"
   ]
  },
  {
   "cell_type": "code",
   "execution_count": 323,
   "metadata": {},
   "outputs": [
    {
     "name": "stdout",
     "output_type": "stream",
     "text": [
      "Index(['SOC (%)'], dtype='object')\n",
      "RandomForestRegressor()\n",
      "r2 :  0.8043311969927996\n",
      "MAPE:  0.11135190208236319\n",
      "MAE :  0.19057385416666658\n",
      "LinearRegression()\n",
      "r2 :  0.7579620643329216\n",
      "MAPE:  0.12541076408905447\n",
      "MAE :  0.21719716157027394\n",
      "Ridge()\n",
      "r2 :  0.6555133255988796\n",
      "MAPE:  0.14725354519285117\n",
      "MAE :  0.26244281823313037\n"
     ]
    }
   ],
   "source": [
    "# Random forest regressor on SOC with only numerical columns\n",
    "ml_models = [RandomForestRegressor(),LinearRegression(),Ridge()]\n",
    "print(y_train.columns)\n",
    "for model in ml_models:\n",
    "    print(model)\n",
    "    model_fit = model.fit(X=feature_matrix_train[best_features],y=y_train)\n",
    "    y_predict = model_fit.predict(feature_matrix_test[best_features])\n",
    "    r2 = r2_score(y_test,y_predict)\n",
    "    mape = mean_absolute_percentage_error(y_pred=y_predict,y_true=y_test)\n",
    "    mae = mean_absolute_error(y_test,y_predict)\n",
    "    print('r2 : ',r2)\n",
    "    print('MAPE: ',mape)\n",
    "    print('MAE : ',mae)"
   ]
  },
  {
   "cell_type": "markdown",
   "metadata": {},
   "source": [
    "#### To do\n",
    "1. vary the no.of features selected for each target and plot a performance chart\n",
    "2. Hyperparameter optimisation\n",
    "3. use sklearn pipelines"
   ]
  },
  {
   "cell_type": "code",
   "execution_count": null,
   "metadata": {},
   "outputs": [],
   "source": []
  }
 ],
 "metadata": {
  "kernelspec": {
   "display_name": "base_env",
   "language": "python",
   "name": "python3"
  },
  "language_info": {
   "codemirror_mode": {
    "name": "ipython",
    "version": 3
   },
   "file_extension": ".py",
   "mimetype": "text/x-python",
   "name": "python",
   "nbconvert_exporter": "python",
   "pygments_lexer": "ipython3",
   "version": "3.10.15"
  }
 },
 "nbformat": 4,
 "nbformat_minor": 2
}

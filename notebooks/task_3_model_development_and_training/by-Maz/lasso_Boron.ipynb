{
 "cells": [
  {
   "cell_type": "markdown",
   "id": "7ccda102-4ec4-4651-9ea2-78e840a2859c",
   "metadata": {},
   "source": [
    "## Implementation of LASSO for Boron Prediction"
   ]
  },
  {
   "cell_type": "markdown",
   "id": "7f156ba9-6e3c-44b4-ba87-300ae15c157f",
   "metadata": {},
   "source": [
    "#### Import necessary libraries"
   ]
  },
  {
   "cell_type": "code",
   "execution_count": 1,
   "id": "87e58dfe-659d-4a46-b6fa-599abff92c19",
   "metadata": {},
   "outputs": [],
   "source": [
    "from pathlib import Path\n",
    "import pandas as pd\n",
    "from sklearn.pipeline import Pipeline\n",
    "from sklearn.compose import ColumnTransformer\n",
    "from sklearn.impute import SimpleImputer\n",
    "from sklearn.preprocessing import StandardScaler, OneHotEncoder, PolynomialFeatures, PowerTransformer\n",
    "from sklearn.linear_model import LassoCV\n",
    "from sklearn.ensemble import RandomForestRegressor\n",
    "from sklearn.cluster import KMeans\n",
    "from sklearn.model_selection import train_test_split, GridSearchCV\n",
    "from sklearn.metrics import make_scorer, mean_absolute_error, mean_squared_error, r2_score\n",
    "\n",
    "import joblib\n",
    "import mlflow\n",
    "import mlflow.sklearn\n",
    "# Feature selection\n",
    "from sklearn.inspection import permutation_importance\n",
    "\n",
    "import warnings\n",
    "warnings.filterwarnings(\"ignore\")\n",
    "\n",
    "from sklearn.exceptions import ConvergenceWarning\n",
    "# Suppress ConvergenceWarnings\n",
    "warnings.filterwarnings(\"ignore\", category=ConvergenceWarning)"
   ]
  },
  {
   "cell_type": "code",
   "execution_count": 2,
   "id": "60300ab3-8e92-436f-bbde-b3f720aca20e",
   "metadata": {
    "tags": []
   },
   "outputs": [],
   "source": [
    "#pwd"
   ]
  },
  {
   "cell_type": "markdown",
   "id": "3bc928d8-f489-4468-8b40-a7362af82c50",
   "metadata": {},
   "source": [
    "#### Load the dataset"
   ]
  },
  {
   "cell_type": "code",
   "execution_count": 3,
   "id": "a7ad9d66-7e48-45a7-82f6-faf1d66e1d6b",
   "metadata": {},
   "outputs": [],
   "source": [
    "file_path = \"../../../data/merged_v2.csv\"\n",
    "# Create a Path object\n",
    "data_file_path = Path(file_path)\n",
    "data = pd.read_csv(data_file_path)"
   ]
  },
  {
   "cell_type": "markdown",
   "id": "504565da-82d4-49b2-a152-5b3dda1361fd",
   "metadata": {
    "jp-MarkdownHeadingCollapsed": true,
    "tags": []
   },
   "source": [
    "#### Hyperparameters"
   ]
  },
  {
   "cell_type": "code",
   "execution_count": 4,
   "id": "381bfa7d-a833-4570-88ef-a5addc481471",
   "metadata": {},
   "outputs": [],
   "source": [
    "N_CLUSTERS = 5\n",
    "CV = 15\n",
    "MAX_ITER = 2000\n",
    "ALPHAS = [0.0001, 0.001, 0.01, 0.1, 1, 10, 100]\n",
    "LASSO_MAX_ITER = [2000, 3000, 4000]\n",
    "N_REPEATS = 10\n",
    "POWER_TRANSFORMER_METHOD = \"yeo-johnson\"\n",
    "GridSearchCV_SCORING = \"neg_mean_absolute_error\"\n",
    "# GridSearchCV_SCORING = \"neg_root_mean_squared_error\""
   ]
  },
  {
   "cell_type": "markdown",
   "id": "f2566ba2-66c5-44af-8e0e-644488d5a6d9",
   "metadata": {},
   "source": [
    "#### Create geo clusters if longitude and latitude are present"
   ]
  },
  {
   "cell_type": "code",
   "execution_count": 5,
   "id": "145ff74a-0db3-4cec-bfff-d6c6d5ebd88f",
   "metadata": {},
   "outputs": [
    {
     "name": "stdout",
     "output_type": "stream",
     "text": [
      "Geo clusters created and added to the dataset.\n"
     ]
    }
   ],
   "source": [
    "if 'longitude' in data.columns and 'latitude' in data.columns:\n",
    "    kmeans = KMeans(n_clusters=N_CLUSTERS, random_state=42)\n",
    "    data['geo_cluster'] = kmeans.fit_predict(data[['longitude', 'latitude']])\n",
    "    print(\"Geo clusters created and added to the dataset.\")"
   ]
  },
  {
   "cell_type": "markdown",
   "id": "10c49e51-a239-4f0d-8884-7e61a3f167ef",
   "metadata": {},
   "source": [
    "#### Define target variable and features"
   ]
  },
  {
   "cell_type": "code",
   "execution_count": 6,
   "id": "f983fa51-b386-4c6b-a2da-903731de8953",
   "metadata": {},
   "outputs": [],
   "source": [
    "target = 'Boron'\n",
    "features = [col for col in data.columns if col not in ['SOC', 'Zinc', target]]"
   ]
  },
  {
   "cell_type": "code",
   "execution_count": 7,
   "id": "5f81dc2d-82d6-49db-88a3-5fb6f5328b00",
   "metadata": {
    "tags": []
   },
   "outputs": [
    {
     "name": "stdout",
     "output_type": "stream",
     "text": [
      "['longitude', 'latitude', 'Area', 'Soil group', 'Land class', 'Soil type', 'pH', 'Nitrogen', 'Potassium', 'Phosphorus', 'Sulfur', 'Sand', 'Silt', 'Clay', 'geo_cluster']\n"
     ]
    }
   ],
   "source": [
    "print(features)"
   ]
  },
  {
   "cell_type": "markdown",
   "id": "678aaf40-1e39-4167-b516-2b113b4e6dad",
   "metadata": {},
   "source": [
    "#### Ensure geo_cluster is included and drop raw longitude and latitude if present"
   ]
  },
  {
   "cell_type": "code",
   "execution_count": 8,
   "id": "821b2612-0412-4fca-b787-6011bd492963",
   "metadata": {},
   "outputs": [],
   "source": [
    "if 'longitude' in features and 'latitude' in features:\n",
    "    features.remove('longitude')\n",
    "    features.remove('latitude')\n",
    "if 'geo_cluster' not in features and 'geo_cluster' in data.columns:\n",
    "    features.append('geo_cluster')"
   ]
  },
  {
   "cell_type": "markdown",
   "id": "aa4c5919-2ff7-4853-a05d-cbdcd52456fd",
   "metadata": {},
   "source": [
    "#### Identify categorical and numerical features"
   ]
  },
  {
   "cell_type": "code",
   "execution_count": 9,
   "id": "35bab550-cbb5-4c42-a79c-05ace2fbe7cb",
   "metadata": {},
   "outputs": [],
   "source": [
    "categorical_features = data[features].select_dtypes(include=['object', 'category']).columns.tolist()\n",
    "numerical_features = data[features].select_dtypes(include=['number']).columns.tolist()"
   ]
  },
  {
   "cell_type": "markdown",
   "id": "90ffba62-b5cb-4fa2-aede-7f332e8c408f",
   "metadata": {},
   "source": [
    "#### Feature engineering: Add polynomial features for numerical data"
   ]
  },
  {
   "cell_type": "code",
   "execution_count": 10,
   "id": "43beb765-ae83-4fae-975e-15d72d6e9469",
   "metadata": {},
   "outputs": [],
   "source": [
    "polynomial_features = []\n",
    "interaction_features = []\n",
    "for feature in numerical_features:\n",
    "    data[f'{feature}_squared'] = data[feature] ** 2\n",
    "    polynomial_features.append(f'{feature}_squared')\n",
    "\n",
    "for i in range(len(numerical_features)):\n",
    "    for j in range(i + 1, len(numerical_features)):\n",
    "        interaction_term = f'{numerical_features[i]}_x_{numerical_features[j]}'\n",
    "        data[interaction_term] = data[numerical_features[i]] * data[numerical_features[j]]\n",
    "        interaction_features.append(interaction_term)"
   ]
  },
  {
   "cell_type": "markdown",
   "id": "e5369e55-06f3-4d01-9086-509caf61d8b9",
   "metadata": {},
   "source": [
    "#### Update numerical features with new polynomial features"
   ]
  },
  {
   "cell_type": "code",
   "execution_count": 11,
   "id": "03145ebb-9054-4609-a745-0f9243e0b097",
   "metadata": {},
   "outputs": [],
   "source": [
    "features += polynomial_features + interaction_features"
   ]
  },
  {
   "cell_type": "markdown",
   "id": "c25852a8-c7f6-4628-8117-cfe628acc43b",
   "metadata": {},
   "source": [
    "#### Select the feature columns for prediction"
   ]
  },
  {
   "cell_type": "code",
   "execution_count": 12,
   "id": "38b89fe9-5644-4e8f-83fe-ce3cf2c28ff5",
   "metadata": {},
   "outputs": [],
   "source": [
    "X = data[features]\n",
    "y = data[target]"
   ]
  },
  {
   "cell_type": "code",
   "execution_count": 13,
   "id": "7e074b66-52bc-4de0-ae07-cde4d8f32cb1",
   "metadata": {
    "tags": []
   },
   "outputs": [
    {
     "name": "stdout",
     "output_type": "stream",
     "text": [
      "Index(['Area', 'Soil group', 'Land class', 'Soil type', 'pH', 'Nitrogen',\n",
      "       'Potassium', 'Phosphorus', 'Sulfur', 'Sand', 'Silt', 'Clay',\n",
      "       'geo_cluster', 'pH_squared', 'Nitrogen_squared', 'Potassium_squared',\n",
      "       'Phosphorus_squared', 'Sulfur_squared', 'Sand_squared', 'Silt_squared',\n",
      "       'Clay_squared', 'geo_cluster_squared', 'pH_x_Nitrogen',\n",
      "       'pH_x_Potassium', 'pH_x_Phosphorus', 'pH_x_Sulfur', 'pH_x_Sand',\n",
      "       'pH_x_Silt', 'pH_x_Clay', 'pH_x_geo_cluster', 'Nitrogen_x_Potassium',\n",
      "       'Nitrogen_x_Phosphorus', 'Nitrogen_x_Sulfur', 'Nitrogen_x_Sand',\n",
      "       'Nitrogen_x_Silt', 'Nitrogen_x_Clay', 'Nitrogen_x_geo_cluster',\n",
      "       'Potassium_x_Phosphorus', 'Potassium_x_Sulfur', 'Potassium_x_Sand',\n",
      "       'Potassium_x_Silt', 'Potassium_x_Clay', 'Potassium_x_geo_cluster',\n",
      "       'Phosphorus_x_Sulfur', 'Phosphorus_x_Sand', 'Phosphorus_x_Silt',\n",
      "       'Phosphorus_x_Clay', 'Phosphorus_x_geo_cluster', 'Sulfur_x_Sand',\n",
      "       'Sulfur_x_Silt', 'Sulfur_x_Clay', 'Sulfur_x_geo_cluster', 'Sand_x_Silt',\n",
      "       'Sand_x_Clay', 'Sand_x_geo_cluster', 'Silt_x_Clay',\n",
      "       'Silt_x_geo_cluster', 'Clay_x_geo_cluster'],\n",
      "      dtype='object')\n",
      "58\n"
     ]
    }
   ],
   "source": [
    "print(X.columns)\n",
    "print(len(X.columns))"
   ]
  },
  {
   "cell_type": "markdown",
   "id": "872c5afc-ec2a-426a-b35f-28b6442bf8ad",
   "metadata": {},
   "source": [
    "#### Split data into train and test sets"
   ]
  },
  {
   "cell_type": "code",
   "execution_count": 14,
   "id": "c1519820-4a60-47e7-831f-daa1d6afd047",
   "metadata": {},
   "outputs": [],
   "source": [
    "X_train, X_test, y_train, y_test = train_test_split(X, y, test_size=0.2, random_state=42)"
   ]
  },
  {
   "cell_type": "markdown",
   "id": "f745989f-bfc6-4678-88e7-3b2fd671ef5a",
   "metadata": {},
   "source": [
    "#### Define preprocessing for numerical and categorical features"
   ]
  },
  {
   "cell_type": "code",
   "execution_count": 15,
   "id": "d71df13c-cd82-4fc3-b995-8f78314f37c7",
   "metadata": {},
   "outputs": [],
   "source": [
    "numerical_transformer = Pipeline(steps=[\n",
    "    ('imputer', SimpleImputer(strategy='mean')),\n",
    "    ('scaler', StandardScaler())\n",
    "])"
   ]
  },
  {
   "cell_type": "code",
   "execution_count": 16,
   "id": "7e90b743-72eb-485b-b8b0-43ad9ccc9ad2",
   "metadata": {},
   "outputs": [],
   "source": [
    "categorical_transformer = Pipeline(steps=[\n",
    "    ('imputer', SimpleImputer(strategy='most_frequent')),\n",
    "    ('onehot', OneHotEncoder(handle_unknown='ignore'))\n",
    "])"
   ]
  },
  {
   "cell_type": "markdown",
   "id": "77e043e0-59e1-4c0e-9c78-746660ee05e3",
   "metadata": {},
   "source": [
    "#### Combine preprocessing steps"
   ]
  },
  {
   "cell_type": "code",
   "execution_count": 17,
   "id": "ef3fa0b1-e4b3-4728-84bf-438a8f106234",
   "metadata": {},
   "outputs": [],
   "source": [
    "preprocessor = ColumnTransformer(\n",
    "    transformers=[\n",
    "        ('num', numerical_transformer, numerical_features + polynomial_features + interaction_features),\n",
    "        ('cat', categorical_transformer, categorical_features)\n",
    "    ]\n",
    ")"
   ]
  },
  {
   "cell_type": "markdown",
   "id": "a3a4ce29-8229-40f0-856c-da251f8dd6b7",
   "metadata": {},
   "source": [
    "#### Define a LASSO regression pipeline"
   ]
  },
  {
   "cell_type": "code",
   "execution_count": 18,
   "id": "c952e437-8e70-43df-9281-e843b7bf50e1",
   "metadata": {},
   "outputs": [],
   "source": [
    "lasso_pipeline_for_perm_imp = Pipeline([\n",
    "    ('preprocessor', preprocessor),\n",
    "    ('lasso', LassoCV(cv=CV, random_state=42, max_iter=MAX_ITER, alphas=ALPHAS))\n",
    "])"
   ]
  },
  {
   "cell_type": "markdown",
   "id": "f7511432-2937-48ad-8e71-b729c6d792bc",
   "metadata": {},
   "source": [
    "#### Train the pipeline"
   ]
  },
  {
   "cell_type": "code",
   "execution_count": 19,
   "id": "79307e01-a313-4276-85b8-526624eee3fa",
   "metadata": {},
   "outputs": [
    {
     "data": {
      "text/html": [
       "<style>#sk-container-id-1 {\n",
       "  /* Definition of color scheme common for light and dark mode */\n",
       "  --sklearn-color-text: black;\n",
       "  --sklearn-color-line: gray;\n",
       "  /* Definition of color scheme for unfitted estimators */\n",
       "  --sklearn-color-unfitted-level-0: #fff5e6;\n",
       "  --sklearn-color-unfitted-level-1: #f6e4d2;\n",
       "  --sklearn-color-unfitted-level-2: #ffe0b3;\n",
       "  --sklearn-color-unfitted-level-3: chocolate;\n",
       "  /* Definition of color scheme for fitted estimators */\n",
       "  --sklearn-color-fitted-level-0: #f0f8ff;\n",
       "  --sklearn-color-fitted-level-1: #d4ebff;\n",
       "  --sklearn-color-fitted-level-2: #b3dbfd;\n",
       "  --sklearn-color-fitted-level-3: cornflowerblue;\n",
       "\n",
       "  /* Specific color for light theme */\n",
       "  --sklearn-color-text-on-default-background: var(--sg-text-color, var(--theme-code-foreground, var(--jp-content-font-color1, black)));\n",
       "  --sklearn-color-background: var(--sg-background-color, var(--theme-background, var(--jp-layout-color0, white)));\n",
       "  --sklearn-color-border-box: var(--sg-text-color, var(--theme-code-foreground, var(--jp-content-font-color1, black)));\n",
       "  --sklearn-color-icon: #696969;\n",
       "\n",
       "  @media (prefers-color-scheme: dark) {\n",
       "    /* Redefinition of color scheme for dark theme */\n",
       "    --sklearn-color-text-on-default-background: var(--sg-text-color, var(--theme-code-foreground, var(--jp-content-font-color1, white)));\n",
       "    --sklearn-color-background: var(--sg-background-color, var(--theme-background, var(--jp-layout-color0, #111)));\n",
       "    --sklearn-color-border-box: var(--sg-text-color, var(--theme-code-foreground, var(--jp-content-font-color1, white)));\n",
       "    --sklearn-color-icon: #878787;\n",
       "  }\n",
       "}\n",
       "\n",
       "#sk-container-id-1 {\n",
       "  color: var(--sklearn-color-text);\n",
       "}\n",
       "\n",
       "#sk-container-id-1 pre {\n",
       "  padding: 0;\n",
       "}\n",
       "\n",
       "#sk-container-id-1 input.sk-hidden--visually {\n",
       "  border: 0;\n",
       "  clip: rect(1px 1px 1px 1px);\n",
       "  clip: rect(1px, 1px, 1px, 1px);\n",
       "  height: 1px;\n",
       "  margin: -1px;\n",
       "  overflow: hidden;\n",
       "  padding: 0;\n",
       "  position: absolute;\n",
       "  width: 1px;\n",
       "}\n",
       "\n",
       "#sk-container-id-1 div.sk-dashed-wrapped {\n",
       "  border: 1px dashed var(--sklearn-color-line);\n",
       "  margin: 0 0.4em 0.5em 0.4em;\n",
       "  box-sizing: border-box;\n",
       "  padding-bottom: 0.4em;\n",
       "  background-color: var(--sklearn-color-background);\n",
       "}\n",
       "\n",
       "#sk-container-id-1 div.sk-container {\n",
       "  /* jupyter's `normalize.less` sets `[hidden] { display: none; }`\n",
       "     but bootstrap.min.css set `[hidden] { display: none !important; }`\n",
       "     so we also need the `!important` here to be able to override the\n",
       "     default hidden behavior on the sphinx rendered scikit-learn.org.\n",
       "     See: https://github.com/scikit-learn/scikit-learn/issues/21755 */\n",
       "  display: inline-block !important;\n",
       "  position: relative;\n",
       "}\n",
       "\n",
       "#sk-container-id-1 div.sk-text-repr-fallback {\n",
       "  display: none;\n",
       "}\n",
       "\n",
       "div.sk-parallel-item,\n",
       "div.sk-serial,\n",
       "div.sk-item {\n",
       "  /* draw centered vertical line to link estimators */\n",
       "  background-image: linear-gradient(var(--sklearn-color-text-on-default-background), var(--sklearn-color-text-on-default-background));\n",
       "  background-size: 2px 100%;\n",
       "  background-repeat: no-repeat;\n",
       "  background-position: center center;\n",
       "}\n",
       "\n",
       "/* Parallel-specific style estimator block */\n",
       "\n",
       "#sk-container-id-1 div.sk-parallel-item::after {\n",
       "  content: \"\";\n",
       "  width: 100%;\n",
       "  border-bottom: 2px solid var(--sklearn-color-text-on-default-background);\n",
       "  flex-grow: 1;\n",
       "}\n",
       "\n",
       "#sk-container-id-1 div.sk-parallel {\n",
       "  display: flex;\n",
       "  align-items: stretch;\n",
       "  justify-content: center;\n",
       "  background-color: var(--sklearn-color-background);\n",
       "  position: relative;\n",
       "}\n",
       "\n",
       "#sk-container-id-1 div.sk-parallel-item {\n",
       "  display: flex;\n",
       "  flex-direction: column;\n",
       "}\n",
       "\n",
       "#sk-container-id-1 div.sk-parallel-item:first-child::after {\n",
       "  align-self: flex-end;\n",
       "  width: 50%;\n",
       "}\n",
       "\n",
       "#sk-container-id-1 div.sk-parallel-item:last-child::after {\n",
       "  align-self: flex-start;\n",
       "  width: 50%;\n",
       "}\n",
       "\n",
       "#sk-container-id-1 div.sk-parallel-item:only-child::after {\n",
       "  width: 0;\n",
       "}\n",
       "\n",
       "/* Serial-specific style estimator block */\n",
       "\n",
       "#sk-container-id-1 div.sk-serial {\n",
       "  display: flex;\n",
       "  flex-direction: column;\n",
       "  align-items: center;\n",
       "  background-color: var(--sklearn-color-background);\n",
       "  padding-right: 1em;\n",
       "  padding-left: 1em;\n",
       "}\n",
       "\n",
       "\n",
       "/* Toggleable style: style used for estimator/Pipeline/ColumnTransformer box that is\n",
       "clickable and can be expanded/collapsed.\n",
       "- Pipeline and ColumnTransformer use this feature and define the default style\n",
       "- Estimators will overwrite some part of the style using the `sk-estimator` class\n",
       "*/\n",
       "\n",
       "/* Pipeline and ColumnTransformer style (default) */\n",
       "\n",
       "#sk-container-id-1 div.sk-toggleable {\n",
       "  /* Default theme specific background. It is overwritten whether we have a\n",
       "  specific estimator or a Pipeline/ColumnTransformer */\n",
       "  background-color: var(--sklearn-color-background);\n",
       "}\n",
       "\n",
       "/* Toggleable label */\n",
       "#sk-container-id-1 label.sk-toggleable__label {\n",
       "  cursor: pointer;\n",
       "  display: block;\n",
       "  width: 100%;\n",
       "  margin-bottom: 0;\n",
       "  padding: 0.5em;\n",
       "  box-sizing: border-box;\n",
       "  text-align: center;\n",
       "}\n",
       "\n",
       "#sk-container-id-1 label.sk-toggleable__label-arrow:before {\n",
       "  /* Arrow on the left of the label */\n",
       "  content: \"▸\";\n",
       "  float: left;\n",
       "  margin-right: 0.25em;\n",
       "  color: var(--sklearn-color-icon);\n",
       "}\n",
       "\n",
       "#sk-container-id-1 label.sk-toggleable__label-arrow:hover:before {\n",
       "  color: var(--sklearn-color-text);\n",
       "}\n",
       "\n",
       "/* Toggleable content - dropdown */\n",
       "\n",
       "#sk-container-id-1 div.sk-toggleable__content {\n",
       "  max-height: 0;\n",
       "  max-width: 0;\n",
       "  overflow: hidden;\n",
       "  text-align: left;\n",
       "  /* unfitted */\n",
       "  background-color: var(--sklearn-color-unfitted-level-0);\n",
       "}\n",
       "\n",
       "#sk-container-id-1 div.sk-toggleable__content.fitted {\n",
       "  /* fitted */\n",
       "  background-color: var(--sklearn-color-fitted-level-0);\n",
       "}\n",
       "\n",
       "#sk-container-id-1 div.sk-toggleable__content pre {\n",
       "  margin: 0.2em;\n",
       "  border-radius: 0.25em;\n",
       "  color: var(--sklearn-color-text);\n",
       "  /* unfitted */\n",
       "  background-color: var(--sklearn-color-unfitted-level-0);\n",
       "}\n",
       "\n",
       "#sk-container-id-1 div.sk-toggleable__content.fitted pre {\n",
       "  /* unfitted */\n",
       "  background-color: var(--sklearn-color-fitted-level-0);\n",
       "}\n",
       "\n",
       "#sk-container-id-1 input.sk-toggleable__control:checked~div.sk-toggleable__content {\n",
       "  /* Expand drop-down */\n",
       "  max-height: 200px;\n",
       "  max-width: 100%;\n",
       "  overflow: auto;\n",
       "}\n",
       "\n",
       "#sk-container-id-1 input.sk-toggleable__control:checked~label.sk-toggleable__label-arrow:before {\n",
       "  content: \"▾\";\n",
       "}\n",
       "\n",
       "/* Pipeline/ColumnTransformer-specific style */\n",
       "\n",
       "#sk-container-id-1 div.sk-label input.sk-toggleable__control:checked~label.sk-toggleable__label {\n",
       "  color: var(--sklearn-color-text);\n",
       "  background-color: var(--sklearn-color-unfitted-level-2);\n",
       "}\n",
       "\n",
       "#sk-container-id-1 div.sk-label.fitted input.sk-toggleable__control:checked~label.sk-toggleable__label {\n",
       "  background-color: var(--sklearn-color-fitted-level-2);\n",
       "}\n",
       "\n",
       "/* Estimator-specific style */\n",
       "\n",
       "/* Colorize estimator box */\n",
       "#sk-container-id-1 div.sk-estimator input.sk-toggleable__control:checked~label.sk-toggleable__label {\n",
       "  /* unfitted */\n",
       "  background-color: var(--sklearn-color-unfitted-level-2);\n",
       "}\n",
       "\n",
       "#sk-container-id-1 div.sk-estimator.fitted input.sk-toggleable__control:checked~label.sk-toggleable__label {\n",
       "  /* fitted */\n",
       "  background-color: var(--sklearn-color-fitted-level-2);\n",
       "}\n",
       "\n",
       "#sk-container-id-1 div.sk-label label.sk-toggleable__label,\n",
       "#sk-container-id-1 div.sk-label label {\n",
       "  /* The background is the default theme color */\n",
       "  color: var(--sklearn-color-text-on-default-background);\n",
       "}\n",
       "\n",
       "/* On hover, darken the color of the background */\n",
       "#sk-container-id-1 div.sk-label:hover label.sk-toggleable__label {\n",
       "  color: var(--sklearn-color-text);\n",
       "  background-color: var(--sklearn-color-unfitted-level-2);\n",
       "}\n",
       "\n",
       "/* Label box, darken color on hover, fitted */\n",
       "#sk-container-id-1 div.sk-label.fitted:hover label.sk-toggleable__label.fitted {\n",
       "  color: var(--sklearn-color-text);\n",
       "  background-color: var(--sklearn-color-fitted-level-2);\n",
       "}\n",
       "\n",
       "/* Estimator label */\n",
       "\n",
       "#sk-container-id-1 div.sk-label label {\n",
       "  font-family: monospace;\n",
       "  font-weight: bold;\n",
       "  display: inline-block;\n",
       "  line-height: 1.2em;\n",
       "}\n",
       "\n",
       "#sk-container-id-1 div.sk-label-container {\n",
       "  text-align: center;\n",
       "}\n",
       "\n",
       "/* Estimator-specific */\n",
       "#sk-container-id-1 div.sk-estimator {\n",
       "  font-family: monospace;\n",
       "  border: 1px dotted var(--sklearn-color-border-box);\n",
       "  border-radius: 0.25em;\n",
       "  box-sizing: border-box;\n",
       "  margin-bottom: 0.5em;\n",
       "  /* unfitted */\n",
       "  background-color: var(--sklearn-color-unfitted-level-0);\n",
       "}\n",
       "\n",
       "#sk-container-id-1 div.sk-estimator.fitted {\n",
       "  /* fitted */\n",
       "  background-color: var(--sklearn-color-fitted-level-0);\n",
       "}\n",
       "\n",
       "/* on hover */\n",
       "#sk-container-id-1 div.sk-estimator:hover {\n",
       "  /* unfitted */\n",
       "  background-color: var(--sklearn-color-unfitted-level-2);\n",
       "}\n",
       "\n",
       "#sk-container-id-1 div.sk-estimator.fitted:hover {\n",
       "  /* fitted */\n",
       "  background-color: var(--sklearn-color-fitted-level-2);\n",
       "}\n",
       "\n",
       "/* Specification for estimator info (e.g. \"i\" and \"?\") */\n",
       "\n",
       "/* Common style for \"i\" and \"?\" */\n",
       "\n",
       ".sk-estimator-doc-link,\n",
       "a:link.sk-estimator-doc-link,\n",
       "a:visited.sk-estimator-doc-link {\n",
       "  float: right;\n",
       "  font-size: smaller;\n",
       "  line-height: 1em;\n",
       "  font-family: monospace;\n",
       "  background-color: var(--sklearn-color-background);\n",
       "  border-radius: 1em;\n",
       "  height: 1em;\n",
       "  width: 1em;\n",
       "  text-decoration: none !important;\n",
       "  margin-left: 1ex;\n",
       "  /* unfitted */\n",
       "  border: var(--sklearn-color-unfitted-level-1) 1pt solid;\n",
       "  color: var(--sklearn-color-unfitted-level-1);\n",
       "}\n",
       "\n",
       ".sk-estimator-doc-link.fitted,\n",
       "a:link.sk-estimator-doc-link.fitted,\n",
       "a:visited.sk-estimator-doc-link.fitted {\n",
       "  /* fitted */\n",
       "  border: var(--sklearn-color-fitted-level-1) 1pt solid;\n",
       "  color: var(--sklearn-color-fitted-level-1);\n",
       "}\n",
       "\n",
       "/* On hover */\n",
       "div.sk-estimator:hover .sk-estimator-doc-link:hover,\n",
       ".sk-estimator-doc-link:hover,\n",
       "div.sk-label-container:hover .sk-estimator-doc-link:hover,\n",
       ".sk-estimator-doc-link:hover {\n",
       "  /* unfitted */\n",
       "  background-color: var(--sklearn-color-unfitted-level-3);\n",
       "  color: var(--sklearn-color-background);\n",
       "  text-decoration: none;\n",
       "}\n",
       "\n",
       "div.sk-estimator.fitted:hover .sk-estimator-doc-link.fitted:hover,\n",
       ".sk-estimator-doc-link.fitted:hover,\n",
       "div.sk-label-container:hover .sk-estimator-doc-link.fitted:hover,\n",
       ".sk-estimator-doc-link.fitted:hover {\n",
       "  /* fitted */\n",
       "  background-color: var(--sklearn-color-fitted-level-3);\n",
       "  color: var(--sklearn-color-background);\n",
       "  text-decoration: none;\n",
       "}\n",
       "\n",
       "/* Span, style for the box shown on hovering the info icon */\n",
       ".sk-estimator-doc-link span {\n",
       "  display: none;\n",
       "  z-index: 9999;\n",
       "  position: relative;\n",
       "  font-weight: normal;\n",
       "  right: .2ex;\n",
       "  padding: .5ex;\n",
       "  margin: .5ex;\n",
       "  width: min-content;\n",
       "  min-width: 20ex;\n",
       "  max-width: 50ex;\n",
       "  color: var(--sklearn-color-text);\n",
       "  box-shadow: 2pt 2pt 4pt #999;\n",
       "  /* unfitted */\n",
       "  background: var(--sklearn-color-unfitted-level-0);\n",
       "  border: .5pt solid var(--sklearn-color-unfitted-level-3);\n",
       "}\n",
       "\n",
       ".sk-estimator-doc-link.fitted span {\n",
       "  /* fitted */\n",
       "  background: var(--sklearn-color-fitted-level-0);\n",
       "  border: var(--sklearn-color-fitted-level-3);\n",
       "}\n",
       "\n",
       ".sk-estimator-doc-link:hover span {\n",
       "  display: block;\n",
       "}\n",
       "\n",
       "/* \"?\"-specific style due to the `<a>` HTML tag */\n",
       "\n",
       "#sk-container-id-1 a.estimator_doc_link {\n",
       "  float: right;\n",
       "  font-size: 1rem;\n",
       "  line-height: 1em;\n",
       "  font-family: monospace;\n",
       "  background-color: var(--sklearn-color-background);\n",
       "  border-radius: 1rem;\n",
       "  height: 1rem;\n",
       "  width: 1rem;\n",
       "  text-decoration: none;\n",
       "  /* unfitted */\n",
       "  color: var(--sklearn-color-unfitted-level-1);\n",
       "  border: var(--sklearn-color-unfitted-level-1) 1pt solid;\n",
       "}\n",
       "\n",
       "#sk-container-id-1 a.estimator_doc_link.fitted {\n",
       "  /* fitted */\n",
       "  border: var(--sklearn-color-fitted-level-1) 1pt solid;\n",
       "  color: var(--sklearn-color-fitted-level-1);\n",
       "}\n",
       "\n",
       "/* On hover */\n",
       "#sk-container-id-1 a.estimator_doc_link:hover {\n",
       "  /* unfitted */\n",
       "  background-color: var(--sklearn-color-unfitted-level-3);\n",
       "  color: var(--sklearn-color-background);\n",
       "  text-decoration: none;\n",
       "}\n",
       "\n",
       "#sk-container-id-1 a.estimator_doc_link.fitted:hover {\n",
       "  /* fitted */\n",
       "  background-color: var(--sklearn-color-fitted-level-3);\n",
       "}\n",
       "</style><div id=\"sk-container-id-1\" class=\"sk-top-container\"><div class=\"sk-text-repr-fallback\"><pre>Pipeline(steps=[(&#x27;preprocessor&#x27;,\n",
       "                 ColumnTransformer(transformers=[(&#x27;num&#x27;,\n",
       "                                                  Pipeline(steps=[(&#x27;imputer&#x27;,\n",
       "                                                                   SimpleImputer()),\n",
       "                                                                  (&#x27;scaler&#x27;,\n",
       "                                                                   StandardScaler())]),\n",
       "                                                  [&#x27;pH&#x27;, &#x27;Nitrogen&#x27;,\n",
       "                                                   &#x27;Potassium&#x27;, &#x27;Phosphorus&#x27;,\n",
       "                                                   &#x27;Sulfur&#x27;, &#x27;Sand&#x27;, &#x27;Silt&#x27;,\n",
       "                                                   &#x27;Clay&#x27;, &#x27;geo_cluster&#x27;,\n",
       "                                                   &#x27;pH_squared&#x27;,\n",
       "                                                   &#x27;Nitrogen_squared&#x27;,\n",
       "                                                   &#x27;Potassium_squared&#x27;,\n",
       "                                                   &#x27;Phosphorus_squared&#x27;,\n",
       "                                                   &#x27;Sulfur_squared&#x27;,\n",
       "                                                   &#x27;Sand_squared&#x27;,\n",
       "                                                   &#x27;Silt_squared&#x27;...\n",
       "                                                   &#x27;Nitrogen_x_Potassium&#x27;,\n",
       "                                                   &#x27;Nitrogen_x_Phosphorus&#x27;,\n",
       "                                                   &#x27;Nitrogen_x_Sulfur&#x27;,\n",
       "                                                   &#x27;Nitrogen_x_Sand&#x27;, ...]),\n",
       "                                                 (&#x27;cat&#x27;,\n",
       "                                                  Pipeline(steps=[(&#x27;imputer&#x27;,\n",
       "                                                                   SimpleImputer(strategy=&#x27;most_frequent&#x27;)),\n",
       "                                                                  (&#x27;onehot&#x27;,\n",
       "                                                                   OneHotEncoder(handle_unknown=&#x27;ignore&#x27;))]),\n",
       "                                                  [&#x27;Area&#x27;, &#x27;Soil group&#x27;,\n",
       "                                                   &#x27;Land class&#x27;,\n",
       "                                                   &#x27;Soil type&#x27;])])),\n",
       "                (&#x27;lasso&#x27;,\n",
       "                 LassoCV(alphas=[0.0001, 0.001, 0.01, 0.1, 1, 10, 100], cv=15,\n",
       "                         max_iter=2000, random_state=42))])</pre><b>In a Jupyter environment, please rerun this cell to show the HTML representation or trust the notebook. <br />On GitHub, the HTML representation is unable to render, please try loading this page with nbviewer.org.</b></div><div class=\"sk-container\" hidden><div class=\"sk-item sk-dashed-wrapped\"><div class=\"sk-label-container\"><div class=\"sk-label fitted sk-toggleable\"><input class=\"sk-toggleable__control sk-hidden--visually\" id=\"sk-estimator-id-1\" type=\"checkbox\" ><label for=\"sk-estimator-id-1\" class=\"sk-toggleable__label fitted sk-toggleable__label-arrow fitted\">&nbsp;&nbsp;Pipeline<a class=\"sk-estimator-doc-link fitted\" rel=\"noreferrer\" target=\"_blank\" href=\"https://scikit-learn.org/1.5/modules/generated/sklearn.pipeline.Pipeline.html\">?<span>Documentation for Pipeline</span></a><span class=\"sk-estimator-doc-link fitted\">i<span>Fitted</span></span></label><div class=\"sk-toggleable__content fitted\"><pre>Pipeline(steps=[(&#x27;preprocessor&#x27;,\n",
       "                 ColumnTransformer(transformers=[(&#x27;num&#x27;,\n",
       "                                                  Pipeline(steps=[(&#x27;imputer&#x27;,\n",
       "                                                                   SimpleImputer()),\n",
       "                                                                  (&#x27;scaler&#x27;,\n",
       "                                                                   StandardScaler())]),\n",
       "                                                  [&#x27;pH&#x27;, &#x27;Nitrogen&#x27;,\n",
       "                                                   &#x27;Potassium&#x27;, &#x27;Phosphorus&#x27;,\n",
       "                                                   &#x27;Sulfur&#x27;, &#x27;Sand&#x27;, &#x27;Silt&#x27;,\n",
       "                                                   &#x27;Clay&#x27;, &#x27;geo_cluster&#x27;,\n",
       "                                                   &#x27;pH_squared&#x27;,\n",
       "                                                   &#x27;Nitrogen_squared&#x27;,\n",
       "                                                   &#x27;Potassium_squared&#x27;,\n",
       "                                                   &#x27;Phosphorus_squared&#x27;,\n",
       "                                                   &#x27;Sulfur_squared&#x27;,\n",
       "                                                   &#x27;Sand_squared&#x27;,\n",
       "                                                   &#x27;Silt_squared&#x27;...\n",
       "                                                   &#x27;Nitrogen_x_Potassium&#x27;,\n",
       "                                                   &#x27;Nitrogen_x_Phosphorus&#x27;,\n",
       "                                                   &#x27;Nitrogen_x_Sulfur&#x27;,\n",
       "                                                   &#x27;Nitrogen_x_Sand&#x27;, ...]),\n",
       "                                                 (&#x27;cat&#x27;,\n",
       "                                                  Pipeline(steps=[(&#x27;imputer&#x27;,\n",
       "                                                                   SimpleImputer(strategy=&#x27;most_frequent&#x27;)),\n",
       "                                                                  (&#x27;onehot&#x27;,\n",
       "                                                                   OneHotEncoder(handle_unknown=&#x27;ignore&#x27;))]),\n",
       "                                                  [&#x27;Area&#x27;, &#x27;Soil group&#x27;,\n",
       "                                                   &#x27;Land class&#x27;,\n",
       "                                                   &#x27;Soil type&#x27;])])),\n",
       "                (&#x27;lasso&#x27;,\n",
       "                 LassoCV(alphas=[0.0001, 0.001, 0.01, 0.1, 1, 10, 100], cv=15,\n",
       "                         max_iter=2000, random_state=42))])</pre></div> </div></div><div class=\"sk-serial\"><div class=\"sk-item sk-dashed-wrapped\"><div class=\"sk-label-container\"><div class=\"sk-label fitted sk-toggleable\"><input class=\"sk-toggleable__control sk-hidden--visually\" id=\"sk-estimator-id-2\" type=\"checkbox\" ><label for=\"sk-estimator-id-2\" class=\"sk-toggleable__label fitted sk-toggleable__label-arrow fitted\">&nbsp;preprocessor: ColumnTransformer<a class=\"sk-estimator-doc-link fitted\" rel=\"noreferrer\" target=\"_blank\" href=\"https://scikit-learn.org/1.5/modules/generated/sklearn.compose.ColumnTransformer.html\">?<span>Documentation for preprocessor: ColumnTransformer</span></a></label><div class=\"sk-toggleable__content fitted\"><pre>ColumnTransformer(transformers=[(&#x27;num&#x27;,\n",
       "                                 Pipeline(steps=[(&#x27;imputer&#x27;, SimpleImputer()),\n",
       "                                                 (&#x27;scaler&#x27;, StandardScaler())]),\n",
       "                                 [&#x27;pH&#x27;, &#x27;Nitrogen&#x27;, &#x27;Potassium&#x27;, &#x27;Phosphorus&#x27;,\n",
       "                                  &#x27;Sulfur&#x27;, &#x27;Sand&#x27;, &#x27;Silt&#x27;, &#x27;Clay&#x27;,\n",
       "                                  &#x27;geo_cluster&#x27;, &#x27;pH_squared&#x27;,\n",
       "                                  &#x27;Nitrogen_squared&#x27;, &#x27;Potassium_squared&#x27;,\n",
       "                                  &#x27;Phosphorus_squared&#x27;, &#x27;Sulfur_squared&#x27;,\n",
       "                                  &#x27;Sand_squared&#x27;, &#x27;Silt_squared&#x27;,\n",
       "                                  &#x27;Clay_squared&#x27;, &#x27;geo_cluster_squ...\n",
       "                                  &#x27;pH_x_Phosphorus&#x27;, &#x27;pH_x_Sulfur&#x27;, &#x27;pH_x_Sand&#x27;,\n",
       "                                  &#x27;pH_x_Silt&#x27;, &#x27;pH_x_Clay&#x27;, &#x27;pH_x_geo_cluster&#x27;,\n",
       "                                  &#x27;Nitrogen_x_Potassium&#x27;,\n",
       "                                  &#x27;Nitrogen_x_Phosphorus&#x27;, &#x27;Nitrogen_x_Sulfur&#x27;,\n",
       "                                  &#x27;Nitrogen_x_Sand&#x27;, ...]),\n",
       "                                (&#x27;cat&#x27;,\n",
       "                                 Pipeline(steps=[(&#x27;imputer&#x27;,\n",
       "                                                  SimpleImputer(strategy=&#x27;most_frequent&#x27;)),\n",
       "                                                 (&#x27;onehot&#x27;,\n",
       "                                                  OneHotEncoder(handle_unknown=&#x27;ignore&#x27;))]),\n",
       "                                 [&#x27;Area&#x27;, &#x27;Soil group&#x27;, &#x27;Land class&#x27;,\n",
       "                                  &#x27;Soil type&#x27;])])</pre></div> </div></div><div class=\"sk-parallel\"><div class=\"sk-parallel-item\"><div class=\"sk-item\"><div class=\"sk-label-container\"><div class=\"sk-label fitted sk-toggleable\"><input class=\"sk-toggleable__control sk-hidden--visually\" id=\"sk-estimator-id-3\" type=\"checkbox\" ><label for=\"sk-estimator-id-3\" class=\"sk-toggleable__label fitted sk-toggleable__label-arrow fitted\">num</label><div class=\"sk-toggleable__content fitted\"><pre>[&#x27;pH&#x27;, &#x27;Nitrogen&#x27;, &#x27;Potassium&#x27;, &#x27;Phosphorus&#x27;, &#x27;Sulfur&#x27;, &#x27;Sand&#x27;, &#x27;Silt&#x27;, &#x27;Clay&#x27;, &#x27;geo_cluster&#x27;, &#x27;pH_squared&#x27;, &#x27;Nitrogen_squared&#x27;, &#x27;Potassium_squared&#x27;, &#x27;Phosphorus_squared&#x27;, &#x27;Sulfur_squared&#x27;, &#x27;Sand_squared&#x27;, &#x27;Silt_squared&#x27;, &#x27;Clay_squared&#x27;, &#x27;geo_cluster_squared&#x27;, &#x27;pH_x_Nitrogen&#x27;, &#x27;pH_x_Potassium&#x27;, &#x27;pH_x_Phosphorus&#x27;, &#x27;pH_x_Sulfur&#x27;, &#x27;pH_x_Sand&#x27;, &#x27;pH_x_Silt&#x27;, &#x27;pH_x_Clay&#x27;, &#x27;pH_x_geo_cluster&#x27;, &#x27;Nitrogen_x_Potassium&#x27;, &#x27;Nitrogen_x_Phosphorus&#x27;, &#x27;Nitrogen_x_Sulfur&#x27;, &#x27;Nitrogen_x_Sand&#x27;, &#x27;Nitrogen_x_Silt&#x27;, &#x27;Nitrogen_x_Clay&#x27;, &#x27;Nitrogen_x_geo_cluster&#x27;, &#x27;Potassium_x_Phosphorus&#x27;, &#x27;Potassium_x_Sulfur&#x27;, &#x27;Potassium_x_Sand&#x27;, &#x27;Potassium_x_Silt&#x27;, &#x27;Potassium_x_Clay&#x27;, &#x27;Potassium_x_geo_cluster&#x27;, &#x27;Phosphorus_x_Sulfur&#x27;, &#x27;Phosphorus_x_Sand&#x27;, &#x27;Phosphorus_x_Silt&#x27;, &#x27;Phosphorus_x_Clay&#x27;, &#x27;Phosphorus_x_geo_cluster&#x27;, &#x27;Sulfur_x_Sand&#x27;, &#x27;Sulfur_x_Silt&#x27;, &#x27;Sulfur_x_Clay&#x27;, &#x27;Sulfur_x_geo_cluster&#x27;, &#x27;Sand_x_Silt&#x27;, &#x27;Sand_x_Clay&#x27;, &#x27;Sand_x_geo_cluster&#x27;, &#x27;Silt_x_Clay&#x27;, &#x27;Silt_x_geo_cluster&#x27;, &#x27;Clay_x_geo_cluster&#x27;]</pre></div> </div></div><div class=\"sk-serial\"><div class=\"sk-item\"><div class=\"sk-serial\"><div class=\"sk-item\"><div class=\"sk-estimator fitted sk-toggleable\"><input class=\"sk-toggleable__control sk-hidden--visually\" id=\"sk-estimator-id-4\" type=\"checkbox\" ><label for=\"sk-estimator-id-4\" class=\"sk-toggleable__label fitted sk-toggleable__label-arrow fitted\">&nbsp;SimpleImputer<a class=\"sk-estimator-doc-link fitted\" rel=\"noreferrer\" target=\"_blank\" href=\"https://scikit-learn.org/1.5/modules/generated/sklearn.impute.SimpleImputer.html\">?<span>Documentation for SimpleImputer</span></a></label><div class=\"sk-toggleable__content fitted\"><pre>SimpleImputer()</pre></div> </div></div><div class=\"sk-item\"><div class=\"sk-estimator fitted sk-toggleable\"><input class=\"sk-toggleable__control sk-hidden--visually\" id=\"sk-estimator-id-5\" type=\"checkbox\" ><label for=\"sk-estimator-id-5\" class=\"sk-toggleable__label fitted sk-toggleable__label-arrow fitted\">&nbsp;StandardScaler<a class=\"sk-estimator-doc-link fitted\" rel=\"noreferrer\" target=\"_blank\" href=\"https://scikit-learn.org/1.5/modules/generated/sklearn.preprocessing.StandardScaler.html\">?<span>Documentation for StandardScaler</span></a></label><div class=\"sk-toggleable__content fitted\"><pre>StandardScaler()</pre></div> </div></div></div></div></div></div></div><div class=\"sk-parallel-item\"><div class=\"sk-item\"><div class=\"sk-label-container\"><div class=\"sk-label fitted sk-toggleable\"><input class=\"sk-toggleable__control sk-hidden--visually\" id=\"sk-estimator-id-6\" type=\"checkbox\" ><label for=\"sk-estimator-id-6\" class=\"sk-toggleable__label fitted sk-toggleable__label-arrow fitted\">cat</label><div class=\"sk-toggleable__content fitted\"><pre>[&#x27;Area&#x27;, &#x27;Soil group&#x27;, &#x27;Land class&#x27;, &#x27;Soil type&#x27;]</pre></div> </div></div><div class=\"sk-serial\"><div class=\"sk-item\"><div class=\"sk-serial\"><div class=\"sk-item\"><div class=\"sk-estimator fitted sk-toggleable\"><input class=\"sk-toggleable__control sk-hidden--visually\" id=\"sk-estimator-id-7\" type=\"checkbox\" ><label for=\"sk-estimator-id-7\" class=\"sk-toggleable__label fitted sk-toggleable__label-arrow fitted\">&nbsp;SimpleImputer<a class=\"sk-estimator-doc-link fitted\" rel=\"noreferrer\" target=\"_blank\" href=\"https://scikit-learn.org/1.5/modules/generated/sklearn.impute.SimpleImputer.html\">?<span>Documentation for SimpleImputer</span></a></label><div class=\"sk-toggleable__content fitted\"><pre>SimpleImputer(strategy=&#x27;most_frequent&#x27;)</pre></div> </div></div><div class=\"sk-item\"><div class=\"sk-estimator fitted sk-toggleable\"><input class=\"sk-toggleable__control sk-hidden--visually\" id=\"sk-estimator-id-8\" type=\"checkbox\" ><label for=\"sk-estimator-id-8\" class=\"sk-toggleable__label fitted sk-toggleable__label-arrow fitted\">&nbsp;OneHotEncoder<a class=\"sk-estimator-doc-link fitted\" rel=\"noreferrer\" target=\"_blank\" href=\"https://scikit-learn.org/1.5/modules/generated/sklearn.preprocessing.OneHotEncoder.html\">?<span>Documentation for OneHotEncoder</span></a></label><div class=\"sk-toggleable__content fitted\"><pre>OneHotEncoder(handle_unknown=&#x27;ignore&#x27;)</pre></div> </div></div></div></div></div></div></div></div></div><div class=\"sk-item\"><div class=\"sk-estimator fitted sk-toggleable\"><input class=\"sk-toggleable__control sk-hidden--visually\" id=\"sk-estimator-id-9\" type=\"checkbox\" ><label for=\"sk-estimator-id-9\" class=\"sk-toggleable__label fitted sk-toggleable__label-arrow fitted\">&nbsp;LassoCV<a class=\"sk-estimator-doc-link fitted\" rel=\"noreferrer\" target=\"_blank\" href=\"https://scikit-learn.org/1.5/modules/generated/sklearn.linear_model.LassoCV.html\">?<span>Documentation for LassoCV</span></a></label><div class=\"sk-toggleable__content fitted\"><pre>LassoCV(alphas=[0.0001, 0.001, 0.01, 0.1, 1, 10, 100], cv=15, max_iter=2000,\n",
       "        random_state=42)</pre></div> </div></div></div></div></div></div>"
      ],
      "text/plain": [
       "Pipeline(steps=[('preprocessor',\n",
       "                 ColumnTransformer(transformers=[('num',\n",
       "                                                  Pipeline(steps=[('imputer',\n",
       "                                                                   SimpleImputer()),\n",
       "                                                                  ('scaler',\n",
       "                                                                   StandardScaler())]),\n",
       "                                                  ['pH', 'Nitrogen',\n",
       "                                                   'Potassium', 'Phosphorus',\n",
       "                                                   'Sulfur', 'Sand', 'Silt',\n",
       "                                                   'Clay', 'geo_cluster',\n",
       "                                                   'pH_squared',\n",
       "                                                   'Nitrogen_squared',\n",
       "                                                   'Potassium_squared',\n",
       "                                                   'Phosphorus_squared',\n",
       "                                                   'Sulfur_squared',\n",
       "                                                   'Sand_squared',\n",
       "                                                   'Silt_squared'...\n",
       "                                                   'Nitrogen_x_Potassium',\n",
       "                                                   'Nitrogen_x_Phosphorus',\n",
       "                                                   'Nitrogen_x_Sulfur',\n",
       "                                                   'Nitrogen_x_Sand', ...]),\n",
       "                                                 ('cat',\n",
       "                                                  Pipeline(steps=[('imputer',\n",
       "                                                                   SimpleImputer(strategy='most_frequent')),\n",
       "                                                                  ('onehot',\n",
       "                                                                   OneHotEncoder(handle_unknown='ignore'))]),\n",
       "                                                  ['Area', 'Soil group',\n",
       "                                                   'Land class',\n",
       "                                                   'Soil type'])])),\n",
       "                ('lasso',\n",
       "                 LassoCV(alphas=[0.0001, 0.001, 0.01, 0.1, 1, 10, 100], cv=15,\n",
       "                         max_iter=2000, random_state=42))])"
      ]
     },
     "execution_count": 19,
     "metadata": {},
     "output_type": "execute_result"
    }
   ],
   "source": [
    "lasso_pipeline_for_perm_imp.fit(X_train, y_train)"
   ]
  },
  {
   "cell_type": "markdown",
   "id": "ceee1fdb-08fd-467e-9e22-b630d7a0d87e",
   "metadata": {},
   "source": [
    "#### Calculate feature importances"
   ]
  },
  {
   "cell_type": "code",
   "execution_count": 20,
   "id": "1fccad9b-3439-491f-8f48-146d1ecef1e4",
   "metadata": {},
   "outputs": [],
   "source": [
    "perm_importance = permutation_importance(lasso_pipeline_for_perm_imp, X_train, y_train, n_repeats=N_REPEATS, random_state=42)\n",
    "importances = perm_importance.importances_mean"
   ]
  },
  {
   "cell_type": "markdown",
   "id": "336890d9-e448-4777-b56e-c5683351d848",
   "metadata": {},
   "source": [
    "#### Sort the feature importances in descending order"
   ]
  },
  {
   "cell_type": "code",
   "execution_count": 21,
   "id": "679a12e8-528a-49fa-81b6-17566aebb21c",
   "metadata": {},
   "outputs": [],
   "source": [
    "feature_importances = sorted(zip(features, importances), key=lambda x: x[1], reverse=True)\n",
    "top_n_features = [feature for feature, score in feature_importances[:len(feature_importances)]]"
   ]
  },
  {
   "cell_type": "code",
   "execution_count": 22,
   "id": "1560c25a-2072-4131-adda-584aa9306926",
   "metadata": {},
   "outputs": [
    {
     "name": "stdout",
     "output_type": "stream",
     "text": [
      "Top N Features: ['pH_x_Potassium', 'Area', 'pH_x_Silt', 'pH_x_Nitrogen', 'pH_x_Sulfur', 'Potassium', 'Potassium_x_Sand', 'pH_squared', 'Silt_squared', 'Potassium_x_Clay', 'pH', 'Nitrogen_x_Sand', 'Silt', 'Soil group', 'Sand_x_Silt', 'Sulfur_x_Clay', 'Sulfur_x_Silt', 'Nitrogen_x_Silt', 'Phosphorus_x_Clay', 'Nitrogen_x_Phosphorus', 'Phosphorus_squared', 'pH_x_Clay', 'Nitrogen_x_Sulfur', 'Nitrogen_squared', 'Sand_x_geo_cluster', 'Land class', 'Potassium_x_geo_cluster', 'Sulfur_x_geo_cluster', 'Clay_squared', 'Potassium_squared', 'Nitrogen_x_Potassium', 'Sand_squared', 'Silt_x_geo_cluster', 'Potassium_x_Phosphorus', 'Phosphorus_x_geo_cluster', 'Nitrogen_x_geo_cluster', 'Phosphorus_x_Sulfur', 'Soil type', 'geo_cluster_squared', 'Potassium_x_Sulfur', 'Clay_x_geo_cluster', 'Potassium_x_Silt', 'Sand_x_Clay', 'Sulfur_squared', 'Nitrogen', 'Phosphorus', 'Sulfur', 'Sand', 'Clay', 'geo_cluster', 'pH_x_Phosphorus', 'pH_x_Sand', 'pH_x_geo_cluster', 'Nitrogen_x_Clay', 'Phosphorus_x_Sand', 'Phosphorus_x_Silt', 'Sulfur_x_Sand', 'Silt_x_Clay']\n",
      "Length: 58\n"
     ]
    }
   ],
   "source": [
    "print(f\"Top N Features: {top_n_features}\")\n",
    "print(f\"Length: {len(top_n_features)}\")"
   ]
  },
  {
   "cell_type": "markdown",
   "id": "593ead3e-fc6d-45b3-89fd-2ada9826eab0",
   "metadata": {},
   "source": [
    "#### Select features and update X data"
   ]
  },
  {
   "cell_type": "code",
   "execution_count": 23,
   "id": "8384c161-c829-4f97-a020-6871062debaa",
   "metadata": {},
   "outputs": [],
   "source": [
    "X = data[top_n_features]\n",
    "X_train, X_test = X.iloc[train_test_split(X.index, test_size=0.2, random_state=42)[0]], X.iloc[train_test_split(X.index, test_size=0.2, random_state=42)[1]]"
   ]
  },
  {
   "cell_type": "code",
   "execution_count": 24,
   "id": "136b3c15-bc57-4fb9-bbed-f3621d4fbf0a",
   "metadata": {},
   "outputs": [
    {
     "name": "stdout",
     "output_type": "stream",
     "text": [
      "Length: 58\n"
     ]
    }
   ],
   "source": [
    "print(f\"Length: {len(X.columns)}\")"
   ]
  },
  {
   "cell_type": "markdown",
   "id": "24d10824-8264-4bed-bd7b-d8a5ecd00fa2",
   "metadata": {},
   "source": [
    "#### Dynamically identify categorical and numerical features"
   ]
  },
  {
   "cell_type": "code",
   "execution_count": 25,
   "id": "ed83d251-1e0c-4f1a-8de8-71fb01dee618",
   "metadata": {},
   "outputs": [],
   "source": [
    "categorical_features_top_features = X_train.select_dtypes(include=['object', 'category']).columns.tolist()\n",
    "numerical_features_top_features = X_train.select_dtypes(include=['number']).columns.tolist()"
   ]
  },
  {
   "cell_type": "markdown",
   "id": "8279f2ae-f2bf-4a69-97cc-80442defc5dc",
   "metadata": {},
   "source": [
    "#### Combine preprocessing steps"
   ]
  },
  {
   "cell_type": "code",
   "execution_count": 26,
   "id": "edc897f4-aa03-4b13-aeda-435610032dcc",
   "metadata": {},
   "outputs": [],
   "source": [
    "preprocessor = ColumnTransformer(\n",
    "    transformers=[\n",
    "        ('num', numerical_transformer, numerical_features_top_features),\n",
    "        ('cat', categorical_transformer, categorical_features_top_features)\n",
    "    ]\n",
    ")"
   ]
  },
  {
   "cell_type": "markdown",
   "id": "bee1204a-8668-4bf6-b787-446d6415fab0",
   "metadata": {},
   "source": [
    "#### Define a pipeline with preprocessing and LASSO regression"
   ]
  },
  {
   "cell_type": "code",
   "execution_count": 27,
   "id": "7b2bdd4c-4e48-4fec-8725-f56767359418",
   "metadata": {},
   "outputs": [],
   "source": [
    "lasso_pipeline = Pipeline([\n",
    "    ('preprocessor', preprocessor),\n",
    "    ('lasso', LassoCV(cv=CV, random_state=42, max_iter=MAX_ITER, alphas=ALPHAS))\n",
    "])"
   ]
  },
  {
   "cell_type": "markdown",
   "id": "be53fa93-43d4-47a9-b362-83f52ebce376",
   "metadata": {},
   "source": [
    "#### Define a grid of hyperparameters to search"
   ]
  },
  {
   "cell_type": "code",
   "execution_count": 28,
   "id": "2a1191b4-26cf-4f8b-9293-d8e73fed8f56",
   "metadata": {},
   "outputs": [],
   "source": [
    "param_grid = {\n",
    "    'lasso__alphas': [ALPHAS],  # Use a nested list for LassoCV\n",
    "    'lasso__max_iter': LASSO_MAX_ITER,\n",
    "    'preprocessor__num__scaler':[StandardScaler(), PowerTransformer(method=POWER_TRANSFORMER_METHOD)],\n",
    "}"
   ]
  },
  {
   "cell_type": "markdown",
   "id": "2928b1c1-ec2b-421b-881a-cb76eab1d38b",
   "metadata": {},
   "source": [
    "#### Define GridSearchCV"
   ]
  },
  {
   "cell_type": "code",
   "execution_count": 29,
   "id": "93314eca-c8a0-4a2e-87e6-9444ba5b7ab4",
   "metadata": {},
   "outputs": [],
   "source": [
    "grid_search = GridSearchCV(lasso_pipeline, param_grid, cv=CV, scoring=GridSearchCV_SCORING, verbose=1, n_jobs=-1)"
   ]
  },
  {
   "cell_type": "markdown",
   "id": "3981d083-d722-419f-991a-c83c30a4dc6a",
   "metadata": {},
   "source": [
    "#### Start MLflow experiment | Train the pipeline"
   ]
  },
  {
   "cell_type": "code",
   "execution_count": 30,
   "id": "638e9b52-c0be-48eb-ad7e-d3c03aec395a",
   "metadata": {},
   "outputs": [
    {
     "name": "stdout",
     "output_type": "stream",
     "text": [
      "Fitting 15 folds for each of 6 candidates, totalling 90 fits\n",
      "Best Hyperparameters:\n",
      "lasso__alphas: [0.0001, 0.001, 0.01, 0.1, 1, 10, 100]\n",
      "lasso__max_iter: 2000\n",
      "preprocessor__num__scaler: StandardScaler()\n"
     ]
    },
    {
     "name": "stderr",
     "output_type": "stream",
     "text": [
      "2024/12/22 08:42:47 WARNING mlflow.models.model: Model logged without a signature and input example. Please set `input_example` parameter when logging the model to auto infer the model signature.\n"
     ]
    },
    {
     "name": "stdout",
     "output_type": "stream",
     "text": [
      "LASSO Regression Results for Boron Prediction:\n",
      "Mean Absolute Error (MAE): 0.0450\n",
      "Mean Squared Error (MSE): 0.0062\n",
      "R-Squared (R²): 0.6826\n"
     ]
    }
   ],
   "source": [
    "mlflow.set_experiment(\"Boron Prediction with LASSO\")\n",
    "\n",
    "with mlflow.start_run():\n",
    "    # Train the model with hyperparameter tuning\n",
    "    grid_search.fit(X_train, y_train)\n",
    "\n",
    "    # Get the best estimator and its parameters\n",
    "    lasso_pipeline = grid_search.best_estimator_\n",
    "    best_params = grid_search.best_params_\n",
    "\n",
    "    # Log the best parameters\n",
    "    mlflow.log_params(best_params)\n",
    "\n",
    "    # Print the best hyperparameters\n",
    "    print(\"Best Hyperparameters:\")\n",
    "    for param, value in best_params.items():\n",
    "        print(f\"{param}: {value}\")\n",
    "\n",
    "    # Log the best score\n",
    "    mlflow.log_metric(\"best_cv_score\", grid_search.best_score_)\n",
    "\n",
    "    # Log model\n",
    "    mlflow.sklearn.log_model(lasso_pipeline, \"lasso_pipeline\")\n",
    "\n",
    "    # Log parameters\n",
    "    mlflow.log_param(\"cv\", CV)\n",
    "    mlflow.log_param(\"n_clusters\", N_CLUSTERS)\n",
    "    mlflow.log_param(\"alphas\", lasso_pipeline.named_steps['lasso'].alphas_)\n",
    "    mlflow.log_param(\"max_iter\", lasso_pipeline.named_steps['lasso'].max_iter)\n",
    "    # mlflow.log_param(\"selected_features\", top_n_features)\n",
    "\n",
    "    # Make predictions using the trained model\n",
    "    predictions = lasso_pipeline.predict(X_test)\n",
    "\n",
    "    # Evaluate the model\n",
    "    mae = mean_absolute_error(y_test, predictions)\n",
    "    mse = mean_squared_error(y_test, predictions)\n",
    "    r2 = r2_score(y_test, predictions)\n",
    "\n",
    "    # Log metrics\n",
    "    mlflow.log_metric(\"mae\", mae)\n",
    "    mlflow.log_metric(\"mse\", mse)\n",
    "    mlflow.log_metric(\"r2\", r2)\n",
    "\n",
    "    print(\"LASSO Regression Results for Boron Prediction:\")\n",
    "    print(f\"Mean Absolute Error (MAE): {mae:.4f}\")\n",
    "    print(f\"Mean Squared Error (MSE): {mse:.4f}\")\n",
    "    print(f\"R-Squared (R²): {r2:.4f}\")\n",
    "\n",
    "    # Save the best model in MLflow\n",
    "    if \"best_model\" not in mlflow.active_run().data.tags:\n",
    "        mlflow.set_tag(\"best_model\", True)\n"
   ]
  },
  {
   "cell_type": "markdown",
   "id": "547b0177-610e-482b-9c6b-733a96e1ec66",
   "metadata": {},
   "source": [
    "#### Save the trained model"
   ]
  },
  {
   "cell_type": "code",
   "execution_count": 31,
   "id": "363310ce-ed8f-4703-aecc-03660517f14d",
   "metadata": {},
   "outputs": [
    {
     "name": "stdout",
     "output_type": "stream",
     "text": [
      "Model saved to lasso_boron_pipeline.pkl\n"
     ]
    }
   ],
   "source": [
    "model_path = Path('lasso_boron_pipeline.pkl')\n",
    "joblib.dump(lasso_pipeline, model_path)\n",
    "print(f\"Model saved to {model_path}\")"
   ]
  },
  {
   "cell_type": "code",
   "execution_count": 32,
   "id": "da2cd925-2f6c-48df-9ea8-a2d9f467b573",
   "metadata": {},
   "outputs": [],
   "source": [
    "#### Load the model\n",
    "# loaded_model = joblib.load(model_path)\n",
    "# print(\"Model loaded successfully.\")"
   ]
  }
 ],
 "metadata": {
  "kernelspec": {
   "display_name": "ipage",
   "language": "python",
   "name": "ipage"
  },
  "language_info": {
   "codemirror_mode": {
    "name": "ipython",
    "version": 3
   },
   "file_extension": ".py",
   "mimetype": "text/x-python",
   "name": "python",
   "nbconvert_exporter": "python",
   "pygments_lexer": "ipython3",
   "version": "3.12.6"
  }
 },
 "nbformat": 4,
 "nbformat_minor": 5
}

{
  "nbformat": 4,
  "nbformat_minor": 0,
  "metadata": {
    "colab": {
      "provenance": []
    },
    "kernelspec": {
      "name": "python3",
      "display_name": "Python 3"
    },
    "language_info": {
      "name": "python"
    }
  },
  "cells": [
    {
      "cell_type": "code",
      "execution_count": null,
      "metadata": {
        "colab": {
          "base_uri": "https://localhost:8080/"
        },
        "id": "hPL02lFS20VR",
        "outputId": "40030be6-80ad-46cc-b73b-3e22a324e370"
      },
      "outputs": [
        {
          "output_type": "stream",
          "name": "stdout",
          "text": [
            "Mounted at /content/drive\n"
          ]
        }
      ],
      "source": [
        "#mount Drive\n",
        "from google.colab import drive\n",
        "drive.mount('/content/drive')"
      ]
    },
    {
      "cell_type": "code",
      "source": [
        "#Import libraries\n",
        "import pandas as pd\n",
        "import numpy as np\n",
        "import matplotlib.pyplot as plt\n",
        "import seaborn as sns\n",
        "import plotly.express as px"
      ],
      "metadata": {
        "id": "0ebqc-9c351K"
      },
      "execution_count": null,
      "outputs": []
    },
    {
      "cell_type": "code",
      "source": [
        "#Load data\n",
        "df = pd.read_csv('/content/drive/MyDrive/OMDENA_PROJECTS/merged_v4.csv')\n",
        "print('shape:', df.shape)\n",
        "print(df.head(5))"
      ],
      "metadata": {
        "colab": {
          "base_uri": "https://localhost:8080/"
        },
        "id": "u1c62h263GAw",
        "outputId": "1aee7981-9d88-4cc4-9c41-074295798299"
      },
      "execution_count": null,
      "outputs": [
        {
          "output_type": "stream",
          "name": "stdout",
          "text": [
            "shape: (2438, 17)\n",
            "   longitude  latitude       Area Soil group   Land class   Soil type   pH  \\\n",
            "0    89.2767   25.5678  Mithpukur      belab  high ground  Clay loam   4.6   \n",
            "1    89.2767   25.5678  Mithpukur      belab  high ground  Clay loam   5.3   \n",
            "2    89.2767   25.5678  Mithpukur      belab  high ground  Clay loam   4.9   \n",
            "3    89.2767   25.5678  Mithpukur      belab  high ground  Clay loam   5.2   \n",
            "4    89.2767   25.5678  Mithpukur     Noadda  high ground  Clay loam   5.3   \n",
            "\n",
            "    SOC  Nitrogen  Potassium  Phosphorus  Sulfur  Boron  Zinc  Sand  Silt  \\\n",
            "0  1.07      0.05       0.09        13.3    13.5   0.27  0.95  33.0  33.0   \n",
            "1  1.08      0.11       0.17        20.5    27.8   0.30  1.04  33.0  33.0   \n",
            "2  1.87      0.08       0.35        21.7    27.8   0.32  1.16  33.0  33.0   \n",
            "3  1.51      0.08       0.50        18.5    25.6   0.26  1.05  33.0  33.0   \n",
            "4  1.59      0.08       0.17        12.0    26.4   0.24  0.74  33.0  33.0   \n",
            "\n",
            "   Clay  \n",
            "0  33.0  \n",
            "1  33.0  \n",
            "2  33.0  \n",
            "3  33.0  \n",
            "4  33.0  \n"
          ]
        }
      ]
    },
    {
      "cell_type": "code",
      "source": [
        "#One hot encode categorical columns\n",
        "df= pd.get_dummies(df, columns=[ 'Area','Land class', 'Soil type'])\n",
        "df.shape"
      ],
      "metadata": {
        "colab": {
          "base_uri": "https://localhost:8080/"
        },
        "id": "aYqnkVEGBwyj",
        "outputId": "6662e99a-a12d-45a4-e623-602c205e86a5"
      },
      "execution_count": null,
      "outputs": [
        {
          "output_type": "execute_result",
          "data": {
            "text/plain": [
              "(2438, 43)"
            ]
          },
          "metadata": {},
          "execution_count": 81
        }
      ]
    },
    {
      "cell_type": "code",
      "source": [
        "# define cols\n",
        "X = df.drop(['Zinc','longitude', 'latitude', 'Soil group','Boron','SOC'], axis=1)\n",
        "y = df['Zinc']"
      ],
      "metadata": {
        "id": "wPjf27Mp_6UE"
      },
      "execution_count": null,
      "outputs": []
    },
    {
      "cell_type": "code",
      "source": [
        "#Train test spit\n",
        "from sklearn.model_selection import train_test_split\n",
        "X_train, X_test, y_train, y_test = train_test_split(X, y, test_size=0.2, random_state=42)"
      ],
      "metadata": {
        "id": "NtUHLZCW__yQ"
      },
      "execution_count": null,
      "outputs": []
    },
    {
      "cell_type": "code",
      "source": [
        "#fit ridge regression model\n",
        "from sklearn.linear_model import Ridge\n",
        "ridge_reg = Ridge(alpha=1)\n",
        "ridge_reg.fit(X_train, y_train)\n",
        "#Make prediction\n",
        "y_pred = ridge_reg.predict(X_test)\n",
        "#   Evaluate\n",
        "from sklearn.metrics import mean_squared_error, r2_score\n",
        "mse = mean_squared_error(y_test, y_pred)\n",
        "r2 = r2_score(y_test, y_pred)\n",
        "print(\"Mean Squared Error:\", mse)\n",
        "print(\"R-squared:\", r2)"
      ],
      "metadata": {
        "colab": {
          "base_uri": "https://localhost:8080/"
        },
        "id": "GRP4PdF8__0r",
        "outputId": "99149ad8-9d86-48c6-cc21-6a435e28a5c4"
      },
      "execution_count": null,
      "outputs": [
        {
          "output_type": "stream",
          "name": "stdout",
          "text": [
            "Mean Squared Error: 0.10253263841898676\n",
            "R-squared: 0.4060999254503367\n"
          ]
        }
      ]
    },
    {
      "cell_type": "code",
      "source": [],
      "metadata": {
        "id": "EGZguFwRl1uL"
      },
      "execution_count": null,
      "outputs": []
    }
  ]
}